{
  "cells": [
    {
      "cell_type": "markdown",
      "metadata": {
        "id": "fTHRgo0AlE4K"
      },
      "source": [
        "Trying https://github.com/spdrnl/ecg/blob/master/ECG.ipynb"
      ]
    },
    {
      "cell_type": "markdown",
      "metadata": {
        "id": "JfeS7tsK8vBb"
      },
      "source": [
        "### Import Libraries"
      ]
    },
    {
      "cell_type": "code",
      "execution_count": null,
      "metadata": {
        "id": "HyTKLDsxjEjC"
      },
      "outputs": [],
      "source": [
        "!unzip /content/drive/\"My Drive\"/\"Arrythmia \"/ECGDataDenoised.zip"
      ]
    },
    {
      "cell_type": "code",
      "execution_count": 41,
      "metadata": {
        "colab": {
          "base_uri": "https://localhost:8080/"
        },
        "id": "XXJxedOpqXYy",
        "outputId": "5cecb48f-1869-41c3-8976-cea756d5be5d"
      },
      "outputs": [
        {
          "name": "stdout",
          "output_type": "stream",
          "text": [
            "Requirement already satisfied: py-ecg-detectors in /usr/local/lib/python3.7/dist-packages (1.2.0)\n",
            "Requirement already satisfied: gatspy in /usr/local/lib/python3.7/dist-packages (from py-ecg-detectors) (0.3)\n",
            "Requirement already satisfied: scipy in /usr/local/lib/python3.7/dist-packages (from py-ecg-detectors) (1.4.1)\n",
            "Requirement already satisfied: numpy in /usr/local/lib/python3.7/dist-packages (from py-ecg-detectors) (1.21.5)\n",
            "Requirement already satisfied: pywavelets in /usr/local/lib/python3.7/dist-packages (from py-ecg-detectors) (1.3.0)\n",
            "Requirement already satisfied: neurokit2 in /usr/local/lib/python3.7/dist-packages (0.1.7)\n",
            "Requirement already satisfied: scipy in /usr/local/lib/python3.7/dist-packages (from neurokit2) (1.4.1)\n",
            "Requirement already satisfied: matplotlib in /usr/local/lib/python3.7/dist-packages (from neurokit2) (3.2.2)\n",
            "Requirement already satisfied: numpy in /usr/local/lib/python3.7/dist-packages (from neurokit2) (1.21.5)\n",
            "Requirement already satisfied: pandas in /usr/local/lib/python3.7/dist-packages (from neurokit2) (1.3.5)\n",
            "Requirement already satisfied: scikit-learn in /usr/local/lib/python3.7/dist-packages (from neurokit2) (1.0.2)\n",
            "Requirement already satisfied: pyparsing!=2.0.4,!=2.1.2,!=2.1.6,>=2.0.1 in /usr/local/lib/python3.7/dist-packages (from matplotlib->neurokit2) (3.0.7)\n",
            "Requirement already satisfied: cycler>=0.10 in /usr/local/lib/python3.7/dist-packages (from matplotlib->neurokit2) (0.11.0)\n",
            "Requirement already satisfied: kiwisolver>=1.0.1 in /usr/local/lib/python3.7/dist-packages (from matplotlib->neurokit2) (1.4.0)\n",
            "Requirement already satisfied: python-dateutil>=2.1 in /usr/local/lib/python3.7/dist-packages (from matplotlib->neurokit2) (2.8.2)\n",
            "Requirement already satisfied: typing-extensions in /usr/local/lib/python3.7/dist-packages (from kiwisolver>=1.0.1->matplotlib->neurokit2) (3.10.0.2)\n",
            "Requirement already satisfied: six>=1.5 in /usr/local/lib/python3.7/dist-packages (from python-dateutil>=2.1->matplotlib->neurokit2) (1.15.0)\n",
            "Requirement already satisfied: pytz>=2017.3 in /usr/local/lib/python3.7/dist-packages (from pandas->neurokit2) (2018.9)\n",
            "Requirement already satisfied: joblib>=0.11 in /usr/local/lib/python3.7/dist-packages (from scikit-learn->neurokit2) (1.1.0)\n",
            "Requirement already satisfied: threadpoolctl>=2.0.0 in /usr/local/lib/python3.7/dist-packages (from scikit-learn->neurokit2) (3.1.0)\n"
          ]
        }
      ],
      "source": [
        "!pip install -q -U tensorflow_addons\n",
        "!pip3 install py-ecg-detectors\n",
        "!pip install neurokit2"
      ]
    },
    {
      "cell_type": "code",
      "execution_count": 42,
      "metadata": {
        "id": "D10IEldLigQx"
      },
      "outputs": [],
      "source": [
        "import numpy as np\n",
        "import pandas as pd\n",
        "import tensorflow as tf\n",
        "import keras\n",
        "from tensorflow.keras import regularizers\n",
        "from tensorflow.keras.callbacks import ModelCheckpoint\n",
        "import matplotlib.pyplot as plt\n",
        "from scipy import stats\n",
        "from scipy import signal\n",
        "from sklearn.model_selection import train_test_split\n",
        "import sklearn\n",
        "import itertools\n",
        "import tensorflow_addons\n",
        "from tensorflow_addons.optimizers import CyclicalLearningRate\n",
        "import tensorflow_addons as tfa\n",
        "import matplotlib as mpl\n",
        "mpl.style.use('seaborn')\n",
        "plt.rcParams[\"figure.figsize\"] = (13,4)\n",
        "\n",
        "import matplotlib.pyplot as plt \n",
        "from os import listdir \n",
        "import requests\n",
        "import matplotlib.pyplot as plt\n",
        "from os import listdir, mkdir, system\n",
        "from os.path import isfile, isdir, join, exists\n",
        "import json\n",
        "import os\n",
        "from tqdm import tqdm\n",
        "from matplotlib import collections as matcoll\n",
        "import pywt\n",
        "\n",
        "import neurokit2 as nk\n",
        "\n",
        "from ecgdetectors import Detectors #for pantompkins\n",
        "detectors = Detectors(500) #specify sampling rate"
      ]
    },
    {
      "cell_type": "code",
      "execution_count": 33,
      "metadata": {
        "colab": {
          "base_uri": "https://localhost:8080/"
        },
        "id": "QXJ7bm2as2qZ",
        "outputId": "b6c87578-e1e8-4248-ad29-4b68b9efd113"
      },
      "outputs": [
        {
          "data": {
            "text/plain": [
              "10646"
            ]
          },
          "execution_count": 33,
          "metadata": {},
          "output_type": "execute_result"
        }
      ],
      "source": [
        "labels = pd.read_excel('/content/drive/MyDrive/Arrythmia /Diagnostics.xlsx')\n",
        "len(labels)"
      ]
    },
    {
      "cell_type": "code",
      "execution_count": 34,
      "metadata": {
        "colab": {
          "base_uri": "https://localhost:8080/"
        },
        "id": "C1bWU4WisK-j",
        "outputId": "0811d751-0d9e-4421-a01b-d347200c96c6"
      },
      "outputs": [
        {
          "data": {
            "text/plain": [
              "SR      1826\n",
              "AFIB    1780\n",
              "AF       445\n",
              "Name: Rhythm, dtype: int64"
            ]
          },
          "execution_count": 34,
          "metadata": {},
          "output_type": "execute_result"
        }
      ],
      "source": [
        "labels=labels[(labels['Rhythm']=='AFIB') | (labels['Rhythm']=='AF') |(labels['Rhythm']=='SR')]\n",
        "labels.reset_index(inplace=True,drop=True)\n",
        "labels['Rhythm'].value_counts()"
      ]
    },
    {
      "cell_type": "code",
      "execution_count": 35,
      "metadata": {
        "id": "dhgoJXDXsbCe"
      },
      "outputs": [],
      "source": [
        "afib_files = labels[labels['Rhythm']==\"AFIB\"]['FileName'].tolist()\n",
        "afib_files.remove('MUSE_20180116_131253_72000')\n",
        "\n",
        "nsr_files = labels[labels['Rhythm']==\"SR\"]['FileName'].tolist()\n",
        "afl_files = labels[labels['Rhythm']==\"AF\"]['FileName'].tolist()\n",
        "all_files = afib_files+nsr_files+afl_files"
      ]
    },
    {
      "cell_type": "markdown",
      "metadata": {
        "id": "vBl2P1LV80ho"
      },
      "source": [
        "### Preprocessing"
      ]
    },
    {
      "cell_type": "code",
      "execution_count": 36,
      "metadata": {
        "id": "H976o3q6sblK"
      },
      "outputs": [],
      "source": [
        "def plot_rr(rrintervals,rr_diff):\n",
        "  x = rrintervals/500\n",
        "  y = rr_diff\n",
        "  lines = []\n",
        "  for i in range(len(x)):\n",
        "      pair=[(x[i],0), (x[i], y[i])]\n",
        "      lines.append(pair)\n",
        "\n",
        "  linecoll = matcoll.LineCollection(lines)\n",
        "  fig, ax = plt.subplots()\n",
        "  ax.add_collection(linecoll)\n",
        "\n",
        "  plt.scatter(x,y)\n",
        "  plt.xticks(x)\n",
        "  plt.xlabel(\"Time (s)\")\n",
        "  plt.ylim(0,1)\n",
        "  plt.title(\"RR Peaks\")\n",
        "  plt.show()\n",
        "\n",
        "def detect_r_peaks(patient_list,case,showplots=False):\n",
        "    parent_folder = '/content/ECGDataDenoised/'\n",
        "\n",
        "    data_with_rr = pd.DataFrame()\n",
        "    patient_col_id = []\n",
        "    case_name = []\n",
        "    mxx=0\n",
        "    cnt=0\n",
        "    mnn=90\n",
        "    for i in tqdm(patient_list):\n",
        "      # try:\n",
        "        \n",
        "        data = parent_folder+i+\".csv\"\n",
        "        df = pd.read_csv(data,header=None)\n",
        "        df.columns=['I','II','III','aVR','aVL','aVF','V1','V2','V3','V4','V5','V6']\n",
        "        cols = df.columns\n",
        "        df[cols[:-1]] = df[cols[:-1]].apply(pd.to_numeric, errors='coerce')\n",
        "        lead_name='II'\n",
        "        count = (df[lead_name] == 0).sum()\n",
        "        if(count>0):\n",
        "          print(count)\n",
        "        if(df[lead_name].isnull().sum(axis = 0)>0):\n",
        "          print(\"Null values in \",i,\"is :\",df[lead_name].isnull().sum(axis = 0))\n",
        "        # Extract R-peaks locations\n",
        "        _, rpeaks = nk.ecg_peaks(df[\"II\"][1:], sampling_rate=500)\n",
        "        rrintervals = rpeaks['ECG_R_Peaks']\n",
        "        cnt+=len(rrintervals)-1\n",
        "        \n",
        "        rr_diff=np.diff(rrintervals)/1000\n",
        "        rr_diff = np.append(0,rr_diff)\n",
        "\n",
        "        mxx=max(len(rr_diff),mxx) #to check maximum number of rr intervals for any signal\n",
        "        mnn=min(len(rr_diff),mnn)\n",
        "\n",
        "        print(len(rrintervals),len(rr_diff))\n",
        "\n",
        "        patient_col_id.append(i)\n",
        "        case_name.append(case)\n",
        "        data_with_rr=data_with_rr.append(pd.DataFrame(rr_diff).transpose())\n",
        "        detrended_rri = signal.detrend(rr_diff, axis= -1, type='constant', bp=0, overwrite_data=False)\n",
        "\n",
        "        if(showplots):\n",
        "          plot = (nk.events_plot(rpeaks['ECG_R_Peaks'], df[\"aVL\"]))\n",
        "          plot_rr(rrintervals,rr_diff)\n",
        "          print(\"DETRENDED\")\n",
        "          plot_rr(rrintervals,detrended_rri)\n",
        "          \n",
        "      # except:\n",
        "      #   print(\"\\nError in:\",i)\n",
        "    print(\"\\n\",case,\"    ****Max****:\",mxx)\n",
        "    print(\"\\n\",case,\"    ****Min****:\",mnn,\"\\n\")\n",
        "    print(\"Total no. of RR Intervals in\",case,\" class is:\",cnt,\"\\n\")\n",
        "    data_with_rr['filename']=patient_col_id\n",
        "    data_with_rr['label']=case_name\n",
        "    return data_with_rr  #returning data containing RR Intervals with label"
      ]
    },
    {
      "cell_type": "code",
      "execution_count": 37,
      "metadata": {
        "id": "2_-zLost3hb3"
      },
      "outputs": [],
      "source": [
        "def append_r_peaks(patient_list,case,showplots=False):\n",
        "    rr_ints=[]\n",
        "    rri_with_patient_id = {}\n",
        "    # rr_ints=np.array(rr_ints) \n",
        "    parent_folder = '/content/ECGDataDenoised/'\n",
        "    data_with_rr = pd.DataFrame()\n",
        "    patient_col_id = []\n",
        "    # case_name = []\n",
        "    cnt=0\n",
        "    for i in tqdm(patient_list):\n",
        "      try:\n",
        "        data = parent_folder+i+\".csv\"\n",
        "        df = pd.read_csv(data,header=None)\n",
        "        df.columns=['I','II','III','aVR','aVL','aVF','V1','V2','V3','V4','V5','V6']\n",
        "        cols = df.columns\n",
        "        df[cols[:-1]] = df[cols[:-1]].apply(pd.to_numeric, errors='coerce')\n",
        "        lead_name='II'\n",
        "        count = (df[lead_name] == 0).sum()\n",
        "        if(count>0):\n",
        "          print(count)\n",
        "        if(df[lead_name].isnull().sum(axis = 0)>0):\n",
        "          print(\"Null values in \",i,\"is :\",df[lead_name].isnull().sum(axis = 0))\n",
        "        # Extract R-peaks locations\n",
        "        _, rpeaks = nk.ecg_peaks(df[\"II\"][1:], sampling_rate=500)\n",
        "        rrintervals = rpeaks['ECG_R_Peaks']\n",
        "        cnt+=len(rrintervals)-1\n",
        "        \n",
        "        rr_diff=np.diff(rrintervals)/1000\n",
        "        # rr_diff = np.append(0,rr_diff) #adding this 0 for equal size of RRi , hence to plot\n",
        "        rr_ints = np.append(rr_ints,rr_diff)\n",
        "        patient_col_id.append(i)\n",
        "        # case_name.append(case)\n",
        "        data_with_rr=data_with_rr.append(pd.DataFrame(rr_diff).transpose())\n",
        "        detrended_rri = signal.detrend(rr_diff, axis= -1, type='constant', bp=0, overwrite_data=False)\n",
        "        rri_with_patient_id[i]=detrended_rri\n",
        "      except:\n",
        "        print(\"\\nError in:\",i)\n",
        "\n",
        "    print(\"Total no. of RR Intervals in\",case,\" class is:\",len(rr_ints),\"\\n\")\n",
        "    return rri_with_patient_id  #returning data containing RR Intervals with label"
      ]
    },
    {
      "cell_type": "code",
      "execution_count": 39,
      "metadata": {
        "colab": {
          "base_uri": "https://localhost:8080/"
        },
        "id": "_OfXjmfdHT2c",
        "outputId": "9911ace2-a5b3-4d0c-db8d-09fb0cbd10af"
      },
      "outputs": [
        {
          "name": "stderr",
          "output_type": "stream",
          "text": [
            "100%|██████████| 1826/1826 [00:41<00:00, 43.88it/s]\n"
          ]
        },
        {
          "name": "stdout",
          "output_type": "stream",
          "text": [
            "Total no. of RR Intervals in nsr  class is: 20520 \n",
            "\n"
          ]
        },
        {
          "name": "stderr",
          "output_type": "stream",
          "text": [
            " 91%|█████████ | 1620/1779 [00:39<00:04, 36.71it/s]/usr/local/lib/python3.7/dist-packages/numpy/core/fromnumeric.py:3441: RuntimeWarning: Mean of empty slice.\n",
            "  out=out, **kwargs)\n",
            "/usr/local/lib/python3.7/dist-packages/numpy/core/_methods.py:189: RuntimeWarning: invalid value encountered in double_scalars\n",
            "  ret = ret.dtype.type(ret / rcount)\n",
            "100%|██████████| 1779/1779 [00:43<00:00, 41.03it/s]\n"
          ]
        },
        {
          "name": "stdout",
          "output_type": "stream",
          "text": [
            "Total no. of RR Intervals in afib  class is: 25124 \n",
            "\n"
          ]
        },
        {
          "name": "stderr",
          "output_type": "stream",
          "text": [
            "100%|██████████| 445/445 [00:12<00:00, 34.74it/s]"
          ]
        },
        {
          "name": "stdout",
          "output_type": "stream",
          "text": [
            "Total no. of RR Intervals in afl  class is: 7491 \n",
            "\n"
          ]
        },
        {
          "name": "stderr",
          "output_type": "stream",
          "text": [
            "\n"
          ]
        }
      ],
      "source": [
        "nsr_rri=append_r_peaks(nsr_files,\"nsr\")\n",
        "afib_rri=append_r_peaks(afib_files,\"afib\")\n",
        "afl_rri=append_r_peaks(afl_files,\"afl\")"
      ]
    },
    {
      "cell_type": "code",
      "execution_count": 46,
      "metadata": {
        "id": "TyO0RhUapDvX"
      },
      "outputs": [],
      "source": [
        "nsr_extraction_rr = pd.DataFrame.from_dict(nsr_rri,orient='index')\n",
        "afl_extraction_rr = pd.DataFrame.from_dict(afl_rri,orient='index')\n",
        "afib_extraction_rr = pd.DataFrame.from_dict(afib_rri,orient='index')"
      ]
    },
    {
      "cell_type": "code",
      "execution_count": 40,
      "metadata": {
        "id": "iK2D5xKGg3Yg"
      },
      "outputs": [],
      "source": [
        "all_subjects=all_files\n",
        "subject_label = {}\n",
        "for i in afib_files:\n",
        "    subject_label[i] = 'afib'\n",
        "for i in nsr_files:\n",
        "    subject_label[i] = 'nsr'\n",
        "for i in afl_files:\n",
        "    subject_label[i] = 'afl'"
      ]
    },
    {
      "cell_type": "code",
      "execution_count": 90,
      "metadata": {
        "colab": {
          "base_uri": "https://localhost:8080/"
        },
        "id": "64UmytgFg16l",
        "outputId": "14884faa-6ccf-4c58-d98e-622c00ba0dd0"
      },
      "outputs": [
        {
          "name": "stdout",
          "output_type": "stream",
          "text": [
            "Train: {'afib': 1592, 'nsr': 1652, 'afl': 401}\n",
            "22573 18567 6786\n",
            "After patient Scrambling: 20358\n",
            "Test: {'afib': 187, 'nsr': 174, 'afl': 44}\n",
            "2551 1953 705\n",
            "After patient Scrambling: 2115\n"
          ]
        }
      ],
      "source": [
        "# scikit-learn k-fold cross-validation\n",
        "from numpy import array\n",
        "from sklearn.model_selection import KFold\n",
        "data=all_subjects\n",
        "\n",
        "# prepare cross validation\n",
        "kfold = KFold(10,shuffle=True,random_state=42)\n",
        "\n",
        "# enumerate splits\n",
        "for train, test in kfold.split(data):  \n",
        "  cnt_train={}\n",
        "  nsr_det_rri = []\n",
        "  nsr_det_rri = np.array(nsr_det_rri)\n",
        "  afib_det_rri = []\n",
        "  afib_det_rri = np.array(afib_det_rri)\n",
        "  afl_det_rri = []\n",
        "  afl_det_rri = np.array(afl_det_rri)\n",
        "  afl_list = []\n",
        "  for i in train:\n",
        "    label=subject_label[all_subjects[i]]\n",
        "    if label in cnt_train:\n",
        "      cnt_train[label]+=1\n",
        "    else:\n",
        "      cnt_train[label]=1\n",
        "    name=all_subjects[i]\n",
        "    if(label=='nsr'):\n",
        "      nsr_det_rri=np.append(nsr_det_rri,nsr_rri[name])\n",
        "    elif(label=='afl'):\n",
        "      afl_list.append(name)\n",
        "      afl_det_rri=np.append(afl_det_rri,afl_rri[name])\n",
        "    else:\n",
        "      afib_det_rri=np.append(afib_det_rri,afib_rri[name])\n",
        "    ## \n",
        "  print(\"Train:\",cnt_train)\n",
        "  print(len(afib_det_rri),len(nsr_det_rri),len(afl_det_rri))\n",
        "\n",
        "  p1 = np.random.permutation(afl_list)\n",
        "  p2 = np.random.permutation(afl_list)\n",
        "  # print(len(p1),\" , \",len(p2))\n",
        "  for k in p1:\n",
        "    afl_det_rri=np.append(afl_det_rri,afl_rri[k])\n",
        "  for k in p2:\n",
        "    afl_det_rri=np.append(afl_det_rri,afl_rri[k])\n",
        "  print(\"After patient Scrambling:\",len(afl_det_rri))\n",
        "\n",
        "\n",
        "#### Similar to train\n",
        "\n",
        "  nsr_det_rri_test = []\n",
        "  nsr_det_rri_test = np.array(nsr_det_rri_test)\n",
        "  afib_det_rri_test = []\n",
        "  afib_det_rri_test = np.array(afib_det_rri_test)\n",
        "  afl_det_rri_test = []\n",
        "  afl_det_rri_test = np.array(afl_det_rri_test)\n",
        "\n",
        "  cnt_test={}\n",
        "  afl_list = []\n",
        "  for i in test:\n",
        "    label=subject_label[all_subjects[i]]\n",
        "    if label in cnt_test:\n",
        "      cnt_test[label]+=1\n",
        "    else:\n",
        "      cnt_test[label]=1\n",
        "    name=all_subjects[i]\n",
        "    if(label=='nsr'):\n",
        "      nsr_det_rri_test=np.append(nsr_det_rri_test,nsr_rri[name])\n",
        "    elif(label=='afl'):\n",
        "      afl_list.append(name)\n",
        "      afl_det_rri_test=np.append(afl_det_rri_test,afl_rri[name])\n",
        "    else:\n",
        "      afib_det_rri_test=np.append(afib_det_rri_test,afib_rri[name])\n",
        "     ## \n",
        "  print(\"Test:\",cnt_test)\n",
        "  print(len(afib_det_rri_test),len(nsr_det_rri_test),len(afl_det_rri_test))\n",
        "  \n",
        "  p1 = np.random.permutation(afl_list)\n",
        "  p2 = np.random.permutation(afl_list)\n",
        "  for k in p1:\n",
        "    afl_det_rri_test=np.append(afl_det_rri_test,afl_rri[k])\n",
        "  for k in p2:\n",
        "    afl_det_rri_test=np.append(afl_det_rri_test,afl_rri[k])\n",
        "  print(\"After patient Scrambling:\",len(afl_det_rri_test))\n",
        "\n",
        "  break\n",
        "  #1 fold done call rest part in function to complete your k fold cv"
      ]
    },
    {
      "cell_type": "code",
      "execution_count": 105,
      "metadata": {
        "id": "UtBQ2ffcqoel"
      },
      "outputs": [],
      "source": [
        "def round_robin(RR_interval):\n",
        "\n",
        "  RR_interval=RR_interval.tolist()\n",
        "  wind_size = 100\n",
        "  data_vect = []\n",
        "  modified_data_vector = []\n",
        "  ex_index = []\n",
        "\n",
        "  #CREATE DATA VECTOR\n",
        "  for i in tqdm(range(len(RR_interval))):\n",
        "\n",
        "    if i < len(RR_interval):\n",
        "\n",
        "      if len(RR_interval) >= i+wind_size:\n",
        "        rr_interval = RR_interval[i:i+wind_size]\n",
        "        data_vect.append(rr_interval)\n",
        "      else:\n",
        "        RR_interval.extend(RR_interval[0:100])\n",
        "        rr_interval = RR_interval[i:i+wind_size]\n",
        "        data_vect.append(rr_interval)\n",
        "\n",
        "  # #REMOVE EQUIDISTANT VECTORS\n",
        "  # for v in tqdm(range(len(data_vect))):\n",
        "    \n",
        "  #   if v in ex_index:\n",
        "  #     continue\n",
        "  #   else:\n",
        "  #     next_data = data_vect[v+1: len(data_vect)-1]\n",
        "  #     c = 0\n",
        "  #     for vi in range(len(next_data)):\n",
        "        \n",
        "  #       if len(data_vect[v])==len(next_data[vi]):\n",
        "\n",
        "  #         np_sub_array = np.absolute(np.array(data_vect[v]) - np.array(next_data[vi]))\n",
        "  #         result = np.all(np_sub_array == np_sub_array[0])\n",
        "  #         if result == True:\n",
        "  #           ex_index.append(v+1+vi)\n",
        "  #           c+=1\n",
        "  #     if c == 0:\n",
        "  #       modified_data_vector.append(data_vect[v])\n",
        "\n",
        "  # return modified_data_vector\n",
        "  return np.array(data_vect)"
      ]
    },
    {
      "cell_type": "code",
      "execution_count": 127,
      "metadata": {
        "colab": {
          "base_uri": "https://localhost:8080/"
        },
        "id": "cLNMZ2Gw02KS",
        "outputId": "3c2175c9-aaf7-4cee-e538-2709dd451ed2"
      },
      "outputs": [
        {
          "name": "stderr",
          "output_type": "stream",
          "text": [
            "100%|██████████| 22573/22573 [00:00<00:00, 67934.95it/s]\n",
            "100%|██████████| 20358/20358 [00:00<00:00, 325413.94it/s]\n",
            "100%|██████████| 18567/18567 [00:00<00:00, 381720.89it/s]\n"
          ]
        }
      ],
      "source": [
        "afib_vectors = round_robin(afib_det_rri)\n",
        "afl_vectors = round_robin(afl_det_rri)\n",
        "nsr_vectors = round_robin(nsr_det_rri)\n",
        "len__puncture = min(len(afib_vectors),min(len(nsr_vectors),len(afl_vectors)))"
      ]
    },
    {
      "cell_type": "code",
      "execution_count": 128,
      "metadata": {
        "id": "FwP8zKwD5HFr"
      },
      "outputs": [],
      "source": [
        "afib_vectors = afib_vectors[:len__puncture]\n",
        "afl_vectors = afl_vectors[:len__puncture]\n",
        "nsr_vectors = nsr_vectors[:len__puncture]"
      ]
    },
    {
      "cell_type": "code",
      "execution_count": 135,
      "metadata": {
        "id": "0fMd0sNB5aMj"
      },
      "outputs": [],
      "source": [
        "afib_rr = pd.DataFrame(afib_vectors)\n",
        "afib_rr['label']='afib'\n",
        "nsr_rr = pd.DataFrame(nsr_vectors)\n",
        "nsr_rr['label']='nsr'\n",
        "afl_rr = pd.DataFrame(afl_vectors)\n",
        "afl_rr['label']='afl'"
      ]
    },
    {
      "cell_type": "code",
      "execution_count": 141,
      "metadata": {
        "id": "pGVhoXyCzh5U"
      },
      "outputs": [],
      "source": [
        "arhy_labels = {'nsr': 0, 'afib': 1, 'afl':2}\n",
        "arhy_reverse_labels = {v:k for k,v in arhy_labels.items()}\n",
        "\n",
        "full_data_with_rr=pd.concat([afib_rr,nsr_rr,afl_rr])\n",
        "\n",
        "# full_data_with_rr['label']=full_data_with_rr['label'].astype(\"string\")\n",
        "\n",
        "arhy_labels = full_data_with_rr.iloc[:,-1].replace(arhy_reverse_labels)"
      ]
    },
    {
      "cell_type": "code",
      "execution_count": 142,
      "metadata": {
        "colab": {
          "base_uri": "https://localhost:8080/",
          "height": 487
        },
        "id": "ET4vmLL164QJ",
        "outputId": "43c1c071-6ce0-439e-b1a9-b0e5b993c32f"
      },
      "outputs": [
        {
          "data": {
            "text/html": [
              "\n",
              "  <div id=\"df-c8183bdf-791b-46a1-8cd2-6aa0ea14a4b5\">\n",
              "    <div class=\"colab-df-container\">\n",
              "      <div>\n",
              "<style scoped>\n",
              "    .dataframe tbody tr th:only-of-type {\n",
              "        vertical-align: middle;\n",
              "    }\n",
              "\n",
              "    .dataframe tbody tr th {\n",
              "        vertical-align: top;\n",
              "    }\n",
              "\n",
              "    .dataframe thead th {\n",
              "        text-align: right;\n",
              "    }\n",
              "</style>\n",
              "<table border=\"1\" class=\"dataframe\">\n",
              "  <thead>\n",
              "    <tr style=\"text-align: right;\">\n",
              "      <th></th>\n",
              "      <th>0</th>\n",
              "      <th>1</th>\n",
              "      <th>2</th>\n",
              "      <th>3</th>\n",
              "      <th>4</th>\n",
              "      <th>5</th>\n",
              "      <th>6</th>\n",
              "      <th>7</th>\n",
              "      <th>8</th>\n",
              "      <th>9</th>\n",
              "      <th>...</th>\n",
              "      <th>91</th>\n",
              "      <th>92</th>\n",
              "      <th>93</th>\n",
              "      <th>94</th>\n",
              "      <th>95</th>\n",
              "      <th>96</th>\n",
              "      <th>97</th>\n",
              "      <th>98</th>\n",
              "      <th>99</th>\n",
              "      <th>label</th>\n",
              "    </tr>\n",
              "  </thead>\n",
              "  <tbody>\n",
              "    <tr>\n",
              "      <th>0</th>\n",
              "      <td>-0.021278</td>\n",
              "      <td>0.007722</td>\n",
              "      <td>-0.021278</td>\n",
              "      <td>0.022722</td>\n",
              "      <td>0.010722</td>\n",
              "      <td>0.034722</td>\n",
              "      <td>0.015722</td>\n",
              "      <td>0.005722</td>\n",
              "      <td>-0.018278</td>\n",
              "      <td>0.025722</td>\n",
              "      <td>...</td>\n",
              "      <td>0.027308</td>\n",
              "      <td>0.125308</td>\n",
              "      <td>-0.086692</td>\n",
              "      <td>0.101308</td>\n",
              "      <td>-0.069692</td>\n",
              "      <td>0.073308</td>\n",
              "      <td>-0.008692</td>\n",
              "      <td>0.012308</td>\n",
              "      <td>-0.068692</td>\n",
              "      <td>afib</td>\n",
              "    </tr>\n",
              "    <tr>\n",
              "      <th>1</th>\n",
              "      <td>0.007722</td>\n",
              "      <td>-0.021278</td>\n",
              "      <td>0.022722</td>\n",
              "      <td>0.010722</td>\n",
              "      <td>0.034722</td>\n",
              "      <td>0.015722</td>\n",
              "      <td>0.005722</td>\n",
              "      <td>-0.018278</td>\n",
              "      <td>0.025722</td>\n",
              "      <td>0.007722</td>\n",
              "      <td>...</td>\n",
              "      <td>0.125308</td>\n",
              "      <td>-0.086692</td>\n",
              "      <td>0.101308</td>\n",
              "      <td>-0.069692</td>\n",
              "      <td>0.073308</td>\n",
              "      <td>-0.008692</td>\n",
              "      <td>0.012308</td>\n",
              "      <td>-0.068692</td>\n",
              "      <td>-0.099692</td>\n",
              "      <td>afib</td>\n",
              "    </tr>\n",
              "    <tr>\n",
              "      <th>2</th>\n",
              "      <td>-0.021278</td>\n",
              "      <td>0.022722</td>\n",
              "      <td>0.010722</td>\n",
              "      <td>0.034722</td>\n",
              "      <td>0.015722</td>\n",
              "      <td>0.005722</td>\n",
              "      <td>-0.018278</td>\n",
              "      <td>0.025722</td>\n",
              "      <td>0.007722</td>\n",
              "      <td>0.016722</td>\n",
              "      <td>...</td>\n",
              "      <td>-0.086692</td>\n",
              "      <td>0.101308</td>\n",
              "      <td>-0.069692</td>\n",
              "      <td>0.073308</td>\n",
              "      <td>-0.008692</td>\n",
              "      <td>0.012308</td>\n",
              "      <td>-0.068692</td>\n",
              "      <td>-0.099692</td>\n",
              "      <td>-0.036722</td>\n",
              "      <td>afib</td>\n",
              "    </tr>\n",
              "    <tr>\n",
              "      <th>3</th>\n",
              "      <td>0.022722</td>\n",
              "      <td>0.010722</td>\n",
              "      <td>0.034722</td>\n",
              "      <td>0.015722</td>\n",
              "      <td>0.005722</td>\n",
              "      <td>-0.018278</td>\n",
              "      <td>0.025722</td>\n",
              "      <td>0.007722</td>\n",
              "      <td>0.016722</td>\n",
              "      <td>-0.067278</td>\n",
              "      <td>...</td>\n",
              "      <td>0.101308</td>\n",
              "      <td>-0.069692</td>\n",
              "      <td>0.073308</td>\n",
              "      <td>-0.008692</td>\n",
              "      <td>0.012308</td>\n",
              "      <td>-0.068692</td>\n",
              "      <td>-0.099692</td>\n",
              "      <td>-0.036722</td>\n",
              "      <td>-0.032722</td>\n",
              "      <td>afib</td>\n",
              "    </tr>\n",
              "    <tr>\n",
              "      <th>4</th>\n",
              "      <td>0.010722</td>\n",
              "      <td>0.034722</td>\n",
              "      <td>0.015722</td>\n",
              "      <td>0.005722</td>\n",
              "      <td>-0.018278</td>\n",
              "      <td>0.025722</td>\n",
              "      <td>0.007722</td>\n",
              "      <td>0.016722</td>\n",
              "      <td>-0.067278</td>\n",
              "      <td>0.012722</td>\n",
              "      <td>...</td>\n",
              "      <td>-0.069692</td>\n",
              "      <td>0.073308</td>\n",
              "      <td>-0.008692</td>\n",
              "      <td>0.012308</td>\n",
              "      <td>-0.068692</td>\n",
              "      <td>-0.099692</td>\n",
              "      <td>-0.036722</td>\n",
              "      <td>-0.032722</td>\n",
              "      <td>0.065278</td>\n",
              "      <td>afib</td>\n",
              "    </tr>\n",
              "    <tr>\n",
              "      <th>...</th>\n",
              "      <td>...</td>\n",
              "      <td>...</td>\n",
              "      <td>...</td>\n",
              "      <td>...</td>\n",
              "      <td>...</td>\n",
              "      <td>...</td>\n",
              "      <td>...</td>\n",
              "      <td>...</td>\n",
              "      <td>...</td>\n",
              "      <td>...</td>\n",
              "      <td>...</td>\n",
              "      <td>...</td>\n",
              "      <td>...</td>\n",
              "      <td>...</td>\n",
              "      <td>...</td>\n",
              "      <td>...</td>\n",
              "      <td>...</td>\n",
              "      <td>...</td>\n",
              "      <td>...</td>\n",
              "      <td>...</td>\n",
              "      <td>...</td>\n",
              "    </tr>\n",
              "    <tr>\n",
              "      <th>18562</th>\n",
              "      <td>0.013000</td>\n",
              "      <td>0.025000</td>\n",
              "      <td>-0.013000</td>\n",
              "      <td>0.003000</td>\n",
              "      <td>-0.021000</td>\n",
              "      <td>0.005000</td>\n",
              "      <td>0.043000</td>\n",
              "      <td>-0.005000</td>\n",
              "      <td>0.064000</td>\n",
              "      <td>-0.012000</td>\n",
              "      <td>...</td>\n",
              "      <td>-0.050412</td>\n",
              "      <td>-0.049412</td>\n",
              "      <td>0.372588</td>\n",
              "      <td>-0.050412</td>\n",
              "      <td>-0.049412</td>\n",
              "      <td>-0.049412</td>\n",
              "      <td>-0.049412</td>\n",
              "      <td>0.161588</td>\n",
              "      <td>-0.049412</td>\n",
              "      <td>afl</td>\n",
              "    </tr>\n",
              "    <tr>\n",
              "      <th>18563</th>\n",
              "      <td>0.025000</td>\n",
              "      <td>-0.013000</td>\n",
              "      <td>0.003000</td>\n",
              "      <td>-0.021000</td>\n",
              "      <td>0.005000</td>\n",
              "      <td>0.043000</td>\n",
              "      <td>-0.005000</td>\n",
              "      <td>0.064000</td>\n",
              "      <td>-0.012000</td>\n",
              "      <td>-0.008000</td>\n",
              "      <td>...</td>\n",
              "      <td>-0.049412</td>\n",
              "      <td>0.372588</td>\n",
              "      <td>-0.050412</td>\n",
              "      <td>-0.049412</td>\n",
              "      <td>-0.049412</td>\n",
              "      <td>-0.049412</td>\n",
              "      <td>0.161588</td>\n",
              "      <td>-0.049412</td>\n",
              "      <td>-0.050412</td>\n",
              "      <td>afl</td>\n",
              "    </tr>\n",
              "    <tr>\n",
              "      <th>18564</th>\n",
              "      <td>-0.013000</td>\n",
              "      <td>0.003000</td>\n",
              "      <td>-0.021000</td>\n",
              "      <td>0.005000</td>\n",
              "      <td>0.043000</td>\n",
              "      <td>-0.005000</td>\n",
              "      <td>0.064000</td>\n",
              "      <td>-0.012000</td>\n",
              "      <td>-0.008000</td>\n",
              "      <td>-0.015000</td>\n",
              "      <td>...</td>\n",
              "      <td>0.372588</td>\n",
              "      <td>-0.050412</td>\n",
              "      <td>-0.049412</td>\n",
              "      <td>-0.049412</td>\n",
              "      <td>-0.049412</td>\n",
              "      <td>0.161588</td>\n",
              "      <td>-0.049412</td>\n",
              "      <td>-0.050412</td>\n",
              "      <td>-0.049412</td>\n",
              "      <td>afl</td>\n",
              "    </tr>\n",
              "    <tr>\n",
              "      <th>18565</th>\n",
              "      <td>0.003000</td>\n",
              "      <td>-0.021000</td>\n",
              "      <td>0.005000</td>\n",
              "      <td>0.043000</td>\n",
              "      <td>-0.005000</td>\n",
              "      <td>0.064000</td>\n",
              "      <td>-0.012000</td>\n",
              "      <td>-0.008000</td>\n",
              "      <td>-0.015000</td>\n",
              "      <td>-0.007474</td>\n",
              "      <td>...</td>\n",
              "      <td>-0.050412</td>\n",
              "      <td>-0.049412</td>\n",
              "      <td>-0.049412</td>\n",
              "      <td>-0.049412</td>\n",
              "      <td>0.161588</td>\n",
              "      <td>-0.049412</td>\n",
              "      <td>-0.050412</td>\n",
              "      <td>-0.049412</td>\n",
              "      <td>-0.049412</td>\n",
              "      <td>afl</td>\n",
              "    </tr>\n",
              "    <tr>\n",
              "      <th>18566</th>\n",
              "      <td>-0.021000</td>\n",
              "      <td>0.005000</td>\n",
              "      <td>0.043000</td>\n",
              "      <td>-0.005000</td>\n",
              "      <td>0.064000</td>\n",
              "      <td>-0.012000</td>\n",
              "      <td>-0.008000</td>\n",
              "      <td>-0.015000</td>\n",
              "      <td>-0.007474</td>\n",
              "      <td>-0.008474</td>\n",
              "      <td>...</td>\n",
              "      <td>-0.049412</td>\n",
              "      <td>-0.049412</td>\n",
              "      <td>-0.049412</td>\n",
              "      <td>0.161588</td>\n",
              "      <td>-0.049412</td>\n",
              "      <td>-0.050412</td>\n",
              "      <td>-0.049412</td>\n",
              "      <td>-0.049412</td>\n",
              "      <td>0.162588</td>\n",
              "      <td>afl</td>\n",
              "    </tr>\n",
              "  </tbody>\n",
              "</table>\n",
              "<p>55701 rows × 101 columns</p>\n",
              "</div>\n",
              "      <button class=\"colab-df-convert\" onclick=\"convertToInteractive('df-c8183bdf-791b-46a1-8cd2-6aa0ea14a4b5')\"\n",
              "              title=\"Convert this dataframe to an interactive table.\"\n",
              "              style=\"display:none;\">\n",
              "        \n",
              "  <svg xmlns=\"http://www.w3.org/2000/svg\" height=\"24px\"viewBox=\"0 0 24 24\"\n",
              "       width=\"24px\">\n",
              "    <path d=\"M0 0h24v24H0V0z\" fill=\"none\"/>\n",
              "    <path d=\"M18.56 5.44l.94 2.06.94-2.06 2.06-.94-2.06-.94-.94-2.06-.94 2.06-2.06.94zm-11 1L8.5 8.5l.94-2.06 2.06-.94-2.06-.94L8.5 2.5l-.94 2.06-2.06.94zm10 10l.94 2.06.94-2.06 2.06-.94-2.06-.94-.94-2.06-.94 2.06-2.06.94z\"/><path d=\"M17.41 7.96l-1.37-1.37c-.4-.4-.92-.59-1.43-.59-.52 0-1.04.2-1.43.59L10.3 9.45l-7.72 7.72c-.78.78-.78 2.05 0 2.83L4 21.41c.39.39.9.59 1.41.59.51 0 1.02-.2 1.41-.59l7.78-7.78 2.81-2.81c.8-.78.8-2.07 0-2.86zM5.41 20L4 18.59l7.72-7.72 1.47 1.35L5.41 20z\"/>\n",
              "  </svg>\n",
              "      </button>\n",
              "      \n",
              "  <style>\n",
              "    .colab-df-container {\n",
              "      display:flex;\n",
              "      flex-wrap:wrap;\n",
              "      gap: 12px;\n",
              "    }\n",
              "\n",
              "    .colab-df-convert {\n",
              "      background-color: #E8F0FE;\n",
              "      border: none;\n",
              "      border-radius: 50%;\n",
              "      cursor: pointer;\n",
              "      display: none;\n",
              "      fill: #1967D2;\n",
              "      height: 32px;\n",
              "      padding: 0 0 0 0;\n",
              "      width: 32px;\n",
              "    }\n",
              "\n",
              "    .colab-df-convert:hover {\n",
              "      background-color: #E2EBFA;\n",
              "      box-shadow: 0px 1px 2px rgba(60, 64, 67, 0.3), 0px 1px 3px 1px rgba(60, 64, 67, 0.15);\n",
              "      fill: #174EA6;\n",
              "    }\n",
              "\n",
              "    [theme=dark] .colab-df-convert {\n",
              "      background-color: #3B4455;\n",
              "      fill: #D2E3FC;\n",
              "    }\n",
              "\n",
              "    [theme=dark] .colab-df-convert:hover {\n",
              "      background-color: #434B5C;\n",
              "      box-shadow: 0px 1px 3px 1px rgba(0, 0, 0, 0.15);\n",
              "      filter: drop-shadow(0px 1px 2px rgba(0, 0, 0, 0.3));\n",
              "      fill: #FFFFFF;\n",
              "    }\n",
              "  </style>\n",
              "\n",
              "      <script>\n",
              "        const buttonEl =\n",
              "          document.querySelector('#df-c8183bdf-791b-46a1-8cd2-6aa0ea14a4b5 button.colab-df-convert');\n",
              "        buttonEl.style.display =\n",
              "          google.colab.kernel.accessAllowed ? 'block' : 'none';\n",
              "\n",
              "        async function convertToInteractive(key) {\n",
              "          const element = document.querySelector('#df-c8183bdf-791b-46a1-8cd2-6aa0ea14a4b5');\n",
              "          const dataTable =\n",
              "            await google.colab.kernel.invokeFunction('convertToInteractive',\n",
              "                                                     [key], {});\n",
              "          if (!dataTable) return;\n",
              "\n",
              "          const docLinkHtml = 'Like what you see? Visit the ' +\n",
              "            '<a target=\"_blank\" href=https://colab.research.google.com/notebooks/data_table.ipynb>data table notebook</a>'\n",
              "            + ' to learn more about interactive tables.';\n",
              "          element.innerHTML = '';\n",
              "          dataTable['output_type'] = 'display_data';\n",
              "          await google.colab.output.renderOutput(dataTable, element);\n",
              "          const docLink = document.createElement('div');\n",
              "          docLink.innerHTML = docLinkHtml;\n",
              "          element.appendChild(docLink);\n",
              "        }\n",
              "      </script>\n",
              "    </div>\n",
              "  </div>\n",
              "  "
            ],
            "text/plain": [
              "              0         1         2         3         4         5         6  \\\n",
              "0     -0.021278  0.007722 -0.021278  0.022722  0.010722  0.034722  0.015722   \n",
              "1      0.007722 -0.021278  0.022722  0.010722  0.034722  0.015722  0.005722   \n",
              "2     -0.021278  0.022722  0.010722  0.034722  0.015722  0.005722 -0.018278   \n",
              "3      0.022722  0.010722  0.034722  0.015722  0.005722 -0.018278  0.025722   \n",
              "4      0.010722  0.034722  0.015722  0.005722 -0.018278  0.025722  0.007722   \n",
              "...         ...       ...       ...       ...       ...       ...       ...   \n",
              "18562  0.013000  0.025000 -0.013000  0.003000 -0.021000  0.005000  0.043000   \n",
              "18563  0.025000 -0.013000  0.003000 -0.021000  0.005000  0.043000 -0.005000   \n",
              "18564 -0.013000  0.003000 -0.021000  0.005000  0.043000 -0.005000  0.064000   \n",
              "18565  0.003000 -0.021000  0.005000  0.043000 -0.005000  0.064000 -0.012000   \n",
              "18566 -0.021000  0.005000  0.043000 -0.005000  0.064000 -0.012000 -0.008000   \n",
              "\n",
              "              7         8         9  ...        91        92        93  \\\n",
              "0      0.005722 -0.018278  0.025722  ...  0.027308  0.125308 -0.086692   \n",
              "1     -0.018278  0.025722  0.007722  ...  0.125308 -0.086692  0.101308   \n",
              "2      0.025722  0.007722  0.016722  ... -0.086692  0.101308 -0.069692   \n",
              "3      0.007722  0.016722 -0.067278  ...  0.101308 -0.069692  0.073308   \n",
              "4      0.016722 -0.067278  0.012722  ... -0.069692  0.073308 -0.008692   \n",
              "...         ...       ...       ...  ...       ...       ...       ...   \n",
              "18562 -0.005000  0.064000 -0.012000  ... -0.050412 -0.049412  0.372588   \n",
              "18563  0.064000 -0.012000 -0.008000  ... -0.049412  0.372588 -0.050412   \n",
              "18564 -0.012000 -0.008000 -0.015000  ...  0.372588 -0.050412 -0.049412   \n",
              "18565 -0.008000 -0.015000 -0.007474  ... -0.050412 -0.049412 -0.049412   \n",
              "18566 -0.015000 -0.007474 -0.008474  ... -0.049412 -0.049412 -0.049412   \n",
              "\n",
              "             94        95        96        97        98        99  label  \n",
              "0      0.101308 -0.069692  0.073308 -0.008692  0.012308 -0.068692   afib  \n",
              "1     -0.069692  0.073308 -0.008692  0.012308 -0.068692 -0.099692   afib  \n",
              "2      0.073308 -0.008692  0.012308 -0.068692 -0.099692 -0.036722   afib  \n",
              "3     -0.008692  0.012308 -0.068692 -0.099692 -0.036722 -0.032722   afib  \n",
              "4      0.012308 -0.068692 -0.099692 -0.036722 -0.032722  0.065278   afib  \n",
              "...         ...       ...       ...       ...       ...       ...    ...  \n",
              "18562 -0.050412 -0.049412 -0.049412 -0.049412  0.161588 -0.049412    afl  \n",
              "18563 -0.049412 -0.049412 -0.049412  0.161588 -0.049412 -0.050412    afl  \n",
              "18564 -0.049412 -0.049412  0.161588 -0.049412 -0.050412 -0.049412    afl  \n",
              "18565 -0.049412  0.161588 -0.049412 -0.050412 -0.049412 -0.049412    afl  \n",
              "18566  0.161588 -0.049412 -0.050412 -0.049412 -0.049412  0.162588    afl  \n",
              "\n",
              "[55701 rows x 101 columns]"
            ]
          },
          "execution_count": 142,
          "metadata": {},
          "output_type": "execute_result"
        }
      ],
      "source": [
        "full_data_with_rr"
      ]
    },
    {
      "cell_type": "markdown",
      "metadata": {
        "id": "A-s2KVRSukCr"
      },
      "source": [
        "### Labelling encoding {'nsr': 0, 'afib': 1, 'afl':2}\n"
      ]
    },
    {
      "cell_type": "code",
      "execution_count": 143,
      "metadata": {
        "id": "FunZPvDgh9O2"
      },
      "outputs": [],
      "source": [
        "dict = {'nsr': 0, 'afib': 1, 'afl':2}\n",
        "\n",
        "full_data_with_rr.replace({'label': dict},inplace=True)"
      ]
    },
    {
      "cell_type": "code",
      "execution_count": 144,
      "metadata": {
        "id": "OeAL7SCrFwZL"
      },
      "outputs": [],
      "source": [
        "# full_data_with_rr.to_csv(\"/content/drive/MyDrive/train_data_rr_100.csv\",index=False)\n",
        "# full_data_with_rr.to_csv(\"/content/train_data_rr_100.csv\",index=False)"
      ]
    },
    {
      "cell_type": "code",
      "execution_count": 24,
      "metadata": {
        "colab": {
          "base_uri": "https://localhost:8080/"
        },
        "id": "KtMjhMdpjb-p",
        "outputId": "65b73fde-933a-4680-bfe2-ad59cf484511"
      },
      "outputs": [
        {
          "data": {
            "text/plain": [
              "1    18567\n",
              "0    18567\n",
              "2    18567\n",
              "Name: label, dtype: int64"
            ]
          },
          "execution_count": 24,
          "metadata": {},
          "output_type": "execute_result"
        }
      ],
      "source": [
        "df = pd.read_csv(\"/content/drive/MyDrive/train_data_rr_100.csv\")\n",
        "df.label.value_counts()"
      ]
    },
    {
      "cell_type": "code",
      "execution_count": 25,
      "metadata": {
        "id": "v8kRLdu7LWfI"
      },
      "outputs": [],
      "source": [
        "train=df"
      ]
    },
    {
      "cell_type": "code",
      "execution_count": 26,
      "metadata": {
        "id": "XN7bmDIhLQc-"
      },
      "outputs": [],
      "source": [
        "train.to_csv(\"/content/drive/MyDrive/train_rr_100.csv\",index=False)\n",
        "train.to_csv(\"/content/train_rr_100.csv\",index=False)"
      ]
    },
    {
      "cell_type": "markdown",
      "metadata": {
        "id": "VdoxJp_ULbIP"
      },
      "source": [
        "### Start from here. Read Train file which is already saved"
      ]
    },
    {
      "cell_type": "code",
      "execution_count": 43,
      "metadata": {
        "id": "Yn2XvnbgLaIL"
      },
      "outputs": [],
      "source": [
        "# train=pd.read_csv(\"/content/drive/MyDrive/train_with_rr_20.csv\")\n",
        "train=pd.read_csv(\"/content/drive/MyDrive/train_rr_100.csv\")\n",
        "train = train.sample(frac=1).reset_index(drop=True)\n",
        "train = train.sample(frac=1).reset_index(drop=True)\n",
        "train = train.sample(frac=1).reset_index(drop=True)\n",
        "train = train.sample(frac=1).reset_index(drop=True)\n"
      ]
    },
    {
      "cell_type": "code",
      "execution_count": 44,
      "metadata": {
        "colab": {
          "base_uri": "https://localhost:8080/",
          "height": 487
        },
        "id": "t6DdjCK1ynmq",
        "outputId": "f7d61ae3-25e2-4e55-bdd6-60d54aa18c91"
      },
      "outputs": [
        {
          "data": {
            "text/html": [
              "\n",
              "  <div id=\"df-cbaa592d-c381-47df-abb7-6b8b46f433c4\">\n",
              "    <div class=\"colab-df-container\">\n",
              "      <div>\n",
              "<style scoped>\n",
              "    .dataframe tbody tr th:only-of-type {\n",
              "        vertical-align: middle;\n",
              "    }\n",
              "\n",
              "    .dataframe tbody tr th {\n",
              "        vertical-align: top;\n",
              "    }\n",
              "\n",
              "    .dataframe thead th {\n",
              "        text-align: right;\n",
              "    }\n",
              "</style>\n",
              "<table border=\"1\" class=\"dataframe\">\n",
              "  <thead>\n",
              "    <tr style=\"text-align: right;\">\n",
              "      <th></th>\n",
              "      <th>0</th>\n",
              "      <th>1</th>\n",
              "      <th>2</th>\n",
              "      <th>3</th>\n",
              "      <th>4</th>\n",
              "      <th>5</th>\n",
              "      <th>6</th>\n",
              "      <th>7</th>\n",
              "      <th>8</th>\n",
              "      <th>9</th>\n",
              "      <th>...</th>\n",
              "      <th>91</th>\n",
              "      <th>92</th>\n",
              "      <th>93</th>\n",
              "      <th>94</th>\n",
              "      <th>95</th>\n",
              "      <th>96</th>\n",
              "      <th>97</th>\n",
              "      <th>98</th>\n",
              "      <th>99</th>\n",
              "      <th>label</th>\n",
              "    </tr>\n",
              "  </thead>\n",
              "  <tbody>\n",
              "    <tr>\n",
              "      <th>0</th>\n",
              "      <td>-0.110385</td>\n",
              "      <td>0.010615</td>\n",
              "      <td>0.006615</td>\n",
              "      <td>0.010615</td>\n",
              "      <td>0.008615</td>\n",
              "      <td>0.006615</td>\n",
              "      <td>0.008615</td>\n",
              "      <td>0.011615</td>\n",
              "      <td>0.009615</td>\n",
              "      <td>0.011615</td>\n",
              "      <td>...</td>\n",
              "      <td>-0.115733</td>\n",
              "      <td>0.038267</td>\n",
              "      <td>-0.065733</td>\n",
              "      <td>-0.019929</td>\n",
              "      <td>-0.008929</td>\n",
              "      <td>-0.028929</td>\n",
              "      <td>-0.077929</td>\n",
              "      <td>0.003071</td>\n",
              "      <td>0.018071</td>\n",
              "      <td>2</td>\n",
              "    </tr>\n",
              "    <tr>\n",
              "      <th>1</th>\n",
              "      <td>-0.008353</td>\n",
              "      <td>0.035647</td>\n",
              "      <td>0.045647</td>\n",
              "      <td>0.048647</td>\n",
              "      <td>-0.050353</td>\n",
              "      <td>0.011647</td>\n",
              "      <td>-0.032353</td>\n",
              "      <td>-0.012353</td>\n",
              "      <td>-0.052353</td>\n",
              "      <td>0.008647</td>\n",
              "      <td>...</td>\n",
              "      <td>-0.000211</td>\n",
              "      <td>-0.001211</td>\n",
              "      <td>0.022923</td>\n",
              "      <td>0.043923</td>\n",
              "      <td>-0.004077</td>\n",
              "      <td>-0.021077</td>\n",
              "      <td>-0.021077</td>\n",
              "      <td>-0.018077</td>\n",
              "      <td>0.038923</td>\n",
              "      <td>2</td>\n",
              "    </tr>\n",
              "    <tr>\n",
              "      <th>2</th>\n",
              "      <td>0.006385</td>\n",
              "      <td>0.008385</td>\n",
              "      <td>0.012385</td>\n",
              "      <td>-0.058615</td>\n",
              "      <td>-0.002636</td>\n",
              "      <td>-0.002636</td>\n",
              "      <td>0.002364</td>\n",
              "      <td>0.001364</td>\n",
              "      <td>-0.000636</td>\n",
              "      <td>0.000364</td>\n",
              "      <td>...</td>\n",
              "      <td>-0.006000</td>\n",
              "      <td>-0.004000</td>\n",
              "      <td>-0.003500</td>\n",
              "      <td>0.004500</td>\n",
              "      <td>0.004500</td>\n",
              "      <td>-0.000500</td>\n",
              "      <td>-0.004500</td>\n",
              "      <td>-0.010500</td>\n",
              "      <td>-0.000500</td>\n",
              "      <td>0</td>\n",
              "    </tr>\n",
              "    <tr>\n",
              "      <th>3</th>\n",
              "      <td>-0.080000</td>\n",
              "      <td>-0.142000</td>\n",
              "      <td>0.011000</td>\n",
              "      <td>0.072000</td>\n",
              "      <td>-0.020000</td>\n",
              "      <td>-0.092000</td>\n",
              "      <td>-0.109067</td>\n",
              "      <td>0.005933</td>\n",
              "      <td>-0.002067</td>\n",
              "      <td>-0.025067</td>\n",
              "      <td>...</td>\n",
              "      <td>-0.011217</td>\n",
              "      <td>-0.013217</td>\n",
              "      <td>-0.010217</td>\n",
              "      <td>-0.016217</td>\n",
              "      <td>-0.018217</td>\n",
              "      <td>-0.012217</td>\n",
              "      <td>-0.009217</td>\n",
              "      <td>-0.032217</td>\n",
              "      <td>0.183783</td>\n",
              "      <td>1</td>\n",
              "    </tr>\n",
              "    <tr>\n",
              "      <th>4</th>\n",
              "      <td>-0.002182</td>\n",
              "      <td>-0.000182</td>\n",
              "      <td>-0.001182</td>\n",
              "      <td>-0.052200</td>\n",
              "      <td>0.106800</td>\n",
              "      <td>0.025800</td>\n",
              "      <td>0.008800</td>\n",
              "      <td>-0.057200</td>\n",
              "      <td>-0.067200</td>\n",
              "      <td>-0.028200</td>\n",
              "      <td>...</td>\n",
              "      <td>0.007905</td>\n",
              "      <td>-0.005095</td>\n",
              "      <td>-0.000095</td>\n",
              "      <td>-0.000095</td>\n",
              "      <td>-0.003095</td>\n",
              "      <td>0.005905</td>\n",
              "      <td>-0.005095</td>\n",
              "      <td>-0.000095</td>\n",
              "      <td>0.003905</td>\n",
              "      <td>2</td>\n",
              "    </tr>\n",
              "    <tr>\n",
              "      <th>...</th>\n",
              "      <td>...</td>\n",
              "      <td>...</td>\n",
              "      <td>...</td>\n",
              "      <td>...</td>\n",
              "      <td>...</td>\n",
              "      <td>...</td>\n",
              "      <td>...</td>\n",
              "      <td>...</td>\n",
              "      <td>...</td>\n",
              "      <td>...</td>\n",
              "      <td>...</td>\n",
              "      <td>...</td>\n",
              "      <td>...</td>\n",
              "      <td>...</td>\n",
              "      <td>...</td>\n",
              "      <td>...</td>\n",
              "      <td>...</td>\n",
              "      <td>...</td>\n",
              "      <td>...</td>\n",
              "      <td>...</td>\n",
              "      <td>...</td>\n",
              "    </tr>\n",
              "    <tr>\n",
              "      <th>55696</th>\n",
              "      <td>0.005143</td>\n",
              "      <td>0.000143</td>\n",
              "      <td>0.001143</td>\n",
              "      <td>-0.001857</td>\n",
              "      <td>0.000143</td>\n",
              "      <td>0.005143</td>\n",
              "      <td>-0.001857</td>\n",
              "      <td>-0.003857</td>\n",
              "      <td>0.357867</td>\n",
              "      <td>-0.035133</td>\n",
              "      <td>...</td>\n",
              "      <td>0.000536</td>\n",
              "      <td>0.000536</td>\n",
              "      <td>-0.000464</td>\n",
              "      <td>0.000536</td>\n",
              "      <td>-0.011464</td>\n",
              "      <td>0.012536</td>\n",
              "      <td>-0.001464</td>\n",
              "      <td>0.000536</td>\n",
              "      <td>0.000536</td>\n",
              "      <td>2</td>\n",
              "    </tr>\n",
              "    <tr>\n",
              "      <th>55697</th>\n",
              "      <td>-0.018333</td>\n",
              "      <td>-0.009333</td>\n",
              "      <td>0.003667</td>\n",
              "      <td>0.013667</td>\n",
              "      <td>0.014667</td>\n",
              "      <td>0.008667</td>\n",
              "      <td>-0.016333</td>\n",
              "      <td>-0.004333</td>\n",
              "      <td>0.007667</td>\n",
              "      <td>0.004900</td>\n",
              "      <td>...</td>\n",
              "      <td>-0.008857</td>\n",
              "      <td>-0.005857</td>\n",
              "      <td>-0.000857</td>\n",
              "      <td>-0.002545</td>\n",
              "      <td>-0.001545</td>\n",
              "      <td>0.004455</td>\n",
              "      <td>0.008455</td>\n",
              "      <td>-0.005545</td>\n",
              "      <td>-0.005545</td>\n",
              "      <td>0</td>\n",
              "    </tr>\n",
              "    <tr>\n",
              "      <th>55698</th>\n",
              "      <td>-0.016727</td>\n",
              "      <td>-0.054727</td>\n",
              "      <td>0.054273</td>\n",
              "      <td>-0.010727</td>\n",
              "      <td>-0.041727</td>\n",
              "      <td>-0.030000</td>\n",
              "      <td>-0.019000</td>\n",
              "      <td>-0.060000</td>\n",
              "      <td>0.007000</td>\n",
              "      <td>0.052000</td>\n",
              "      <td>...</td>\n",
              "      <td>0.047167</td>\n",
              "      <td>-0.061833</td>\n",
              "      <td>-0.050833</td>\n",
              "      <td>0.038167</td>\n",
              "      <td>-0.049833</td>\n",
              "      <td>0.000143</td>\n",
              "      <td>-0.093857</td>\n",
              "      <td>0.100143</td>\n",
              "      <td>0.004143</td>\n",
              "      <td>1</td>\n",
              "    </tr>\n",
              "    <tr>\n",
              "      <th>55699</th>\n",
              "      <td>-0.062312</td>\n",
              "      <td>0.093687</td>\n",
              "      <td>0.152687</td>\n",
              "      <td>-0.063312</td>\n",
              "      <td>0.042687</td>\n",
              "      <td>-0.044312</td>\n",
              "      <td>-0.075313</td>\n",
              "      <td>0.046687</td>\n",
              "      <td>-0.058313</td>\n",
              "      <td>0.045687</td>\n",
              "      <td>...</td>\n",
              "      <td>0.051294</td>\n",
              "      <td>0.089294</td>\n",
              "      <td>0.063294</td>\n",
              "      <td>0.077294</td>\n",
              "      <td>0.250800</td>\n",
              "      <td>0.239800</td>\n",
              "      <td>-0.203200</td>\n",
              "      <td>0.028800</td>\n",
              "      <td>-0.316200</td>\n",
              "      <td>2</td>\n",
              "    </tr>\n",
              "    <tr>\n",
              "      <th>55700</th>\n",
              "      <td>-0.076154</td>\n",
              "      <td>0.080846</td>\n",
              "      <td>-0.042154</td>\n",
              "      <td>0.017846</td>\n",
              "      <td>-0.009154</td>\n",
              "      <td>-0.046154</td>\n",
              "      <td>-0.023154</td>\n",
              "      <td>-0.016154</td>\n",
              "      <td>-0.059154</td>\n",
              "      <td>0.133846</td>\n",
              "      <td>...</td>\n",
              "      <td>-0.048389</td>\n",
              "      <td>-0.051389</td>\n",
              "      <td>-0.002389</td>\n",
              "      <td>0.019611</td>\n",
              "      <td>-0.020389</td>\n",
              "      <td>-0.041389</td>\n",
              "      <td>0.162611</td>\n",
              "      <td>0.153611</td>\n",
              "      <td>-0.072556</td>\n",
              "      <td>1</td>\n",
              "    </tr>\n",
              "  </tbody>\n",
              "</table>\n",
              "<p>55701 rows × 101 columns</p>\n",
              "</div>\n",
              "      <button class=\"colab-df-convert\" onclick=\"convertToInteractive('df-cbaa592d-c381-47df-abb7-6b8b46f433c4')\"\n",
              "              title=\"Convert this dataframe to an interactive table.\"\n",
              "              style=\"display:none;\">\n",
              "        \n",
              "  <svg xmlns=\"http://www.w3.org/2000/svg\" height=\"24px\"viewBox=\"0 0 24 24\"\n",
              "       width=\"24px\">\n",
              "    <path d=\"M0 0h24v24H0V0z\" fill=\"none\"/>\n",
              "    <path d=\"M18.56 5.44l.94 2.06.94-2.06 2.06-.94-2.06-.94-.94-2.06-.94 2.06-2.06.94zm-11 1L8.5 8.5l.94-2.06 2.06-.94-2.06-.94L8.5 2.5l-.94 2.06-2.06.94zm10 10l.94 2.06.94-2.06 2.06-.94-2.06-.94-.94-2.06-.94 2.06-2.06.94z\"/><path d=\"M17.41 7.96l-1.37-1.37c-.4-.4-.92-.59-1.43-.59-.52 0-1.04.2-1.43.59L10.3 9.45l-7.72 7.72c-.78.78-.78 2.05 0 2.83L4 21.41c.39.39.9.59 1.41.59.51 0 1.02-.2 1.41-.59l7.78-7.78 2.81-2.81c.8-.78.8-2.07 0-2.86zM5.41 20L4 18.59l7.72-7.72 1.47 1.35L5.41 20z\"/>\n",
              "  </svg>\n",
              "      </button>\n",
              "      \n",
              "  <style>\n",
              "    .colab-df-container {\n",
              "      display:flex;\n",
              "      flex-wrap:wrap;\n",
              "      gap: 12px;\n",
              "    }\n",
              "\n",
              "    .colab-df-convert {\n",
              "      background-color: #E8F0FE;\n",
              "      border: none;\n",
              "      border-radius: 50%;\n",
              "      cursor: pointer;\n",
              "      display: none;\n",
              "      fill: #1967D2;\n",
              "      height: 32px;\n",
              "      padding: 0 0 0 0;\n",
              "      width: 32px;\n",
              "    }\n",
              "\n",
              "    .colab-df-convert:hover {\n",
              "      background-color: #E2EBFA;\n",
              "      box-shadow: 0px 1px 2px rgba(60, 64, 67, 0.3), 0px 1px 3px 1px rgba(60, 64, 67, 0.15);\n",
              "      fill: #174EA6;\n",
              "    }\n",
              "\n",
              "    [theme=dark] .colab-df-convert {\n",
              "      background-color: #3B4455;\n",
              "      fill: #D2E3FC;\n",
              "    }\n",
              "\n",
              "    [theme=dark] .colab-df-convert:hover {\n",
              "      background-color: #434B5C;\n",
              "      box-shadow: 0px 1px 3px 1px rgba(0, 0, 0, 0.15);\n",
              "      filter: drop-shadow(0px 1px 2px rgba(0, 0, 0, 0.3));\n",
              "      fill: #FFFFFF;\n",
              "    }\n",
              "  </style>\n",
              "\n",
              "      <script>\n",
              "        const buttonEl =\n",
              "          document.querySelector('#df-cbaa592d-c381-47df-abb7-6b8b46f433c4 button.colab-df-convert');\n",
              "        buttonEl.style.display =\n",
              "          google.colab.kernel.accessAllowed ? 'block' : 'none';\n",
              "\n",
              "        async function convertToInteractive(key) {\n",
              "          const element = document.querySelector('#df-cbaa592d-c381-47df-abb7-6b8b46f433c4');\n",
              "          const dataTable =\n",
              "            await google.colab.kernel.invokeFunction('convertToInteractive',\n",
              "                                                     [key], {});\n",
              "          if (!dataTable) return;\n",
              "\n",
              "          const docLinkHtml = 'Like what you see? Visit the ' +\n",
              "            '<a target=\"_blank\" href=https://colab.research.google.com/notebooks/data_table.ipynb>data table notebook</a>'\n",
              "            + ' to learn more about interactive tables.';\n",
              "          element.innerHTML = '';\n",
              "          dataTable['output_type'] = 'display_data';\n",
              "          await google.colab.output.renderOutput(dataTable, element);\n",
              "          const docLink = document.createElement('div');\n",
              "          docLink.innerHTML = docLinkHtml;\n",
              "          element.appendChild(docLink);\n",
              "        }\n",
              "      </script>\n",
              "    </div>\n",
              "  </div>\n",
              "  "
            ],
            "text/plain": [
              "              0         1         2         3         4         5         6  \\\n",
              "0     -0.110385  0.010615  0.006615  0.010615  0.008615  0.006615  0.008615   \n",
              "1     -0.008353  0.035647  0.045647  0.048647 -0.050353  0.011647 -0.032353   \n",
              "2      0.006385  0.008385  0.012385 -0.058615 -0.002636 -0.002636  0.002364   \n",
              "3     -0.080000 -0.142000  0.011000  0.072000 -0.020000 -0.092000 -0.109067   \n",
              "4     -0.002182 -0.000182 -0.001182 -0.052200  0.106800  0.025800  0.008800   \n",
              "...         ...       ...       ...       ...       ...       ...       ...   \n",
              "55696  0.005143  0.000143  0.001143 -0.001857  0.000143  0.005143 -0.001857   \n",
              "55697 -0.018333 -0.009333  0.003667  0.013667  0.014667  0.008667 -0.016333   \n",
              "55698 -0.016727 -0.054727  0.054273 -0.010727 -0.041727 -0.030000 -0.019000   \n",
              "55699 -0.062312  0.093687  0.152687 -0.063312  0.042687 -0.044312 -0.075313   \n",
              "55700 -0.076154  0.080846 -0.042154  0.017846 -0.009154 -0.046154 -0.023154   \n",
              "\n",
              "              7         8         9  ...        91        92        93  \\\n",
              "0      0.011615  0.009615  0.011615  ... -0.115733  0.038267 -0.065733   \n",
              "1     -0.012353 -0.052353  0.008647  ... -0.000211 -0.001211  0.022923   \n",
              "2      0.001364 -0.000636  0.000364  ... -0.006000 -0.004000 -0.003500   \n",
              "3      0.005933 -0.002067 -0.025067  ... -0.011217 -0.013217 -0.010217   \n",
              "4     -0.057200 -0.067200 -0.028200  ...  0.007905 -0.005095 -0.000095   \n",
              "...         ...       ...       ...  ...       ...       ...       ...   \n",
              "55696 -0.003857  0.357867 -0.035133  ...  0.000536  0.000536 -0.000464   \n",
              "55697 -0.004333  0.007667  0.004900  ... -0.008857 -0.005857 -0.000857   \n",
              "55698 -0.060000  0.007000  0.052000  ...  0.047167 -0.061833 -0.050833   \n",
              "55699  0.046687 -0.058313  0.045687  ...  0.051294  0.089294  0.063294   \n",
              "55700 -0.016154 -0.059154  0.133846  ... -0.048389 -0.051389 -0.002389   \n",
              "\n",
              "             94        95        96        97        98        99  label  \n",
              "0     -0.019929 -0.008929 -0.028929 -0.077929  0.003071  0.018071      2  \n",
              "1      0.043923 -0.004077 -0.021077 -0.021077 -0.018077  0.038923      2  \n",
              "2      0.004500  0.004500 -0.000500 -0.004500 -0.010500 -0.000500      0  \n",
              "3     -0.016217 -0.018217 -0.012217 -0.009217 -0.032217  0.183783      1  \n",
              "4     -0.000095 -0.003095  0.005905 -0.005095 -0.000095  0.003905      2  \n",
              "...         ...       ...       ...       ...       ...       ...    ...  \n",
              "55696  0.000536 -0.011464  0.012536 -0.001464  0.000536  0.000536      2  \n",
              "55697 -0.002545 -0.001545  0.004455  0.008455 -0.005545 -0.005545      0  \n",
              "55698  0.038167 -0.049833  0.000143 -0.093857  0.100143  0.004143      1  \n",
              "55699  0.077294  0.250800  0.239800 -0.203200  0.028800 -0.316200      2  \n",
              "55700  0.019611 -0.020389 -0.041389  0.162611  0.153611 -0.072556      1  \n",
              "\n",
              "[55701 rows x 101 columns]"
            ]
          },
          "execution_count": 44,
          "metadata": {},
          "output_type": "execute_result"
        }
      ],
      "source": [
        "train"
      ]
    },
    {
      "cell_type": "code",
      "execution_count": 45,
      "metadata": {
        "colab": {
          "base_uri": "https://localhost:8080/"
        },
        "id": "ArxzXpKDLps0",
        "outputId": "fe2250d5-efa5-4641-8600-ac1868c304f8"
      },
      "outputs": [
        {
          "data": {
            "text/plain": [
              "2    18567\n",
              "0    18567\n",
              "1    18567\n",
              "Name: label, dtype: int64"
            ]
          },
          "execution_count": 45,
          "metadata": {},
          "output_type": "execute_result"
        }
      ],
      "source": [
        "full_data_with_rr=train\n",
        "full_data_with_rr['label'].value_counts()"
      ]
    },
    {
      "cell_type": "code",
      "execution_count": 47,
      "metadata": {
        "id": "U20iUJ8cNySX"
      },
      "outputs": [],
      "source": [
        "# Copied from https://github.com/avanwyk/tensorflow-projects/blob/master/lr-finder/lr_finder.py\n",
        "# Apache License 2.0\n",
        "\n",
        "from tensorflow.keras.callbacks import Callback\n",
        "\n",
        "class LRFinder(Callback):\n",
        "    \"\"\"`Callback` that exponentially adjusts the learning rate after each training batch between `start_lr` and\n",
        "    `end_lr` for a maximum number of batches: `max_step`. The loss and learning rate are recorded at each step allowing\n",
        "    visually finding a good learning rate as per https://sgugger.github.io/how-do-you-find-a-good-learning-rate.html via\n",
        "    the `plot` method.\n",
        "    \"\"\"\n",
        "\n",
        "    def __init__(self, start_lr: float = 1e-2, end_lr: float = 10, max_steps: int = 100, smoothing=0.9):\n",
        "        super(LRFinder, self).__init__()\n",
        "        self.start_lr, self.end_lr = start_lr, end_lr\n",
        "        self.max_steps = max_steps\n",
        "        self.smoothing = smoothing\n",
        "        self.step, self.best_loss, self.avg_loss, self.lr = 0, 0, 0, 0\n",
        "        self.lrs, self.losses = [], []\n",
        "\n",
        "    def on_train_begin(self, logs=None):\n",
        "        self.step, self.best_loss, self.avg_loss, self.lr = 0, 0, 0, 0\n",
        "        self.lrs, self.losses = [], []\n",
        "\n",
        "    def on_train_batch_begin(self, batch, logs=None):\n",
        "        self.lr = self.exp_annealing(self.step)\n",
        "        tf.keras.backend.set_value(self.model.optimizer.lr, self.lr)\n",
        "\n",
        "    def on_train_batch_end(self, batch, logs=None):\n",
        "        logs = logs or {}\n",
        "        loss = logs.get('loss')\n",
        "        step = self.step\n",
        "        if loss:\n",
        "            self.avg_loss = self.smoothing * self.avg_loss + (1 - self.smoothing) * loss\n",
        "            smooth_loss = self.avg_loss / (1 - self.smoothing ** (self.step + 1))\n",
        "            self.losses.append(smooth_loss)\n",
        "            self.lrs.append(self.lr)\n",
        "\n",
        "            if step == 0 or loss < self.best_loss:\n",
        "                self.best_loss = loss\n",
        "\n",
        "            if smooth_loss > 4 * self.best_loss or tf.math.is_nan(smooth_loss):\n",
        "                self.model.stop_training = True\n",
        "\n",
        "        if step == self.max_steps:\n",
        "            self.model.stop_training = True\n",
        "\n",
        "        self.step += 1\n",
        "\n",
        "    def exp_annealing(self, step):\n",
        "        return self.start_lr * (self.end_lr / self.start_lr) ** (step * 1. / self.max_steps)\n",
        "\n",
        "    def plot(self):\n",
        "        fig, ax = plt.subplots(1, 1)\n",
        "        ax.set_ylabel('Loss')\n",
        "        ax.set_xlabel('Learning Rate (log scale)')\n",
        "        ax.set_xscale('log')\n",
        "        ax.xaxis.set_major_formatter(plt.FormatStrFormatter('%.0e'))\n",
        "        ax.plot(self.lrs, self.losses)"
      ]
    },
    {
      "cell_type": "code",
      "execution_count": 48,
      "metadata": {
        "id": "U43IvL_tNyyM"
      },
      "outputs": [],
      "source": [
        "def pretty_plot(history, field, fn):\n",
        "  def plot(data, val_data, best_index, best_value, title):\n",
        "    plt.plot(range(1, len(data)+1), data, label='train')\n",
        "    plt.plot(range(1, len(data)+1), val_data, label='validation')\n",
        "    if not best_index is None:\n",
        "      plt.axvline(x=best_index+1, linestyle=':', c=\"#777777\")\n",
        "    if not best_value is None:\n",
        "      plt.axhline(y=best_value, linestyle=':', c=\"#777777\")\n",
        "    plt.xlabel('Epoch')\n",
        "    plt.ylabel(field)\n",
        "    plt.xticks(range(0, len(data), 20))\n",
        "    plt.title(title)\n",
        "    plt.legend()\n",
        "    plt.show()\n",
        "\n",
        "  data = history.history[field]\n",
        "  val_data = history.history['val_' + field]\n",
        "  tail = int(0.15 * len(data))\n",
        "\n",
        "  best_index = fn(val_data)\n",
        "  best_value = val_data[best_index]\n",
        "\n",
        "  plot(data, val_data, best_index, best_value, \"{} over epochs (best {:06.4f})\".format(field, best_value))\n",
        "  plot(data[-tail:], val_data[-tail:], None, best_value, \"{} over last {} epochs\".format(field, tail))"
      ]
    },
    {
      "cell_type": "code",
      "execution_count": 49,
      "metadata": {
        "id": "s4Kyu59FN6Gr"
      },
      "outputs": [],
      "source": [
        "def plot_confusion_matrix(cm, classes,\n",
        "                          normalize=False,\n",
        "                          title='Confusion matrix',\n",
        "                          cmap=plt.cm.Blues):\n",
        "    \"\"\"\n",
        "    This function prints and plots the confusion matrix.\n",
        "    Normalization can be applied by setting `normalize=True`.\n",
        "    \"\"\"\n",
        "    plt.imshow(cm, interpolation='nearest', cmap=cmap)\n",
        "    plt.title(title)\n",
        "    plt.colorbar()\n",
        "    tick_marks = np.arange(len(classes))\n",
        "    plt.xticks(tick_marks, classes, rotation=45)\n",
        "    plt.yticks(tick_marks, classes)\n",
        "\n",
        "    if normalize:\n",
        "        cm = cm.astype('float') / cm.sum(axis=1)[:, np.newaxis]\n",
        "        print(\"Normalized confusion matrix\")\n",
        "    else:\n",
        "        print('Confusion matrix, without normalization')\n",
        "\n",
        "    print(cm)\n",
        "\n",
        "    thresh = cm.max() / 2.\n",
        "    for i, j in itertools.product(range(cm.shape[0]), range(cm.shape[1])):\n",
        "        plt.text(j, i, cm[i, j],\n",
        "                 horizontalalignment=\"center\",\n",
        "                 color=\"white\" if cm[i, j] > thresh else \"black\")\n",
        "\n",
        "    plt.tight_layout()\n",
        "    plt.ylabel('True label')\n",
        "    plt.xlabel('Predicted label')\n"
      ]
    },
    {
      "cell_type": "code",
      "execution_count": 50,
      "metadata": {
        "id": "rTx6rNMjN78J"
      },
      "outputs": [],
      "source": [
        "def get_base_model(categories=3):\n",
        "  return keras.Sequential([\n",
        "    keras.layers.Dense(10, activation='relu', input_shape=[100], kernel_regularizer=regularizers.l2(0.001)),\n",
        "    # keras.layers.Dense(25, activation='relu', kernel_regularizer=regularizers.l2(0.001)),\n",
        "    keras.layers.Dense(3, activation='relu'),\n",
        "    (keras.layers.Dense(1, activation='sigmoid') if categories == 3 else keras.layers.Dense(5, activation='softmax'))                   \n",
        "  ])"
      ]
    },
    {
      "cell_type": "code",
      "execution_count": 54,
      "metadata": {
        "colab": {
          "base_uri": "https://localhost:8080/"
        },
        "id": "YYg0O19l9Hnw",
        "outputId": "6e33d46c-fb29-4d89-e373-ce4e4367a36e"
      },
      "outputs": [
        {
          "name": "stdout",
          "output_type": "stream",
          "text": [
            "All features size (55701, 100)\n",
            "Train features size (44560, 100)\n",
            "Validation features size (5570, 100)\n",
            "Test features size (5571, 100)\n"
          ]
        }
      ],
      "source": [
        "X_arhy_train, X_arhy_val, y_arhy_train, y_arhy_val = train_test_split(full_data_with_rr.iloc[:,:-1].values, full_data_with_rr.iloc[:,-1].values, test_size=0.2, random_state=42)\n",
        "X_arhy_val, X_arhy_test, y_arhy_val, y_arhy_test  = train_test_split(X_arhy_val, y_arhy_val, test_size=0.5, random_state=42)\n",
        "\n",
        "print(\"All features size {}\".format(full_data_with_rr.iloc[:,:-1].shape))\n",
        "print(\"Train features size {}\".format(X_arhy_train.shape))\n",
        "print(\"Validation features size {}\".format(X_arhy_val.shape))\n",
        "print(\"Test features size {}\".format(X_arhy_test.shape))"
      ]
    },
    {
      "cell_type": "code",
      "execution_count": 25,
      "metadata": {
        "colab": {
          "base_uri": "https://localhost:8080/"
        },
        "id": "41kvWbD_j1ko",
        "outputId": "93c98c5a-58ac-4d5a-c37d-64840cd77cfe"
      },
      "outputs": [
        {
          "data": {
            "text/plain": [
              "array([[-0.00563636,  0.01936364,  0.01536364, ...,  0.00078947,\n",
              "        -0.00021053, -0.00021053],\n",
              "       [ 0.001625  ,  0.001625  , -0.000375  , ..., -0.02320833,\n",
              "        -0.01120833, -0.00620833],\n",
              "       [-0.004     ,  0.009     ,  0.013     , ..., -0.0048    ,\n",
              "        -0.0028    , -0.0008    ],\n",
              "       ...,\n",
              "       [-0.0279375 ,  0.03323077,  0.01023077, ..., -0.00457895,\n",
              "         0.11442105, -0.00957895],\n",
              "       [-0.00027273, -0.00127273,  0.00372727, ...,  0.00227778,\n",
              "         0.00327778,  0.00327778],\n",
              "       [-0.006     ,  0.00866667,  0.01066667, ...,  0.00255556,\n",
              "         0.00155556, -0.00664286]])"
            ]
          },
          "execution_count": 25,
          "metadata": {},
          "output_type": "execute_result"
        }
      ],
      "source": [
        "X_arhy_train"
      ]
    },
    {
      "cell_type": "markdown",
      "metadata": {
        "id": "nbBTyKlmndxd"
      },
      "source": [
        "### ResNet Model"
      ]
    },
    {
      "cell_type": "code",
      "execution_count": 58,
      "metadata": {
        "id": "SQzWN5EGneFZ"
      },
      "outputs": [],
      "source": [
        "def get_resnet_model(categories=3): #original\n",
        "  def residual_block(X, kernels, stride):\n",
        "    out = keras.layers.Conv1D(kernels, stride, padding='same')(X)\n",
        "    out = keras.layers.ReLU()(out)\n",
        "    out = keras.layers.Conv1D(kernels, stride, padding='same')(out)\n",
        "    out = keras.layers.add([X, out])\n",
        "    out = keras.layers.ReLU()(out)\n",
        "    out = keras.layers.MaxPool1D(1, 3)(out)\n",
        "    return out\n",
        "\n",
        "  kernels = 32\n",
        "  stride = 1\n",
        "\n",
        "  inputs = keras.layers.Input([100,1])\n",
        "  X = keras.layers.Conv1D(kernels, stride)(inputs)\n",
        "  X = residual_block(X, kernels, stride)\n",
        "  X = residual_block(X, kernels, stride)\n",
        "  X = residual_block(X, kernels, stride)\n",
        "  X = residual_block(X, kernels, stride)\n",
        "  X = residual_block(X, kernels, stride)\n",
        "  X = keras.layers.Flatten()(X)\n",
        "  X = keras.layers.Dense(32, activation='relu')(X)\n",
        "  X = keras.layers.Dense(32, activation='relu')(X)\n",
        "  output = (keras.layers.Dense(1, activation='sigmoid')(X) if categories == 3 else keras.layers.Dense(5, activation='softmax')(X))\n",
        "\n",
        "  model = keras.Model(inputs=inputs, outputs=output)\n",
        "  return model"
      ]
    },
    {
      "cell_type": "code",
      "execution_count": 113,
      "metadata": {
        "id": "FAs1dUSknisj"
      },
      "outputs": [],
      "source": [
        "X_arhyl_train = np.expand_dims(X_arhy_train, -1)\n",
        "y_arhyl_train = np.expand_dims(y_arhy_train, -1)\n",
        "\n",
        "X_arhyl_val = np.expand_dims(X_arhy_val, -1)\n",
        "y_arhyl_val = np.expand_dims(y_arhy_val, -1)\n",
        "\n",
        "X_arhyl_test = np.expand_dims(X_arhy_test, -1)\n",
        "y_arhyl_test = np.expand_dims(y_arhy_test, -1)"
      ]
    },
    {
      "cell_type": "code",
      "execution_count": null,
      "metadata": {
        "colab": {
          "base_uri": "https://localhost:8080/",
          "height": 498
        },
        "id": "8F2yvITbnmnJ",
        "outputId": "f3363dfe-9ed3-4b86-f675-2ec50c31fd5b"
      },
      "outputs": [],
      "source": [
        "optimizer = keras.optimizers.Adam(lr=0.001)\n",
        "model = get_resnet_model() \n",
        "model.compile(optimizer=optimizer, loss='binary_crossentropy', metrics=['accuracy'])\n",
        "\n",
        "lr_finder = LRFinder(start_lr=1e-7, end_lr= 1e-03, max_steps=100, smoothing=0.6)\n",
        "_ = model.fit(X_arhyl_train, y_arhyl_train, batch_size=256, epochs=5, callbacks=[lr_finder], verbose=False)\n",
        "lr_finder.plot()"
      ]
    },
    {
      "cell_type": "code",
      "execution_count": 69,
      "metadata": {
        "id": "75fS7O7Lq1cm"
      },
      "outputs": [],
      "source": [
        "X_arhy_train, X_arhy_val, y_arhy_train, y_arhy_val = train_test_split(full_data_with_rr.iloc[:,:-1].values, full_data_with_rr.iloc[:,-1].values,test_size=0.1, random_state=42)\n",
        "\n",
        "X_arhy_test, X_arhy_val, y_arhy_test, y_arhy_val = train_test_split(X_arhy_val,y_arhy_val,test_size=0.5, random_state=42)\n",
        "\n",
        "# The 1D convolutions expect an extra dimension in the input data \n",
        "X_arhyl_train = np.expand_dims(X_arhy_train, -1)\n",
        "y_arhyl_train = np.expand_dims(y_arhy_train, -1)\n",
        "X_arhyl_val = np.expand_dims(X_arhy_val, -1)\n",
        "y_arhyl_val = np.expand_dims(y_arhy_val, -1)\n",
        "X_arhyl_test = np.expand_dims(X_arhy_test, -1)\n",
        "y_arhyl_test = np.expand_dims(y_arhy_test, -1)"
      ]
    },
    {
      "cell_type": "code",
      "execution_count": 73,
      "metadata": {
        "colab": {
          "base_uri": "https://localhost:8080/",
          "height": 334
        },
        "id": "3tLSt7Ghq1e8",
        "outputId": "bd195ede-1490-4e7a-cdf1-dc98a0054a3c"
      },
      "outputs": [
        {
          "name": "stderr",
          "output_type": "stream",
          "text": [
            "/usr/local/lib/python3.7/dist-packages/keras/optimizer_v2/adam.py:105: UserWarning: The `lr` argument is deprecated, use `learning_rate` instead.\n",
            "  super(Adam, self).__init__(name, **kwargs)\n"
          ]
        },
        {
          "data": {
            "image/png": "[encoded data removed]",
            "text/plain": [
              "<Figure size 936x288 with 1 Axes>"
            ]
          },
          "metadata": {},
          "output_type": "display_data"
        }
      ],
      "source": [
        "optimizer = keras.optimizers.Adam(lr=0.001)\n",
        "model = get_resnet_model(5) \n",
        "model.compile(optimizer=optimizer, loss='sparse_categorical_crossentropy', metrics=['accuracy'])\n",
        "\n",
        "lr_finder = LRFinder(start_lr=1e-7, end_lr= 1e-02, max_steps=50, smoothing=0.6)\n",
        "_ = model.fit(X_arhyl_train, y_arhyl_train, batch_size=256, epochs=5, callbacks=[lr_finder], verbose=False)\n",
        "lr_finder.plot()"
      ]
    },
    {
      "cell_type": "code",
      "execution_count": 87,
      "metadata": {
        "colab": {
          "base_uri": "https://localhost:8080/"
        },
        "id": "yuqH255Gq1hR",
        "outputId": "fa34866b-fc15-46f3-8ef3-487e3e13a9ed"
      },
      "outputs": [
        {
          "name": "stdout",
          "output_type": "stream",
          "text": [
            "Epoch 1/20\n",
            "392/392 [==============================] - 11s 20ms/step - loss: 1.0152 - accuracy: 0.5025 - val_loss: 0.9061 - val_accuracy: 0.5625\n",
            "Epoch 2/20\n",
            "392/392 [==============================] - 5s 12ms/step - loss: 0.9143 - accuracy: 0.5483 - val_loss: 0.9067 - val_accuracy: 0.5646\n",
            "Epoch 3/20\n",
            "392/392 [==============================] - 5s 12ms/step - loss: 0.9004 - accuracy: 0.5535 - val_loss: 0.8705 - val_accuracy: 0.5743\n",
            "Epoch 4/20\n",
            "392/392 [==============================] - 5s 12ms/step - loss: 0.8870 - accuracy: 0.5600 - val_loss: 0.8693 - val_accuracy: 0.5650\n",
            "Epoch 5/20\n",
            "392/392 [==============================] - 5s 12ms/step - loss: 0.8953 - accuracy: 0.5537 - val_loss: 0.8863 - val_accuracy: 0.5503\n",
            "Epoch 6/20\n",
            "392/392 [==============================] - 5s 12ms/step - loss: 0.8975 - accuracy: 0.5544 - val_loss: 0.8753 - val_accuracy: 0.5732\n",
            "Epoch 7/20\n",
            "392/392 [==============================] - 5s 12ms/step - loss: 0.8897 - accuracy: 0.5578 - val_loss: 0.8692 - val_accuracy: 0.5664\n",
            "Epoch 8/20\n",
            "392/392 [==============================] - 5s 12ms/step - loss: 0.8847 - accuracy: 0.5628 - val_loss: 0.8709 - val_accuracy: 0.5743\n",
            "Epoch 9/20\n",
            "392/392 [==============================] - 5s 12ms/step - loss: 0.8938 - accuracy: 0.5543 - val_loss: 0.8751 - val_accuracy: 0.5678\n",
            "Epoch 10/20\n",
            "392/392 [==============================] - 5s 12ms/step - loss: 0.8921 - accuracy: 0.5573 - val_loss: 0.8770 - val_accuracy: 0.5653\n",
            "Epoch 11/20\n",
            "392/392 [==============================] - 5s 12ms/step - loss: 0.8823 - accuracy: 0.5677 - val_loss: 0.8718 - val_accuracy: 0.5625\n",
            "Epoch 12/20\n",
            "392/392 [==============================] - 5s 12ms/step - loss: 0.8873 - accuracy: 0.5608 - val_loss: 0.8697 - val_accuracy: 0.5650\n",
            "Epoch 13/20\n",
            "392/392 [==============================] - 5s 12ms/step - loss: 0.8907 - accuracy: 0.5577 - val_loss: 0.8704 - val_accuracy: 0.5754\n",
            "Epoch 14/20\n",
            "392/392 [==============================] - 5s 12ms/step - loss: 0.8865 - accuracy: 0.5618 - val_loss: 0.8689 - val_accuracy: 0.5765\n",
            "Epoch 15/20\n",
            "392/392 [==============================] - 5s 12ms/step - loss: 0.8815 - accuracy: 0.5684 - val_loss: 0.8700 - val_accuracy: 0.5729\n",
            "Epoch 16/20\n",
            "392/392 [==============================] - 5s 12ms/step - loss: 0.8890 - accuracy: 0.5588 - val_loss: 0.8789 - val_accuracy: 0.5506\n",
            "Epoch 17/20\n",
            "392/392 [==============================] - 5s 12ms/step - loss: 0.8901 - accuracy: 0.5592 - val_loss: 0.8710 - val_accuracy: 0.5646\n",
            "Epoch 18/20\n",
            "392/392 [==============================] - 5s 12ms/step - loss: 0.8818 - accuracy: 0.5689 - val_loss: 0.8684 - val_accuracy: 0.5721\n",
            "Epoch 19/20\n",
            "392/392 [==============================] - 5s 12ms/step - loss: 0.8843 - accuracy: 0.5656 - val_loss: 0.8707 - val_accuracy: 0.5750\n",
            "Epoch 20/20\n",
            "392/392 [==============================] - 5s 12ms/step - loss: 0.8896 - accuracy: 0.5588 - val_loss: 0.8693 - val_accuracy: 0.5650\n"
          ]
        }
      ],
      "source": [
        "lr_schedule = CyclicalLearningRate(1e-5, 1e-2, step_size=step_size, scale_fn=lambda x: tf.pow(0.95,x))\n",
        "optimizer = tf.keras.optimizers.Adam(learning_rate=lr_schedule)\n",
        "m_resnet_model = get_resnet_model(7)\n",
        "\n",
        "save_best_weights = ModelCheckpoint(filepath=\"weights.hdf5\", verbose=0, save_best_only=True)\n",
        "\n",
        "m_resnet_model.compile(optimizer=optimizer, loss='sparse_categorical_crossentropy', metrics=['accuracy'])\n",
        "history = m_resnet_model.fit(X_arhyl_train, y_arhyl_train, validation_data=(X_arhyl_val, y_arhyl_val), \n",
        "                             shuffle=True, batch_size=128, epochs=20, callbacks=[save_best_weights])"
      ]
    },
    {
      "cell_type": "code",
      "execution_count": 76,
      "metadata": {
        "colab": {
          "base_uri": "https://localhost:8080/",
          "height": 537
        },
        "id": "pfEgjbFxq1jX",
        "outputId": "33f98141-6c5c-4b68-8ec5-c36c8291469f"
      },
      "outputs": [
        {
          "data": {
            "image/png": "[encoded data removed]",
            "text/plain": [
              "<Figure size 936x288 with 1 Axes>"
            ]
          },
          "metadata": {},
          "output_type": "display_data"
        },
        {
          "data": {
            "image/png": "[encoded data removed]",
            "text/plain": [
              "<Figure size 936x288 with 1 Axes>"
            ]
          },
          "metadata": {},
          "output_type": "display_data"
        }
      ],
      "source": [
        "pretty_plot(history, 'loss', lambda x: np.argmin(x))"
      ]
    },
    {
      "cell_type": "code",
      "execution_count": 77,
      "metadata": {
        "colab": {
          "base_uri": "https://localhost:8080/",
          "height": 537
        },
        "id": "K38SU0tOq1ld",
        "outputId": "bd33df2e-39a7-42c6-bf1e-2f007b70c89a"
      },
      "outputs": [
        {
          "data": {
            "image/png": "[encoded data removed]",
            "text/plain": [
              "<Figure size 936x288 with 1 Axes>"
            ]
          },
          "metadata": {},
          "output_type": "display_data"
        },
        {
          "data": {
            "image/png": "[encoded data removed]",
            "text/plain": [
              "<Figure size 936x288 with 1 Axes>"
            ]
          },
          "metadata": {},
          "output_type": "display_data"
        }
      ],
      "source": [
        "pretty_plot(history, 'accuracy', lambda x: np.argmax(x))"
      ]
    },
    {
      "cell_type": "code",
      "execution_count": 78,
      "metadata": {
        "colab": {
          "base_uri": "https://localhost:8080/"
        },
        "id": "upmbxofZq1n7",
        "outputId": "7ba55843-af11-4a16-9ddc-ef01d840f4b5"
      },
      "outputs": [
        {
          "name": "stdout",
          "output_type": "stream",
          "text": [
            "88/88 [==============================] - 2s 15ms/step - loss: 0.8881 - accuracy: 0.5558\n"
          ]
        }
      ],
      "source": [
        "m_resnet_model.load_weights('weights.hdf5')\n",
        "X_arhy_test = m_resnet_model.evaluate(X_arhyl_test, y_arhyl_test)"
      ]
    },
    {
      "cell_type": "code",
      "execution_count": 82,
      "metadata": {
        "colab": {
          "base_uri": "https://localhost:8080/",
          "height": 382
        },
        "id": "p46RW2u2q1p8",
        "outputId": "0e603040-489b-4f2c-ba61-8a1adf83c3a9"
      },
      "outputs": [
        {
          "name": "stdout",
          "output_type": "stream",
          "text": [
            "Confusion matrix, without normalization\n",
            "[[674 134 103]\n",
            " [178 752   8]\n",
            " [369 445 122]]\n"
          ]
        },
        {
          "data": {
            "image/png": "[encoded data removed]",
            "text/plain": [
              "<Figure size 936x288 with 2 Axes>"
            ]
          },
          "metadata": {},
          "output_type": "display_data"
        }
      ],
      "source": [
        "y_pred = tf.argmax(m_resnet_model.predict(X_arhyl_test), axis=-1)\n",
        "# Compute confusion matrix\n",
        "cnf_matrix = sklearn.metrics.confusion_matrix(y_arhy_test, y_pred)\n",
        "np.set_printoptions(precision=2)\n",
        "\n",
        "# Plot non-normalized confusion matrix\n",
        "plt.figure()\n",
        "plot_confusion_matrix(cnf_matrix, classes=['NSR', 'AFIB','AFL'],\n",
        "                      title='Confusion matrix, without normalization')"
      ]
    },
    {
      "cell_type": "code",
      "execution_count": 83,
      "metadata": {
        "colab": {
          "base_uri": "https://localhost:8080/"
        },
        "id": "98W6IoW5u6_x",
        "outputId": "d4fb4136-0e15-44b5-d224-afef6fd8eeaf"
      },
      "outputs": [
        {
          "name": "stdout",
          "output_type": "stream",
          "text": [
            "Model: \"model_10\"\n",
            "__________________________________________________________________________________________________\n",
            " Layer (type)                   Output Shape         Param #     Connected to                     \n",
            "==================================================================================================\n",
            " input_11 (InputLayer)          [(None, 100, 1)]     0           []                               \n",
            "                                                                                                  \n",
            " conv1d_110 (Conv1D)            (None, 100, 32)      64          ['input_11[0][0]']               \n",
            "                                                                                                  \n",
            " conv1d_111 (Conv1D)            (None, 100, 32)      1056        ['conv1d_110[0][0]']             \n",
            "                                                                                                  \n",
            " re_lu_100 (ReLU)               (None, 100, 32)      0           ['conv1d_111[0][0]']             \n",
            "                                                                                                  \n",
            " conv1d_112 (Conv1D)            (None, 100, 32)      1056        ['re_lu_100[0][0]']              \n",
            "                                                                                                  \n",
            " add_50 (Add)                   (None, 100, 32)      0           ['conv1d_110[0][0]',             \n",
            "                                                                  'conv1d_112[0][0]']             \n",
            "                                                                                                  \n",
            " re_lu_101 (ReLU)               (None, 100, 32)      0           ['add_50[0][0]']                 \n",
            "                                                                                                  \n",
            " max_pooling1d_50 (MaxPooling1D  (None, 34, 32)      0           ['re_lu_101[0][0]']              \n",
            " )                                                                                                \n",
            "                                                                                                  \n",
            " conv1d_113 (Conv1D)            (None, 34, 32)       1056        ['max_pooling1d_50[0][0]']       \n",
            "                                                                                                  \n",
            " re_lu_102 (ReLU)               (None, 34, 32)       0           ['conv1d_113[0][0]']             \n",
            "                                                                                                  \n",
            " conv1d_114 (Conv1D)            (None, 34, 32)       1056        ['re_lu_102[0][0]']              \n",
            "                                                                                                  \n",
            " add_51 (Add)                   (None, 34, 32)       0           ['max_pooling1d_50[0][0]',       \n",
            "                                                                  'conv1d_114[0][0]']             \n",
            "                                                                                                  \n",
            " re_lu_103 (ReLU)               (None, 34, 32)       0           ['add_51[0][0]']                 \n",
            "                                                                                                  \n",
            " max_pooling1d_51 (MaxPooling1D  (None, 12, 32)      0           ['re_lu_103[0][0]']              \n",
            " )                                                                                                \n",
            "                                                                                                  \n",
            " conv1d_115 (Conv1D)            (None, 12, 32)       1056        ['max_pooling1d_51[0][0]']       \n",
            "                                                                                                  \n",
            " re_lu_104 (ReLU)               (None, 12, 32)       0           ['conv1d_115[0][0]']             \n",
            "                                                                                                  \n",
            " conv1d_116 (Conv1D)            (None, 12, 32)       1056        ['re_lu_104[0][0]']              \n",
            "                                                                                                  \n",
            " add_52 (Add)                   (None, 12, 32)       0           ['max_pooling1d_51[0][0]',       \n",
            "                                                                  'conv1d_116[0][0]']             \n",
            "                                                                                                  \n",
            " re_lu_105 (ReLU)               (None, 12, 32)       0           ['add_52[0][0]']                 \n",
            "                                                                                                  \n",
            " max_pooling1d_52 (MaxPooling1D  (None, 4, 32)       0           ['re_lu_105[0][0]']              \n",
            " )                                                                                                \n",
            "                                                                                                  \n",
            " conv1d_117 (Conv1D)            (None, 4, 32)        1056        ['max_pooling1d_52[0][0]']       \n",
            "                                                                                                  \n",
            " re_lu_106 (ReLU)               (None, 4, 32)        0           ['conv1d_117[0][0]']             \n",
            "                                                                                                  \n",
            " conv1d_118 (Conv1D)            (None, 4, 32)        1056        ['re_lu_106[0][0]']              \n",
            "                                                                                                  \n",
            " add_53 (Add)                   (None, 4, 32)        0           ['max_pooling1d_52[0][0]',       \n",
            "                                                                  'conv1d_118[0][0]']             \n",
            "                                                                                                  \n",
            " re_lu_107 (ReLU)               (None, 4, 32)        0           ['add_53[0][0]']                 \n",
            "                                                                                                  \n",
            " max_pooling1d_53 (MaxPooling1D  (None, 2, 32)       0           ['re_lu_107[0][0]']              \n",
            " )                                                                                                \n",
            "                                                                                                  \n",
            " conv1d_119 (Conv1D)            (None, 2, 32)        1056        ['max_pooling1d_53[0][0]']       \n",
            "                                                                                                  \n",
            " re_lu_108 (ReLU)               (None, 2, 32)        0           ['conv1d_119[0][0]']             \n",
            "                                                                                                  \n",
            " conv1d_120 (Conv1D)            (None, 2, 32)        1056        ['re_lu_108[0][0]']              \n",
            "                                                                                                  \n",
            " add_54 (Add)                   (None, 2, 32)        0           ['max_pooling1d_53[0][0]',       \n",
            "                                                                  'conv1d_120[0][0]']             \n",
            "                                                                                                  \n",
            " re_lu_109 (ReLU)               (None, 2, 32)        0           ['add_54[0][0]']                 \n",
            "                                                                                                  \n",
            " max_pooling1d_54 (MaxPooling1D  (None, 1, 32)       0           ['re_lu_109[0][0]']              \n",
            " )                                                                                                \n",
            "                                                                                                  \n",
            " flatten_10 (Flatten)           (None, 32)           0           ['max_pooling1d_54[0][0]']       \n",
            "                                                                                                  \n",
            " dense_50 (Dense)               (None, 32)           1056        ['flatten_10[0][0]']             \n",
            "                                                                                                  \n",
            " dense_51 (Dense)               (None, 32)           1056        ['dense_50[0][0]']               \n",
            "                                                                                                  \n",
            " dense_52 (Dense)               (None, 5)            165         ['dense_51[0][0]']               \n",
            "                                                                                                  \n",
            "==================================================================================================\n",
            "Total params: 12,901\n",
            "Trainable params: 12,901\n",
            "Non-trainable params: 0\n",
            "__________________________________________________________________________________________________\n"
          ]
        }
      ],
      "source": [
        "m_resnet_model.summary()"
      ]
    },
    {
      "cell_type": "code",
      "execution_count": null,
      "metadata": {
        "id": "KON_i87fvFKa"
      },
      "outputs": [],
      "source": []
    }
  ],
  "metadata": {
    "accelerator": "GPU",
    "colab": {
      "collapsed_sections": [
        "vBl2P1LV80ho",
        "nbBTyKlmndxd",
        "HkWsJ7Par2hA"
      ],
      "name": "Arrhythmia Detection v4.ipynb",
      "provenance": []
    },
    "kernelspec": {
      "display_name": "Python 3",
      "name": "python3"
    },
    "language_info": {
      "name": "python"
    }
  },
  "nbformat": 4,
  "nbformat_minor": 0
}
