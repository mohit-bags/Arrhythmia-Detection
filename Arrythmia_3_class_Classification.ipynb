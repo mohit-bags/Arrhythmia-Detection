{
  "nbformat": 4,
  "nbformat_minor": 0,
  "metadata": {
    "colab": {
      "name": "Arrythmia 3-class Classification.ipynb",
      "provenance": [],
      "collapsed_sections": [],
      "mount_file_id": "1fcKznIrj-v1F0AW2apVOIn1woarinVof",
      "authorship_tag": "ABX9TyPD3LyFsU487DYGmZX3U7Bk",
      "include_colab_link": true
    },
    "kernelspec": {
      "name": "python3",
      "display_name": "Python 3"
    },
    "language_info": {
      "name": "python"
    }
  },
  "cells": [
    {
      "cell_type": "markdown",
      "metadata": {
        "id": "view-in-github",
        "colab_type": "text"
      },
      "source": [
        "<a href=\"https://colab.research.google.com/github/mohit-bags/Arrhythmia-Detection/blob/main/Arrythmia_3_class_Classification.ipynb\" target=\"_parent\"><img src=\"https://colab.research.google.com/assets/colab-badge.svg\" alt=\"Open In Colab\"/></a>"
      ]
    },
    {
      "cell_type": "code",
      "source": [
        "pip install neurokit2"
      ],
      "metadata": {
        "id": "5Am1vzY4dWqq"
      },
      "execution_count": null,
      "outputs": []
    },
    {
      "cell_type": "code",
      "execution_count": null,
      "metadata": {
        "id": "bWNb4tTtH6tT"
      },
      "outputs": [],
      "source": [
        "import numpy as np\n",
        "import pandas as pd\n",
        "import matplotlib.pyplot as plt \n",
        "from os import listdir \n",
        "import requests\n",
        "import neurokit2 as nk\n",
        "import matplotlib.pyplot as plt\n",
        "from os import listdir, mkdir, system\n",
        "from os.path import isfile, isdir, join, exists\n",
        "import json\n",
        "import os\n",
        "from tqdm import tqdm\n",
        "plt.rcParams[\"figure.figsize\"] = (15,5)\n"
      ]
    },
    {
      "cell_type": "code",
      "source": [
        "# url = 'https://figshare.com/ndownloader/files/15651296'\n",
        "# r = requests.get(url, allow_redirects=True)\n",
        "# open('RhythmNames.xlsx', 'wb').write(r.content)"
      ],
      "metadata": {
        "id": "HDZdZWmSJCK4",
        "colab": {
          "base_uri": "https://localhost:8080/"
        },
        "outputId": "e95160e4-69e1-4fa7-9389-49127959ca6a"
      },
      "execution_count": null,
      "outputs": [
        {
          "output_type": "execute_result",
          "data": {
            "text/plain": [
              "8756"
            ]
          },
          "metadata": {},
          "execution_count": 3
        }
      ]
    },
    {
      "cell_type": "code",
      "source": [
        "# url='https://figshare.com/ndownloader/files/15653771'\n",
        "# r = requests.get(url, allow_redirects=True)\n",
        "# open('Diagnostics.xlsx', 'wb').write(r.content)"
      ],
      "metadata": {
        "colab": {
          "base_uri": "https://localhost:8080/"
        },
        "id": "TAtghVDqNsXI",
        "outputId": "a91d7fa8-f9c0-4bd6-fe72-bc7f98656152"
      },
      "execution_count": null,
      "outputs": [
        {
          "output_type": "execute_result",
          "data": {
            "text/plain": [
              "975796"
            ]
          },
          "metadata": {},
          "execution_count": 10
        }
      ]
    },
    {
      "cell_type": "code",
      "source": [
        "# url='https://figshare.com/ndownloader/files/15652862'\n",
        "# r = requests.get(url, allow_redirects=True)\n",
        "# print(r.headers.get('content-type'))\n",
        "# open('ECGDataDenoised.zip', 'wb').write(r.content)\n",
        "!unzip /content/drive/\"My Drive\"/\"Arrythmia \"/ECGDataDenoised.zip"
      ],
      "metadata": {
        "id": "D4IuS2t0Nuk3"
      },
      "execution_count": null,
      "outputs": []
    },
    {
      "cell_type": "code",
      "source": [
        "labels = pd.read_excel('/content/drive/MyDrive/Arrythmia /Diagnostics.xlsx')"
      ],
      "metadata": {
        "id": "Lcr3U3_jNzEa"
      },
      "execution_count": null,
      "outputs": []
    },
    {
      "cell_type": "code",
      "source": [
        "labels=labels[(labels['Rhythm']=='AFIB') | (labels['Rhythm']=='AF') |(labels['Rhythm']=='SR')]\n",
        "labels.reset_index(inplace=True,drop=True)"
      ],
      "metadata": {
        "id": "yj8IhqHGPe3Y"
      },
      "execution_count": null,
      "outputs": []
    },
    {
      "cell_type": "code",
      "source": [
        "labels['Rhythm'].value_counts()"
      ],
      "metadata": {
        "colab": {
          "base_uri": "https://localhost:8080/"
        },
        "id": "CjyPswjCPq-0",
        "outputId": "ff65dc21-a294-4262-bf65-911a4a949e76"
      },
      "execution_count": null,
      "outputs": [
        {
          "output_type": "execute_result",
          "data": {
            "text/plain": [
              "SR      1826\n",
              "AFIB    1780\n",
              "AF       445\n",
              "Name: Rhythm, dtype: int64"
            ]
          },
          "metadata": {},
          "execution_count": 5
        }
      ]
    },
    {
      "cell_type": "code",
      "source": [
        "labels"
      ],
      "metadata": {
        "colab": {
          "base_uri": "https://localhost:8080/",
          "height": 557
        },
        "id": "WWQ7ZG_oP0VT",
        "outputId": "4b8c0b5d-da88-40d0-ba00-e529c12c9b24"
      },
      "execution_count": null,
      "outputs": [
        {
          "output_type": "execute_result",
          "data": {
            "text/html": [
              "\n",
              "  <div id=\"df-b2cc38a5-a460-456c-a785-4f2eb591328c\">\n",
              "    <div class=\"colab-df-container\">\n",
              "      <div>\n",
              "<style scoped>\n",
              "    .dataframe tbody tr th:only-of-type {\n",
              "        vertical-align: middle;\n",
              "    }\n",
              "\n",
              "    .dataframe tbody tr th {\n",
              "        vertical-align: top;\n",
              "    }\n",
              "\n",
              "    .dataframe thead th {\n",
              "        text-align: right;\n",
              "    }\n",
              "</style>\n",
              "<table border=\"1\" class=\"dataframe\">\n",
              "  <thead>\n",
              "    <tr style=\"text-align: right;\">\n",
              "      <th></th>\n",
              "      <th>FileName</th>\n",
              "      <th>Rhythm</th>\n",
              "      <th>Beat</th>\n",
              "      <th>PatientAge</th>\n",
              "      <th>Gender</th>\n",
              "      <th>VentricularRate</th>\n",
              "      <th>AtrialRate</th>\n",
              "      <th>QRSDuration</th>\n",
              "      <th>QTInterval</th>\n",
              "      <th>QTCorrected</th>\n",
              "      <th>RAxis</th>\n",
              "      <th>TAxis</th>\n",
              "      <th>QRSCount</th>\n",
              "      <th>QOnset</th>\n",
              "      <th>QOffset</th>\n",
              "      <th>TOffset</th>\n",
              "    </tr>\n",
              "  </thead>\n",
              "  <tbody>\n",
              "    <tr>\n",
              "      <th>0</th>\n",
              "      <td>MUSE_20180113_171327_27000</td>\n",
              "      <td>AFIB</td>\n",
              "      <td>RBBB TWC</td>\n",
              "      <td>85</td>\n",
              "      <td>MALE</td>\n",
              "      <td>117</td>\n",
              "      <td>234</td>\n",
              "      <td>114</td>\n",
              "      <td>356</td>\n",
              "      <td>496</td>\n",
              "      <td>81</td>\n",
              "      <td>-27</td>\n",
              "      <td>19</td>\n",
              "      <td>208</td>\n",
              "      <td>265</td>\n",
              "      <td>386</td>\n",
              "    </tr>\n",
              "    <tr>\n",
              "      <th>1</th>\n",
              "      <td>MUSE_20180112_122850_57000</td>\n",
              "      <td>AF</td>\n",
              "      <td>STDD STTC</td>\n",
              "      <td>73</td>\n",
              "      <td>FEMALE</td>\n",
              "      <td>162</td>\n",
              "      <td>162</td>\n",
              "      <td>114</td>\n",
              "      <td>252</td>\n",
              "      <td>413</td>\n",
              "      <td>68</td>\n",
              "      <td>-40</td>\n",
              "      <td>26</td>\n",
              "      <td>228</td>\n",
              "      <td>285</td>\n",
              "      <td>354</td>\n",
              "    </tr>\n",
              "    <tr>\n",
              "      <th>2</th>\n",
              "      <td>MUSE_20180114_075026_69000</td>\n",
              "      <td>AFIB</td>\n",
              "      <td>TWC</td>\n",
              "      <td>80</td>\n",
              "      <td>FEMALE</td>\n",
              "      <td>98</td>\n",
              "      <td>86</td>\n",
              "      <td>74</td>\n",
              "      <td>360</td>\n",
              "      <td>459</td>\n",
              "      <td>69</td>\n",
              "      <td>83</td>\n",
              "      <td>17</td>\n",
              "      <td>215</td>\n",
              "      <td>252</td>\n",
              "      <td>395</td>\n",
              "    </tr>\n",
              "    <tr>\n",
              "      <th>3</th>\n",
              "      <td>MUSE_20180209_172046_21000</td>\n",
              "      <td>SR</td>\n",
              "      <td>NONE</td>\n",
              "      <td>46</td>\n",
              "      <td>MALE</td>\n",
              "      <td>63</td>\n",
              "      <td>63</td>\n",
              "      <td>90</td>\n",
              "      <td>376</td>\n",
              "      <td>384</td>\n",
              "      <td>24</td>\n",
              "      <td>38</td>\n",
              "      <td>11</td>\n",
              "      <td>221</td>\n",
              "      <td>266</td>\n",
              "      <td>409</td>\n",
              "    </tr>\n",
              "    <tr>\n",
              "      <th>4</th>\n",
              "      <td>MUSE_20180113_133901_16000</td>\n",
              "      <td>AFIB</td>\n",
              "      <td>STTC</td>\n",
              "      <td>67</td>\n",
              "      <td>FEMALE</td>\n",
              "      <td>72</td>\n",
              "      <td>65</td>\n",
              "      <td>90</td>\n",
              "      <td>416</td>\n",
              "      <td>455</td>\n",
              "      <td>-1</td>\n",
              "      <td>-15</td>\n",
              "      <td>12</td>\n",
              "      <td>228</td>\n",
              "      <td>273</td>\n",
              "      <td>436</td>\n",
              "    </tr>\n",
              "    <tr>\n",
              "      <th>...</th>\n",
              "      <td>...</td>\n",
              "      <td>...</td>\n",
              "      <td>...</td>\n",
              "      <td>...</td>\n",
              "      <td>...</td>\n",
              "      <td>...</td>\n",
              "      <td>...</td>\n",
              "      <td>...</td>\n",
              "      <td>...</td>\n",
              "      <td>...</td>\n",
              "      <td>...</td>\n",
              "      <td>...</td>\n",
              "      <td>...</td>\n",
              "      <td>...</td>\n",
              "      <td>...</td>\n",
              "      <td>...</td>\n",
              "    </tr>\n",
              "    <tr>\n",
              "      <th>4046</th>\n",
              "      <td>MUSE_20180210_123100_20000</td>\n",
              "      <td>SR</td>\n",
              "      <td>TWC</td>\n",
              "      <td>57</td>\n",
              "      <td>FEMALE</td>\n",
              "      <td>68</td>\n",
              "      <td>68</td>\n",
              "      <td>96</td>\n",
              "      <td>400</td>\n",
              "      <td>425</td>\n",
              "      <td>18</td>\n",
              "      <td>60</td>\n",
              "      <td>11</td>\n",
              "      <td>210</td>\n",
              "      <td>258</td>\n",
              "      <td>410</td>\n",
              "    </tr>\n",
              "    <tr>\n",
              "      <th>4047</th>\n",
              "      <td>MUSE_20180115_131040_20000</td>\n",
              "      <td>AFIB</td>\n",
              "      <td>TWC</td>\n",
              "      <td>81</td>\n",
              "      <td>FEMALE</td>\n",
              "      <td>70</td>\n",
              "      <td>63</td>\n",
              "      <td>90</td>\n",
              "      <td>566</td>\n",
              "      <td>611</td>\n",
              "      <td>74</td>\n",
              "      <td>-70</td>\n",
              "      <td>12</td>\n",
              "      <td>221</td>\n",
              "      <td>266</td>\n",
              "      <td>504</td>\n",
              "    </tr>\n",
              "    <tr>\n",
              "      <th>4048</th>\n",
              "      <td>MUSE_20180209_132228_29000</td>\n",
              "      <td>SR</td>\n",
              "      <td>NONE</td>\n",
              "      <td>71</td>\n",
              "      <td>FEMALE</td>\n",
              "      <td>90</td>\n",
              "      <td>90</td>\n",
              "      <td>68</td>\n",
              "      <td>360</td>\n",
              "      <td>440</td>\n",
              "      <td>70</td>\n",
              "      <td>48</td>\n",
              "      <td>15</td>\n",
              "      <td>226</td>\n",
              "      <td>260</td>\n",
              "      <td>406</td>\n",
              "    </tr>\n",
              "    <tr>\n",
              "      <th>4049</th>\n",
              "      <td>MUSE_20180116_170450_55000</td>\n",
              "      <td>AFIB</td>\n",
              "      <td>LVQRSLL RBBB</td>\n",
              "      <td>74</td>\n",
              "      <td>MALE</td>\n",
              "      <td>75</td>\n",
              "      <td>80</td>\n",
              "      <td>134</td>\n",
              "      <td>402</td>\n",
              "      <td>448</td>\n",
              "      <td>178</td>\n",
              "      <td>6</td>\n",
              "      <td>13</td>\n",
              "      <td>197</td>\n",
              "      <td>264</td>\n",
              "      <td>398</td>\n",
              "    </tr>\n",
              "    <tr>\n",
              "      <th>4050</th>\n",
              "      <td>MUSE_20180115_131524_93000</td>\n",
              "      <td>AFIB</td>\n",
              "      <td>RBBB TWC</td>\n",
              "      <td>70</td>\n",
              "      <td>MALE</td>\n",
              "      <td>93</td>\n",
              "      <td>82</td>\n",
              "      <td>130</td>\n",
              "      <td>386</td>\n",
              "      <td>479</td>\n",
              "      <td>61</td>\n",
              "      <td>194</td>\n",
              "      <td>15</td>\n",
              "      <td>225</td>\n",
              "      <td>290</td>\n",
              "      <td>418</td>\n",
              "    </tr>\n",
              "  </tbody>\n",
              "</table>\n",
              "<p>4051 rows × 16 columns</p>\n",
              "</div>\n",
              "      <button class=\"colab-df-convert\" onclick=\"convertToInteractive('df-b2cc38a5-a460-456c-a785-4f2eb591328c')\"\n",
              "              title=\"Convert this dataframe to an interactive table.\"\n",
              "              style=\"display:none;\">\n",
              "        \n",
              "  <svg xmlns=\"http://www.w3.org/2000/svg\" height=\"24px\"viewBox=\"0 0 24 24\"\n",
              "       width=\"24px\">\n",
              "    <path d=\"M0 0h24v24H0V0z\" fill=\"none\"/>\n",
              "    <path d=\"M18.56 5.44l.94 2.06.94-2.06 2.06-.94-2.06-.94-.94-2.06-.94 2.06-2.06.94zm-11 1L8.5 8.5l.94-2.06 2.06-.94-2.06-.94L8.5 2.5l-.94 2.06-2.06.94zm10 10l.94 2.06.94-2.06 2.06-.94-2.06-.94-.94-2.06-.94 2.06-2.06.94z\"/><path d=\"M17.41 7.96l-1.37-1.37c-.4-.4-.92-.59-1.43-.59-.52 0-1.04.2-1.43.59L10.3 9.45l-7.72 7.72c-.78.78-.78 2.05 0 2.83L4 21.41c.39.39.9.59 1.41.59.51 0 1.02-.2 1.41-.59l7.78-7.78 2.81-2.81c.8-.78.8-2.07 0-2.86zM5.41 20L4 18.59l7.72-7.72 1.47 1.35L5.41 20z\"/>\n",
              "  </svg>\n",
              "      </button>\n",
              "      \n",
              "  <style>\n",
              "    .colab-df-container {\n",
              "      display:flex;\n",
              "      flex-wrap:wrap;\n",
              "      gap: 12px;\n",
              "    }\n",
              "\n",
              "    .colab-df-convert {\n",
              "      background-color: #E8F0FE;\n",
              "      border: none;\n",
              "      border-radius: 50%;\n",
              "      cursor: pointer;\n",
              "      display: none;\n",
              "      fill: #1967D2;\n",
              "      height: 32px;\n",
              "      padding: 0 0 0 0;\n",
              "      width: 32px;\n",
              "    }\n",
              "\n",
              "    .colab-df-convert:hover {\n",
              "      background-color: #E2EBFA;\n",
              "      box-shadow: 0px 1px 2px rgba(60, 64, 67, 0.3), 0px 1px 3px 1px rgba(60, 64, 67, 0.15);\n",
              "      fill: #174EA6;\n",
              "    }\n",
              "\n",
              "    [theme=dark] .colab-df-convert {\n",
              "      background-color: #3B4455;\n",
              "      fill: #D2E3FC;\n",
              "    }\n",
              "\n",
              "    [theme=dark] .colab-df-convert:hover {\n",
              "      background-color: #434B5C;\n",
              "      box-shadow: 0px 1px 3px 1px rgba(0, 0, 0, 0.15);\n",
              "      filter: drop-shadow(0px 1px 2px rgba(0, 0, 0, 0.3));\n",
              "      fill: #FFFFFF;\n",
              "    }\n",
              "  </style>\n",
              "\n",
              "      <script>\n",
              "        const buttonEl =\n",
              "          document.querySelector('#df-b2cc38a5-a460-456c-a785-4f2eb591328c button.colab-df-convert');\n",
              "        buttonEl.style.display =\n",
              "          google.colab.kernel.accessAllowed ? 'block' : 'none';\n",
              "\n",
              "        async function convertToInteractive(key) {\n",
              "          const element = document.querySelector('#df-b2cc38a5-a460-456c-a785-4f2eb591328c');\n",
              "          const dataTable =\n",
              "            await google.colab.kernel.invokeFunction('convertToInteractive',\n",
              "                                                     [key], {});\n",
              "          if (!dataTable) return;\n",
              "\n",
              "          const docLinkHtml = 'Like what you see? Visit the ' +\n",
              "            '<a target=\"_blank\" href=https://colab.research.google.com/notebooks/data_table.ipynb>data table notebook</a>'\n",
              "            + ' to learn more about interactive tables.';\n",
              "          element.innerHTML = '';\n",
              "          dataTable['output_type'] = 'display_data';\n",
              "          await google.colab.output.renderOutput(dataTable, element);\n",
              "          const docLink = document.createElement('div');\n",
              "          docLink.innerHTML = docLinkHtml;\n",
              "          element.appendChild(docLink);\n",
              "        }\n",
              "      </script>\n",
              "    </div>\n",
              "  </div>\n",
              "  "
            ],
            "text/plain": [
              "                        FileName Rhythm          Beat  ...  QOnset QOffset  TOffset\n",
              "0     MUSE_20180113_171327_27000   AFIB      RBBB TWC  ...     208     265      386\n",
              "1     MUSE_20180112_122850_57000     AF     STDD STTC  ...     228     285      354\n",
              "2     MUSE_20180114_075026_69000   AFIB           TWC  ...     215     252      395\n",
              "3     MUSE_20180209_172046_21000     SR          NONE  ...     221     266      409\n",
              "4     MUSE_20180113_133901_16000   AFIB          STTC  ...     228     273      436\n",
              "...                          ...    ...           ...  ...     ...     ...      ...\n",
              "4046  MUSE_20180210_123100_20000     SR           TWC  ...     210     258      410\n",
              "4047  MUSE_20180115_131040_20000   AFIB           TWC  ...     221     266      504\n",
              "4048  MUSE_20180209_132228_29000     SR          NONE  ...     226     260      406\n",
              "4049  MUSE_20180116_170450_55000   AFIB  LVQRSLL RBBB  ...     197     264      398\n",
              "4050  MUSE_20180115_131524_93000   AFIB      RBBB TWC  ...     225     290      418\n",
              "\n",
              "[4051 rows x 16 columns]"
            ]
          },
          "metadata": {},
          "execution_count": 6
        }
      ]
    },
    {
      "cell_type": "code",
      "source": [
        "afib_files = labels[labels['Rhythm']==\"AFIB\"]['FileName'].tolist()\n",
        "nsr_files = labels[labels['Rhythm']==\"SR\"]['FileName'].tolist()\n",
        "afl_files = labels[labels['Rhythm']==\"AF\"]['FileName'].tolist()"
      ],
      "metadata": {
        "id": "xoQdYWjgaydc"
      },
      "execution_count": null,
      "outputs": []
    },
    {
      "cell_type": "code",
      "source": [
        "print(len(afib_files),len(nsr_files),len(afl_files))"
      ],
      "metadata": {
        "colab": {
          "base_uri": "https://localhost:8080/"
        },
        "id": "yd1b8Dkfj_Vb",
        "outputId": "ed9c8492-bca8-4070-c566-ea32243ce088"
      },
      "execution_count": null,
      "outputs": [
        {
          "output_type": "stream",
          "name": "stdout",
          "text": [
            "1780 1826 445\n"
          ]
        }
      ]
    },
    {
      "cell_type": "code",
      "source": [
        "afib_files[0]"
      ],
      "metadata": {
        "colab": {
          "base_uri": "https://localhost:8080/",
          "height": 35
        },
        "id": "8fFOOKZDmsYJ",
        "outputId": "58da94a6-8c45-47ac-95e4-89252da0e7e2"
      },
      "execution_count": null,
      "outputs": [
        {
          "output_type": "execute_result",
          "data": {
            "application/vnd.google.colaboratory.intrinsic+json": {
              "type": "string"
            },
            "text/plain": [
              "'MUSE_20180113_171327_27000'"
            ]
          },
          "metadata": {},
          "execution_count": 90
        }
      ]
    },
    {
      "cell_type": "code",
      "source": [
        "\n",
        "def detect_r_peaks(patient_list):\n",
        "    parent_folder = '/content/ECGDataDenoised/'\n",
        "    total_r_peaks=0\n",
        "    for i in tqdm(patient_list):\n",
        "      try:\n",
        "        data = parent_folder+i+\".csv\"\n",
        "        \n",
        "        df = pd.read_csv(data,header=None)\n",
        "        df.columns=['I','II','III','aVR','aVL','aVF','V1','V2','V3','V4','V5','V6']\n",
        "        \n",
        "        cols = df.columns\n",
        "        df[cols[:-1]] = df[cols[:-1]].apply(pd.to_numeric, errors='coerce') \n",
        "\n",
        "        # Extract R-peaks locations\n",
        "        _, rpeaks = nk.ecg_peaks(df[\"aVL\"][1:], sampling_rate=500)\n",
        "\n",
        "        # Visualize R-peaks in ECG signal\n",
        "        # plot = (nk.events_plot(rpeaks['ECG_R_Peaks'], df[\"aVL\"]))\n",
        "        total_r_peaks+=len(rpeaks['ECG_R_Peaks'])\n",
        "      except:\n",
        "        print(\"\\nError in:\",i)\n",
        "    print(\"\\n\")\n",
        "    return total_r_peaks#number of peaks"
      ],
      "metadata": {
        "id": "xemTyH0kdFAP"
      },
      "execution_count": null,
      "outputs": []
    },
    {
      "cell_type": "code",
      "source": [
        ""
      ],
      "metadata": {
        "id": "_Ll-02tanD4F"
      },
      "execution_count": null,
      "outputs": []
    },
    {
      "cell_type": "code",
      "source": [
        "print(len(afib_files))\n",
        "afib_r_peaks=detect_r_peaks(afib_files)\n",
        "print(afib_r_peaks)"
      ],
      "metadata": {
        "colab": {
          "base_uri": "https://localhost:8080/"
        },
        "id": "RLm8Ull3msK_",
        "outputId": "b80d41e3-d6ad-46a1-c14f-3a6358977b56"
      },
      "execution_count": null,
      "outputs": [
        {
          "output_type": "stream",
          "name": "stdout",
          "text": [
            "1780\n"
          ]
        },
        {
          "output_type": "stream",
          "name": "stderr",
          "text": [
            " 14%|█▎        | 244/1780 [00:05<00:30, 50.64it/s]"
          ]
        },
        {
          "output_type": "stream",
          "name": "stdout",
          "text": [
            "\n",
            "Error in: MUSE_20180712_160855_39000\n"
          ]
        },
        {
          "output_type": "stream",
          "name": "stderr",
          "text": [
            "100%|██████████| 1780/1780 [00:36<00:00, 48.42it/s]"
          ]
        },
        {
          "output_type": "stream",
          "name": "stdout",
          "text": [
            "\n",
            "\n",
            "26772\n"
          ]
        },
        {
          "output_type": "stream",
          "name": "stderr",
          "text": [
            "\n"
          ]
        }
      ]
    },
    {
      "cell_type": "code",
      "source": [
        "print(len(afl_files))\n",
        "afl_r_peaks=detect_r_peaks(afl_files)\n",
        "print(afl_r_peaks)"
      ],
      "metadata": {
        "colab": {
          "base_uri": "https://localhost:8080/"
        },
        "id": "6JB32ZDnnJkM",
        "outputId": "7169aa39-04b9-4795-abfc-0a761dbd4283"
      },
      "execution_count": null,
      "outputs": [
        {
          "output_type": "stream",
          "name": "stdout",
          "text": [
            "445\n"
          ]
        },
        {
          "output_type": "stream",
          "name": "stderr",
          "text": [
            " 75%|███████▌  | 334/445 [00:06<00:02, 51.50it/s]"
          ]
        },
        {
          "output_type": "stream",
          "name": "stdout",
          "text": [
            "\n",
            "Error in: MUSE_20180112_134829_78000\n"
          ]
        },
        {
          "output_type": "stream",
          "name": "stderr",
          "text": [
            "100%|██████████| 445/445 [00:09<00:00, 48.17it/s]"
          ]
        },
        {
          "output_type": "stream",
          "name": "stdout",
          "text": [
            "\n",
            "\n",
            "7887\n"
          ]
        },
        {
          "output_type": "stream",
          "name": "stderr",
          "text": [
            "\n"
          ]
        }
      ]
    },
    {
      "cell_type": "code",
      "source": [
        "print(len(nsr_files))\n",
        "nsr_r_peaks=detect_r_peaks(nsr_files)\n",
        "print(nsr_r_peaks)"
      ],
      "metadata": {
        "colab": {
          "base_uri": "https://localhost:8080/"
        },
        "id": "F-L7fASinVbm",
        "outputId": "a768ee28-6e65-4106-edfa-a046f3175152"
      },
      "execution_count": null,
      "outputs": [
        {
          "output_type": "stream",
          "name": "stdout",
          "text": [
            "1826\n"
          ]
        },
        {
          "output_type": "stream",
          "name": "stderr",
          "text": [
            " 69%|██████▉   | 1266/1826 [00:25<00:10, 53.38it/s]"
          ]
        },
        {
          "output_type": "stream",
          "name": "stdout",
          "text": [
            "\n",
            "Error in: MUSE_20180210_125924_43000\n"
          ]
        },
        {
          "output_type": "stream",
          "name": "stderr",
          "text": [
            "100%|██████████| 1826/1826 [00:36<00:00, 50.03it/s]"
          ]
        },
        {
          "output_type": "stream",
          "name": "stdout",
          "text": [
            "\n",
            "\n",
            "22320\n"
          ]
        },
        {
          "output_type": "stream",
          "name": "stderr",
          "text": [
            "\n"
          ]
        }
      ]
    },
    {
      "cell_type": "code",
      "source": [
        "print(nsr_r_peaks+afl_r_peaks+afib_r_peaks)"
      ],
      "metadata": {
        "colab": {
          "base_uri": "https://localhost:8080/"
        },
        "id": "An10ph7MrWut",
        "outputId": "31c75303-f5e7-4d61-a7a9-6d245c0542e3"
      },
      "execution_count": null,
      "outputs": [
        {
          "output_type": "stream",
          "name": "stdout",
          "text": [
            "56979\n"
          ]
        }
      ]
    },
    {
      "cell_type": "code",
      "source": [
        "parent_folder=\"/content/ECGDataDenoised/\"\n",
        "file=parent_folder+\"MUSE_20180712_160855_39000\"+\".csv\"\n",
        "tmp = pd.read_csv(file,header=None)\n",
        "tmp.columns=['I','II','III','aVR','aVL','aVF','V1','V2','V3','V4','V5','V6']"
      ],
      "metadata": {
        "id": "LHoo6fFLnwO-"
      },
      "execution_count": null,
      "outputs": []
    },
    {
      "cell_type": "code",
      "source": [
        "tmp"
      ],
      "metadata": {
        "colab": {
          "base_uri": "https://localhost:8080/",
          "height": 423
        },
        "id": "_Jxv3pkwxvae",
        "outputId": "951605cb-56c1-49cb-9611-9d1be2dc3dab"
      },
      "execution_count": null,
      "outputs": [
        {
          "output_type": "execute_result",
          "data": {
            "text/html": [
              "\n",
              "  <div id=\"df-f23e5332-2086-43a8-b27c-773568dc123e\">\n",
              "    <div class=\"colab-df-container\">\n",
              "      <div>\n",
              "<style scoped>\n",
              "    .dataframe tbody tr th:only-of-type {\n",
              "        vertical-align: middle;\n",
              "    }\n",
              "\n",
              "    .dataframe tbody tr th {\n",
              "        vertical-align: top;\n",
              "    }\n",
              "\n",
              "    .dataframe thead th {\n",
              "        text-align: right;\n",
              "    }\n",
              "</style>\n",
              "<table border=\"1\" class=\"dataframe\">\n",
              "  <thead>\n",
              "    <tr style=\"text-align: right;\">\n",
              "      <th></th>\n",
              "      <th>I</th>\n",
              "      <th>II</th>\n",
              "      <th>III</th>\n",
              "      <th>aVR</th>\n",
              "      <th>aVL</th>\n",
              "      <th>aVF</th>\n",
              "      <th>V1</th>\n",
              "      <th>V2</th>\n",
              "      <th>V3</th>\n",
              "      <th>V4</th>\n",
              "      <th>V5</th>\n",
              "      <th>V6</th>\n",
              "    </tr>\n",
              "  </thead>\n",
              "  <tbody>\n",
              "    <tr>\n",
              "      <th>0</th>\n",
              "      <td>145.9800</td>\n",
              "      <td>-34.0340</td>\n",
              "      <td>-178.2400</td>\n",
              "      <td>-58.8020</td>\n",
              "      <td>128.9800</td>\n",
              "      <td>-116.56000</td>\n",
              "      <td>-49.3530</td>\n",
              "      <td>-5.98940</td>\n",
              "      <td>0.23611</td>\n",
              "      <td>1.0709</td>\n",
              "      <td>29.1010</td>\n",
              "      <td>13.170</td>\n",
              "    </tr>\n",
              "    <tr>\n",
              "      <th>1</th>\n",
              "      <td>95.0550</td>\n",
              "      <td>-1.3568</td>\n",
              "      <td>-94.7680</td>\n",
              "      <td>-49.3060</td>\n",
              "      <td>62.2900</td>\n",
              "      <td>-58.16400</td>\n",
              "      <td>-51.4070</td>\n",
              "      <td>-2.48620</td>\n",
              "      <td>6.14600</td>\n",
              "      <td>1.0735</td>\n",
              "      <td>31.5960</td>\n",
              "      <td>15.914</td>\n",
              "    </tr>\n",
              "    <tr>\n",
              "      <th>2</th>\n",
              "      <td>37.9910</td>\n",
              "      <td>28.9100</td>\n",
              "      <td>-7.5632</td>\n",
              "      <td>-35.5380</td>\n",
              "      <td>-9.3041</td>\n",
              "      <td>0.85385</td>\n",
              "      <td>-50.9620</td>\n",
              "      <td>1.98100</td>\n",
              "      <td>12.25000</td>\n",
              "      <td>2.4676</td>\n",
              "      <td>34.8210</td>\n",
              "      <td>19.284</td>\n",
              "    </tr>\n",
              "    <tr>\n",
              "      <th>3</th>\n",
              "      <td>-23.4680</td>\n",
              "      <td>53.4350</td>\n",
              "      <td>78.2960</td>\n",
              "      <td>-16.7340</td>\n",
              "      <td>-82.3570</td>\n",
              "      <td>56.28300</td>\n",
              "      <td>-47.2490</td>\n",
              "      <td>7.23170</td>\n",
              "      <td>18.02600</td>\n",
              "      <td>5.6390</td>\n",
              "      <td>38.7490</td>\n",
              "      <td>23.206</td>\n",
              "    </tr>\n",
              "    <tr>\n",
              "      <th>4</th>\n",
              "      <td>-78.7810</td>\n",
              "      <td>68.3490</td>\n",
              "      <td>148.4000</td>\n",
              "      <td>3.6971</td>\n",
              "      <td>-144.3900</td>\n",
              "      <td>99.01900</td>\n",
              "      <td>-41.6250</td>\n",
              "      <td>11.82600</td>\n",
              "      <td>22.21200</td>\n",
              "      <td>9.8211</td>\n",
              "      <td>42.5130</td>\n",
              "      <td>26.798</td>\n",
              "    </tr>\n",
              "    <tr>\n",
              "      <th>...</th>\n",
              "      <td>...</td>\n",
              "      <td>...</td>\n",
              "      <td>...</td>\n",
              "      <td>...</td>\n",
              "      <td>...</td>\n",
              "      <td>...</td>\n",
              "      <td>...</td>\n",
              "      <td>...</td>\n",
              "      <td>...</td>\n",
              "      <td>...</td>\n",
              "      <td>...</td>\n",
              "      <td>...</td>\n",
              "    </tr>\n",
              "    <tr>\n",
              "      <th>4995</th>\n",
              "      <td>13.9890</td>\n",
              "      <td>-8.7132</td>\n",
              "      <td>-42.9320</td>\n",
              "      <td>1.4611</td>\n",
              "      <td>31.4650</td>\n",
              "      <td>-26.41000</td>\n",
              "      <td>11.5120</td>\n",
              "      <td>-43.49200</td>\n",
              "      <td>-30.67900</td>\n",
              "      <td>-38.5160</td>\n",
              "      <td>-43.0820</td>\n",
              "      <td>-46.412</td>\n",
              "    </tr>\n",
              "    <tr>\n",
              "      <th>4996</th>\n",
              "      <td>9.5065</td>\n",
              "      <td>-9.7364</td>\n",
              "      <td>-39.5690</td>\n",
              "      <td>4.4890</td>\n",
              "      <td>27.5830</td>\n",
              "      <td>-25.26100</td>\n",
              "      <td>8.6298</td>\n",
              "      <td>-39.23500</td>\n",
              "      <td>-26.20600</td>\n",
              "      <td>-34.4730</td>\n",
              "      <td>-39.5110</td>\n",
              "      <td>-42.472</td>\n",
              "    </tr>\n",
              "    <tr>\n",
              "      <th>4997</th>\n",
              "      <td>-15.7970</td>\n",
              "      <td>-15.5570</td>\n",
              "      <td>-20.1830</td>\n",
              "      <td>20.4600</td>\n",
              "      <td>5.5065</td>\n",
              "      <td>-18.69300</td>\n",
              "      <td>5.9772</td>\n",
              "      <td>-29.45500</td>\n",
              "      <td>-17.75700</td>\n",
              "      <td>-26.4700</td>\n",
              "      <td>-31.8940</td>\n",
              "      <td>-34.061</td>\n",
              "    </tr>\n",
              "    <tr>\n",
              "      <th>4998</th>\n",
              "      <td>-57.6750</td>\n",
              "      <td>-25.3490</td>\n",
              "      <td>11.8060</td>\n",
              "      <td>46.8380</td>\n",
              "      <td>-30.9440</td>\n",
              "      <td>-7.99060</td>\n",
              "      <td>3.6526</td>\n",
              "      <td>-15.51900</td>\n",
              "      <td>-6.43290</td>\n",
              "      <td>-15.5940</td>\n",
              "      <td>-21.4200</td>\n",
              "      <td>-22.828</td>\n",
              "    </tr>\n",
              "    <tr>\n",
              "      <th>4999</th>\n",
              "      <td>-108.1500</td>\n",
              "      <td>-37.2270</td>\n",
              "      <td>50.3080</td>\n",
              "      <td>78.6480</td>\n",
              "      <td>-74.8240</td>\n",
              "      <td>4.82250</td>\n",
              "      <td>1.5819</td>\n",
              "      <td>0.46693</td>\n",
              "      <td>6.25700</td>\n",
              "      <td>-3.3511</td>\n",
              "      <td>-9.6391</td>\n",
              "      <td>-10.519</td>\n",
              "    </tr>\n",
              "  </tbody>\n",
              "</table>\n",
              "<p>5000 rows × 12 columns</p>\n",
              "</div>\n",
              "      <button class=\"colab-df-convert\" onclick=\"convertToInteractive('df-f23e5332-2086-43a8-b27c-773568dc123e')\"\n",
              "              title=\"Convert this dataframe to an interactive table.\"\n",
              "              style=\"display:none;\">\n",
              "        \n",
              "  <svg xmlns=\"http://www.w3.org/2000/svg\" height=\"24px\"viewBox=\"0 0 24 24\"\n",
              "       width=\"24px\">\n",
              "    <path d=\"M0 0h24v24H0V0z\" fill=\"none\"/>\n",
              "    <path d=\"M18.56 5.44l.94 2.06.94-2.06 2.06-.94-2.06-.94-.94-2.06-.94 2.06-2.06.94zm-11 1L8.5 8.5l.94-2.06 2.06-.94-2.06-.94L8.5 2.5l-.94 2.06-2.06.94zm10 10l.94 2.06.94-2.06 2.06-.94-2.06-.94-.94-2.06-.94 2.06-2.06.94z\"/><path d=\"M17.41 7.96l-1.37-1.37c-.4-.4-.92-.59-1.43-.59-.52 0-1.04.2-1.43.59L10.3 9.45l-7.72 7.72c-.78.78-.78 2.05 0 2.83L4 21.41c.39.39.9.59 1.41.59.51 0 1.02-.2 1.41-.59l7.78-7.78 2.81-2.81c.8-.78.8-2.07 0-2.86zM5.41 20L4 18.59l7.72-7.72 1.47 1.35L5.41 20z\"/>\n",
              "  </svg>\n",
              "      </button>\n",
              "      \n",
              "  <style>\n",
              "    .colab-df-container {\n",
              "      display:flex;\n",
              "      flex-wrap:wrap;\n",
              "      gap: 12px;\n",
              "    }\n",
              "\n",
              "    .colab-df-convert {\n",
              "      background-color: #E8F0FE;\n",
              "      border: none;\n",
              "      border-radius: 50%;\n",
              "      cursor: pointer;\n",
              "      display: none;\n",
              "      fill: #1967D2;\n",
              "      height: 32px;\n",
              "      padding: 0 0 0 0;\n",
              "      width: 32px;\n",
              "    }\n",
              "\n",
              "    .colab-df-convert:hover {\n",
              "      background-color: #E2EBFA;\n",
              "      box-shadow: 0px 1px 2px rgba(60, 64, 67, 0.3), 0px 1px 3px 1px rgba(60, 64, 67, 0.15);\n",
              "      fill: #174EA6;\n",
              "    }\n",
              "\n",
              "    [theme=dark] .colab-df-convert {\n",
              "      background-color: #3B4455;\n",
              "      fill: #D2E3FC;\n",
              "    }\n",
              "\n",
              "    [theme=dark] .colab-df-convert:hover {\n",
              "      background-color: #434B5C;\n",
              "      box-shadow: 0px 1px 3px 1px rgba(0, 0, 0, 0.15);\n",
              "      filter: drop-shadow(0px 1px 2px rgba(0, 0, 0, 0.3));\n",
              "      fill: #FFFFFF;\n",
              "    }\n",
              "  </style>\n",
              "\n",
              "      <script>\n",
              "        const buttonEl =\n",
              "          document.querySelector('#df-f23e5332-2086-43a8-b27c-773568dc123e button.colab-df-convert');\n",
              "        buttonEl.style.display =\n",
              "          google.colab.kernel.accessAllowed ? 'block' : 'none';\n",
              "\n",
              "        async function convertToInteractive(key) {\n",
              "          const element = document.querySelector('#df-f23e5332-2086-43a8-b27c-773568dc123e');\n",
              "          const dataTable =\n",
              "            await google.colab.kernel.invokeFunction('convertToInteractive',\n",
              "                                                     [key], {});\n",
              "          if (!dataTable) return;\n",
              "\n",
              "          const docLinkHtml = 'Like what you see? Visit the ' +\n",
              "            '<a target=\"_blank\" href=https://colab.research.google.com/notebooks/data_table.ipynb>data table notebook</a>'\n",
              "            + ' to learn more about interactive tables.';\n",
              "          element.innerHTML = '';\n",
              "          dataTable['output_type'] = 'display_data';\n",
              "          await google.colab.output.renderOutput(dataTable, element);\n",
              "          const docLink = document.createElement('div');\n",
              "          docLink.innerHTML = docLinkHtml;\n",
              "          element.appendChild(docLink);\n",
              "        }\n",
              "      </script>\n",
              "    </div>\n",
              "  </div>\n",
              "  "
            ],
            "text/plain": [
              "             I       II       III      aVR  ...        V3       V4       V5      V6\n",
              "0     145.9800 -34.0340 -178.2400 -58.8020  ...   0.23611   1.0709  29.1010  13.170\n",
              "1      95.0550  -1.3568  -94.7680 -49.3060  ...   6.14600   1.0735  31.5960  15.914\n",
              "2      37.9910  28.9100   -7.5632 -35.5380  ...  12.25000   2.4676  34.8210  19.284\n",
              "3     -23.4680  53.4350   78.2960 -16.7340  ...  18.02600   5.6390  38.7490  23.206\n",
              "4     -78.7810  68.3490  148.4000   3.6971  ...  22.21200   9.8211  42.5130  26.798\n",
              "...        ...      ...       ...      ...  ...       ...      ...      ...     ...\n",
              "4995   13.9890  -8.7132  -42.9320   1.4611  ... -30.67900 -38.5160 -43.0820 -46.412\n",
              "4996    9.5065  -9.7364  -39.5690   4.4890  ... -26.20600 -34.4730 -39.5110 -42.472\n",
              "4997  -15.7970 -15.5570  -20.1830  20.4600  ... -17.75700 -26.4700 -31.8940 -34.061\n",
              "4998  -57.6750 -25.3490   11.8060  46.8380  ...  -6.43290 -15.5940 -21.4200 -22.828\n",
              "4999 -108.1500 -37.2270   50.3080  78.6480  ...   6.25700  -3.3511  -9.6391 -10.519\n",
              "\n",
              "[5000 rows x 12 columns]"
            ]
          },
          "metadata": {},
          "execution_count": 68
        }
      ]
    },
    {
      "cell_type": "code",
      "source": [
        "\n",
        "df=tmp.copy()\n",
        "cols = df.columns\n",
        "df[cols[:-1]] = df[cols[:-1]].apply(pd.to_numeric, errors='coerce') \n",
        "df.reset_index(inplace=True,drop=True)\n",
        "\n",
        "# Extract R-peaks locations\n",
        "_, rpeaks = nk.ecg_peaks(df[\"aVL\"][2:], sampling_rate=500)\n",
        "print(\"No. of R peaks:\",len(rpeaks['ECG_R_Peaks']))\n",
        "# Visualize R-peaks in ECG signal\n",
        "plot = (nk.events_plot(rpeaks['ECG_R_Peaks'], df[\"aVL\"]))"
      ],
      "metadata": {
        "colab": {
          "base_uri": "https://localhost:8080/",
          "height": 407
        },
        "id": "s5emCLi6dKD6",
        "outputId": "3af70444-f07f-41dc-ed3b-7593d3c18e2e"
      },
      "execution_count": null,
      "outputs": [
        {
          "output_type": "error",
          "ename": "IndexError",
          "evalue": "ignored",
          "traceback": [
            "\u001b[0;31m---------------------------------------------------------------------------\u001b[0m",
            "\u001b[0;31mIndexError\u001b[0m                                Traceback (most recent call last)",
            "\u001b[0;32m<ipython-input-71-f62e558576e9>\u001b[0m in \u001b[0;36m<module>\u001b[0;34m()\u001b[0m\n\u001b[1;32m      5\u001b[0m \u001b[0;34m\u001b[0m\u001b[0m\n\u001b[1;32m      6\u001b[0m \u001b[0;31m# Extract R-peaks locations\u001b[0m\u001b[0;34m\u001b[0m\u001b[0;34m\u001b[0m\u001b[0;34m\u001b[0m\u001b[0m\n\u001b[0;32m----> 7\u001b[0;31m \u001b[0m_\u001b[0m\u001b[0;34m,\u001b[0m \u001b[0mrpeaks\u001b[0m \u001b[0;34m=\u001b[0m \u001b[0mnk\u001b[0m\u001b[0;34m.\u001b[0m\u001b[0mecg_peaks\u001b[0m\u001b[0;34m(\u001b[0m\u001b[0mdf\u001b[0m\u001b[0;34m[\u001b[0m\u001b[0;34m\"aVL\"\u001b[0m\u001b[0;34m]\u001b[0m\u001b[0;34m[\u001b[0m\u001b[0;36m2\u001b[0m\u001b[0;34m:\u001b[0m\u001b[0;34m]\u001b[0m\u001b[0;34m,\u001b[0m \u001b[0msampling_rate\u001b[0m\u001b[0;34m=\u001b[0m\u001b[0;36m500\u001b[0m\u001b[0;34m)\u001b[0m\u001b[0;34m\u001b[0m\u001b[0;34m\u001b[0m\u001b[0m\n\u001b[0m\u001b[1;32m      8\u001b[0m \u001b[0mprint\u001b[0m\u001b[0;34m(\u001b[0m\u001b[0;34m\"No. of R peaks:\"\u001b[0m\u001b[0;34m,\u001b[0m\u001b[0mlen\u001b[0m\u001b[0;34m(\u001b[0m\u001b[0mrpeaks\u001b[0m\u001b[0;34m[\u001b[0m\u001b[0;34m'ECG_R_Peaks'\u001b[0m\u001b[0;34m]\u001b[0m\u001b[0;34m)\u001b[0m\u001b[0;34m)\u001b[0m\u001b[0;34m\u001b[0m\u001b[0;34m\u001b[0m\u001b[0m\n\u001b[1;32m      9\u001b[0m \u001b[0;31m# Visualize R-peaks in ECG signal\u001b[0m\u001b[0;34m\u001b[0m\u001b[0;34m\u001b[0m\u001b[0;34m\u001b[0m\u001b[0m\n",
            "\u001b[0;32m/usr/local/lib/python3.7/dist-packages/neurokit2/ecg/ecg_peaks.py\u001b[0m in \u001b[0;36mecg_peaks\u001b[0;34m(ecg_cleaned, sampling_rate, method, correct_artifacts, **kwargs)\u001b[0m\n\u001b[1;32m    113\u001b[0m         \u001b[0mhttps\u001b[0m\u001b[0;34m:\u001b[0m\u001b[0;34m//\u001b[0m\u001b[0mgithub\u001b[0m\u001b[0;34m.\u001b[0m\u001b[0mcom\u001b[0m\u001b[0;34m/\u001b[0m\u001b[0mneuropsychology\u001b[0m\u001b[0;34m/\u001b[0m\u001b[0mNeuroKit\u001b[0m\u001b[0;34m/\u001b[0m\u001b[0missues\u001b[0m\u001b[0;34m/\u001b[0m\u001b[0;36m222\u001b[0m\u001b[0;34m\u001b[0m\u001b[0;34m\u001b[0m\u001b[0m\n\u001b[1;32m    114\u001b[0m     \"\"\"\n\u001b[0;32m--> 115\u001b[0;31m     \u001b[0mrpeaks\u001b[0m \u001b[0;34m=\u001b[0m \u001b[0mecg_findpeaks\u001b[0m\u001b[0;34m(\u001b[0m\u001b[0mecg_cleaned\u001b[0m\u001b[0;34m,\u001b[0m \u001b[0msampling_rate\u001b[0m\u001b[0;34m=\u001b[0m\u001b[0msampling_rate\u001b[0m\u001b[0;34m,\u001b[0m \u001b[0mmethod\u001b[0m\u001b[0;34m=\u001b[0m\u001b[0mmethod\u001b[0m\u001b[0;34m,\u001b[0m \u001b[0;34m**\u001b[0m\u001b[0mkwargs\u001b[0m\u001b[0;34m)\u001b[0m\u001b[0;34m\u001b[0m\u001b[0;34m\u001b[0m\u001b[0m\n\u001b[0m\u001b[1;32m    116\u001b[0m \u001b[0;34m\u001b[0m\u001b[0m\n\u001b[1;32m    117\u001b[0m     \u001b[0;32mif\u001b[0m \u001b[0mcorrect_artifacts\u001b[0m\u001b[0;34m:\u001b[0m\u001b[0;34m\u001b[0m\u001b[0;34m\u001b[0m\u001b[0m\n",
            "\u001b[0;32m/usr/local/lib/python3.7/dist-packages/neurokit2/ecg/ecg_findpeaks.py\u001b[0m in \u001b[0;36mecg_findpeaks\u001b[0;34m(ecg_cleaned, sampling_rate, method, show, **kwargs)\u001b[0m\n\u001b[1;32m    119\u001b[0m     \u001b[0;32mtry\u001b[0m\u001b[0;34m:\u001b[0m\u001b[0;34m\u001b[0m\u001b[0;34m\u001b[0m\u001b[0m\n\u001b[1;32m    120\u001b[0m         \u001b[0mfunc\u001b[0m \u001b[0;34m=\u001b[0m \u001b[0m_ecg_findpeaks_findmethod\u001b[0m\u001b[0;34m(\u001b[0m\u001b[0mmethod\u001b[0m\u001b[0;34m)\u001b[0m\u001b[0;34m\u001b[0m\u001b[0;34m\u001b[0m\u001b[0m\n\u001b[0;32m--> 121\u001b[0;31m         \u001b[0mrpeaks\u001b[0m \u001b[0;34m=\u001b[0m \u001b[0mfunc\u001b[0m\u001b[0;34m(\u001b[0m\u001b[0mecg_cleaned\u001b[0m\u001b[0;34m,\u001b[0m \u001b[0msampling_rate\u001b[0m\u001b[0;34m=\u001b[0m\u001b[0msampling_rate\u001b[0m\u001b[0;34m,\u001b[0m \u001b[0mshow\u001b[0m\u001b[0;34m=\u001b[0m\u001b[0mshow\u001b[0m\u001b[0;34m,\u001b[0m \u001b[0;34m**\u001b[0m\u001b[0mkwargs\u001b[0m\u001b[0;34m)\u001b[0m\u001b[0;34m\u001b[0m\u001b[0;34m\u001b[0m\u001b[0m\n\u001b[0m\u001b[1;32m    122\u001b[0m     \u001b[0;32mexcept\u001b[0m \u001b[0mValueError\u001b[0m \u001b[0;32mas\u001b[0m \u001b[0merror\u001b[0m\u001b[0;34m:\u001b[0m\u001b[0;34m\u001b[0m\u001b[0;34m\u001b[0m\u001b[0m\n\u001b[1;32m    123\u001b[0m         \u001b[0;32mraise\u001b[0m \u001b[0merror\u001b[0m\u001b[0;34m\u001b[0m\u001b[0;34m\u001b[0m\u001b[0m\n",
            "\u001b[0;32m/usr/local/lib/python3.7/dist-packages/neurokit2/ecg/ecg_findpeaks.py\u001b[0m in \u001b[0;36m_ecg_findpeaks_neurokit\u001b[0;34m(signal, sampling_rate, smoothwindow, avgwindow, gradthreshweight, minlenweight, mindelay, show)\u001b[0m\n\u001b[1;32m    316\u001b[0m     \u001b[0mend_qrs\u001b[0m \u001b[0;34m=\u001b[0m \u001b[0mnp\u001b[0m\u001b[0;34m.\u001b[0m\u001b[0mwhere\u001b[0m\u001b[0;34m(\u001b[0m\u001b[0mnp\u001b[0m\u001b[0;34m.\u001b[0m\u001b[0mlogical_and\u001b[0m\u001b[0;34m(\u001b[0m\u001b[0mqrs\u001b[0m\u001b[0;34m[\u001b[0m\u001b[0;36m0\u001b[0m\u001b[0;34m:\u001b[0m\u001b[0;34m-\u001b[0m\u001b[0;36m1\u001b[0m\u001b[0;34m]\u001b[0m\u001b[0;34m,\u001b[0m \u001b[0mnp\u001b[0m\u001b[0;34m.\u001b[0m\u001b[0mlogical_not\u001b[0m\u001b[0;34m(\u001b[0m\u001b[0mqrs\u001b[0m\u001b[0;34m[\u001b[0m\u001b[0;36m1\u001b[0m\u001b[0;34m:\u001b[0m\u001b[0;34m]\u001b[0m\u001b[0;34m)\u001b[0m\u001b[0;34m)\u001b[0m\u001b[0;34m)\u001b[0m\u001b[0;34m[\u001b[0m\u001b[0;36m0\u001b[0m\u001b[0;34m]\u001b[0m\u001b[0;34m\u001b[0m\u001b[0;34m\u001b[0m\u001b[0m\n\u001b[1;32m    317\u001b[0m     \u001b[0;31m# Throw out QRS-ends that precede first QRS-start.\u001b[0m\u001b[0;34m\u001b[0m\u001b[0;34m\u001b[0m\u001b[0;34m\u001b[0m\u001b[0m\n\u001b[0;32m--> 318\u001b[0;31m     \u001b[0mend_qrs\u001b[0m \u001b[0;34m=\u001b[0m \u001b[0mend_qrs\u001b[0m\u001b[0;34m[\u001b[0m\u001b[0mend_qrs\u001b[0m \u001b[0;34m>\u001b[0m \u001b[0mbeg_qrs\u001b[0m\u001b[0;34m[\u001b[0m\u001b[0;36m0\u001b[0m\u001b[0;34m]\u001b[0m\u001b[0;34m]\u001b[0m\u001b[0;34m\u001b[0m\u001b[0;34m\u001b[0m\u001b[0m\n\u001b[0m\u001b[1;32m    319\u001b[0m \u001b[0;34m\u001b[0m\u001b[0m\n\u001b[1;32m    320\u001b[0m     \u001b[0;31m# Identify R-peaks within QRS (ignore QRS that are too short).\u001b[0m\u001b[0;34m\u001b[0m\u001b[0;34m\u001b[0m\u001b[0;34m\u001b[0m\u001b[0m\n",
            "\u001b[0;31mIndexError\u001b[0m: index 0 is out of bounds for axis 0 with size 0"
          ]
        }
      ]
    },
    {
      "cell_type": "code",
      "source": [
        "rpeaks"
      ],
      "metadata": {
        "colab": {
          "base_uri": "https://localhost:8080/"
        },
        "id": "r3dZGVZQdyvQ",
        "outputId": "cdaf49c4-0e3d-40d2-88f5-be46b777d27a"
      },
      "execution_count": null,
      "outputs": [
        {
          "output_type": "execute_result",
          "data": {
            "text/plain": [
              "{'ECG_R_Peaks': array([ 246,  481,  746,  981, 1259, 1525, 1820, 2089, 2351, 2586, 2872,\n",
              "        3135, 3405, 3694, 3865, 4083, 4357, 4597, 4859]), 'sampling_rate': 500}"
            ]
          },
          "metadata": {},
          "execution_count": 33
        }
      ]
    },
    {
      "cell_type": "code",
      "source": [
        "afib_files"
      ],
      "metadata": {
        "colab": {
          "base_uri": "https://localhost:8080/"
        },
        "id": "PCtNmQ7h7Wbj",
        "outputId": "a50bc411-4bdd-42bc-9ae2-3b837488238c"
      },
      "execution_count": null,
      "outputs": [
        {
          "output_type": "execute_result",
          "data": {
            "text/plain": [
              "0       MUSE_20180113_171327_27000\n",
              "2       MUSE_20180114_075026_69000\n",
              "4       MUSE_20180113_133901_16000\n",
              "6       MUSE_20180116_123940_90000\n",
              "8       MUSE_20180114_075003_61000\n",
              "                   ...            \n",
              "4043    MUSE_20180116_120939_86000\n",
              "4044    MUSE_20180114_134126_54000\n",
              "4047    MUSE_20180115_131040_20000\n",
              "4049    MUSE_20180116_170450_55000\n",
              "4050    MUSE_20180115_131524_93000\n",
              "Name: FileName, Length: 1780, dtype: object"
            ]
          },
          "metadata": {},
          "execution_count": 76
        }
      ]
    },
    {
      "cell_type": "code",
      "source": [
        ""
      ],
      "metadata": {
        "id": "_nXEa5GXA9XB"
      },
      "execution_count": null,
      "outputs": []
    },
    {
      "cell_type": "code",
      "source": [
        "all_subjects= afib_files+ nsr_files + afl_files"
      ],
      "metadata": {
        "id": "mAUF5q6sAzzD"
      },
      "execution_count": 115,
      "outputs": []
    },
    {
      "cell_type": "code",
      "source": [
        "subject_label = {}\n",
        "for i in afib_files:\n",
        "    subject_label[i] = 'afib'\n",
        "for i in nsr_files:\n",
        "    subject_label[i] = 'nsr'\n",
        "for i in afl_files:\n",
        "    subject_label[i] = 'afl'"
      ],
      "metadata": {
        "id": "Oo-bGasrA_ow"
      },
      "execution_count": 119,
      "outputs": []
    },
    {
      "cell_type": "code",
      "source": [
        "parent_folder=\"/content/ECGDataDenoised/\"\n",
        "file_name=parent_folder+afib_files[0]+\".csv\"\n",
        "df = pd.read_csv(file_name,header=None)\n",
        "df.columns=['I','II','III','aVR','aVL','aVF','V1','V2','V3','V4','V5','V6']\n",
        "cols = df.columns\n",
        "df[cols[:-1]] = df[cols[:-1]].apply(pd.to_numeric, errors='coerce') \n",
        "df.reset_index(inplace=True,drop=True)\n",
        "\n",
        "# Extract R-peaks locations\n",
        "_, rpeaks = nk.ecg_peaks(df[\"aVL\"][2:], sampling_rate=500)\n",
        "print(\"No. of R peaks:\",len(rpeaks['ECG_R_Peaks']))\n",
        "# Visualize R-peaks in ECG signal\n",
        "plot = (nk.events_plot(rpeaks['ECG_R_Peaks'], df[\"aVL\"]))"
      ],
      "metadata": {
        "colab": {
          "base_uri": "https://localhost:8080/",
          "height": 338
        },
        "id": "4vQ-j9OrP0O-",
        "outputId": "4d6ce8d6-1dd6-46eb-c815-d15b1bb5ea5c"
      },
      "execution_count": null,
      "outputs": [
        {
          "output_type": "stream",
          "name": "stdout",
          "text": [
            "No. of R peaks: 19\n"
          ]
        },
        {
          "output_type": "display_data",
          "data": {
            "image/png": "[encoded data removed]",
            "text/plain": [
              "<Figure size 1080x360 with 1 Axes>"
            ]
          },
          "metadata": {
            "needs_background": "light"
          }
        }
      ]
    },
    {
      "cell_type": "code",
      "source": [
        "_"
      ],
      "metadata": {
        "id": "D7TR-nL38dnt",
        "outputId": "4c93c67c-2bfd-43e5-819f-f6ef6758b3da",
        "colab": {
          "base_uri": "https://localhost:8080/",
          "height": 423
        }
      },
      "execution_count": null,
      "outputs": [
        {
          "output_type": "execute_result",
          "data": {
            "text/html": [
              "\n",
              "  <div id=\"df-a6d36461-38a3-4436-8f98-6d126ba690a6\">\n",
              "    <div class=\"colab-df-container\">\n",
              "      <div>\n",
              "<style scoped>\n",
              "    .dataframe tbody tr th:only-of-type {\n",
              "        vertical-align: middle;\n",
              "    }\n",
              "\n",
              "    .dataframe tbody tr th {\n",
              "        vertical-align: top;\n",
              "    }\n",
              "\n",
              "    .dataframe thead th {\n",
              "        text-align: right;\n",
              "    }\n",
              "</style>\n",
              "<table border=\"1\" class=\"dataframe\">\n",
              "  <thead>\n",
              "    <tr style=\"text-align: right;\">\n",
              "      <th></th>\n",
              "      <th>ECG_R_Peaks</th>\n",
              "    </tr>\n",
              "  </thead>\n",
              "  <tbody>\n",
              "    <tr>\n",
              "      <th>0</th>\n",
              "      <td>0</td>\n",
              "    </tr>\n",
              "    <tr>\n",
              "      <th>1</th>\n",
              "      <td>0</td>\n",
              "    </tr>\n",
              "    <tr>\n",
              "      <th>2</th>\n",
              "      <td>0</td>\n",
              "    </tr>\n",
              "    <tr>\n",
              "      <th>3</th>\n",
              "      <td>0</td>\n",
              "    </tr>\n",
              "    <tr>\n",
              "      <th>4</th>\n",
              "      <td>0</td>\n",
              "    </tr>\n",
              "    <tr>\n",
              "      <th>...</th>\n",
              "      <td>...</td>\n",
              "    </tr>\n",
              "    <tr>\n",
              "      <th>4993</th>\n",
              "      <td>0</td>\n",
              "    </tr>\n",
              "    <tr>\n",
              "      <th>4994</th>\n",
              "      <td>0</td>\n",
              "    </tr>\n",
              "    <tr>\n",
              "      <th>4995</th>\n",
              "      <td>0</td>\n",
              "    </tr>\n",
              "    <tr>\n",
              "      <th>4996</th>\n",
              "      <td>0</td>\n",
              "    </tr>\n",
              "    <tr>\n",
              "      <th>4997</th>\n",
              "      <td>0</td>\n",
              "    </tr>\n",
              "  </tbody>\n",
              "</table>\n",
              "<p>4998 rows × 1 columns</p>\n",
              "</div>\n",
              "      <button class=\"colab-df-convert\" onclick=\"convertToInteractive('df-a6d36461-38a3-4436-8f98-6d126ba690a6')\"\n",
              "              title=\"Convert this dataframe to an interactive table.\"\n",
              "              style=\"display:none;\">\n",
              "        \n",
              "  <svg xmlns=\"http://www.w3.org/2000/svg\" height=\"24px\"viewBox=\"0 0 24 24\"\n",
              "       width=\"24px\">\n",
              "    <path d=\"M0 0h24v24H0V0z\" fill=\"none\"/>\n",
              "    <path d=\"M18.56 5.44l.94 2.06.94-2.06 2.06-.94-2.06-.94-.94-2.06-.94 2.06-2.06.94zm-11 1L8.5 8.5l.94-2.06 2.06-.94-2.06-.94L8.5 2.5l-.94 2.06-2.06.94zm10 10l.94 2.06.94-2.06 2.06-.94-2.06-.94-.94-2.06-.94 2.06-2.06.94z\"/><path d=\"M17.41 7.96l-1.37-1.37c-.4-.4-.92-.59-1.43-.59-.52 0-1.04.2-1.43.59L10.3 9.45l-7.72 7.72c-.78.78-.78 2.05 0 2.83L4 21.41c.39.39.9.59 1.41.59.51 0 1.02-.2 1.41-.59l7.78-7.78 2.81-2.81c.8-.78.8-2.07 0-2.86zM5.41 20L4 18.59l7.72-7.72 1.47 1.35L5.41 20z\"/>\n",
              "  </svg>\n",
              "      </button>\n",
              "      \n",
              "  <style>\n",
              "    .colab-df-container {\n",
              "      display:flex;\n",
              "      flex-wrap:wrap;\n",
              "      gap: 12px;\n",
              "    }\n",
              "\n",
              "    .colab-df-convert {\n",
              "      background-color: #E8F0FE;\n",
              "      border: none;\n",
              "      border-radius: 50%;\n",
              "      cursor: pointer;\n",
              "      display: none;\n",
              "      fill: #1967D2;\n",
              "      height: 32px;\n",
              "      padding: 0 0 0 0;\n",
              "      width: 32px;\n",
              "    }\n",
              "\n",
              "    .colab-df-convert:hover {\n",
              "      background-color: #E2EBFA;\n",
              "      box-shadow: 0px 1px 2px rgba(60, 64, 67, 0.3), 0px 1px 3px 1px rgba(60, 64, 67, 0.15);\n",
              "      fill: #174EA6;\n",
              "    }\n",
              "\n",
              "    [theme=dark] .colab-df-convert {\n",
              "      background-color: #3B4455;\n",
              "      fill: #D2E3FC;\n",
              "    }\n",
              "\n",
              "    [theme=dark] .colab-df-convert:hover {\n",
              "      background-color: #434B5C;\n",
              "      box-shadow: 0px 1px 3px 1px rgba(0, 0, 0, 0.15);\n",
              "      filter: drop-shadow(0px 1px 2px rgba(0, 0, 0, 0.3));\n",
              "      fill: #FFFFFF;\n",
              "    }\n",
              "  </style>\n",
              "\n",
              "      <script>\n",
              "        const buttonEl =\n",
              "          document.querySelector('#df-a6d36461-38a3-4436-8f98-6d126ba690a6 button.colab-df-convert');\n",
              "        buttonEl.style.display =\n",
              "          google.colab.kernel.accessAllowed ? 'block' : 'none';\n",
              "\n",
              "        async function convertToInteractive(key) {\n",
              "          const element = document.querySelector('#df-a6d36461-38a3-4436-8f98-6d126ba690a6');\n",
              "          const dataTable =\n",
              "            await google.colab.kernel.invokeFunction('convertToInteractive',\n",
              "                                                     [key], {});\n",
              "          if (!dataTable) return;\n",
              "\n",
              "          const docLinkHtml = 'Like what you see? Visit the ' +\n",
              "            '<a target=\"_blank\" href=https://colab.research.google.com/notebooks/data_table.ipynb>data table notebook</a>'\n",
              "            + ' to learn more about interactive tables.';\n",
              "          element.innerHTML = '';\n",
              "          dataTable['output_type'] = 'display_data';\n",
              "          await google.colab.output.renderOutput(dataTable, element);\n",
              "          const docLink = document.createElement('div');\n",
              "          docLink.innerHTML = docLinkHtml;\n",
              "          element.appendChild(docLink);\n",
              "        }\n",
              "      </script>\n",
              "    </div>\n",
              "  </div>\n",
              "  "
            ],
            "text/plain": [
              "      ECG_R_Peaks\n",
              "0               0\n",
              "1               0\n",
              "2               0\n",
              "3               0\n",
              "4               0\n",
              "...           ...\n",
              "4993            0\n",
              "4994            0\n",
              "4995            0\n",
              "4996            0\n",
              "4997            0\n",
              "\n",
              "[4998 rows x 1 columns]"
            ]
          },
          "metadata": {},
          "execution_count": 101
        }
      ]
    },
    {
      "cell_type": "code",
      "source": [
        "subject_label = {}\n",
        "for i in afib_files:\n",
        "    subject_label[i] = 'afib'\n",
        "for i in nsr_files:\n",
        "    subject_label[i] = 'nsr'\n",
        "for i in afl_files:\n",
        "    subject_label[i] = 'afl'"
      ],
      "metadata": {
        "id": "_Fo_pFhaCAj8"
      },
      "execution_count": null,
      "outputs": []
    },
    {
      "cell_type": "code",
      "source": [
        "len(afl_files)"
      ],
      "metadata": {
        "colab": {
          "base_uri": "https://localhost:8080/"
        },
        "id": "fB1UQqo9DRZq",
        "outputId": "279c1f2e-97a6-495b-d0b7-aaf601aa9893"
      },
      "execution_count": 123,
      "outputs": [
        {
          "output_type": "execute_result",
          "data": {
            "text/plain": [
              "445"
            ]
          },
          "metadata": {},
          "execution_count": 123
        }
      ]
    },
    {
      "cell_type": "code",
      "source": [
        "# scikit-learn k-fold cross-validation\n",
        "from numpy import array\n",
        "from sklearn.model_selection import KFold\n",
        "# data sample\n",
        "# data = array([1, 2, 3, 4, 5, 6,7,8,9,10,11,12,13,14,15])\n",
        "data=all_subjects\n",
        "# prepare cross validation\n",
        "kfold = KFold(10,shuffle=True,random_state=42)\n",
        "# enumerate splits\n",
        "for train, test in kfold.split(data):\n",
        "\t# print('train: %s, test: %s' % (train, test))\n",
        "  \n",
        "  cnt_train={}\n",
        "  for i in train:\n",
        "    label=subject_label[all_subjects[i]]\n",
        "    if label in cnt_train:\n",
        "      cnt_train[label]+=1\n",
        "    else:\n",
        "      cnt_train[label]=1\n",
        "  print(\"Train:\",cnt_train)\n",
        "\n",
        "  cnt_test={}\n",
        "  for i in test:\n",
        "    label=subject_label[all_subjects[i]]\n",
        "    if label in cnt_test:\n",
        "      cnt_test[label]+=1\n",
        "    else:\n",
        "      cnt_test[label]=1\n",
        "  print(\"Test:\",cnt_test)\n"
      ],
      "metadata": {
        "colab": {
          "base_uri": "https://localhost:8080/"
        },
        "id": "y-omjYrol1lC",
        "outputId": "b22849cb-d0ef-46f5-a6e3-4509688fafdc"
      },
      "execution_count": 137,
      "outputs": [
        {
          "output_type": "stream",
          "name": "stdout",
          "text": [
            "Train: {'afib': 1593, 'nsr': 1645, 'afl': 407}\n",
            "Test: {'afib': 187, 'nsr': 181, 'afl': 38}\n",
            "Train: {'afib': 1587, 'nsr': 1654, 'afl': 405}\n",
            "Test: {'afib': 193, 'nsr': 172, 'afl': 40}\n",
            "Train: {'afib': 1599, 'nsr': 1644, 'afl': 403}\n",
            "Test: {'afib': 181, 'nsr': 182, 'afl': 42}\n",
            "Train: {'afib': 1602, 'nsr': 1650, 'afl': 394}\n",
            "Test: {'afib': 178, 'nsr': 176, 'afl': 51}\n",
            "Train: {'afib': 1612, 'nsr': 1638, 'afl': 396}\n",
            "Test: {'afib': 168, 'nsr': 188, 'afl': 49}\n",
            "Train: {'afib': 1603, 'nsr': 1640, 'afl': 403}\n",
            "Test: {'afib': 177, 'nsr': 186, 'afl': 42}\n",
            "Train: {'afib': 1610, 'nsr': 1638, 'afl': 398}\n",
            "Test: {'afib': 170, 'nsr': 188, 'afl': 47}\n",
            "Train: {'afib': 1598, 'nsr': 1635, 'afl': 413}\n",
            "Test: {'afib': 182, 'nsr': 191, 'afl': 32}\n",
            "Train: {'afib': 1607, 'nsr': 1648, 'afl': 391}\n",
            "Test: {'afib': 173, 'nsr': 178, 'afl': 54}\n",
            "Train: {'afib': 1609, 'nsr': 1642, 'afl': 395}\n",
            "Test: {'afib': 171, 'nsr': 184, 'afl': 50}\n"
          ]
        }
      ]
    },
    {
      "cell_type": "code",
      "source": [
        "len(train"
      ],
      "metadata": {
        "colab": {
          "base_uri": "https://localhost:8080/"
        },
        "id": "iXn4N34p9_2G",
        "outputId": "45c530ad-d4ad-419c-cf42-f1cd1f852268"
      },
      "execution_count": 112,
      "outputs": [
        {
          "output_type": "execute_result",
          "data": {
            "text/plain": [
              "1602"
            ]
          },
          "metadata": {},
          "execution_count": 112
        }
      ]
    },
    {
      "cell_type": "code",
      "source": [
        "len(test)*100/1780"
      ],
      "metadata": {
        "id": "UEYcABkxmExl",
        "colab": {
          "base_uri": "https://localhost:8080/"
        },
        "outputId": "2572cbc8-54bd-425d-a59b-ba15ad58a4fc"
      },
      "execution_count": 114,
      "outputs": [
        {
          "output_type": "execute_result",
          "data": {
            "text/plain": [
              "10.0"
            ]
          },
          "metadata": {},
          "execution_count": 114
        }
      ]
    },
    {
      "cell_type": "code",
      "source": [
        ""
      ],
      "metadata": {
        "id": "9qPhHcuw-DGy"
      },
      "execution_count": null,
      "outputs": []
    }
  ]
}