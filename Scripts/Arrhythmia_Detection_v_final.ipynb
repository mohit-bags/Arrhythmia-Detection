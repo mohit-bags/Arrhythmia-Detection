{
  "cells": [
    {
      "cell_type": "markdown",
      "metadata": {
        "id": "fTHRgo0AlE4K"
      },
      "source": [
        "Trying https://github.com/spdrnl/ecg/blob/master/ECG.ipynb"
      ]
    },
    {
      "cell_type": "code",
      "source": [
        "pip list | grep tensorflow"
      ],
      "metadata": {
        "id": "qrtLelatbdeH"
      },
      "execution_count": null,
      "outputs": []
    },
    {
      "cell_type": "markdown",
      "metadata": {
        "id": "JfeS7tsK8vBb"
      },
      "source": [
        "### Import Libraries"
      ]
    },
    {
      "cell_type": "code",
      "execution_count": null,
      "metadata": {
        "id": "HyTKLDsxjEjC"
      },
      "outputs": [],
      "source": [
        "!unzip /content/drive/\"My Drive\"/\"Arrythmia \"/ECGDataDenoised.zip"
      ]
    },
    {
      "cell_type": "code",
      "execution_count": 4,
      "metadata": {
        "colab": {
          "base_uri": "https://localhost:8080/"
        },
        "id": "XXJxedOpqXYy",
        "outputId": "8c4b6bd4-23d1-4c8e-b90e-4c96f7dfd152"
      },
      "outputs": [
        {
          "output_type": "stream",
          "name": "stdout",
          "text": [
            "\u001b[?25l\r\u001b[K     |▎                               | 10 kB 22.1 MB/s eta 0:00:01\r\u001b[K     |▋                               | 20 kB 27.7 MB/s eta 0:00:01\r\u001b[K     |▉                               | 30 kB 17.1 MB/s eta 0:00:01\r\u001b[K     |█▏                              | 40 kB 12.7 MB/s eta 0:00:01\r\u001b[K     |█▌                              | 51 kB 7.4 MB/s eta 0:00:01\r\u001b[K     |█▊                              | 61 kB 8.7 MB/s eta 0:00:01\r\u001b[K     |██                              | 71 kB 7.4 MB/s eta 0:00:01\r\u001b[K     |██▍                             | 81 kB 6.3 MB/s eta 0:00:01\r\u001b[K     |██▋                             | 92 kB 6.9 MB/s eta 0:00:01\r\u001b[K     |███                             | 102 kB 7.5 MB/s eta 0:00:01\r\u001b[K     |███▏                            | 112 kB 7.5 MB/s eta 0:00:01\r\u001b[K     |███▌                            | 122 kB 7.5 MB/s eta 0:00:01\r\u001b[K     |███▉                            | 133 kB 7.5 MB/s eta 0:00:01\r\u001b[K     |████                            | 143 kB 7.5 MB/s eta 0:00:01\r\u001b[K     |████▍                           | 153 kB 7.5 MB/s eta 0:00:01\r\u001b[K     |████▊                           | 163 kB 7.5 MB/s eta 0:00:01\r\u001b[K     |█████                           | 174 kB 7.5 MB/s eta 0:00:01\r\u001b[K     |█████▎                          | 184 kB 7.5 MB/s eta 0:00:01\r\u001b[K     |█████▌                          | 194 kB 7.5 MB/s eta 0:00:01\r\u001b[K     |█████▉                          | 204 kB 7.5 MB/s eta 0:00:01\r\u001b[K     |██████▏                         | 215 kB 7.5 MB/s eta 0:00:01\r\u001b[K     |██████▍                         | 225 kB 7.5 MB/s eta 0:00:01\r\u001b[K     |██████▊                         | 235 kB 7.5 MB/s eta 0:00:01\r\u001b[K     |███████                         | 245 kB 7.5 MB/s eta 0:00:01\r\u001b[K     |███████▎                        | 256 kB 7.5 MB/s eta 0:00:01\r\u001b[K     |███████▋                        | 266 kB 7.5 MB/s eta 0:00:01\r\u001b[K     |███████▉                        | 276 kB 7.5 MB/s eta 0:00:01\r\u001b[K     |████████▏                       | 286 kB 7.5 MB/s eta 0:00:01\r\u001b[K     |████████▌                       | 296 kB 7.5 MB/s eta 0:00:01\r\u001b[K     |████████▊                       | 307 kB 7.5 MB/s eta 0:00:01\r\u001b[K     |█████████                       | 317 kB 7.5 MB/s eta 0:00:01\r\u001b[K     |█████████▍                      | 327 kB 7.5 MB/s eta 0:00:01\r\u001b[K     |█████████▋                      | 337 kB 7.5 MB/s eta 0:00:01\r\u001b[K     |██████████                      | 348 kB 7.5 MB/s eta 0:00:01\r\u001b[K     |██████████▏                     | 358 kB 7.5 MB/s eta 0:00:01\r\u001b[K     |██████████▌                     | 368 kB 7.5 MB/s eta 0:00:01\r\u001b[K     |██████████▉                     | 378 kB 7.5 MB/s eta 0:00:01\r\u001b[K     |███████████                     | 389 kB 7.5 MB/s eta 0:00:01\r\u001b[K     |███████████▍                    | 399 kB 7.5 MB/s eta 0:00:01\r\u001b[K     |███████████▊                    | 409 kB 7.5 MB/s eta 0:00:01\r\u001b[K     |████████████                    | 419 kB 7.5 MB/s eta 0:00:01\r\u001b[K     |████████████▎                   | 430 kB 7.5 MB/s eta 0:00:01\r\u001b[K     |████████████▌                   | 440 kB 7.5 MB/s eta 0:00:01\r\u001b[K     |████████████▉                   | 450 kB 7.5 MB/s eta 0:00:01\r\u001b[K     |█████████████▏                  | 460 kB 7.5 MB/s eta 0:00:01\r\u001b[K     |█████████████▍                  | 471 kB 7.5 MB/s eta 0:00:01\r\u001b[K     |█████████████▊                  | 481 kB 7.5 MB/s eta 0:00:01\r\u001b[K     |██████████████                  | 491 kB 7.5 MB/s eta 0:00:01\r\u001b[K     |██████████████▎                 | 501 kB 7.5 MB/s eta 0:00:01\r\u001b[K     |██████████████▋                 | 512 kB 7.5 MB/s eta 0:00:01\r\u001b[K     |██████████████▉                 | 522 kB 7.5 MB/s eta 0:00:01\r\u001b[K     |███████████████▏                | 532 kB 7.5 MB/s eta 0:00:01\r\u001b[K     |███████████████▌                | 542 kB 7.5 MB/s eta 0:00:01\r\u001b[K     |███████████████▊                | 552 kB 7.5 MB/s eta 0:00:01\r\u001b[K     |████████████████                | 563 kB 7.5 MB/s eta 0:00:01\r\u001b[K     |████████████████▍               | 573 kB 7.5 MB/s eta 0:00:01\r\u001b[K     |████████████████▋               | 583 kB 7.5 MB/s eta 0:00:01\r\u001b[K     |█████████████████               | 593 kB 7.5 MB/s eta 0:00:01\r\u001b[K     |█████████████████▏              | 604 kB 7.5 MB/s eta 0:00:01\r\u001b[K     |█████████████████▌              | 614 kB 7.5 MB/s eta 0:00:01\r\u001b[K     |█████████████████▉              | 624 kB 7.5 MB/s eta 0:00:01\r\u001b[K     |██████████████████              | 634 kB 7.5 MB/s eta 0:00:01\r\u001b[K     |██████████████████▍             | 645 kB 7.5 MB/s eta 0:00:01\r\u001b[K     |██████████████████▊             | 655 kB 7.5 MB/s eta 0:00:01\r\u001b[K     |███████████████████             | 665 kB 7.5 MB/s eta 0:00:01\r\u001b[K     |███████████████████▎            | 675 kB 7.5 MB/s eta 0:00:01\r\u001b[K     |███████████████████▌            | 686 kB 7.5 MB/s eta 0:00:01\r\u001b[K     |███████████████████▉            | 696 kB 7.5 MB/s eta 0:00:01\r\u001b[K     |████████████████████▏           | 706 kB 7.5 MB/s eta 0:00:01\r\u001b[K     |████████████████████▍           | 716 kB 7.5 MB/s eta 0:00:01\r\u001b[K     |████████████████████▊           | 727 kB 7.5 MB/s eta 0:00:01\r\u001b[K     |█████████████████████           | 737 kB 7.5 MB/s eta 0:00:01\r\u001b[K     |█████████████████████▎          | 747 kB 7.5 MB/s eta 0:00:01\r\u001b[K     |█████████████████████▋          | 757 kB 7.5 MB/s eta 0:00:01\r\u001b[K     |█████████████████████▉          | 768 kB 7.5 MB/s eta 0:00:01\r\u001b[K     |██████████████████████▏         | 778 kB 7.5 MB/s eta 0:00:01\r\u001b[K     |██████████████████████▌         | 788 kB 7.5 MB/s eta 0:00:01\r\u001b[K     |██████████████████████▊         | 798 kB 7.5 MB/s eta 0:00:01\r\u001b[K     |███████████████████████         | 808 kB 7.5 MB/s eta 0:00:01\r\u001b[K     |███████████████████████▍        | 819 kB 7.5 MB/s eta 0:00:01\r\u001b[K     |███████████████████████▋        | 829 kB 7.5 MB/s eta 0:00:01\r\u001b[K     |████████████████████████        | 839 kB 7.5 MB/s eta 0:00:01\r\u001b[K     |████████████████████████▏       | 849 kB 7.5 MB/s eta 0:00:01\r\u001b[K     |████████████████████████▌       | 860 kB 7.5 MB/s eta 0:00:01\r\u001b[K     |████████████████████████▉       | 870 kB 7.5 MB/s eta 0:00:01\r\u001b[K     |█████████████████████████       | 880 kB 7.5 MB/s eta 0:00:01\r\u001b[K     |█████████████████████████▍      | 890 kB 7.5 MB/s eta 0:00:01\r\u001b[K     |█████████████████████████▊      | 901 kB 7.5 MB/s eta 0:00:01\r\u001b[K     |██████████████████████████      | 911 kB 7.5 MB/s eta 0:00:01\r\u001b[K     |██████████████████████████▎     | 921 kB 7.5 MB/s eta 0:00:01\r\u001b[K     |██████████████████████████▌     | 931 kB 7.5 MB/s eta 0:00:01\r\u001b[K     |██████████████████████████▉     | 942 kB 7.5 MB/s eta 0:00:01\r\u001b[K     |███████████████████████████▏    | 952 kB 7.5 MB/s eta 0:00:01\r\u001b[K     |███████████████████████████▍    | 962 kB 7.5 MB/s eta 0:00:01\r\u001b[K     |███████████████████████████▊    | 972 kB 7.5 MB/s eta 0:00:01\r\u001b[K     |████████████████████████████    | 983 kB 7.5 MB/s eta 0:00:01\r\u001b[K     |████████████████████████████▎   | 993 kB 7.5 MB/s eta 0:00:01\r\u001b[K     |████████████████████████████▋   | 1.0 MB 7.5 MB/s eta 0:00:01\r\u001b[K     |████████████████████████████▉   | 1.0 MB 7.5 MB/s eta 0:00:01\r\u001b[K     |█████████████████████████████▏  | 1.0 MB 7.5 MB/s eta 0:00:01\r\u001b[K     |█████████████████████████████▌  | 1.0 MB 7.5 MB/s eta 0:00:01\r\u001b[K     |█████████████████████████████▊  | 1.0 MB 7.5 MB/s eta 0:00:01\r\u001b[K     |██████████████████████████████  | 1.1 MB 7.5 MB/s eta 0:00:01\r\u001b[K     |██████████████████████████████▍ | 1.1 MB 7.5 MB/s eta 0:00:01\r\u001b[K     |██████████████████████████████▋ | 1.1 MB 7.5 MB/s eta 0:00:01\r\u001b[K     |███████████████████████████████ | 1.1 MB 7.5 MB/s eta 0:00:01\r\u001b[K     |███████████████████████████████▏| 1.1 MB 7.5 MB/s eta 0:00:01\r\u001b[K     |███████████████████████████████▌| 1.1 MB 7.5 MB/s eta 0:00:01\r\u001b[K     |███████████████████████████████▉| 1.1 MB 7.5 MB/s eta 0:00:01\r\u001b[K     |████████████████████████████████| 1.1 MB 7.5 MB/s \n",
            "\u001b[?25hCollecting py-ecg-detectors\n",
            "  Downloading py_ecg_detectors-1.2.0-py3-none-any.whl (24 kB)\n",
            "Collecting gatspy\n",
            "  Downloading gatspy-0.3.tar.gz (554 kB)\n",
            "\u001b[K     |████████████████████████████████| 554 kB 9.6 MB/s \n",
            "\u001b[?25hRequirement already satisfied: numpy in /usr/local/lib/python3.7/dist-packages (from py-ecg-detectors) (1.21.5)\n",
            "Requirement already satisfied: scipy in /usr/local/lib/python3.7/dist-packages (from py-ecg-detectors) (1.4.1)\n",
            "Requirement already satisfied: pywavelets in /usr/local/lib/python3.7/dist-packages (from py-ecg-detectors) (1.3.0)\n",
            "Building wheels for collected packages: gatspy\n",
            "  Building wheel for gatspy (setup.py) ... \u001b[?25l\u001b[?25hdone\n",
            "  Created wheel for gatspy: filename=gatspy-0.3-py3-none-any.whl size=43818 sha256=9c32e2fd2e39eb483cd7bddc23407b0b153c35850f70d733613bcd10e6aa556a\n",
            "  Stored in directory: /root/.cache/pip/wheels/1f/c1/4c/8de278f816259b4f67e2356c0bda260a593375661e400bf31f\n",
            "Successfully built gatspy\n",
            "Installing collected packages: gatspy, py-ecg-detectors\n",
            "Successfully installed gatspy-0.3 py-ecg-detectors-1.2.0\n",
            "Collecting neurokit2\n",
            "  Downloading neurokit2-0.1.7-py2.py3-none-any.whl (1.1 MB)\n",
            "\u001b[K     |████████████████████████████████| 1.1 MB 7.4 MB/s \n",
            "\u001b[?25hRequirement already satisfied: numpy in /usr/local/lib/python3.7/dist-packages (from neurokit2) (1.21.5)\n",
            "Requirement already satisfied: scipy in /usr/local/lib/python3.7/dist-packages (from neurokit2) (1.4.1)\n",
            "Requirement already satisfied: pandas in /usr/local/lib/python3.7/dist-packages (from neurokit2) (1.3.5)\n",
            "Requirement already satisfied: scikit-learn in /usr/local/lib/python3.7/dist-packages (from neurokit2) (1.0.2)\n",
            "Requirement already satisfied: matplotlib in /usr/local/lib/python3.7/dist-packages (from neurokit2) (3.2.2)\n",
            "Requirement already satisfied: python-dateutil>=2.1 in /usr/local/lib/python3.7/dist-packages (from matplotlib->neurokit2) (2.8.2)\n",
            "Requirement already satisfied: pyparsing!=2.0.4,!=2.1.2,!=2.1.6,>=2.0.1 in /usr/local/lib/python3.7/dist-packages (from matplotlib->neurokit2) (3.0.7)\n",
            "Requirement already satisfied: cycler>=0.10 in /usr/local/lib/python3.7/dist-packages (from matplotlib->neurokit2) (0.11.0)\n",
            "Requirement already satisfied: kiwisolver>=1.0.1 in /usr/local/lib/python3.7/dist-packages (from matplotlib->neurokit2) (1.4.0)\n",
            "Requirement already satisfied: typing-extensions in /usr/local/lib/python3.7/dist-packages (from kiwisolver>=1.0.1->matplotlib->neurokit2) (3.10.0.2)\n",
            "Requirement already satisfied: six>=1.5 in /usr/local/lib/python3.7/dist-packages (from python-dateutil>=2.1->matplotlib->neurokit2) (1.15.0)\n",
            "Requirement already satisfied: pytz>=2017.3 in /usr/local/lib/python3.7/dist-packages (from pandas->neurokit2) (2018.9)\n",
            "Requirement already satisfied: threadpoolctl>=2.0.0 in /usr/local/lib/python3.7/dist-packages (from scikit-learn->neurokit2) (3.1.0)\n",
            "Requirement already satisfied: joblib>=0.11 in /usr/local/lib/python3.7/dist-packages (from scikit-learn->neurokit2) (1.1.0)\n",
            "Installing collected packages: neurokit2\n",
            "Successfully installed neurokit2-0.1.7\n"
          ]
        }
      ],
      "source": [
        "!pip install -q -U tensorflow_addons\n",
        "!pip3 install py-ecg-detectors\n",
        "!pip install neurokit2"
      ]
    },
    {
      "cell_type": "code",
      "execution_count": 5,
      "metadata": {
        "id": "D10IEldLigQx"
      },
      "outputs": [],
      "source": [
        "import numpy as np\n",
        "import pandas as pd\n",
        "import tensorflow as tf\n",
        "from tensorflow import keras\n",
        "from tensorflow.keras import regularizers\n",
        "from tensorflow.keras.callbacks import ModelCheckpoint\n",
        "import matplotlib.pyplot as plt\n",
        "from scipy import stats\n",
        "from scipy import signal\n",
        "from sklearn.model_selection import train_test_split\n",
        "import sklearn\n",
        "import itertools\n",
        "import tensorflow_addons\n",
        "from tensorflow_addons.optimizers import CyclicalLearningRate\n",
        "import tensorflow_addons as tfa\n",
        "import matplotlib as mpl\n",
        "mpl.style.use('seaborn')\n",
        "plt.rcParams[\"figure.figsize\"] = (13,4)\n",
        "\n",
        "import matplotlib.pyplot as plt \n",
        "from os import listdir \n",
        "import requests\n",
        "import matplotlib.pyplot as plt\n",
        "from os import listdir, mkdir, system\n",
        "from os.path import isfile, isdir, join, exists\n",
        "import json\n",
        "import os\n",
        "from tqdm import tqdm\n",
        "from matplotlib import collections as matcoll\n",
        "import pywt\n",
        "\n",
        "import neurokit2 as nk\n",
        "\n",
        "from ecgdetectors import Detectors #for pantompkins\n",
        "detectors = Detectors(500) #specify sampling rate"
      ]
    },
    {
      "cell_type": "code",
      "execution_count": 6,
      "metadata": {
        "colab": {
          "base_uri": "https://localhost:8080/"
        },
        "id": "QXJ7bm2as2qZ",
        "outputId": "8d24ad49-732e-4f49-ddd3-783a37712351"
      },
      "outputs": [
        {
          "output_type": "execute_result",
          "data": {
            "text/plain": [
              "10646"
            ]
          },
          "metadata": {},
          "execution_count": 6
        }
      ],
      "source": [
        "labels = pd.read_excel('/content/drive/MyDrive/Arrythmia /Diagnostics.xlsx')\n",
        "len(labels)"
      ]
    },
    {
      "cell_type": "code",
      "execution_count": 7,
      "metadata": {
        "colab": {
          "base_uri": "https://localhost:8080/"
        },
        "id": "C1bWU4WisK-j",
        "outputId": "cdd0bbad-7eb7-4a06-d0c5-773261c709c9"
      },
      "outputs": [
        {
          "output_type": "execute_result",
          "data": {
            "text/plain": [
              "SR      1826\n",
              "AFIB    1780\n",
              "AF       445\n",
              "Name: Rhythm, dtype: int64"
            ]
          },
          "metadata": {},
          "execution_count": 7
        }
      ],
      "source": [
        "labels=labels[(labels['Rhythm']=='AFIB') | (labels['Rhythm']=='AF') |(labels['Rhythm']=='SR')]\n",
        "labels.reset_index(inplace=True,drop=True)\n",
        "labels['Rhythm'].value_counts()"
      ]
    },
    {
      "cell_type": "code",
      "execution_count": 8,
      "metadata": {
        "id": "dhgoJXDXsbCe"
      },
      "outputs": [],
      "source": [
        "afib_files = labels[labels['Rhythm']==\"AFIB\"]['FileName'].tolist()\n",
        "afib_files.remove('MUSE_20180116_131253_72000')\n",
        "\n",
        "nsr_files = labels[labels['Rhythm']==\"SR\"]['FileName'].tolist()\n",
        "afl_files = labels[labels['Rhythm']==\"AF\"]['FileName'].tolist()\n",
        "all_files = afib_files+nsr_files+afl_files"
      ]
    },
    {
      "cell_type": "markdown",
      "metadata": {
        "id": "vBl2P1LV80ho"
      },
      "source": [
        "### Preprocessing"
      ]
    },
    {
      "cell_type": "code",
      "execution_count": 9,
      "metadata": {
        "id": "H976o3q6sblK"
      },
      "outputs": [],
      "source": [
        "def plot_rr(rrintervals,rr_diff):\n",
        "  x = rrintervals/500\n",
        "  y = rr_diff\n",
        "  lines = []\n",
        "  for i in range(len(x)):\n",
        "      pair=[(x[i],0), (x[i], y[i])]\n",
        "      lines.append(pair)\n",
        "\n",
        "  linecoll = matcoll.LineCollection(lines)\n",
        "  fig, ax = plt.subplots()\n",
        "  ax.add_collection(linecoll)\n",
        "\n",
        "  plt.scatter(x,y)\n",
        "  plt.xticks(x)\n",
        "  plt.xlabel(\"Time (s)\")\n",
        "  plt.ylim(0,1)\n",
        "  plt.title(\"RR Peaks\")\n",
        "  plt.show()\n",
        "\n",
        "def detect_r_peaks(patient_list,case,showplots=False):\n",
        "    parent_folder = '/content/ECGDataDenoised/'\n",
        "\n",
        "    data_with_rr = pd.DataFrame()\n",
        "    patient_col_id = []\n",
        "    case_name = []\n",
        "    mxx=0\n",
        "    cnt=0\n",
        "    mnn=90\n",
        "    for i in tqdm(patient_list):\n",
        "      # try:\n",
        "        \n",
        "        data = parent_folder+i+\".csv\"\n",
        "        df = pd.read_csv(data,header=None)\n",
        "        df.columns=['I','II','III','aVR','aVL','aVF','V1','V2','V3','V4','V5','V6']\n",
        "        cols = df.columns\n",
        "        df[cols[:-1]] = df[cols[:-1]].apply(pd.to_numeric, errors='coerce')\n",
        "        lead_name='II'\n",
        "        count = (df[lead_name] == 0).sum()\n",
        "        if(count>0):\n",
        "          print(count)\n",
        "        if(df[lead_name].isnull().sum(axis = 0)>0):\n",
        "          print(\"Null values in \",i,\"is :\",df[lead_name].isnull().sum(axis = 0))\n",
        "        # Extract R-peaks locations\n",
        "        _, rpeaks = nk.ecg_peaks(df[\"II\"][1:], sampling_rate=500)\n",
        "        rrintervals = rpeaks['ECG_R_Peaks']\n",
        "        cnt+=len(rrintervals)-1\n",
        "        \n",
        "        rr_diff=np.diff(rrintervals)/1000\n",
        "        rr_diff = np.append(0,rr_diff)\n",
        "\n",
        "        mxx=max(len(rr_diff),mxx) #to check maximum number of rr intervals for any signal\n",
        "        mnn=min(len(rr_diff),mnn)\n",
        "\n",
        "        print(len(rrintervals),len(rr_diff))\n",
        "\n",
        "        patient_col_id.append(i)\n",
        "        case_name.append(case)\n",
        "        data_with_rr=data_with_rr.append(pd.DataFrame(rr_diff).transpose())\n",
        "        detrended_rri = signal.detrend(rr_diff, axis= -1, type='constant', bp=0, overwrite_data=False)\n",
        "\n",
        "        if(showplots):\n",
        "          plot = (nk.events_plot(rpeaks['ECG_R_Peaks'], df[\"aVL\"]))\n",
        "          plot_rr(rrintervals,rr_diff)\n",
        "          print(\"DETRENDED\")\n",
        "          plot_rr(rrintervals,detrended_rri)\n",
        "          \n",
        "      # except:\n",
        "      #   print(\"\\nError in:\",i)\n",
        "    print(\"\\n\",case,\"    ****Max****:\",mxx)\n",
        "    print(\"\\n\",case,\"    ****Min****:\",mnn,\"\\n\")\n",
        "    print(\"Total no. of RR Intervals in\",case,\" class is:\",cnt,\"\\n\")\n",
        "    data_with_rr['filename']=patient_col_id\n",
        "    data_with_rr['label']=case_name\n",
        "    return data_with_rr  #returning data containing RR Intervals with label"
      ]
    },
    {
      "cell_type": "code",
      "execution_count": 10,
      "metadata": {
        "id": "2_-zLost3hb3"
      },
      "outputs": [],
      "source": [
        "def append_r_peaks(patient_list,case,showplots=False):\n",
        "    rr_ints=[]\n",
        "    rri_with_patient_id = {}\n",
        "    # rr_ints=np.array(rr_ints) \n",
        "    parent_folder = '/content/ECGDataDenoised/'\n",
        "    data_with_rr = pd.DataFrame()\n",
        "    patient_col_id = []\n",
        "    # case_name = []\n",
        "    cnt=0\n",
        "    for i in tqdm(patient_list):\n",
        "      try:\n",
        "        data = parent_folder+i+\".csv\"\n",
        "        df = pd.read_csv(data,header=None)\n",
        "        df.columns=['I','II','III','aVR','aVL','aVF','V1','V2','V3','V4','V5','V6']\n",
        "        cols = df.columns\n",
        "        df[cols[:-1]] = df[cols[:-1]].apply(pd.to_numeric, errors='coerce')\n",
        "        lead_name='II'\n",
        "        count = (df[lead_name] == 0).sum()\n",
        "        if(count>0):\n",
        "          print(count)\n",
        "        if(df[lead_name].isnull().sum(axis = 0)>0):\n",
        "          print(\"Null values in \",i,\"is :\",df[lead_name].isnull().sum(axis = 0))\n",
        "        # Extract R-peaks locations\n",
        "        _, rpeaks = nk.ecg_peaks(df[\"II\"][1:], sampling_rate=500)\n",
        "        rrintervals = rpeaks['ECG_R_Peaks']\n",
        "        cnt+=len(rrintervals)-1\n",
        "        \n",
        "        rr_diff=np.diff(rrintervals)/1000\n",
        "        # rr_diff = np.append(0,rr_diff) #adding this 0 for equal size of RRi , hence to plot\n",
        "        rr_ints = np.append(rr_ints,rr_diff)\n",
        "        patient_col_id.append(i)\n",
        "        # case_name.append(case)\n",
        "        data_with_rr=data_with_rr.append(pd.DataFrame(rr_diff).transpose())\n",
        "        detrended_rri = signal.detrend(rr_diff, axis= -1, type='constant', bp=0, overwrite_data=False)\n",
        "        rri_with_patient_id[i]=detrended_rri\n",
        "      except:\n",
        "        print(\"\\nError in:\",i)\n",
        "\n",
        "    print(\"Total no. of RR Intervals in\",case,\" class is:\",len(rr_ints),\"\\n\")\n",
        "    return rri_with_patient_id  #returning data containing RR Intervals with label"
      ]
    },
    {
      "cell_type": "code",
      "execution_count": 11,
      "metadata": {
        "colab": {
          "base_uri": "https://localhost:8080/",
          "height": 35
        },
        "id": "BRw_8n_UmwvG",
        "outputId": "46f0c477-281c-443d-df23-756e5dad34d4"
      },
      "outputs": [
        {
          "output_type": "execute_result",
          "data": {
            "text/plain": [
              "'\\n  old one appending all arrays\\n'"
            ],
            "application/vnd.google.colaboratory.intrinsic+json": {
              "type": "string"
            }
          },
          "metadata": {},
          "execution_count": 11
        }
      ],
      "source": [
        "'''\n",
        "  old one appending all arrays\n",
        "'''\n",
        "# def append_r_peaks(patient_list,case,showplots=False):\n",
        "#     rr_ints=[]\n",
        "#     rr_ints=np.array(rr_ints)\n",
        "#     parent_folder = '/content/ECGDataDenoised/'\n",
        "#     data_with_rr = pd.DataFrame()\n",
        "#     data_with_rr = pd.DataFrame()\n",
        "#     patient_col_id = []\n",
        "#     case_name = []\n",
        "#     cnt=0\n",
        "#     for i in tqdm(patient_list):\n",
        "#       try:\n",
        "#         data = parent_folder+i+\".csv\"\n",
        "#         df = pd.read_csv(data,header=None)\n",
        "#         df.columns=['I','II','III','aVR','aVL','aVF','V1','V2','V3','V4','V5','V6']\n",
        "#         cols = df.columns\n",
        "#         df[cols[:-1]] = df[cols[:-1]].apply(pd.to_numeric, errors='coerce')\n",
        "#         lead_name='II'\n",
        "#         count = (df[lead_name] == 0).sum()\n",
        "#         if(count>0):\n",
        "#           print(count)\n",
        "#         if(df[lead_name].isnull().sum(axis = 0)>0):\n",
        "#           print(\"Null values in \",i,\"is :\",df[lead_name].isnull().sum(axis = 0))\n",
        "#         # Extract R-peaks locations\n",
        "#         _, rpeaks = nk.ecg_peaks(df[\"II\"][1:], sampling_rate=500)\n",
        "#         rrintervals = rpeaks['ECG_R_Peaks']\n",
        "#         cnt+=len(rrintervals)-1\n",
        "        \n",
        "#         rr_diff=np.diff(rrintervals)/1000\n",
        "#         # rr_diff = np.append(0,rr_diff) #adding this 0 for equal size of RRi \n",
        "#         rr_ints = np.append(rr_ints,rr_diff)\n",
        "#         patient_col_id.append(i)\n",
        "#         case_name.append(case)\n",
        "#         data_with_rr=data_with_rr.append(pd.DataFrame(rr_diff).transpose())\n",
        "#         detrended_rri = signal.detrend(rr_diff, axis= -1, type='constant', bp=0, overwrite_data=False)\n",
        "#       except:\n",
        "#         print(\"\\nError in:\",i)\n",
        "\n",
        "#     print(\"Total no. of RR Intervals in\",case,\" class is:\",len(rr_ints),\"\\n\")\n",
        "#     return rr_ints  #returning data containing RR Intervals with label"
      ]
    },
    {
      "cell_type": "code",
      "execution_count": 12,
      "metadata": {
        "id": "q-dv_K8k4AMD"
      },
      "outputs": [],
      "source": [
        "# nsr_rr=detect_r_peaks_pan_tompkins_detector(nsr_files,\"nsr\",\"pan_tompkins\",False)\n",
        "# afib_rr=detect_r_peaks_pan_tompkins_detector(afib_files,\"afib\",\"pan_tompkins\",False)\n",
        "# afl_rr=detect_r_peaks_pan_tompkins_detector(afl_files,\"afl\",\"pan_tompkins\",False)"
      ]
    },
    {
      "cell_type": "code",
      "execution_count": 13,
      "metadata": {
        "id": "YnURqAdiJwuc"
      },
      "outputs": [],
      "source": [
        "# detect_r_peaks(nsr_files[:15],\"nsr\",False) #just to check"
      ]
    },
    {
      "cell_type": "code",
      "execution_count": 15,
      "metadata": {
        "colab": {
          "base_uri": "https://localhost:8080/"
        },
        "id": "_OfXjmfdHT2c",
        "outputId": "4f30796e-f574-4a24-f81a-01643c45f65c"
      },
      "outputs": [
        {
          "output_type": "stream",
          "name": "stderr",
          "text": [
            "100%|██████████| 1826/1826 [01:04<00:00, 28.25it/s]\n"
          ]
        },
        {
          "output_type": "stream",
          "name": "stdout",
          "text": [
            "Total no. of RR Intervals in nsr  class is: 20520 \n",
            "\n"
          ]
        },
        {
          "output_type": "stream",
          "name": "stderr",
          "text": [
            " 91%|█████████ | 1619/1779 [01:05<00:06, 25.16it/s]/usr/local/lib/python3.7/dist-packages/numpy/core/fromnumeric.py:3441: RuntimeWarning: Mean of empty slice.\n",
            "  out=out, **kwargs)\n",
            "/usr/local/lib/python3.7/dist-packages/numpy/core/_methods.py:189: RuntimeWarning: invalid value encountered in double_scalars\n",
            "  ret = ret.dtype.type(ret / rcount)\n",
            "100%|██████████| 1779/1779 [01:12<00:00, 24.71it/s]\n"
          ]
        },
        {
          "output_type": "stream",
          "name": "stdout",
          "text": [
            "Total no. of RR Intervals in afib  class is: 25124 \n",
            "\n"
          ]
        },
        {
          "output_type": "stream",
          "name": "stderr",
          "text": [
            "100%|██████████| 445/445 [00:19<00:00, 22.89it/s]"
          ]
        },
        {
          "output_type": "stream",
          "name": "stdout",
          "text": [
            "Total no. of RR Intervals in afl  class is: 7491 \n",
            "\n"
          ]
        },
        {
          "output_type": "stream",
          "name": "stderr",
          "text": [
            "\n"
          ]
        }
      ],
      "source": [
        "nsr_rri=append_r_peaks(nsr_files,\"nsr\")\n",
        "afib_rri=append_r_peaks(afib_files,\"afib\")\n",
        "afl_rri=append_r_peaks(afl_files,\"afl\")"
      ]
    },
    {
      "cell_type": "code",
      "execution_count": 16,
      "metadata": {
        "id": "TyO0RhUapDvX"
      },
      "outputs": [],
      "source": [
        "nsr_extraction_rr = pd.DataFrame.from_dict(nsr_rri,orient='index')\n",
        "afl_extraction_rr = pd.DataFrame.from_dict(afl_rri,orient='index')\n",
        "afib_extraction_rr = pd.DataFrame.from_dict(afib_rri,orient='index')"
      ]
    },
    {
      "cell_type": "code",
      "execution_count": 17,
      "metadata": {
        "id": "iK2D5xKGg3Yg"
      },
      "outputs": [],
      "source": [
        "all_subjects=all_files\n",
        "subject_label = {}\n",
        "for i in afib_files:\n",
        "    subject_label[i] = 'afib'\n",
        "for i in nsr_files:\n",
        "    subject_label[i] = 'nsr'\n",
        "for i in afl_files:\n",
        "    subject_label[i] = 'afl'"
      ]
    },
    {
      "cell_type": "code",
      "source": [
        "def round_robin(RR_interval):\n",
        "\n",
        "  RR_interval=RR_interval.tolist()\n",
        "  wind_size = 100\n",
        "  data_vect = []\n",
        "  modified_data_vector = []\n",
        "  ex_index = []\n",
        "\n",
        "  #CREATE DATA VECTOR\n",
        "  for i in tqdm(range(len(RR_interval))):\n",
        "\n",
        "    if i < len(RR_interval):\n",
        "\n",
        "      if len(RR_interval) >= i+wind_size:\n",
        "        rr_interval = RR_interval[i:i+wind_size]\n",
        "        data_vect.append(rr_interval)\n",
        "      else:\n",
        "        RR_interval.extend(RR_interval[0:100])\n",
        "        rr_interval = RR_interval[i:i+wind_size]\n",
        "        data_vect.append(rr_interval)\n",
        "\n",
        "  # #REMOVE EQUIDISTANT VECTORS\n",
        "  # for v in tqdm(range(len(data_vect))):\n",
        "    \n",
        "  #   if v in ex_index:\n",
        "  #     continue\n",
        "  #   else:\n",
        "  #     next_data = data_vect[v+1: len(data_vect)-1]\n",
        "  #     c = 0\n",
        "  #     for vi in range(len(next_data)):\n",
        "        \n",
        "  #       if len(data_vect[v])==len(next_data[vi]):\n",
        "\n",
        "  #         np_sub_array = np.absolute(np.array(data_vect[v]) - np.array(next_data[vi]))\n",
        "  #         result = np.all(np_sub_array == np_sub_array[0])\n",
        "  #         if result == True:\n",
        "  #           ex_index.append(v+1+vi)\n",
        "  #           c+=1\n",
        "  #     if c == 0:\n",
        "  #       modified_data_vector.append(data_vect[v])\n",
        "\n",
        "  # return modified_data_vector\n",
        "  return np.array(data_vect)"
      ],
      "metadata": {
        "id": "rAIVN6vMdY4t"
      },
      "execution_count": 19,
      "outputs": []
    },
    {
      "cell_type": "markdown",
      "metadata": {
        "id": "A-s2KVRSukCr"
      },
      "source": [
        "### Labelling encoding {'nsr': 0, 'afib': 1, 'afl':2}\n"
      ]
    },
    {
      "cell_type": "code",
      "execution_count": 25,
      "metadata": {
        "id": "GKZGeV2i3cjF"
      },
      "outputs": [],
      "source": [
        "def extractor(case,id):\n",
        "  cnt_id={}\n",
        "  nsr_det_rri = []\n",
        "  nsr_det_rri = np.array(nsr_det_rri)\n",
        "  afib_det_rri = []\n",
        "  afib_det_rri = np.array(afib_det_rri)\n",
        "  afl_det_rri = []\n",
        "  afl_det_rri = np.array(afl_det_rri)\n",
        "  afl_list = []\n",
        "  for i in id:\n",
        "    label=subject_label[all_subjects[i]]\n",
        "    if label in cnt_id:\n",
        "      cnt_id[label]+=1\n",
        "    else:\n",
        "      cnt_id[label]=1\n",
        "    name=all_subjects[i]\n",
        "    if(label=='nsr'):\n",
        "      nsr_det_rri=np.append(nsr_det_rri,nsr_rri[name])\n",
        "    elif(label=='afl'):\n",
        "      afl_list.append(name)\n",
        "      afl_det_rri=np.append(afl_det_rri,afl_rri[name])\n",
        "    else:\n",
        "      afib_det_rri=np.append(afib_det_rri,afib_rri[name])\n",
        "    ## \n",
        "  print(case,\":\",cnt_id)\n",
        "  print(len(afib_det_rri),len(nsr_det_rri),len(afl_det_rri))\n",
        "\n",
        "  p1 = np.random.permutation(afl_list)\n",
        "  p2 = np.random.permutation(afl_list)\n",
        "  # print(len(p1),\" , \",len(p2))\n",
        "  for k in p1:\n",
        "    afl_det_rri=np.append(afl_det_rri,afl_rri[k])\n",
        "  for k in p2:\n",
        "    afl_det_rri=np.append(afl_det_rri,afl_rri[k])\n",
        "  print(\"After patient Scrambling:\",len(afl_det_rri))\n",
        "\n",
        "\n",
        "\n",
        "  afib_vectors = round_robin(afib_det_rri)\n",
        "  afl_vectors = round_robin(afl_det_rri)\n",
        "  nsr_vectors = round_robin(nsr_det_rri)\n",
        "  len__puncture = min(len(afib_vectors),min(len(nsr_vectors),len(afl_vectors)))\n",
        "  afib_vectors = afib_vectors[:len__puncture]\n",
        "  afl_vectors = afl_vectors[:len__puncture]\n",
        "  nsr_vectors = nsr_vectors[:len__puncture]\n",
        "\n",
        "  afib_rr = pd.DataFrame(afib_vectors)\n",
        "  afib_rr['label']='afib'\n",
        "  nsr_rr = pd.DataFrame(nsr_vectors)\n",
        "  nsr_rr['label']='nsr'\n",
        "  afl_rr = pd.DataFrame(afl_vectors)\n",
        "  afl_rr['label']='afl'\n",
        "\n",
        "  full_data_with_rr=pd.concat([afib_rr,nsr_rr,afl_rr])\n",
        "  dict = {'nsr': 0, 'afib': 1, 'afl':2}\n",
        "  full_data_with_rr.replace({'label': dict},inplace=True)\n",
        "  return full_data_with_rr"
      ]
    },
    {
      "cell_type": "code",
      "execution_count": 26,
      "metadata": {
        "colab": {
          "base_uri": "https://localhost:8080/"
        },
        "id": "64UmytgFg16l",
        "outputId": "152a76b7-65a8-48bc-9820-a8cc9e2b148e"
      },
      "outputs": [
        {
          "output_type": "stream",
          "name": "stdout",
          "text": [
            "train : {'afib': 1592, 'nsr': 1652, 'afl': 401}\n",
            "22573 18567 6786\n",
            "After patient Scrambling: 20358\n"
          ]
        },
        {
          "output_type": "stream",
          "name": "stderr",
          "text": [
            "100%|██████████| 22573/22573 [00:00<00:00, 66224.39it/s]\n",
            "100%|██████████| 20358/20358 [00:00<00:00, 225577.54it/s]\n",
            "100%|██████████| 18567/18567 [00:00<00:00, 268333.13it/s]\n"
          ]
        },
        {
          "output_type": "stream",
          "name": "stdout",
          "text": [
            "test : {'afib': 187, 'nsr': 174, 'afl': 44}\n",
            "2551 1953 705\n",
            "After patient Scrambling: 2115\n"
          ]
        },
        {
          "output_type": "stream",
          "name": "stderr",
          "text": [
            "100%|██████████| 2551/2551 [00:00<00:00, 325732.75it/s]\n",
            "100%|██████████| 2115/2115 [00:00<00:00, 341085.55it/s]\n",
            "100%|██████████| 1953/1953 [00:00<00:00, 198187.26it/s]\n"
          ]
        }
      ],
      "source": [
        "# scikit-learn k-fold cross-validation\n",
        "from numpy import array\n",
        "from sklearn.model_selection import KFold\n",
        "data=all_subjects\n",
        "\n",
        "# prepare cross validation\n",
        "kfold = KFold(10,shuffle=True,random_state=42)\n",
        "\n",
        "# enumerate splits\n",
        "for train, test in kfold.split(data):  \n",
        "#   cnt_train={}\n",
        "#   nsr_det_rri = []\n",
        "#   nsr_det_rri = np.array(nsr_det_rri)\n",
        "#   afib_det_rri = []\n",
        "#   afib_det_rri = np.array(afib_det_rri)\n",
        "#   afl_det_rri = []\n",
        "#   afl_det_rri = np.array(afl_det_rri)\n",
        "#   afl_list = []\n",
        "#   for i in train:\n",
        "#     label=subject_label[all_subjects[i]]\n",
        "#     if label in cnt_train:\n",
        "#       cnt_train[label]+=1\n",
        "#     else:\n",
        "#       cnt_train[label]=1\n",
        "#     name=all_subjects[i]\n",
        "#     if(label=='nsr'):\n",
        "#       nsr_det_rri=np.append(nsr_det_rri,nsr_rri[name])\n",
        "#     elif(label=='afl'):\n",
        "#       afl_list.append(name)\n",
        "#       afl_det_rri=np.append(afl_det_rri,afl_rri[name])\n",
        "#     else:\n",
        "#       afib_det_rri=np.append(afib_det_rri,afib_rri[name])\n",
        "#     ## \n",
        "#   print(\"Train:\",cnt_train)\n",
        "#   print(len(afib_det_rri),len(nsr_det_rri),len(afl_det_rri))\n",
        "\n",
        "#   p1 = np.random.permutation(afl_list)\n",
        "#   p2 = np.random.permutation(afl_list)\n",
        "#   # print(len(p1),\" , \",len(p2))\n",
        "#   for k in p1:\n",
        "#     afl_det_rri=np.append(afl_det_rri,afl_rri[k])\n",
        "#   for k in p2:\n",
        "#     afl_det_rri=np.append(afl_det_rri,afl_rri[k])\n",
        "#   print(\"After patient Scrambling:\",len(afl_det_rri))\n",
        "\n",
        "\n",
        "# #### Similar to train\n",
        "\n",
        "#   nsr_det_rri_test = []\n",
        "#   nsr_det_rri_test = np.array(nsr_det_rri_test)\n",
        "#   afib_det_rri_test = []\n",
        "#   afib_det_rri_test = np.array(afib_det_rri_test)\n",
        "#   afl_det_rri_test = []\n",
        "#   afl_det_rri_test = np.array(afl_det_rri_test)\n",
        "\n",
        "#   cnt_test={}\n",
        "#   afl_list = []\n",
        "#   for i in test:\n",
        "#     label=subject_label[all_subjects[i]]\n",
        "#     if label in cnt_test:\n",
        "#       cnt_test[label]+=1\n",
        "#     else:\n",
        "#       cnt_test[label]=1\n",
        "#     name=all_subjects[i]\n",
        "#     if(label=='nsr'):\n",
        "#       nsr_det_rri_test=np.append(nsr_det_rri_test,nsr_rri[name])\n",
        "#     elif(label=='afl'):\n",
        "#       afl_list.append(name)\n",
        "#       afl_det_rri_test=np.append(afl_det_rri_test,afl_rri[name])\n",
        "#     else:\n",
        "#       afib_det_rri_test=np.append(afib_det_rri_test,afib_rri[name])\n",
        "#      ## \n",
        "#   print(\"Test:\",cnt_test)\n",
        "#   print(len(afib_det_rri_test),len(nsr_det_rri_test),len(afl_det_rri_test))\n",
        "  \n",
        "#   p1 = np.random.permutation(afl_list)\n",
        "#   p2 = np.random.permutation(afl_list)\n",
        "#   for k in p1:\n",
        "#     afl_det_rri_test=np.append(afl_det_rri_test,afl_rri[k])\n",
        "#   for k in p2:\n",
        "#     afl_det_rri_test=np.append(afl_det_rri_test,afl_rri[k])\n",
        "#   print(\"After patient Scrambling:\",len(afl_det_rri_test))\n",
        "  full_train_set = extractor(\"train\",train)\n",
        "  full_test_set = extractor(\"test\",test)\n",
        "\n",
        "\n",
        "  TESTER(full_train_set,full_test_set)\n",
        "\n",
        "\n",
        "  break\n",
        "  #1 fold done call rest part in function to complete your k fold cv"
      ]
    },
    {
      "cell_type": "code",
      "execution_count": 31,
      "metadata": {
        "id": "UtBQ2ffcqoel",
        "colab": {
          "base_uri": "https://localhost:8080/"
        },
        "outputId": "8ed74e45-187f-4bd8-9fc4-93e20bbe7f6a"
      },
      "outputs": [
        {
          "output_type": "execute_result",
          "data": {
            "text/plain": [
              "(1    18567\n",
              " 0    18567\n",
              " 2    18567\n",
              " Name: label, dtype: int64, 1    1953\n",
              " 0    1953\n",
              " 2    1953\n",
              " Name: label, dtype: int64)"
            ]
          },
          "metadata": {},
          "execution_count": 31
        }
      ],
      "source": [
        "full_train_set.label.value_counts(),full_test_set.label.value_counts()"
      ]
    },
    {
      "cell_type": "code",
      "source": [
        "def TESTER(train_data,test_data):\n",
        "  train=train_data\n",
        "  train = train.sample(frac=1).reset_index(drop=True)\n",
        "  train = train.sample(frac=1).reset_index(drop=True)\n",
        "  "
      ],
      "metadata": {
        "id": "QZmK_S7-e7Fj"
      },
      "execution_count": null,
      "outputs": []
    },
    {
      "cell_type": "markdown",
      "metadata": {
        "id": "VdoxJp_ULbIP"
      },
      "source": [
        "### Start from here. Read Train file which is already saved"
      ]
    },
    {
      "cell_type": "code",
      "execution_count": 33,
      "metadata": {
        "id": "Yn2XvnbgLaIL"
      },
      "outputs": [],
      "source": [
        "# train=pd.read_csv(\"/content/drive/MyDrive/train_with_rr_20.csv\")\n",
        "train=pd.read_csv(\"/content/drive/MyDrive/train_data_rr_100.csv\")\n",
        "train = train.sample(frac=1).reset_index(drop=True)\n",
        "train = train.sample(frac=1).reset_index(drop=True)"
      ]
    },
    {
      "cell_type": "code",
      "execution_count": 34,
      "metadata": {
        "id": "U20iUJ8cNySX"
      },
      "outputs": [],
      "source": [
        "# Copied from https://github.com/avanwyk/tensorflow-projects/blob/master/lr-finder/lr_finder.py\n",
        "# Apache License 2.0\n",
        "\n",
        "from tensorflow.keras.callbacks import Callback\n",
        "\n",
        "class LRFinder(Callback):\n",
        "    \"\"\"`Callback` that exponentially adjusts the learning rate after each training batch between `start_lr` and\n",
        "    `end_lr` for a maximum number of batches: `max_step`. The loss and learning rate are recorded at each step allowing\n",
        "    visually finding a good learning rate as per https://sgugger.github.io/how-do-you-find-a-good-learning-rate.html via\n",
        "    the `plot` method.\n",
        "    \"\"\"\n",
        "\n",
        "    def __init__(self, start_lr: float = 1e-2, end_lr: float = 10, max_steps: int = 100, smoothing=0.9):\n",
        "        super(LRFinder, self).__init__()\n",
        "        self.start_lr, self.end_lr = start_lr, end_lr\n",
        "        self.max_steps = max_steps\n",
        "        self.smoothing = smoothing\n",
        "        self.step, self.best_loss, self.avg_loss, self.lr = 0, 0, 0, 0\n",
        "        self.lrs, self.losses = [], []\n",
        "\n",
        "    def on_train_begin(self, logs=None):\n",
        "        self.step, self.best_loss, self.avg_loss, self.lr = 0, 0, 0, 0\n",
        "        self.lrs, self.losses = [], []\n",
        "\n",
        "    def on_train_batch_begin(self, batch, logs=None):\n",
        "        self.lr = self.exp_annealing(self.step)\n",
        "        tf.keras.backend.set_value(self.model.optimizer.lr, self.lr)\n",
        "\n",
        "    def on_train_batch_end(self, batch, logs=None):\n",
        "        logs = logs or {}\n",
        "        loss = logs.get('loss')\n",
        "        step = self.step\n",
        "        if loss:\n",
        "            self.avg_loss = self.smoothing * self.avg_loss + (1 - self.smoothing) * loss\n",
        "            smooth_loss = self.avg_loss / (1 - self.smoothing ** (self.step + 1))\n",
        "            self.losses.append(smooth_loss)\n",
        "            self.lrs.append(self.lr)\n",
        "\n",
        "            if step == 0 or loss < self.best_loss:\n",
        "                self.best_loss = loss\n",
        "\n",
        "            if smooth_loss > 4 * self.best_loss or tf.math.is_nan(smooth_loss):\n",
        "                self.model.stop_training = True\n",
        "\n",
        "        if step == self.max_steps:\n",
        "            self.model.stop_training = True\n",
        "\n",
        "        self.step += 1\n",
        "\n",
        "    def exp_annealing(self, step):\n",
        "        return self.start_lr * (self.end_lr / self.start_lr) ** (step * 1. / self.max_steps)\n",
        "\n",
        "    def plot(self):\n",
        "        fig, ax = plt.subplots(1, 1)\n",
        "        ax.set_ylabel('Loss')\n",
        "        ax.set_xlabel('Learning Rate (log scale)')\n",
        "        ax.set_xscale('log')\n",
        "        ax.xaxis.set_major_formatter(plt.FormatStrFormatter('%.0e'))\n",
        "        ax.plot(self.lrs, self.losses)"
      ]
    },
    {
      "cell_type": "code",
      "execution_count": 35,
      "metadata": {
        "id": "U43IvL_tNyyM"
      },
      "outputs": [],
      "source": [
        "def pretty_plot(history, field, fn):\n",
        "  def plot(data, val_data, best_index, best_value, title):\n",
        "    plt.plot(range(1, len(data)+1), data, label='train')\n",
        "    plt.plot(range(1, len(data)+1), val_data, label='validation')\n",
        "    if not best_index is None:\n",
        "      plt.axvline(x=best_index+1, linestyle=':', c=\"#777777\")\n",
        "    if not best_value is None:\n",
        "      plt.axhline(y=best_value, linestyle=':', c=\"#777777\")\n",
        "    plt.xlabel('Epoch')\n",
        "    plt.ylabel(field)\n",
        "    plt.xticks(range(0, len(data), 20))\n",
        "    plt.title(title)\n",
        "    plt.legend()\n",
        "    plt.show()\n",
        "\n",
        "  data = history.history[field]\n",
        "  val_data = history.history['val_' + field]\n",
        "  tail = int(0.15 * len(data))\n",
        "\n",
        "  best_index = fn(val_data)\n",
        "  best_value = val_data[best_index]\n",
        "\n",
        "  plot(data, val_data, best_index, best_value, \"{} over epochs (best {:06.4f})\".format(field, best_value))\n",
        "  plot(data[-tail:], val_data[-tail:], None, best_value, \"{} over last {} epochs\".format(field, tail))"
      ]
    },
    {
      "cell_type": "code",
      "execution_count": 36,
      "metadata": {
        "id": "s4Kyu59FN6Gr"
      },
      "outputs": [],
      "source": [
        "def plot_confusion_matrix(cm, classes,\n",
        "                          normalize=False,\n",
        "                          title='Confusion matrix',\n",
        "                          cmap=plt.cm.Blues):\n",
        "    \"\"\"\n",
        "    This function prints and plots the confusion matrix.\n",
        "    Normalization can be applied by setting `normalize=True`.\n",
        "    \"\"\"\n",
        "    plt.imshow(cm, interpolation='nearest', cmap=cmap)\n",
        "    plt.title(title)\n",
        "    plt.colorbar()\n",
        "    tick_marks = np.arange(len(classes))\n",
        "    plt.xticks(tick_marks, classes, rotation=45)\n",
        "    plt.yticks(tick_marks, classes)\n",
        "\n",
        "    if normalize:\n",
        "        cm = cm.astype('float') / cm.sum(axis=1)[:, np.newaxis]\n",
        "        print(\"Normalized confusion matrix\")\n",
        "    else:\n",
        "        print('Confusion matrix, without normalization')\n",
        "\n",
        "    print(cm)\n",
        "\n",
        "    thresh = cm.max() / 2.\n",
        "    for i, j in itertools.product(range(cm.shape[0]), range(cm.shape[1])):\n",
        "        plt.text(j, i, cm[i, j],\n",
        "                 horizontalalignment=\"center\",\n",
        "                 color=\"white\" if cm[i, j] > thresh else \"black\")\n",
        "\n",
        "    plt.tight_layout()\n",
        "    plt.ylabel('True label')\n",
        "    plt.xlabel('Predicted label')\n"
      ]
    },
    {
      "cell_type": "code",
      "execution_count": 37,
      "metadata": {
        "id": "rTx6rNMjN78J"
      },
      "outputs": [],
      "source": [
        "def get_base_model(categories=3):\n",
        "  return keras.Sequential([\n",
        "    keras.layers.Dense(10, activation='relu', input_shape=[100], kernel_regularizer=regularizers.l2(0.001)),\n",
        "    # keras.layers.Dense(25, activation='relu', kernel_regularizer=regularizers.l2(0.001)),\n",
        "    keras.layers.Dense(3, activation='relu'),\n",
        "    (keras.layers.Dense(1, activation='sigmoid') if categories == 3 else keras.layers.Dense(5, activation='softmax'))                   \n",
        "  ])"
      ]
    },
    {
      "cell_type": "code",
      "source": [
        "full_data_with_rr = train"
      ],
      "metadata": {
        "id": "w68IFSplfU3w"
      },
      "execution_count": 39,
      "outputs": []
    },
    {
      "cell_type": "code",
      "execution_count": 40,
      "metadata": {
        "colab": {
          "base_uri": "https://localhost:8080/"
        },
        "id": "YYg0O19l9Hnw",
        "outputId": "40830420-4c29-434c-f1a3-b4d859f3a88e"
      },
      "outputs": [
        {
          "output_type": "stream",
          "name": "stdout",
          "text": [
            "All features size (55701, 100)\n",
            "Train features size (44560, 100)\n",
            "Validation features size (5570, 100)\n",
            "Test features size (5571, 100)\n"
          ]
        }
      ],
      "source": [
        "X_arhy_train, X_arhy_val, y_arhy_train, y_arhy_val = train_test_split(full_data_with_rr.iloc[:,:-1].values, full_data_with_rr.iloc[:,-1].values, test_size=0.2, random_state=42)\n",
        "X_arhy_val, X_arhy_test, y_arhy_val, y_arhy_test  = train_test_split(X_arhy_val, y_arhy_val, test_size=0.5, random_state=42)\n",
        "\n",
        "print(\"All features size {}\".format(full_data_with_rr.iloc[:,:-1].shape))\n",
        "print(\"Train features size {}\".format(X_arhy_train.shape))\n",
        "print(\"Validation features size {}\".format(X_arhy_val.shape))\n",
        "print(\"Test features size {}\".format(X_arhy_test.shape))"
      ]
    },
    {
      "cell_type": "code",
      "execution_count": 41,
      "metadata": {
        "colab": {
          "base_uri": "https://localhost:8080/"
        },
        "id": "41kvWbD_j1ko",
        "outputId": "31e7b44f-b741-4ac0-f0e9-bdfc3da1ced3"
      },
      "outputs": [
        {
          "output_type": "execute_result",
          "data": {
            "text/plain": [
              "array([[-0.00168   ,  0.00032   ,  0.00132   , ..., -0.01095833,\n",
              "        -0.00995833, -0.00795833],\n",
              "       [-0.00171429,  0.01028571,  0.00028571, ..., -0.011     ,\n",
              "         0.01      , -0.021     ],\n",
              "       [-0.04426667,  0.00173333, -0.03026667, ..., -0.04268182,\n",
              "         0.08931818, -0.03268182],\n",
              "       ...,\n",
              "       [ 0.00045455,  0.00045455, -0.00154545, ..., -0.00313333,\n",
              "        -0.00313333, -0.00313333],\n",
              "       [ 0.00828571, -0.05871429,  0.02428571, ...,  0.03344444,\n",
              "         0.00344444,  0.01844444],\n",
              "       [ 0.05966667, -0.07433333, -0.03033333, ..., -0.11313333,\n",
              "        -0.10313333,  0.01886667]])"
            ]
          },
          "metadata": {},
          "execution_count": 41
        }
      ],
      "source": [
        "X_arhy_train"
      ]
    },
    {
      "cell_type": "markdown",
      "metadata": {
        "id": "nbBTyKlmndxd"
      },
      "source": [
        "### ResNet Model"
      ]
    },
    {
      "cell_type": "code",
      "execution_count": 42,
      "metadata": {
        "id": "SQzWN5EGneFZ"
      },
      "outputs": [],
      "source": [
        "def get_resnet_model(categories=3): #original\n",
        "  def residual_block(X, kernels, stride):\n",
        "    out = keras.layers.Conv1D(64,kernels, stride, padding='same')(X)\n",
        "    # out = keras.layers.ReLU()(out)\n",
        "    # out = keras.layers.Conv1D(kernels, stride, padding='same')(out)\n",
        "    out = keras.layers.add([X, out])\n",
        "    out = keras.layers.ReLU()(out)\n",
        "    out = keras.layers.MaxPool1D(1, 3)(out)\n",
        "    return out\n",
        "\n",
        "  kernels = 32\n",
        "  stride = 1\n",
        "\n",
        "  inputs = keras.layers.Input([100,1])\n",
        "  X = keras.layers.Conv1D(64,kernels, stride)(inputs)\n",
        "  X = residual_block(X, kernels, stride)\n",
        "  X = residual_block(X, kernels, stride)\n",
        "  X = residual_block(X, kernels, stride)\n",
        "  X = residual_block(X, kernels, stride)\n",
        "  X = residual_block(X, kernels, stride)\n",
        "  X = keras.layers.Flatten()(X)\n",
        "  X = keras.layers.Dense(32, activation='relu')(X)\n",
        "  X = keras.layers.Dense(32, activation='relu')(X)\n",
        "  output = (keras.layers.Dense(1, activation='sigmoid')(X) if categories == 3 else keras.layers.Dense(5, activation='softmax')(X))\n",
        "\n",
        "  model = keras.Model(inputs=inputs, outputs=output)\n",
        "  return model"
      ]
    },
    {
      "cell_type": "markdown",
      "metadata": {
        "id": "HkWsJ7Par2hA"
      },
      "source": [
        "## ResNet MIT-BIH replication"
      ]
    },
    {
      "cell_type": "code",
      "execution_count": 43,
      "metadata": {
        "id": "75fS7O7Lq1cm"
      },
      "outputs": [],
      "source": [
        "X_arhy_train, X_arhy_val, y_arhy_train, y_arhy_val = train_test_split(full_data_with_rr.iloc[:,:-1].values, full_data_with_rr.iloc[:,-1].values,test_size=0.1, random_state=42)\n",
        "\n",
        "X_arhy_test, X_arhy_val, y_arhy_test, y_arhy_val = train_test_split(X_arhy_val,y_arhy_val,test_size=0.5, random_state=42)\n",
        "\n",
        "# The 1D convolutions expect an extra dimension in the input data \n",
        "X_arhyl_train = np.expand_dims(X_arhy_train, -1)\n",
        "y_arhyl_train = np.expand_dims(y_arhy_train, -1)\n",
        "X_arhyl_val = np.expand_dims(X_arhy_val, -1)\n",
        "y_arhyl_val = np.expand_dims(y_arhy_val, -1)\n",
        "X_arhyl_test = np.expand_dims(X_arhy_test, -1)\n",
        "y_arhyl_test = np.expand_dims(y_arhy_test, -1)\n"
      ]
    },
    {
      "cell_type": "code",
      "execution_count": 44,
      "metadata": {
        "colab": {
          "base_uri": "https://localhost:8080/",
          "height": 334
        },
        "id": "3tLSt7Ghq1e8",
        "outputId": "aeb11665-42b5-406b-e92f-44d57d540d62"
      },
      "outputs": [
        {
          "output_type": "stream",
          "name": "stderr",
          "text": [
            "/usr/local/lib/python3.7/dist-packages/keras/optimizer_v2/adam.py:105: UserWarning: The `lr` argument is deprecated, use `learning_rate` instead.\n",
            "  super(Adam, self).__init__(name, **kwargs)\n"
          ]
        },
        {
          "output_type": "display_data",
          "data": {
            "text/plain": [
              "<Figure size 936x288 with 1 Axes>"
            ],
            "image/png": "[encoded data removed]"
          },
          "metadata": {}
        }
      ],
      "source": [
        "N = X_arhyl_train.shape[0]\n",
        "batch_size = 128\n",
        "iterations = N/batch_size\n",
        "step_size= 2 * iterations\n",
        "\n",
        "optimizer = keras.optimizers.Adam(lr=0.001)\n",
        "model = get_resnet_model(5) \n",
        "model.compile(optimizer=optimizer, loss='sparse_categorical_crossentropy', metrics=['accuracy'])\n",
        "\n",
        "lr_finder = LRFinder(start_lr=1e-7, end_lr= 1e-02, max_steps=50, smoothing=0.6)\n",
        "_ = model.fit(X_arhyl_train, y_arhyl_train, batch_size=256, epochs=5, callbacks=[lr_finder], verbose=False)\n",
        "lr_finder.plot()"
      ]
    },
    {
      "cell_type": "code",
      "source": [
        "lr_schedule = CyclicalLearningRate(1e-5, 1e-2, step_size=step_size, scale_fn=lambda x: tf.pow(0.95,x))\n",
        "optimizer = tf.keras.optimizers.Adam(learning_rate=lr_schedule)\n",
        "m_resnet_model = get_resnet_model(7)\n",
        "\n",
        "save_best_weights = ModelCheckpoint(filepath=\"weights.hdf5\", verbose=0, save_best_only=True)\n",
        "\n",
        "m_resnet_model.compile(optimizer=optimizer, loss='sparse_categorical_crossentropy', metrics=['accuracy'])\n",
        "history = m_resnet_model.fit(X_arhyl_train, y_arhyl_train, validation_data=(X_arhyl_val, y_arhyl_val), \n",
        "                             shuffle=True, batch_size=128, epochs=8, callbacks=[save_best_weights])"
      ],
      "metadata": {
        "colab": {
          "base_uri": "https://localhost:8080/"
        },
        "id": "-vbUUWyHfpBm",
        "outputId": "7ffc8461-81c9-4cb1-8c04-17642570221c"
      },
      "execution_count": 45,
      "outputs": [
        {
          "output_type": "stream",
          "name": "stdout",
          "text": [
            "Epoch 1/8\n",
            "392/392 [==============================] - 195s 495ms/step - loss: 0.5390 - accuracy: 0.7552 - val_loss: 0.2550 - val_accuracy: 0.8973\n",
            "Epoch 2/8\n",
            "392/392 [==============================] - 191s 486ms/step - loss: 0.2408 - accuracy: 0.9063 - val_loss: 0.1667 - val_accuracy: 0.9318\n",
            "Epoch 3/8\n",
            "392/392 [==============================] - 186s 473ms/step - loss: 0.1287 - accuracy: 0.9531 - val_loss: 0.0487 - val_accuracy: 0.9817\n",
            "Epoch 4/8\n",
            "392/392 [==============================] - 186s 475ms/step - loss: 0.0275 - accuracy: 0.9904 - val_loss: 0.0135 - val_accuracy: 0.9957\n",
            "Epoch 5/8\n",
            "392/392 [==============================] - 187s 478ms/step - loss: 0.0248 - accuracy: 0.9915 - val_loss: 0.0407 - val_accuracy: 0.9846\n",
            "Epoch 6/8\n",
            "392/392 [==============================] - 186s 475ms/step - loss: 0.0860 - accuracy: 0.9703 - val_loss: 0.1248 - val_accuracy: 0.9594\n",
            "Epoch 7/8\n",
            "392/392 [==============================] - 207s 527ms/step - loss: 0.0893 - accuracy: 0.9685 - val_loss: 0.0303 - val_accuracy: 0.9889\n",
            "Epoch 8/8\n",
            "392/392 [==============================] - 202s 515ms/step - loss: 0.0112 - accuracy: 0.9962 - val_loss: 0.0114 - val_accuracy: 0.9957\n"
          ]
        }
      ]
    },
    {
      "cell_type": "code",
      "execution_count": null,
      "metadata": {
        "colab": {
          "base_uri": "https://localhost:8080/"
        },
        "id": "yuqH255Gq1hR",
        "outputId": "b3fe0d7c-1db0-403d-cfef-b806d4a5da16"
      },
      "outputs": [
        {
          "output_type": "stream",
          "name": "stdout",
          "text": [
            "Epoch 1/8\n",
            "392/392 [==============================] - 7s 14ms/step - loss: 0.5750 - accuracy: 0.7573 - val_loss: 0.3058 - val_accuracy: 0.8859\n",
            "Epoch 2/8\n",
            "392/392 [==============================] - 4s 10ms/step - loss: 0.2634 - accuracy: 0.8988 - val_loss: 0.2390 - val_accuracy: 0.8977\n",
            "Epoch 3/8\n",
            "392/392 [==============================] - 4s 9ms/step - loss: 0.1306 - accuracy: 0.9516 - val_loss: 0.0691 - val_accuracy: 0.9720\n",
            "Epoch 4/8\n",
            "392/392 [==============================] - 3s 8ms/step - loss: 0.0306 - accuracy: 0.9891 - val_loss: 0.0318 - val_accuracy: 0.9899\n",
            "Epoch 5/8\n",
            "392/392 [==============================] - 3s 8ms/step - loss: 0.0238 - accuracy: 0.9910 - val_loss: 0.0706 - val_accuracy: 0.9734\n",
            "Epoch 6/8\n",
            "392/392 [==============================] - 3s 8ms/step - loss: 0.0759 - accuracy: 0.9735 - val_loss: 0.0942 - val_accuracy: 0.9623\n",
            "Epoch 7/8\n",
            "392/392 [==============================] - 3s 8ms/step - loss: 0.0524 - accuracy: 0.9826 - val_loss: 0.0419 - val_accuracy: 0.9860\n",
            "Epoch 8/8\n",
            "392/392 [==============================] - 3s 8ms/step - loss: 0.0067 - accuracy: 0.9977 - val_loss: 0.0083 - val_accuracy: 0.9971\n"
          ]
        }
      ],
      "source": [
        "lr_schedule = CyclicalLearningRate(1e-5, 1e-2, step_size=step_size, scale_fn=lambda x: tf.pow(0.95,x))\n",
        "optimizer = tf.keras.optimizers.Adam(learning_rate=lr_schedule)\n",
        "m_resnet_model = get_resnet_model(7)\n",
        "\n",
        "save_best_weights = ModelCheckpoint(filepath=\"weights.hdf5\", verbose=0, save_best_only=True)\n",
        "\n",
        "m_resnet_model.compile(optimizer=optimizer, loss='sparse_categorical_crossentropy', metrics=['accuracy'])\n",
        "history = m_resnet_model.fit(X_arhyl_train, y_arhyl_train, validation_data=(X_arhyl_val, y_arhyl_val), \n",
        "                             shuffle=True, batch_size=128, epochs=8, callbacks=[save_best_weights])"
      ]
    },
    {
      "cell_type": "code",
      "execution_count": 46,
      "metadata": {
        "id": "pfEgjbFxq1jX",
        "colab": {
          "base_uri": "https://localhost:8080/",
          "height": 537
        },
        "outputId": "cb822244-3c4e-42ea-8826-a617eb558b3c"
      },
      "outputs": [
        {
          "output_type": "display_data",
          "data": {
            "text/plain": [
              "<Figure size 936x288 with 1 Axes>"
            ],
            "image/png": "[encoded data removed]"
          },
          "metadata": {}
        },
        {
          "output_type": "display_data",
          "data": {
            "text/plain": [
              "<Figure size 936x288 with 1 Axes>"
            ],
            "image/png": "[encoded data removed]"
          },
          "metadata": {}
        }
      ],
      "source": [
        "pretty_plot(history, 'loss', lambda x: np.argmin(x))"
      ]
    },
    {
      "cell_type": "code",
      "execution_count": 47,
      "metadata": {
        "id": "K38SU0tOq1ld",
        "colab": {
          "base_uri": "https://localhost:8080/",
          "height": 537
        },
        "outputId": "613e49a1-c080-4caf-8c73-c72b92d569b0"
      },
      "outputs": [
        {
          "output_type": "display_data",
          "data": {
            "text/plain": [
              "<Figure size 936x288 with 1 Axes>"
            ],
            "image/png": "[encoded data removed]"
          },
          "metadata": {}
        },
        {
          "output_type": "display_data",
          "data": {
            "text/plain": [
              "<Figure size 936x288 with 1 Axes>"
            ],
            "image/png": "[encoded data removed]"
          },
          "metadata": {}
        }
      ],
      "source": [
        "pretty_plot(history, 'accuracy', lambda x: np.argmax(x))"
      ]
    },
    {
      "cell_type": "code",
      "execution_count": 51,
      "metadata": {
        "id": "upmbxofZq1n7",
        "colab": {
          "base_uri": "https://localhost:8080/"
        },
        "outputId": "110b15af-cd90-42d1-b138-a42d26814701"
      },
      "outputs": [
        {
          "output_type": "stream",
          "name": "stdout",
          "text": [
            "88/88 [==============================] - 2s 21ms/step - loss: 0.0323 - accuracy: 0.9889\n"
          ]
        }
      ],
      "source": [
        "m_resnet_model.load_weights('weights.hdf5')\n",
        "X_arhy_test = m_resnet_model.evaluate(X_arhyl_test, y_arhyl_test)"
      ]
    },
    {
      "cell_type": "code",
      "execution_count": 52,
      "metadata": {
        "id": "p46RW2u2q1p8",
        "colab": {
          "base_uri": "https://localhost:8080/",
          "height": 382
        },
        "outputId": "ec1639b4-59ed-42bb-c7fc-4b113fbd8c43"
      },
      "outputs": [
        {
          "output_type": "stream",
          "name": "stdout",
          "text": [
            "Confusion matrix, without normalization\n",
            "[[883   0   4]\n",
            " [  0 887   6]\n",
            " [  2  19 984]]\n"
          ]
        },
        {
          "output_type": "display_data",
          "data": {
            "text/plain": [
              "<Figure size 936x288 with 2 Axes>"
            ],
            "image/png": "[encoded data removed]"
          },
          "metadata": {}
        }
      ],
      "source": [
        "y_pred = tf.argmax(m_resnet_model.predict(X_arhyl_test), axis=-1)\n",
        "# Compute confusion matrix\n",
        "cnf_matrix = sklearn.metrics.confusion_matrix(y_arhy_test, y_pred)\n",
        "np.set_printoptions(precision=2)\n",
        "\n",
        "# Plot non-normalized confusion matrix\n",
        "plt.figure()\n",
        "plot_confusion_matrix(cnf_matrix, classes=['NSR', 'AFIB','AFL'],\n",
        "                      title='Confusion matrix, without normalization')"
      ]
    },
    {
      "cell_type": "code",
      "execution_count": 50,
      "metadata": {
        "id": "98W6IoW5u6_x",
        "colab": {
          "base_uri": "https://localhost:8080/"
        },
        "outputId": "4b61ff4c-4456-4d3d-f913-5e2ab9e733f4"
      },
      "outputs": [
        {
          "output_type": "stream",
          "name": "stdout",
          "text": [
            "Model: \"model_1\"\n",
            "__________________________________________________________________________________________________\n",
            " Layer (type)                   Output Shape         Param #     Connected to                     \n",
            "==================================================================================================\n",
            " input_2 (InputLayer)           [(None, 100, 1)]     0           []                               \n",
            "                                                                                                  \n",
            " conv1d_6 (Conv1D)              (None, 69, 64)       2112        ['input_2[0][0]']                \n",
            "                                                                                                  \n",
            " conv1d_7 (Conv1D)              (None, 69, 64)       131136      ['conv1d_6[0][0]']               \n",
            "                                                                                                  \n",
            " add_5 (Add)                    (None, 69, 64)       0           ['conv1d_6[0][0]',               \n",
            "                                                                  'conv1d_7[0][0]']               \n",
            "                                                                                                  \n",
            " re_lu_5 (ReLU)                 (None, 69, 64)       0           ['add_5[0][0]']                  \n",
            "                                                                                                  \n",
            " max_pooling1d_5 (MaxPooling1D)  (None, 23, 64)      0           ['re_lu_5[0][0]']                \n",
            "                                                                                                  \n",
            " conv1d_8 (Conv1D)              (None, 23, 64)       131136      ['max_pooling1d_5[0][0]']        \n",
            "                                                                                                  \n",
            " add_6 (Add)                    (None, 23, 64)       0           ['max_pooling1d_5[0][0]',        \n",
            "                                                                  'conv1d_8[0][0]']               \n",
            "                                                                                                  \n",
            " re_lu_6 (ReLU)                 (None, 23, 64)       0           ['add_6[0][0]']                  \n",
            "                                                                                                  \n",
            " max_pooling1d_6 (MaxPooling1D)  (None, 8, 64)       0           ['re_lu_6[0][0]']                \n",
            "                                                                                                  \n",
            " conv1d_9 (Conv1D)              (None, 8, 64)        131136      ['max_pooling1d_6[0][0]']        \n",
            "                                                                                                  \n",
            " add_7 (Add)                    (None, 8, 64)        0           ['max_pooling1d_6[0][0]',        \n",
            "                                                                  'conv1d_9[0][0]']               \n",
            "                                                                                                  \n",
            " re_lu_7 (ReLU)                 (None, 8, 64)        0           ['add_7[0][0]']                  \n",
            "                                                                                                  \n",
            " max_pooling1d_7 (MaxPooling1D)  (None, 3, 64)       0           ['re_lu_7[0][0]']                \n",
            "                                                                                                  \n",
            " conv1d_10 (Conv1D)             (None, 3, 64)        131136      ['max_pooling1d_7[0][0]']        \n",
            "                                                                                                  \n",
            " add_8 (Add)                    (None, 3, 64)        0           ['max_pooling1d_7[0][0]',        \n",
            "                                                                  'conv1d_10[0][0]']              \n",
            "                                                                                                  \n",
            " re_lu_8 (ReLU)                 (None, 3, 64)        0           ['add_8[0][0]']                  \n",
            "                                                                                                  \n",
            " max_pooling1d_8 (MaxPooling1D)  (None, 1, 64)       0           ['re_lu_8[0][0]']                \n",
            "                                                                                                  \n",
            " conv1d_11 (Conv1D)             (None, 1, 64)        131136      ['max_pooling1d_8[0][0]']        \n",
            "                                                                                                  \n",
            " add_9 (Add)                    (None, 1, 64)        0           ['max_pooling1d_8[0][0]',        \n",
            "                                                                  'conv1d_11[0][0]']              \n",
            "                                                                                                  \n",
            " re_lu_9 (ReLU)                 (None, 1, 64)        0           ['add_9[0][0]']                  \n",
            "                                                                                                  \n",
            " max_pooling1d_9 (MaxPooling1D)  (None, 1, 64)       0           ['re_lu_9[0][0]']                \n",
            "                                                                                                  \n",
            " flatten_1 (Flatten)            (None, 64)           0           ['max_pooling1d_9[0][0]']        \n",
            "                                                                                                  \n",
            " dense_3 (Dense)                (None, 32)           2080        ['flatten_1[0][0]']              \n",
            "                                                                                                  \n",
            " dense_4 (Dense)                (None, 32)           1056        ['dense_3[0][0]']                \n",
            "                                                                                                  \n",
            " dense_5 (Dense)                (None, 5)            165         ['dense_4[0][0]']                \n",
            "                                                                                                  \n",
            "==================================================================================================\n",
            "Total params: 661,093\n",
            "Trainable params: 661,093\n",
            "Non-trainable params: 0\n",
            "__________________________________________________________________________________________________\n"
          ]
        }
      ],
      "source": [
        "m_resnet_model.summary()"
      ]
    },
    {
      "cell_type": "code",
      "execution_count": 55,
      "metadata": {
        "id": "KON_i87fvFKa"
      },
      "outputs": [],
      "source": [
        "\n",
        "X_arhy_test_10split = full_test_set.iloc[:,:-1].values\n",
        "y_arhy_test_10split = full_test_set.iloc[:,-1].values\n"
      ]
    },
    {
      "cell_type": "code",
      "source": [
        "m_resnet_model.evaluate(X_arhy_test_10split, y_arhy_test_10split)"
      ],
      "metadata": {
        "colab": {
          "base_uri": "https://localhost:8080/"
        },
        "id": "_dqBqUIQmW6F",
        "outputId": "86824231-a075-4728-e892-1ae28e89d6c4"
      },
      "execution_count": 56,
      "outputs": [
        {
          "output_type": "stream",
          "name": "stdout",
          "text": [
            "184/184 [==============================] - 4s 21ms/step - loss: 1.1984 - accuracy: 0.8850\n"
          ]
        },
        {
          "output_type": "execute_result",
          "data": {
            "text/plain": [
              "[1.198411464691162, 0.88496333360672]"
            ]
          },
          "metadata": {},
          "execution_count": 56
        }
      ]
    },
    {
      "cell_type": "code",
      "source": [
        "y_pred = tf.argmax(m_resnet_model.predict(X_arhy_test_10split), axis=-1)\n",
        "# Compute confusion matrix\n",
        "cnf_matrix = sklearn.metrics.confusion_matrix(y_arhy_test_10split, y_pred)\n",
        "np.set_printoptions(precision=2)\n",
        "\n",
        "# Plot non-normalized confusion matrix\n",
        "plt.figure()\n",
        "plot_confusion_matrix(cnf_matrix, classes=['NSR', 'AFIB','AFL'],\n",
        "                      title='Confusion matrix, without normalization')"
      ],
      "metadata": {
        "colab": {
          "base_uri": "https://localhost:8080/",
          "height": 382
        },
        "id": "ADmuHLr4l71H",
        "outputId": "b20dabf4-3ffe-4336-cb7c-b32fc911d845"
      },
      "execution_count": 57,
      "outputs": [
        {
          "output_type": "stream",
          "name": "stdout",
          "text": [
            "Confusion matrix, without normalization\n",
            "[[1846    0  107]\n",
            " [   0 1883   70]\n",
            " [  40  457 1456]]\n"
          ]
        },
        {
          "output_type": "display_data",
          "data": {
            "text/plain": [
              "<Figure size 936x288 with 2 Axes>"
            ],
            "image/png": "[encoded data removed]"
          },
          "metadata": {}
        }
      ]
    },
    {
      "cell_type": "code",
      "source": [
        ""
      ],
      "metadata": {
        "id": "lxFo2GV8mlSx"
      },
      "execution_count": null,
      "outputs": []
    }
  ],
  "metadata": {
    "accelerator": "GPU",
    "colab": {
      "collapsed_sections": [
        "vBl2P1LV80ho",
        "gW5DGbNe3lv2"
      ],
      "name": "Arrhythmia Detection v_final.ipynb",
      "provenance": []
    },
    "kernelspec": {
      "display_name": "Python 3",
      "name": "python3"
    },
    "language_info": {
      "name": "python"
    }
  },
  "nbformat": 4,
  "nbformat_minor": 0
}