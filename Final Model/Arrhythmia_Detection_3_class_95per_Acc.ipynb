{
  "nbformat": 4,
  "nbformat_minor": 0,
  "metadata": {
    "colab": {
      "name": "Arrhythmia Detection.ipynb",
      "provenance": [],
      "collapsed_sections": []
    },
    "kernelspec": {
      "name": "python3",
      "display_name": "Python 3"
    },
    "language_info": {
      "name": "python"
    },
    "accelerator": "GPU"
  },
  "cells": [
    {
      "cell_type": "markdown",
      "metadata": {
        "id": "JfeS7tsK8vBb"
      },
      "source": [
        "### Import Libraries"
      ]
    },
    {
      "cell_type": "code",
      "execution_count": null,
      "metadata": {
        "id": "1CQcQeImZfDq"
      },
      "outputs": [],
      "source": [
        "!unzip /content/drive/\"My Drive\"/\"Arrythmia \"/ECGDataDenoised.zip"
      ]
    },
    {
      "cell_type": "code",
      "source": [
        "!pip install -q -U tensorflow_addons\n",
        "!pip install neurokit2\n",
        "# !pip install wfdb"
      ],
      "metadata": {
        "colab": {
          "base_uri": "https://localhost:8080/"
        },
        "id": "8W8TzQO4b2pN",
        "outputId": "32f3b9d5-1038-4d37-fa03-b83d13cec929"
      },
      "execution_count": 2,
      "outputs": [
        {
          "output_type": "stream",
          "name": "stdout",
          "text": [
            "\u001b[K     |████████████████████████████████| 1.1 MB 8.1 MB/s \n",
            "\u001b[?25hCollecting neurokit2\n",
            "  Downloading neurokit2-0.1.7-py2.py3-none-any.whl (1.1 MB)\n",
            "\u001b[K     |████████████████████████████████| 1.1 MB 8.0 MB/s \n",
            "\u001b[?25hRequirement already satisfied: pandas in /usr/local/lib/python3.7/dist-packages (from neurokit2) (1.3.5)\n",
            "Requirement already satisfied: numpy in /usr/local/lib/python3.7/dist-packages (from neurokit2) (1.21.5)\n",
            "Requirement already satisfied: scikit-learn in /usr/local/lib/python3.7/dist-packages (from neurokit2) (1.0.2)\n",
            "Requirement already satisfied: scipy in /usr/local/lib/python3.7/dist-packages (from neurokit2) (1.4.1)\n",
            "Requirement already satisfied: matplotlib in /usr/local/lib/python3.7/dist-packages (from neurokit2) (3.2.2)\n",
            "Requirement already satisfied: kiwisolver>=1.0.1 in /usr/local/lib/python3.7/dist-packages (from matplotlib->neurokit2) (1.4.2)\n",
            "Requirement already satisfied: python-dateutil>=2.1 in /usr/local/lib/python3.7/dist-packages (from matplotlib->neurokit2) (2.8.2)\n",
            "Requirement already satisfied: pyparsing!=2.0.4,!=2.1.2,!=2.1.6,>=2.0.1 in /usr/local/lib/python3.7/dist-packages (from matplotlib->neurokit2) (3.0.8)\n",
            "Requirement already satisfied: cycler>=0.10 in /usr/local/lib/python3.7/dist-packages (from matplotlib->neurokit2) (0.11.0)\n",
            "Requirement already satisfied: typing-extensions in /usr/local/lib/python3.7/dist-packages (from kiwisolver>=1.0.1->matplotlib->neurokit2) (4.1.1)\n",
            "Requirement already satisfied: six>=1.5 in /usr/local/lib/python3.7/dist-packages (from python-dateutil>=2.1->matplotlib->neurokit2) (1.15.0)\n",
            "Requirement already satisfied: pytz>=2017.3 in /usr/local/lib/python3.7/dist-packages (from pandas->neurokit2) (2018.9)\n",
            "Requirement already satisfied: threadpoolctl>=2.0.0 in /usr/local/lib/python3.7/dist-packages (from scikit-learn->neurokit2) (3.1.0)\n",
            "Requirement already satisfied: joblib>=0.11 in /usr/local/lib/python3.7/dist-packages (from scikit-learn->neurokit2) (1.1.0)\n",
            "Installing collected packages: neurokit2\n",
            "Successfully installed neurokit2-0.1.7\n"
          ]
        }
      ]
    },
    {
      "cell_type": "code",
      "source": [
        "import sys\n",
        "import os\n",
        "\n",
        "from tensorflow.keras.layers import BatchNormalization\n",
        "%matplotlib inline\n",
        "sampling_rate=500\n",
        "arr_folder_location = \"/content/drive/MyDrive/Arrythmia /\"\n",
        "sys.path.append(os.path.abspath(arr_folder_location))"
      ],
      "metadata": {
        "id": "ZhA_vuSKb88g"
      },
      "execution_count": 3,
      "outputs": []
    },
    {
      "cell_type": "code",
      "source": [
        "from arryhthmia_backend import *"
      ],
      "metadata": {
        "colab": {
          "base_uri": "https://localhost:8080/"
        },
        "id": "OKBR5f9Ab_2K",
        "outputId": "e6d3df60-1927-447e-fb41-79a2a836fc0d"
      },
      "execution_count": 4,
      "outputs": [
        {
          "output_type": "stream",
          "name": "stdout",
          "text": [
            "File Import Success\n"
          ]
        }
      ]
    },
    {
      "cell_type": "code",
      "source": [
        "def extractor(case,id):\n",
        "  cnt_id={}\n",
        "  nsr_det_rri = []\n",
        "  nsr_det_rri = np.array(nsr_det_rri)\n",
        "  afib_det_rri = []\n",
        "  afib_det_rri = np.array(afib_det_rri)\n",
        "  afl_det_rri = []\n",
        "  afl_det_rri = np.array(afl_det_rri)\n",
        "  afl_list = []\n",
        "  for i in id:\n",
        "    label=subject_label[all_subjects[i]]\n",
        "    if label in cnt_id:\n",
        "      cnt_id[label]+=1\n",
        "    else:\n",
        "      cnt_id[label]=1\n",
        "    name=all_subjects[i]\n",
        "    if(label=='nsr'):\n",
        "      nsr_det_rri=np.append(nsr_det_rri,nsr_rri[name])\n",
        "    elif(label=='afl'):\n",
        "      afl_list.append(name)\n",
        "      afl_det_rri=np.append(afl_det_rri,afl_rri[name])\n",
        "    else:\n",
        "      afib_det_rri=np.append(afib_det_rri,afib_rri[name])\n",
        "    ## \n",
        "  print(case,\":\",cnt_id)\n",
        "  print(len(afib_det_rri),len(nsr_det_rri),len(afl_det_rri))\n",
        "\n",
        "  p1 = np.random.permutation(afl_list)\n",
        "  p2 = np.random.permutation(afl_list)\n",
        "  # print(len(p1),\" , \",len(p2))\n",
        "  for k in p1:\n",
        "    afl_det_rri=np.append(afl_det_rri,afl_rri[k])\n",
        "  for k in p2:\n",
        "    afl_det_rri=np.append(afl_det_rri,afl_rri[k])\n",
        "  print(\"After patient Scrambling:\",len(afl_det_rri))\n",
        "\n",
        "\n",
        "  afib_vectors = round_robin(afib_det_rri)\n",
        "  afl_vectors = round_robin(afl_det_rri)\n",
        "  nsr_vectors = round_robin(nsr_det_rri)\n",
        "  len__puncture = min(len(afib_vectors),min(len(nsr_vectors),len(afl_vectors)))\n",
        "  afib_vectors = afib_vectors[:len__puncture]\n",
        "  afl_vectors = afl_vectors[:len__puncture]\n",
        "  nsr_vectors = nsr_vectors[:len__puncture]\n",
        "\n",
        "  afib_rr = pd.DataFrame(afib_vectors)\n",
        "  afib_rr['label']='afib'\n",
        "  nsr_rr = pd.DataFrame(nsr_vectors)\n",
        "  nsr_rr['label']='nsr'\n",
        "  afl_rr = pd.DataFrame(afl_vectors)\n",
        "  afl_rr['label']='afl'\n",
        "\n",
        "  full_data_with_rr=pd.concat([afib_rr,nsr_rr,afl_rr])\n",
        "  dict = {'nsr': 0, 'afib': 1, 'afl':2}\n",
        "  full_data_with_rr.replace({'label': dict},inplace=True)\n",
        "  return full_data_with_rr\n",
        "\n",
        "\n",
        "\n",
        "def train_1_fold(train,test,NN,num_epochs):\n",
        "    # train=pd.read_csv(\"/content/drive/MyDrive/train_with_rr_20.csv\")\n",
        "    train = train.sample(frac=1).reset_index(drop=True)\n",
        "    train = train.sample(frac=1).reset_index(drop=True)\n",
        "    full_data_with_rr=train\n",
        "    full_test_set=test\n",
        "\n",
        "    X_arhy_train, X_arhy_val, y_arhy_train, y_arhy_val = train_test_split(full_data_with_rr.iloc[:,:-1].values, full_data_with_rr.iloc[:,-1].values,test_size=0.1, random_state=42)\n",
        "\n",
        "    X_arhy_test, X_arhy_val, y_arhy_test, y_arhy_val = train_test_split(X_arhy_val,y_arhy_val,test_size=0.5, random_state=42)\n",
        "\n",
        "    # The 1D convolutions expect an extra dimension in the input data \n",
        "    X_arhyl_train = np.expand_dims(X_arhy_train, -1)\n",
        "    y_arhyl_train = np.expand_dims(y_arhy_train, -1)\n",
        "    X_arhyl_val = np.expand_dims(X_arhy_val, -1)\n",
        "    y_arhyl_val = np.expand_dims(y_arhy_val, -1)\n",
        "    X_arhyl_test = np.expand_dims(X_arhy_test, -1)\n",
        "    y_arhyl_test = np.expand_dims(y_arhy_test, -1)\n",
        "\n",
        "    N = X_arhyl_train.shape[0]\n",
        "    batch_size = 128\n",
        "    iterations = N/batch_size\n",
        "    step_size= 2 * iterations\n",
        "\n",
        "    optimizer = keras.optimizers.Adam(lr=0.001)\n",
        "    model = get_resnet_model(5) \n",
        "    model.compile(optimizer=optimizer, loss='sparse_categorical_crossentropy', metrics=['accuracy'])\n",
        "\n",
        "    lr_finder = LRFinder(start_lr=1e-7, end_lr= 1e-02, max_steps=50, smoothing=0.6)\n",
        "    _ = model.fit(X_arhyl_train, y_arhyl_train, batch_size=256, epochs=num_epochs, callbacks=[lr_finder], verbose=False)\n",
        "    lr_finder.plot()\n",
        "\n",
        "    lr_schedule = CyclicalLearningRate(1e-5, 1e-2, step_size=step_size, scale_fn=lambda x: tf.pow(0.95,x))\n",
        "    \n",
        "    \n",
        "    optimizer = tf.keras.optimizers.Adam(learning_rate=lr_schedule)\n",
        "    m_resnet_model = get_resnet_model(NN)\n",
        "\n",
        "    save_best_weights = ModelCheckpoint(filepath=\"/content/drive/My Drive/Arrythmia /weights.hdf5\", verbose=0, save_best_only=True)\n",
        "\n",
        "    m_resnet_model.compile(optimizer=optimizer, loss='sparse_categorical_crossentropy', metrics=['accuracy'])\n",
        "    history = m_resnet_model.fit(X_arhyl_train, y_arhyl_train, validation_data=(X_arhyl_val, y_arhyl_val), \n",
        "                                shuffle=True, batch_size=128, epochs=num_epochs, callbacks=[save_best_weights])\n",
        "    pretty_plot(history, 'loss', lambda x: np.argmin(x))\n",
        "    pretty_plot(history, 'accuracy', lambda x: np.argmax(x))\n",
        "    m_resnet_model.load_weights(\"/content/drive/My Drive/Arrythmia /weights.hdf5\")\n",
        "    print(\"\\n****** Val data (used to tune hyperparameters for model) *****\\n\")\n",
        "    test_stats = m_resnet_model.evaluate(X_arhyl_test, y_arhyl_test)   \n",
        "    test_acc = round(test_stats[1],2)\n",
        "    \n",
        "    y_pred = tf.argmax(m_resnet_model.predict(X_arhyl_test), axis=-1)\n",
        "    # Compute confusion matrix\n",
        "    cnf_matrix = sklearn.metrics.confusion_matrix(y_arhy_test, y_pred)\n",
        "    np.set_printoptions(precision=2)\n",
        "\n",
        "    # Plot non-normalized confusion matrix\n",
        "    plt.figure()\n",
        "    plot_confusion_matrix(cnf_matrix, classes=['NSR', 'AFIB','AFL'],\n",
        "                        title='Confusion matrix, without normalization')\n",
        "\n",
        "    X_arhy_test_10split = full_test_set.iloc[:,:-1].values\n",
        "    y_arhy_test_10split = full_test_set.iloc[:,-1].values\n",
        "\n",
        "    print(\"\\n****** Validation data (unseen to model) *****\\n\")\n",
        "    ###########\n",
        "    val_stats=m_resnet_model.evaluate(X_arhy_test_10split, y_arhy_test_10split)\n",
        "    val_acc = round(val_stats[1],4)\n",
        "    \n",
        "    y_pred = tf.argmax(m_resnet_model.predict(X_arhy_test_10split), axis=-1)\n",
        "    # Compute confusion matrix\n",
        "    cnf_matrix = sklearn.metrics.confusion_matrix(y_arhy_test_10split, y_pred)\n",
        "    np.set_printoptions(precision=2)\n",
        "\n",
        "    # Plot non-normalized confusion matrix\n",
        "    plt.figure()\n",
        "    plot_confusion_matrix(cnf_matrix, classes=['NSR', 'AFIB','AFL'],\n",
        "                        title='Confusion matrix, without normalization')\n",
        "    \n",
        "    print(\"Final Accuracy:\",val_acc*100,\"%\\n\")\n",
        "    return float(val_acc*100)\n"
      ],
      "metadata": {
        "id": "zdtizHgvcasT"
      },
      "execution_count": 5,
      "outputs": []
    },
    {
      "cell_type": "code",
      "source": [
        "labels = pd.read_excel('/content/drive/MyDrive/Arrythmia /Diagnostics.xlsx')\n",
        "len(labels)"
      ],
      "metadata": {
        "colab": {
          "base_uri": "https://localhost:8080/"
        },
        "id": "yRtiHJf5ccNG",
        "outputId": "0248a710-d0d3-41d5-89d8-c8e6f76ea3bc"
      },
      "execution_count": 6,
      "outputs": [
        {
          "output_type": "execute_result",
          "data": {
            "text/plain": [
              "10646"
            ]
          },
          "metadata": {},
          "execution_count": 6
        }
      ]
    },
    {
      "cell_type": "code",
      "execution_count": 7,
      "metadata": {
        "colab": {
          "base_uri": "https://localhost:8080/"
        },
        "id": "C1bWU4WisK-j",
        "outputId": "37e6153b-9885-4547-9d5a-e143cb4e8f9f"
      },
      "outputs": [
        {
          "output_type": "execute_result",
          "data": {
            "text/plain": [
              "SR      1826\n",
              "AFIB    1780\n",
              "AF       445\n",
              "Name: Rhythm, dtype: int64"
            ]
          },
          "metadata": {},
          "execution_count": 7
        }
      ],
      "source": [
        "labels=labels[(labels['Rhythm']=='AFIB') | (labels['Rhythm']=='AF') |(labels['Rhythm']=='SR')]\n",
        "labels.reset_index(inplace=True,drop=True)\n",
        "labels['Rhythm'].value_counts()"
      ]
    },
    {
      "cell_type": "markdown",
      "metadata": {
        "id": "vBl2P1LV80ho"
      },
      "source": [
        "### Preprocessing"
      ]
    },
    {
      "cell_type": "code",
      "execution_count": 8,
      "metadata": {
        "id": "dhgoJXDXsbCe"
      },
      "outputs": [],
      "source": [
        "afib_files = labels[labels['Rhythm']==\"AFIB\"]['FileName'].tolist()\n",
        "afib_files.remove('MUSE_20180116_131253_72000')\n",
        "nsr_files = labels[labels['Rhythm']==\"SR\"]['FileName'].tolist()\n",
        "afl_files = labels[labels['Rhythm']==\"AF\"]['FileName'].tolist()\n",
        "all_files = afib_files+nsr_files+afl_files"
      ]
    },
    {
      "cell_type": "code",
      "execution_count": 9,
      "metadata": {
        "colab": {
          "base_uri": "https://localhost:8080/"
        },
        "id": "_OfXjmfdHT2c",
        "outputId": "879a7805-59ab-4a0a-fc49-c1fa493edde4"
      },
      "outputs": [
        {
          "output_type": "stream",
          "name": "stderr",
          "text": [
            "100%|██████████| 1826/1826 [00:34<00:00, 52.51it/s]\n"
          ]
        },
        {
          "output_type": "stream",
          "name": "stdout",
          "text": [
            "Total no. of RR Intervals in nsr  class is: 20520 \n",
            "\n"
          ]
        },
        {
          "output_type": "stream",
          "name": "stderr",
          "text": [
            " 91%|█████████ | 1615/1779 [00:27<00:02, 60.60it/s]/usr/local/lib/python3.7/dist-packages/numpy/core/fromnumeric.py:3441: RuntimeWarning: Mean of empty slice.\n",
            "  out=out, **kwargs)\n",
            "/usr/local/lib/python3.7/dist-packages/numpy/core/_methods.py:189: RuntimeWarning: invalid value encountered in double_scalars\n",
            "  ret = ret.dtype.type(ret / rcount)\n",
            "100%|██████████| 1779/1779 [00:30<00:00, 58.26it/s]\n"
          ]
        },
        {
          "output_type": "stream",
          "name": "stdout",
          "text": [
            "Total no. of RR Intervals in afib  class is: 25124 \n",
            "\n"
          ]
        },
        {
          "output_type": "stream",
          "name": "stderr",
          "text": [
            "100%|██████████| 445/445 [00:07<00:00, 59.19it/s]"
          ]
        },
        {
          "output_type": "stream",
          "name": "stdout",
          "text": [
            "Total no. of RR Intervals in afl  class is: 7491 \n",
            "\n"
          ]
        },
        {
          "output_type": "stream",
          "name": "stderr",
          "text": [
            "\n"
          ]
        }
      ],
      "source": [
        "nsr_rri=append_r_peaks(nsr_files,\"nsr\",sampling_rate=500)\n",
        "afib_rri=append_r_peaks(afib_files,\"afib\",sampling_rate=500)\n",
        "afl_rri=append_r_peaks(afl_files,\"afl\",sampling_rate=500)\n",
        "# to verify total no. of total RR Intervals for each class and \n",
        "# Extract RR Peaks into a dictionary with filename"
      ]
    },
    {
      "cell_type": "code",
      "execution_count": 10,
      "metadata": {
        "id": "TyO0RhUapDvX"
      },
      "outputs": [],
      "source": [
        "# nsr_extraction_rr = pd.DataFrame.from_dict(nsr_rri,orient='index')\n",
        "# afl_extraction_rr = pd.DataFrame.from_dict(afl_rri,orient='index')\n",
        "# afib_extraction_rr = pd.DataFrame.from_dict(afib_rri,orient='index')"
      ]
    },
    {
      "cell_type": "code",
      "execution_count": 11,
      "metadata": {
        "id": "iK2D5xKGg3Yg"
      },
      "outputs": [],
      "source": [
        "all_subjects=all_files\n",
        "subject_label = {}\n",
        "for i in afib_files:\n",
        "    subject_label[i] = 'afib'\n",
        "for i in nsr_files:\n",
        "    subject_label[i] = 'nsr'\n",
        "for i in afl_files:\n",
        "    subject_label[i] = 'afl'"
      ]
    },
    {
      "cell_type": "code",
      "source": [
        ""
      ],
      "metadata": {
        "id": "3v341Wak629Y"
      },
      "execution_count": 12,
      "outputs": []
    },
    {
      "cell_type": "markdown",
      "metadata": {
        "id": "A-s2KVRSukCr"
      },
      "source": [
        "### Labelling encoding {'nsr': 0, 'afib': 1, 'afl':2}\n"
      ]
    },
    {
      "cell_type": "code",
      "source": [
        "def get_resnet_model(categories=3): #original\n",
        "  def residual_block(X, kernels, stride,F_size):\n",
        "    out = tf.keras.layers.Conv1D(F_size,kernels, stride, padding='same')(X)\n",
        "    # out = BatchNormalization()(out)\n",
        "    out = tf.keras.activations.relu(out)    \n",
        "    out = tf.keras.layers.add([X, out])\n",
        "    out = tf.keras.layers.MaxPool1D(1, 3)(out)\n",
        "    return out\n",
        "\n",
        "  kernels = 32\n",
        "  stride = 1\n",
        "\n",
        "  ### INPUT\n",
        "  inputs = tf.keras.layers.Input([100,1])\n",
        "  ### BLOCK 1\n",
        "  X = tf.keras.layers.Conv1D(64,8, stride)(inputs)  \n",
        "  X = tf.keras.activations.relu(X)\n",
        "  # X = BatchNormalization()(X)\n",
        "  X = tf.keras.layers.Conv1D(64,5, stride)(inputs)  \n",
        "  X = tf.keras.activations.relu(X)\n",
        "  # X = BatchNormalization()(X)\n",
        "  X = tf.keras.layers.Conv1D(64,3, stride)(inputs)  \n",
        "  X = tf.keras.activations.relu(X)\n",
        "  # X = BatchNormalization()(X)\n",
        "\n",
        "  ### Residual Block\n",
        "  X = residual_block(X, kernels, stride,64)\n",
        "  X = tf.keras.activations.relu(X)  \n",
        "\n",
        "  ### BLOCK 2\n",
        "  X = tf.keras.layers.Conv1D(128,8, stride)(inputs)\n",
        "  X = tf.keras.activations.relu(X)\n",
        "  # X = BatchNormalization()(X)\n",
        "  X = tf.keras.layers.Conv1D(128,5, stride)(inputs)\n",
        "  X = tf.keras.activations.relu(X)\n",
        "  # X = BatchNormalization()(X)\n",
        "  X = tf.keras.layers.Conv1D(128,3, stride)(inputs)\n",
        "  X = tf.keras.activations.relu(X)\n",
        "  # X = BatchNormalization()(X)\n",
        "\n",
        "  ### Residual Block  \n",
        "  X = residual_block(X, kernels, stride,128)\n",
        "  X = tf.keras.activations.relu(X)  \n",
        "\n",
        "  ### BLOCK 3\n",
        "  X = tf.keras.layers.Conv1D(128,8, stride)(inputs)\n",
        "  X = tf.keras.activations.relu(X)\n",
        "  # X = BatchNormalization()(X)\n",
        "  X = tf.keras.layers.Conv1D(128,5, stride)(inputs)\n",
        "  X = tf.keras.activations.relu(X)\n",
        "  # X = BatchNormalization()(X)\n",
        "  X = tf.keras.layers.Conv1D(128,3, stride)(inputs)\n",
        "  X = tf.keras.activations.relu(X)\n",
        "  # X = BatchNormalization()(X)\n",
        "  \n",
        "  ### Residual Block  \n",
        "  X = residual_block(X, kernels, stride,128)\n",
        "  \n",
        "  # X = tf.keras.layers.Flatten()(X)\n",
        "  X = tf.keras.layers.GlobalAveragePooling1D()(X)\n",
        "\n",
        "  # X = tf.keras.layers.Dense(64, activation='relu')(X)\n",
        "  # X = tf.keras.layers.Dense(32, activation='relu')(X)\n",
        "  X = tf.keras.layers.Dense(8, activation='relu')(X)\n",
        "\n",
        "  output = (tf.keras.layers.Dense(1, activation='sigmoid')(X) if categories == 3 else tf.keras.layers.Dense(5, activation='softmax')(X))\n",
        "\n",
        "  model = tf.keras.Model(inputs=inputs, outputs=output)\n",
        "  return model\n"
      ],
      "metadata": {
        "id": "WI47EK1dVVdh"
      },
      "execution_count": 27,
      "outputs": []
    },
    {
      "cell_type": "code",
      "execution_count": 30,
      "metadata": {
        "id": "64UmytgFg16l",
        "colab": {
          "base_uri": "https://localhost:8080/",
          "height": 1000
        },
        "outputId": "e30d9597-7ec1-4484-b076-ab69fa6aa83e"
      },
      "outputs": [
        {
          "output_type": "stream",
          "name": "stdout",
          "text": [
            "train : {'afib': 1592, 'nsr': 1652, 'afl': 401}\n",
            "22573 18567 6786\n",
            "After patient Scrambling: 20358\n"
          ]
        },
        {
          "output_type": "stream",
          "name": "stderr",
          "text": [
            "100%|██████████| 22573/22573 [00:00<00:00, 206966.41it/s]\n",
            "100%|██████████| 20358/20358 [00:00<00:00, 149478.48it/s]\n",
            "100%|██████████| 18567/18567 [00:00<00:00, 236711.99it/s]\n"
          ]
        },
        {
          "output_type": "stream",
          "name": "stdout",
          "text": [
            "test : {'afib': 187, 'nsr': 174, 'afl': 44}\n",
            "2551 1953 705\n",
            "After patient Scrambling: 2115\n"
          ]
        },
        {
          "output_type": "stream",
          "name": "stderr",
          "text": [
            "100%|██████████| 2551/2551 [00:00<00:00, 152767.31it/s]\n",
            "100%|██████████| 2115/2115 [00:00<00:00, 414957.10it/s]\n",
            "100%|██████████| 1953/1953 [00:00<00:00, 433136.41it/s]\n"
          ]
        },
        {
          "output_type": "stream",
          "name": "stdout",
          "text": [
            "\n",
            "#@#@#@#@#@ Working on FOLD: 1 #@#@#@#@#@\n",
            "\n"
          ]
        },
        {
          "output_type": "stream",
          "name": "stderr",
          "text": [
            "/usr/local/lib/python3.7/dist-packages/keras/optimizer_v2/adam.py:105: UserWarning: The `lr` argument is deprecated, use `learning_rate` instead.\n",
            "  super(Adam, self).__init__(name, **kwargs)\n"
          ]
        },
        {
          "output_type": "stream",
          "name": "stdout",
          "text": [
            "WARNING:tensorflow:Callback method `on_train_batch_end` is slow compared to the batch time (batch time: 0.0089s vs `on_train_batch_end` time: 0.0224s). Check your callbacks.\n",
            "Epoch 1/8\n",
            "392/392 [==============================] - 7s 14ms/step - loss: 0.2947 - accuracy: 0.8988 - val_loss: 5.8708 - val_accuracy: 0.3191\n",
            "Epoch 2/8\n",
            "392/392 [==============================] - 5s 13ms/step - loss: 0.1345 - accuracy: 0.9518 - val_loss: 6.2644 - val_accuracy: 0.3223\n",
            "Epoch 3/8\n",
            "392/392 [==============================] - 5s 14ms/step - loss: 0.0611 - accuracy: 0.9785 - val_loss: 0.5994 - val_accuracy: 0.7771\n",
            "Epoch 4/8\n",
            "392/392 [==============================] - 5s 13ms/step - loss: 0.0169 - accuracy: 0.9948 - val_loss: 0.0189 - val_accuracy: 0.9917\n",
            "Epoch 5/8\n",
            "392/392 [==============================] - 5s 13ms/step - loss: 0.0140 - accuracy: 0.9958 - val_loss: 5.0220 - val_accuracy: 0.6289\n",
            "Epoch 6/8\n",
            "392/392 [==============================] - 5s 13ms/step - loss: 0.0483 - accuracy: 0.9833 - val_loss: 3.2939 - val_accuracy: 0.6310\n",
            "Epoch 7/8\n",
            "392/392 [==============================] - 5s 14ms/step - loss: 0.0479 - accuracy: 0.9848 - val_loss: 0.0106 - val_accuracy: 0.9957\n",
            "Epoch 8/8\n",
            "392/392 [==============================] - 5s 13ms/step - loss: 0.0053 - accuracy: 0.9988 - val_loss: 0.0044 - val_accuracy: 0.9993\n"
          ]
        },
        {
          "output_type": "display_data",
          "data": {
            "text/plain": [
              "<Figure size 936x288 with 1 Axes>"
            ],
            "image/png": "[encoded data removed]"
          },
          "metadata": {}
        },
        {
          "output_type": "display_data",
          "data": {
            "text/plain": [
              "<Figure size 936x288 with 1 Axes>"
            ],
            "image/png": "[encoded data removed]"
          },
          "metadata": {}
        },
        {
          "output_type": "display_data",
          "data": {
            "text/plain": [
              "<Figure size 936x288 with 1 Axes>"
            ],
            "image/png": "[encoded data removed]"
          },
          "metadata": {}
        },
        {
          "output_type": "display_data",
          "data": {
            "text/plain": [
              "<Figure size 936x288 with 1 Axes>"
            ],
            "image/png": "[encoded data removed]"
          },
          "metadata": {}
        },
        {
          "output_type": "stream",
          "name": "stdout",
          "text": [
            "\n",
            "****** Val data (used to tune hyperparameters for model) *****\n",
            "\n",
            "88/88 [==============================] - 0s 3ms/step - loss: 0.0024 - accuracy: 0.9996\n",
            "Confusion matrix, without normalization\n",
            "[[945   0   0]\n",
            " [  0 931   0]\n",
            " [  0   1 908]]\n",
            "\n",
            "****** Validation data (unseen to model) *****\n",
            "\n",
            "184/184 [==============================] - 1s 4ms/step - loss: 0.1292 - accuracy: 0.9648\n",
            "Confusion matrix, without normalization\n",
            "[[1935    0   18]\n",
            " [   0 1953    0]\n",
            " [   1  187 1765]]\n",
            "Final Accuracy: 96.48 %\n",
            "\n",
            "10 fold acc: [96.48]\n"
          ]
        },
        {
          "output_type": "display_data",
          "data": {
            "text/plain": [
              "<Figure size 936x288 with 2 Axes>"
            ],
            "image/png": "[encoded data removed]"
          },
          "metadata": {}
        },
        {
          "output_type": "display_data",
          "data": {
            "text/plain": [
              "<Figure size 936x288 with 2 Axes>"
            ],
            "image/png": "[encoded data removed]"
          },
          "metadata": {}
        }
      ],
      "source": [
        "# scikit-learn k-fold cross-validation\n",
        "data=all_subjects\n",
        "\n",
        "# prepare cross validation\n",
        "kfold = KFold(10,shuffle=True,random_state=42)\n",
        "all_fold_acc = []\n",
        "# enumerate splits\n",
        "count=1\n",
        "for train, test in kfold.split(data):  \n",
        "  full_train_set = extractor(\"train\",train)\n",
        "  full_test_set = extractor(\"test\",test)\n",
        "  print(\"\\n#@#@#@#@#@ Working on FOLD:\",count,\"#@#@#@#@#@\\n\")\n",
        "  accuracy_1_fold = train_1_fold(full_train_set,full_test_set,5,8)\n",
        "  all_fold_acc.append(accuracy_1_fold)\n",
        "  count+=1\n",
        "  #1 fold done call rest part in function to complete your k fold cv\n",
        "  break\n",
        "  \n",
        "print(\"10 fold acc:\",all_fold_acc)"
      ]
    },
    {
      "cell_type": "markdown",
      "source": [
        "### Testing on Other Datasets"
      ],
      "metadata": {
        "id": "xx6WIwIaP7WO"
      }
    },
    {
      "cell_type": "code",
      "source": [
        "# import glob\n",
        "# m_resnet_model = get_resnet_model(10)\n",
        "# m_resnet_model.load_weights(\"/content/drive/My Drive/Arrythmia /weights.hdf5\")\n",
        "\n",
        "# path = r'/content/musecare_rr_intervals' # use your path\n",
        "# all_files = glob.glob(path + \"/*.csv\")\n",
        "\n",
        "# li = []\n",
        "# name = []\n",
        "# for filename in all_files:\n",
        "#     df = pd.read_csv(filename, index_col=None, header=None)\n",
        "#     one_list=df.iloc[0]\n",
        "#     new_df=pd.DataFrame()\n",
        "#     for i in range(0,len(one_list)):\n",
        "#       if(one_list[i]!=one_list[i+1]):\n",
        "#         one_list=one_list[i+1:i+101]\n",
        "#         one_list=one_list/1000\n",
        "#         one_list.reset_index(inplace=True,drop=True)\n",
        "#         detrended_rri = signal.detrend(one_list, axis= -1, type='constant', bp=0, overwrite_data=False).tolist()\n",
        "        \n",
        "#         new_df=new_df.append(pd.DataFrame(detrended_rri).transpose())\n",
        "#         break\n",
        "#     li.append(new_df)\n",
        "#     name.append(filename)\n",
        "\n",
        "# test_data = pd.concat(li, axis=0, ignore_index=True)\n",
        "# test_data['filename']=name\n",
        "\n",
        "# print(test_data.shape[0] - test_data.dropna().shape[0])\n",
        "# #hence 81 files have null values, will drop them\n",
        "\n",
        "# test_data=test_data.dropna()\n",
        "# test_data.reset_index(inplace=True,drop=True)\n",
        "\n",
        "# X_ckecker=test_data.iloc[:,:-1].values\n",
        "# preds=tf.argmax(m_resnet_model.predict(X_ckecker), axis=-1)\n",
        "\n",
        "# test_data['predicted_class']=preds\n",
        "# dct= {0:'nsr', 1:'afib', 2:'afl'}\n",
        "# test_data=test_data.replace({\"predicted_class\": dct})\n",
        "# test_data['predicted_class'].value_counts()"
      ],
      "metadata": {
        "id": "U_s_H88ASmL7"
      },
      "execution_count": null,
      "outputs": []
    },
    {
      "cell_type": "code",
      "source": [
        "# test_data.to_csv(\"result_arr_ppg_RRi.csv\",index=False)"
      ],
      "metadata": {
        "id": "mcs7MXbvuMpW"
      },
      "execution_count": null,
      "outputs": []
    },
    {
      "cell_type": "markdown",
      "source": [
        "### Testing on PTB Diagnostic ECG database"
      ],
      "metadata": {
        "id": "B3cNLnzmd79g"
      }
    },
    {
      "cell_type": "code",
      "source": [
        "# !wget \"https://www.physionet.org/static/published-projects/ptbdb/ptb-diagnostic-ecg-database-1.0.0.zip\""
      ],
      "metadata": {
        "colab": {
          "base_uri": "https://localhost:8080/"
        },
        "id": "bIcoyRHx1Lhn",
        "outputId": "fcf3aa72-2bdf-4960-e40b-a10f83a4695a"
      },
      "execution_count": null,
      "outputs": [
        {
          "output_type": "stream",
          "name": "stdout",
          "text": [
            "--2022-04-06 09:13:40--  https://www.physionet.org/static/published-projects/ptbdb/ptb-diagnostic-ecg-database-1.0.0.zip\n",
            "Resolving www.physionet.org (www.physionet.org)... 18.18.42.54\n",
            "Connecting to www.physionet.org (www.physionet.org)|18.18.42.54|:443... connected.\n",
            "HTTP request sent, awaiting response... 200 OK\n",
            "Length: 1790456359 (1.7G) [application/zip]\n",
            "Saving to: ‘ptb-diagnostic-ecg-database-1.0.0.zip.1’\n",
            "\n",
            "    ptb-diagnostic-   3%[                    ]  63.44M  52.7MB/s               ^C\n"
          ]
        }
      ]
    },
    {
      "cell_type": "markdown",
      "source": [
        "Each csv file includes information of 15 simultaneously measured signals:12 leads (i, ii, iii, avr, avl, avf, v1, v2, v3, v4, v5, v6) together with the 3 Frank lead ECGs (vx, vy, vz).\n",
        "The sampling frequency of ECG is 1000Hz."
      ],
      "metadata": {
        "id": "v-zdHonGz3FN"
      }
    },
    {
      "cell_type": "code",
      "source": [
        "!wget -r -N -c -np https://physionet.org/files/ptbdb/1.0.0/\n",
        "!pip install wfdb\n",
        "import wfdb #WaveForm-Database package. A library of tools for reading, writing, and processing WFDB signals and annotations.\n",
        "import pandas as pd\n",
        "import numpy as np\n",
        "import sys\n",
        "import glob\n",
        "import os\n",
        "from glob import glob\n",
        "PATH = \"/content/physionet.org/files/ptbdb/1.0.0/\"\n",
        "sys.path.append(os.path.abspath(PATH))\n",
        "\n",
        "nsr_patients =['patient104/s0306lre','patient105/s0303lre','patient116/s0302lre','patient117/s0291lre','patient117/s0292lre',\n",
        "      'patient121/s0311lre','patient122/s0312lre','patient131/s0273lre','patient150/s0287lre','patient155/s0301lre',\n",
        "      'patient156/s0299lre','patient165/s0322lre','patient165/s0323lre','patient166/s0275lre','patient169/s0328lre',\n",
        "      'patient169/s0329lre','patient170/s0274lre','patient172/s0304lre','patient173/s0305lre','patient174/s0300lre',\n",
        "      'patient174/s0324lre','patient174/s0325lre','patient180/s0374lre','patient180/s0475_re','patient180/s0476_re',\n",
        "      'patient180/s0477_re','patient180/s0490_re','patient180/s0545_re','patient180/s0561_re','patient182/s0308lre',\n",
        "      'patient184/s0363lre','patient185/s0336lre','patient198/s0402lre','patient198/s0415lre','patient214/s0436_re',\n",
        "      'patient229/s0452_re','patient229/s0453_re','patient233/s0457_re','patient233/s0458_re','patient233/s0459_re',\n",
        "      'patient233/s0482_re','patient233/s0483_re','patient234/s0460_re','patient235/s0461_re','patient236/s0462_re',\n",
        "      'patient236/s0463_re','patient236/s0464_re','patient237/s0465_re','patient238/s0466_re','patient239/s0467_re',\n",
        "      'patient240/s0468_re','patient241/s0469_re','patient241/s0470_re','patient242/s0471_re','patient243/s0472_re',\n",
        "      'patient244/s0473_re','patient245/s0474_re','patient245/s0480_re','patient246/s0478_re','patient247/s0479_re',\n",
        "      'patient248/s0481_re','patient251/s0486_re','patient251/s0503_re','patient251/s0506_re','patient252/s0487_re',\n",
        "      'patient255/s0491_re','patient260/s0496_re','patient263/s0499_re','patient264/s0500_re','patient266/s0502_re',\n",
        "      'patient267/s0504_re','patient276/s0526_re','patient277/s0527_re','patient279/s0531_re','patient279/s0532_re',\n",
        "      'patient279/s0533_re','patient279/s0534_re','patient284/s0543_re','patient284/s0551_re','patient284/s0552_re']"
      ],
      "metadata": {
        "id": "xKUoYh7P6RBW"
      },
      "execution_count": null,
      "outputs": []
    },
    {
      "cell_type": "code",
      "source": [
        "files = nsr_patients\n",
        "\n",
        "for i in tqdm(range(0,len(files))):\n",
        "\trecordname=PATH+str(files[i])+'.hea'\n",
        "\t\n",
        "\trecordname_new=recordname[-23:-4] #Extracting just the filename part (will differ from database to database)\n",
        "\t# print(recordname_new)\n",
        "\trecord = wfdb.rdsamp(PATH+recordname_new) # rdsamp() returns the signal as a numpy array  \n",
        "\trecord=np.asarray(record[0])\n",
        "\tpath=PATH+recordname_new+\".csv\"\n",
        "\tnp.savetxt(path,record,delimiter=\",\") #Writing the CSV for each record\n",
        "\t\n",
        "print(\"\\nAll files done!\")"
      ],
      "metadata": {
        "id": "Milup4v_1Ljn",
        "colab": {
          "base_uri": "https://localhost:8080/"
        },
        "outputId": "1c3db4a3-5923-49b6-ad06-833f629482fa"
      },
      "execution_count": 17,
      "outputs": [
        {
          "output_type": "stream",
          "name": "stderr",
          "text": [
            "100%|██████████| 80/80 [02:15<00:00,  1.70s/it]"
          ]
        },
        {
          "output_type": "stream",
          "name": "stdout",
          "text": [
            "\n",
            "All files done!\n"
          ]
        },
        {
          "output_type": "stream",
          "name": "stderr",
          "text": [
            "\n"
          ]
        }
      ]
    },
    {
      "cell_type": "code",
      "source": [
        "# With normal flatten layer at the end, without batch Norm.\n",
        "methods=[\"interpolation\",\"FFT\",\"poly\",\"numpy\"]\n",
        "m_resnet_model = get_resnet_model(5)\n",
        "m_resnet_model.load_weights(\"/content/drive/My Drive/Arrythmia /weights.hdf5\")\n",
        "for way in methods:\n",
        "  print(\"Using\",way,\"method of Resampling\\n\")\n",
        "  filenames=[]\n",
        "  li=[]\n",
        "  for i in tqdm(range(0,len(files))):\n",
        "    recordname=PATH+str(files[i])+'.csv'\n",
        "    df=pd.read_csv(recordname,header=None)\n",
        "    lead_II = df.iloc[:,1] #lead II\n",
        "    lead_II = nk.signal_resample(lead_II, method=way,\n",
        "                                              sampling_rate=1000, desired_sampling_rate=500)\n",
        "    _, rpeaks = nk.ecg_peaks(lead_II, sampling_rate=500)\n",
        "    rrintervals = rpeaks['ECG_R_Peaks']\n",
        "\n",
        "    rr_diff=np.diff(rrintervals)/1000\n",
        "    detrended_rri = signal.detrend(rr_diff, axis= -1, type='constant', bp=0, overwrite_data=False)\n",
        "    new_df=pd.DataFrame(detrended_rri).transpose()\n",
        "    li.append(new_df)\n",
        "    filenames.append(files[i])\n",
        "    \n",
        "  test_data = pd.concat(li, axis=0, ignore_index=True)\n",
        "  test_data=test_data.loc[:,:99]\n",
        "  test_data['filename']=filenames \n",
        "\n",
        "  print(\"Dropping:\",test_data.shape[0] - test_data.dropna().shape[0],\" rows.\\n\")\n",
        "  #hence 81 files have null values, will drop them\n",
        " \n",
        "  test_data=test_data.dropna()\n",
        "  test_data.reset_index(inplace=True,drop=True)\n",
        "\n",
        "  X_ckecker=test_data.iloc[:,:-1].values\n",
        "  preds=tf.argmax(m_resnet_model.predict(X_ckecker), axis=-1)\n",
        "\n",
        "  test_data['predicted_class']=preds\n",
        "  dct= {0:'nsr', 1:'Afib',2:'Afl'}\n",
        "  test_data=test_data.replace({\"predicted_class\": dct})\n",
        "  print(\"#### RESULTS ####\\n\",test_data['predicted_class'].value_counts(),\"\\n\")"
      ],
      "metadata": {
        "id": "761uzxa18ztR",
        "colab": {
          "base_uri": "https://localhost:8080/"
        },
        "outputId": "dd14dd78-1e80-4bf7-a9bb-16a1d2848ec5"
      },
      "execution_count": 21,
      "outputs": [
        {
          "output_type": "stream",
          "name": "stdout",
          "text": [
            "Using interpolation method of Resampling\n",
            "\n"
          ]
        },
        {
          "output_type": "stream",
          "name": "stderr",
          "text": [
            "100%|██████████| 80/80 [00:30<00:00,  2.65it/s]\n"
          ]
        },
        {
          "output_type": "stream",
          "name": "stdout",
          "text": [
            "Dropping: 2  rows.\n",
            "\n",
            "#### RESULTS ####\n",
            " nsr     55\n",
            "Afl     13\n",
            "Afib    10\n",
            "Name: predicted_class, dtype: int64 \n",
            "\n",
            "Using FFT method of Resampling\n",
            "\n"
          ]
        },
        {
          "output_type": "stream",
          "name": "stderr",
          "text": [
            "100%|██████████| 80/80 [00:30<00:00,  2.66it/s]\n"
          ]
        },
        {
          "output_type": "stream",
          "name": "stdout",
          "text": [
            "Dropping: 2  rows.\n",
            "\n",
            "#### RESULTS ####\n",
            " nsr     55\n",
            "Afl     14\n",
            "Afib     9\n",
            "Name: predicted_class, dtype: int64 \n",
            "\n",
            "Using poly method of Resampling\n",
            "\n"
          ]
        },
        {
          "output_type": "stream",
          "name": "stderr",
          "text": [
            "100%|██████████| 80/80 [00:35<00:00,  2.23it/s]\n"
          ]
        },
        {
          "output_type": "stream",
          "name": "stdout",
          "text": [
            "Dropping: 2  rows.\n",
            "\n",
            "#### RESULTS ####\n",
            " nsr     55\n",
            "Afl     14\n",
            "Afib     9\n",
            "Name: predicted_class, dtype: int64 \n",
            "\n",
            "Using numpy method of Resampling\n",
            "\n"
          ]
        },
        {
          "output_type": "stream",
          "name": "stderr",
          "text": [
            "100%|██████████| 80/80 [00:29<00:00,  2.70it/s]"
          ]
        },
        {
          "output_type": "stream",
          "name": "stdout",
          "text": [
            "Dropping: 2  rows.\n",
            "\n",
            "#### RESULTS ####\n",
            " nsr     55\n",
            "Afl     12\n",
            "Afib    11\n",
            "Name: predicted_class, dtype: int64 \n",
            "\n"
          ]
        },
        {
          "output_type": "stream",
          "name": "stderr",
          "text": [
            "\n"
          ]
        }
      ]
    },
    {
      "cell_type": "code",
      "source": [
        "#with globalavg pooling & Without Batch normalization and \n",
        "methods=[\"interpolation\",\"FFT\",\"poly\",\"numpy\"]\n",
        "m_resnet_model = get_resnet_model(5)\n",
        "m_resnet_model.load_weights(\"/content/drive/My Drive/Arrythmia /weights.hdf5\")\n",
        "for way in methods:\n",
        "  print(\"Using\",way,\"method of Resampling\\n\")\n",
        "  filenames=[]\n",
        "  li=[]\n",
        "  for i in tqdm(range(0,len(files))):\n",
        "    recordname=PATH+str(files[i])+'.csv'\n",
        "    df=pd.read_csv(recordname,header=None)\n",
        "    lead_II = df.iloc[:,1] #lead II\n",
        "    lead_II = nk.signal_resample(lead_II, method=way,\n",
        "                                              sampling_rate=1000, desired_sampling_rate=500)\n",
        "    _, rpeaks = nk.ecg_peaks(lead_II, sampling_rate=500)\n",
        "    rrintervals = rpeaks['ECG_R_Peaks']\n",
        "\n",
        "    rr_diff=np.diff(rrintervals)/1000\n",
        "    detrended_rri = signal.detrend(rr_diff, axis= -1, type='constant', bp=0, overwrite_data=False)\n",
        "    new_df=pd.DataFrame(detrended_rri).transpose()\n",
        "    li.append(new_df)\n",
        "    filenames.append(files[i])\n",
        "    \n",
        "  test_data = pd.concat(li, axis=0, ignore_index=True)\n",
        "  test_data=test_data.loc[:,:99]\n",
        "  test_data['filename']=filenames \n",
        "\n",
        "  print(\"Dropping:\",test_data.shape[0] - test_data.dropna().shape[0],\" rows.\\n\")\n",
        "  #hence 81 files have null values, will drop them\n",
        " \n",
        "  test_data=test_data.dropna()\n",
        "  test_data.reset_index(inplace=True,drop=True)\n",
        "\n",
        "  X_ckecker=test_data.iloc[:,:-1].values\n",
        "  preds=tf.argmax(m_resnet_model.predict(X_ckecker), axis=-1)\n",
        "\n",
        "  test_data['predicted_class']=preds\n",
        "  dct= {0:'nsr', 1:'Afib',2:'Afl'}\n",
        "  test_data=test_data.replace({\"predicted_class\": dct})\n",
        "  print(\"#### RESULTS ####\\n\",test_data['predicted_class'].value_counts(),\"\\n\")"
      ],
      "metadata": {
        "id": "b3P5FkE2QBOk",
        "colab": {
          "base_uri": "https://localhost:8080/"
        },
        "outputId": "2567d9dd-ee01-4701-8a94-25efdc18459f"
      },
      "execution_count": 24,
      "outputs": [
        {
          "output_type": "stream",
          "name": "stdout",
          "text": [
            "Using interpolation method of Resampling\n",
            "\n"
          ]
        },
        {
          "output_type": "stream",
          "name": "stderr",
          "text": [
            "100%|██████████| 80/80 [00:30<00:00,  2.66it/s]\n"
          ]
        },
        {
          "output_type": "stream",
          "name": "stdout",
          "text": [
            "Dropping: 2  rows.\n",
            "\n",
            "#### RESULTS ####\n",
            " nsr     58\n",
            "Afib    16\n",
            "Afl      4\n",
            "Name: predicted_class, dtype: int64 \n",
            "\n",
            "Using FFT method of Resampling\n",
            "\n"
          ]
        },
        {
          "output_type": "stream",
          "name": "stderr",
          "text": [
            "100%|██████████| 80/80 [00:29<00:00,  2.67it/s]\n"
          ]
        },
        {
          "output_type": "stream",
          "name": "stdout",
          "text": [
            "Dropping: 2  rows.\n",
            "\n",
            "#### RESULTS ####\n",
            " nsr     58\n",
            "Afib    15\n",
            "Afl      5\n",
            "Name: predicted_class, dtype: int64 \n",
            "\n",
            "Using poly method of Resampling\n",
            "\n"
          ]
        },
        {
          "output_type": "stream",
          "name": "stderr",
          "text": [
            "100%|██████████| 80/80 [00:29<00:00,  2.71it/s]\n"
          ]
        },
        {
          "output_type": "stream",
          "name": "stdout",
          "text": [
            "Dropping: 2  rows.\n",
            "\n",
            "#### RESULTS ####\n",
            " nsr     58\n",
            "Afib    15\n",
            "Afl      5\n",
            "Name: predicted_class, dtype: int64 \n",
            "\n",
            "Using numpy method of Resampling\n",
            "\n"
          ]
        },
        {
          "output_type": "stream",
          "name": "stderr",
          "text": [
            "100%|██████████| 80/80 [00:29<00:00,  2.68it/s]"
          ]
        },
        {
          "output_type": "stream",
          "name": "stdout",
          "text": [
            "Dropping: 2  rows.\n",
            "\n",
            "#### RESULTS ####\n",
            " nsr     58\n",
            "Afib    17\n",
            "Afl      3\n",
            "Name: predicted_class, dtype: int64 \n",
            "\n"
          ]
        },
        {
          "output_type": "stream",
          "name": "stderr",
          "text": [
            "\n"
          ]
        }
      ]
    },
    {
      "cell_type": "code",
      "source": [
        "### WITH BATCH NORMALIZATION\n",
        "\n",
        "methods=[\"interpolation\",\"FFT\",\"poly\",\"numpy\"]\n",
        "m_resnet_model = get_resnet_model(5)\n",
        "m_resnet_model.load_weights(\"/content/drive/My Drive/Arrythmia /weights.hdf5\")\n",
        "for way in methods:\n",
        "  print(\"Using\",way,\"method of Resampling\\n\")\n",
        "  filenames=[]\n",
        "  li=[]\n",
        "  for i in tqdm(range(0,len(files))):\n",
        "    recordname=PATH+str(files[i])+'.csv'\n",
        "    df=pd.read_csv(recordname,header=None)\n",
        "    lead_II = df.iloc[:,1] #lead II\n",
        "    lead_II = nk.signal_resample(lead_II, method=way,\n",
        "                                              sampling_rate=1000, desired_sampling_rate=500)\n",
        "    _, rpeaks = nk.ecg_peaks(lead_II, sampling_rate=500)\n",
        "    rrintervals = rpeaks['ECG_R_Peaks']\n",
        "\n",
        "    rr_diff=np.diff(rrintervals)/1000\n",
        "    detrended_rri = signal.detrend(rr_diff, axis= -1, type='constant', bp=0, overwrite_data=False)\n",
        "    new_df=pd.DataFrame(detrended_rri).transpose()\n",
        "    li.append(new_df)\n",
        "    filenames.append(files[i])\n",
        "    \n",
        "  test_data = pd.concat(li, axis=0, ignore_index=True)\n",
        "  test_data=test_data.loc[:,:99]\n",
        "  test_data['filename']=filenames \n",
        "\n",
        "  print(\"Dropping:\",test_data.shape[0] - test_data.dropna().shape[0],\" rows.\\n\")\n",
        "  #hence 81 files have null values, will drop them\n",
        " \n",
        "  test_data=test_data.dropna()\n",
        "  test_data.reset_index(inplace=True,drop=True)\n",
        "\n",
        "  X_ckecker=test_data.iloc[:,:-1].values\n",
        "  preds=tf.argmax(m_resnet_model.predict(X_ckecker), axis=-1)\n",
        "\n",
        "  test_data['predicted_class']=preds\n",
        "  dct= {0:'nsr', 1:'Afib',2:'Afl'}\n",
        "  test_data=test_data.replace({\"predicted_class\": dct})\n",
        "  print(\"#### RESULTS ####\\n\",test_data['predicted_class'].value_counts(),\"\\n\")"
      ],
      "metadata": {
        "colab": {
          "base_uri": "https://localhost:8080/"
        },
        "id": "XsT4ehx_NECE",
        "outputId": "48667373-cebe-4e73-eb5e-dd6c58c74ff2"
      },
      "execution_count": 31,
      "outputs": [
        {
          "output_type": "stream",
          "name": "stdout",
          "text": [
            "Using interpolation method of Resampling\n",
            "\n"
          ]
        },
        {
          "output_type": "stream",
          "name": "stderr",
          "text": [
            "100%|██████████| 80/80 [00:29<00:00,  2.68it/s]\n"
          ]
        },
        {
          "output_type": "stream",
          "name": "stdout",
          "text": [
            "Dropping: 2  rows.\n",
            "\n",
            "#### RESULTS ####\n",
            " nsr     45\n",
            "Afib    18\n",
            "Afl     15\n",
            "Name: predicted_class, dtype: int64 \n",
            "\n",
            "Using FFT method of Resampling\n",
            "\n"
          ]
        },
        {
          "output_type": "stream",
          "name": "stderr",
          "text": [
            "100%|██████████| 80/80 [00:29<00:00,  2.69it/s]\n"
          ]
        },
        {
          "output_type": "stream",
          "name": "stdout",
          "text": [
            "Dropping: 2  rows.\n",
            "\n",
            "#### RESULTS ####\n",
            " nsr     44\n",
            "Afib    19\n",
            "Afl     15\n",
            "Name: predicted_class, dtype: int64 \n",
            "\n",
            "Using poly method of Resampling\n",
            "\n"
          ]
        },
        {
          "output_type": "stream",
          "name": "stderr",
          "text": [
            "100%|██████████| 80/80 [00:34<00:00,  2.34it/s]\n"
          ]
        },
        {
          "output_type": "stream",
          "name": "stdout",
          "text": [
            "Dropping: 2  rows.\n",
            "\n",
            "#### RESULTS ####\n",
            " nsr     45\n",
            "Afib    18\n",
            "Afl     15\n",
            "Name: predicted_class, dtype: int64 \n",
            "\n",
            "Using numpy method of Resampling\n",
            "\n"
          ]
        },
        {
          "output_type": "stream",
          "name": "stderr",
          "text": [
            "100%|██████████| 80/80 [00:40<00:00,  1.98it/s]\n"
          ]
        },
        {
          "output_type": "stream",
          "name": "stdout",
          "text": [
            "Dropping: 2  rows.\n",
            "\n",
            "#### RESULTS ####\n",
            " nsr     44\n",
            "Afib    19\n",
            "Afl     15\n",
            "Name: predicted_class, dtype: int64 \n",
            "\n"
          ]
        }
      ]
    },
    {
      "cell_type": "code",
      "source": [
        ""
      ],
      "metadata": {
        "id": "l_DfoCakQSR9"
      },
      "execution_count": null,
      "outputs": []
    }
  ]
}