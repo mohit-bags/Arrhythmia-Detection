{
  "cells": [
    {
      "cell_type": "code",
      "source": [
        "pip list | grep tensorflow"
      ],
      "metadata": {
        "id": "qrtLelatbdeH",
        "colab": {
          "base_uri": "https://localhost:8080/"
        },
        "outputId": "166ff0b2-1869-42da-d650-412251e45c25"
      },
      "execution_count": null,
      "outputs": [
        {
          "output_type": "stream",
          "name": "stdout",
          "text": [
            "tensorflow                    2.8.0\n",
            "tensorflow-addons             0.16.1\n",
            "tensorflow-datasets           4.0.1\n",
            "tensorflow-estimator          2.8.0\n",
            "tensorflow-gcs-config         2.8.0\n",
            "tensorflow-hub                0.12.0\n",
            "tensorflow-io-gcs-filesystem  0.24.0\n",
            "tensorflow-metadata           1.7.0\n",
            "tensorflow-probability        0.16.0\n"
          ]
        }
      ]
    },
    {
      "cell_type": "code",
      "source": [
        "from google.colab import drive\n",
        "drive.mount('/content/drive')"
      ],
      "metadata": {
        "colab": {
          "base_uri": "https://localhost:8080/"
        },
        "id": "pUSQVuUtNu9N",
        "outputId": "8d15241f-2402-4cfe-a705-37509e4484d1"
      },
      "execution_count": 1,
      "outputs": [
        {
          "output_type": "stream",
          "name": "stdout",
          "text": [
            "Mounted at /content/drive\n"
          ]
        }
      ]
    },
    {
      "cell_type": "markdown",
      "metadata": {
        "id": "JfeS7tsK8vBb"
      },
      "source": [
        "### Import Libraries"
      ]
    },
    {
      "cell_type": "code",
      "execution_count": null,
      "metadata": {
        "id": "HyTKLDsxjEjC"
      },
      "outputs": [],
      "source": [
        "!unzip /content/drive/\"My Drive\"/\"Arrythmia \"/ECGDataDenoised.zip"
      ]
    },
    {
      "cell_type": "code",
      "source": [
        "!unzip /content/drive/\"My Drive\"/data_rr_intervals.zip"
      ],
      "metadata": {
        "id": "QfehlZtxnfwZ"
      },
      "execution_count": null,
      "outputs": []
    },
    {
      "cell_type": "code",
      "execution_count": 4,
      "metadata": {
        "id": "XXJxedOpqXYy",
        "colab": {
          "base_uri": "https://localhost:8080/"
        },
        "outputId": "a6fe731f-cc1a-4041-9fa1-8e3f4b4b4170"
      },
      "outputs": [
        {
          "output_type": "stream",
          "name": "stdout",
          "text": [
            "\u001b[K     |████████████████████████████████| 1.1 MB 5.2 MB/s \n",
            "\u001b[?25hCollecting neurokit2\n",
            "  Downloading neurokit2-0.1.7-py2.py3-none-any.whl (1.1 MB)\n",
            "\u001b[K     |████████████████████████████████| 1.1 MB 4.6 MB/s \n",
            "\u001b[?25hRequirement already satisfied: scipy in /usr/local/lib/python3.7/dist-packages (from neurokit2) (1.4.1)\n",
            "Requirement already satisfied: pandas in /usr/local/lib/python3.7/dist-packages (from neurokit2) (1.3.5)\n",
            "Requirement already satisfied: scikit-learn in /usr/local/lib/python3.7/dist-packages (from neurokit2) (1.0.2)\n",
            "Requirement already satisfied: numpy in /usr/local/lib/python3.7/dist-packages (from neurokit2) (1.21.5)\n",
            "Requirement already satisfied: matplotlib in /usr/local/lib/python3.7/dist-packages (from neurokit2) (3.2.2)\n",
            "Requirement already satisfied: pyparsing!=2.0.4,!=2.1.2,!=2.1.6,>=2.0.1 in /usr/local/lib/python3.7/dist-packages (from matplotlib->neurokit2) (3.0.7)\n",
            "Requirement already satisfied: kiwisolver>=1.0.1 in /usr/local/lib/python3.7/dist-packages (from matplotlib->neurokit2) (1.4.0)\n",
            "Requirement already satisfied: cycler>=0.10 in /usr/local/lib/python3.7/dist-packages (from matplotlib->neurokit2) (0.11.0)\n",
            "Requirement already satisfied: python-dateutil>=2.1 in /usr/local/lib/python3.7/dist-packages (from matplotlib->neurokit2) (2.8.2)\n",
            "Requirement already satisfied: typing-extensions in /usr/local/lib/python3.7/dist-packages (from kiwisolver>=1.0.1->matplotlib->neurokit2) (3.10.0.2)\n",
            "Requirement already satisfied: six>=1.5 in /usr/local/lib/python3.7/dist-packages (from python-dateutil>=2.1->matplotlib->neurokit2) (1.15.0)\n",
            "Requirement already satisfied: pytz>=2017.3 in /usr/local/lib/python3.7/dist-packages (from pandas->neurokit2) (2018.9)\n",
            "Requirement already satisfied: threadpoolctl>=2.0.0 in /usr/local/lib/python3.7/dist-packages (from scikit-learn->neurokit2) (3.1.0)\n",
            "Requirement already satisfied: joblib>=0.11 in /usr/local/lib/python3.7/dist-packages (from scikit-learn->neurokit2) (1.1.0)\n",
            "Installing collected packages: neurokit2\n",
            "Successfully installed neurokit2-0.1.7\n"
          ]
        }
      ],
      "source": [
        "!pip install -q -U tensorflow_addons\n",
        "!pip install neurokit2"
      ]
    },
    {
      "cell_type": "code",
      "source": [
        "import sys\n",
        "import os\n",
        "%matplotlib inline\n",
        "sampling_rate=500\n",
        "arr_folder_location = \"/content/drive/MyDrive/Arrythmia /\"\n",
        "sys.path.append(os.path.abspath(arr_folder_location))"
      ],
      "metadata": {
        "id": "RicOcw_f2tKv"
      },
      "execution_count": 33,
      "outputs": []
    },
    {
      "cell_type": "code",
      "source": [
        "from arryhthmia_backend import *"
      ],
      "metadata": {
        "id": "Q7fttkgK24Rb"
      },
      "execution_count": 34,
      "outputs": []
    },
    {
      "cell_type": "code",
      "source": [
        "# !rm -rf /content/musecare_rr_intervals #to delete a folder"
      ],
      "metadata": {
        "id": "h6Je-TKgoMbV"
      },
      "execution_count": 12,
      "outputs": []
    },
    {
      "cell_type": "code",
      "source": [
        "import glob\n",
        "\n",
        "path = r'/content/musecare_rr_intervals' # use your path\n",
        "all_files = glob.glob(path + \"/*.csv\")\n",
        "\n",
        "li = []\n",
        "name = []\n",
        "for filename in all_files:\n",
        "    df = pd.read_csv(filename, index_col=None, header=None)\n",
        "    one_list=df.iloc[0]\n",
        "    new_df=pd.DataFrame()\n",
        "    for i in range(0,len(one_list)):\n",
        "      if(one_list[i]!=one_list[i+1]):\n",
        "        one_list=one_list[i+1:i+101]\n",
        "        one_list=one_list/1000\n",
        "        one_list.reset_index(inplace=True,drop=True)\n",
        "        detrended_rri = signal.detrend(one_list, axis= -1, type='constant', bp=0, overwrite_data=False).tolist()\n",
        "        \n",
        "        new_df=new_df.append(pd.DataFrame(detrended_rri).transpose())\n",
        "        break\n",
        "    li.append(new_df)\n",
        "    name.append(filename)\n",
        "\n",
        "test_data = pd.concat(li, axis=0, ignore_index=True)\n",
        "test_data['filename']=name\n",
        "\n",
        "print(test_data.shape[0] - test_data.dropna().shape[0])\n",
        "#hence 81 files have null values, will drop them\n",
        "\n",
        "test_data=test_data.dropna()\n",
        "test_data.reset_index(inplace=True,drop=True)"
      ],
      "metadata": {
        "colab": {
          "base_uri": "https://localhost:8080/"
        },
        "id": "rw2gdfN7otnt",
        "outputId": "cdd5d04e-d00d-41ac-e9c2-64501c702660"
      },
      "execution_count": 68,
      "outputs": [
        {
          "output_type": "stream",
          "name": "stdout",
          "text": [
            "81\n"
          ]
        }
      ]
    },
    {
      "cell_type": "code",
      "source": [
        "test_data"
      ],
      "metadata": {
        "colab": {
          "base_uri": "https://localhost:8080/",
          "height": 487
        },
        "id": "Y0ibJZLpxlWb",
        "outputId": "748df4f0-e4cb-4dc4-fa74-24b4f719c284"
      },
      "execution_count": 69,
      "outputs": [
        {
          "output_type": "execute_result",
          "data": {
            "text/plain": [
              "             0         1         2         3         4         5         6  \\\n",
              "0    -0.009480 -0.016480 -0.010180 -0.001580 -0.001580 -0.025880 -0.026880   \n",
              "1    -0.555754 -0.351054 -0.428354 -0.049054 -0.343954 -0.308354 -0.089454   \n",
              "2     0.017718  0.001818  0.001018  0.016318  0.012718 -0.056582 -0.056582   \n",
              "3    -0.061501 -0.116501 -0.005701 -0.109201 -0.107001 -0.222701 -0.241801   \n",
              "4    -0.036453 -0.069153 -0.049453 -0.064153 -0.061553 -0.065053 -0.057753   \n",
              "...        ...       ...       ...       ...       ...       ...       ...   \n",
              "7328 -0.044611  0.057289 -0.103811  0.006589  0.006589  0.121389 -0.022211   \n",
              "7329 -0.055648  0.124452  0.035052 -0.035548 -0.038248  0.022652 -0.000348   \n",
              "7330  0.004834 -0.278966 -0.324866 -0.166266  0.154634  0.154634  0.044834   \n",
              "7331  0.033880 -0.050120 -0.175120 -0.157820  0.099780  0.138680  0.012080   \n",
              "7332  0.010531  0.011131 -0.019669 -0.013769  0.001531  0.000931  0.009031   \n",
              "\n",
              "             7         8         9  ...        91        92        93  \\\n",
              "0    -0.037680 -0.020680  0.126520  ...  0.009920 -0.008180 -0.005180   \n",
              "1    -0.438854 -0.396254 -0.243354  ...  0.557346  0.747246  0.049546   \n",
              "2    -0.029982 -0.001582 -0.016882  ...  0.004218 -0.030882 -0.035882   \n",
              "3     1.431899  0.089399 -0.103001  ... -0.154901 -0.070001 -0.100301   \n",
              "4    -0.053353 -0.063553 -0.054053  ... -0.050653 -0.080453 -0.032253   \n",
              "...        ...       ...       ...  ...       ...       ...       ...   \n",
              "7328 -0.018811  0.059489  0.081989  ... -0.039411 -0.113711 -0.133011   \n",
              "7329 -0.054448  0.034752  0.036552  ...  0.014252  0.063852  0.001052   \n",
              "7330  0.497234  0.188034  0.128534  ... -0.238766 -0.324866  0.000434   \n",
              "7331 -0.125620 -0.048020  0.073580  ... -0.258720  0.096680 -0.039520   \n",
              "7332  0.009031  0.005631 -0.002069  ... -0.005969  0.013331  0.013331   \n",
              "\n",
              "            94        95        96        97        98        99  \\\n",
              "0     0.000320 -0.019680 -0.015580 -0.032580  0.009220  0.139920   \n",
              "1     0.217946 -0.166754 -0.046654 -0.421654  1.225146 -0.214254   \n",
              "2    -0.025382 -0.038282 -0.051582 -0.023582 -0.006182 -0.015682   \n",
              "3    -0.132001 -0.075701 -0.107801 -0.174601 -0.198801 -0.370001   \n",
              "4    -0.042253 -0.046053 -0.033653 -0.059053 -0.082853 -0.062853   \n",
              "...        ...       ...       ...       ...       ...       ...   \n",
              "7328 -0.107011 -0.023611  0.032389 -0.057211  0.017289 -0.279211   \n",
              "7329 -0.021448  0.012452  0.012452  0.063252 -0.012248 -0.040148   \n",
              "7330  0.210034 -0.354366 -0.262566 -0.170566 -0.086266 -0.360766   \n",
              "7331 -0.033420 -0.033420 -0.467020 -0.444220  0.098580  0.043280   \n",
              "7332 -0.008569 -0.002869 -0.009969 -0.003369  0.001831  0.000431   \n",
              "\n",
              "                                     filename  \n",
              "0     /content/musecare_rr_intervals/3346.csv  \n",
              "1     /content/musecare_rr_intervals/6910.csv  \n",
              "2     /content/musecare_rr_intervals/1374.csv  \n",
              "3     /content/musecare_rr_intervals/5483.csv  \n",
              "4     /content/musecare_rr_intervals/1906.csv  \n",
              "...                                       ...  \n",
              "7328  /content/musecare_rr_intervals/3168.csv  \n",
              "7329  /content/musecare_rr_intervals/3190.csv  \n",
              "7330  /content/musecare_rr_intervals/5401.csv  \n",
              "7331  /content/musecare_rr_intervals/3171.csv  \n",
              "7332  /content/musecare_rr_intervals/1630.csv  \n",
              "\n",
              "[7333 rows x 101 columns]"
            ],
            "text/html": [
              "\n",
              "  <div id=\"df-ef516c13-54a6-4a39-8037-1d785e1d52d5\">\n",
              "    <div class=\"colab-df-container\">\n",
              "      <div>\n",
              "<style scoped>\n",
              "    .dataframe tbody tr th:only-of-type {\n",
              "        vertical-align: middle;\n",
              "    }\n",
              "\n",
              "    .dataframe tbody tr th {\n",
              "        vertical-align: top;\n",
              "    }\n",
              "\n",
              "    .dataframe thead th {\n",
              "        text-align: right;\n",
              "    }\n",
              "</style>\n",
              "<table border=\"1\" class=\"dataframe\">\n",
              "  <thead>\n",
              "    <tr style=\"text-align: right;\">\n",
              "      <th></th>\n",
              "      <th>0</th>\n",
              "      <th>1</th>\n",
              "      <th>2</th>\n",
              "      <th>3</th>\n",
              "      <th>4</th>\n",
              "      <th>5</th>\n",
              "      <th>6</th>\n",
              "      <th>7</th>\n",
              "      <th>8</th>\n",
              "      <th>9</th>\n",
              "      <th>...</th>\n",
              "      <th>91</th>\n",
              "      <th>92</th>\n",
              "      <th>93</th>\n",
              "      <th>94</th>\n",
              "      <th>95</th>\n",
              "      <th>96</th>\n",
              "      <th>97</th>\n",
              "      <th>98</th>\n",
              "      <th>99</th>\n",
              "      <th>filename</th>\n",
              "    </tr>\n",
              "  </thead>\n",
              "  <tbody>\n",
              "    <tr>\n",
              "      <th>0</th>\n",
              "      <td>-0.009480</td>\n",
              "      <td>-0.016480</td>\n",
              "      <td>-0.010180</td>\n",
              "      <td>-0.001580</td>\n",
              "      <td>-0.001580</td>\n",
              "      <td>-0.025880</td>\n",
              "      <td>-0.026880</td>\n",
              "      <td>-0.037680</td>\n",
              "      <td>-0.020680</td>\n",
              "      <td>0.126520</td>\n",
              "      <td>...</td>\n",
              "      <td>0.009920</td>\n",
              "      <td>-0.008180</td>\n",
              "      <td>-0.005180</td>\n",
              "      <td>0.000320</td>\n",
              "      <td>-0.019680</td>\n",
              "      <td>-0.015580</td>\n",
              "      <td>-0.032580</td>\n",
              "      <td>0.009220</td>\n",
              "      <td>0.139920</td>\n",
              "      <td>/content/musecare_rr_intervals/3346.csv</td>\n",
              "    </tr>\n",
              "    <tr>\n",
              "      <th>1</th>\n",
              "      <td>-0.555754</td>\n",
              "      <td>-0.351054</td>\n",
              "      <td>-0.428354</td>\n",
              "      <td>-0.049054</td>\n",
              "      <td>-0.343954</td>\n",
              "      <td>-0.308354</td>\n",
              "      <td>-0.089454</td>\n",
              "      <td>-0.438854</td>\n",
              "      <td>-0.396254</td>\n",
              "      <td>-0.243354</td>\n",
              "      <td>...</td>\n",
              "      <td>0.557346</td>\n",
              "      <td>0.747246</td>\n",
              "      <td>0.049546</td>\n",
              "      <td>0.217946</td>\n",
              "      <td>-0.166754</td>\n",
              "      <td>-0.046654</td>\n",
              "      <td>-0.421654</td>\n",
              "      <td>1.225146</td>\n",
              "      <td>-0.214254</td>\n",
              "      <td>/content/musecare_rr_intervals/6910.csv</td>\n",
              "    </tr>\n",
              "    <tr>\n",
              "      <th>2</th>\n",
              "      <td>0.017718</td>\n",
              "      <td>0.001818</td>\n",
              "      <td>0.001018</td>\n",
              "      <td>0.016318</td>\n",
              "      <td>0.012718</td>\n",
              "      <td>-0.056582</td>\n",
              "      <td>-0.056582</td>\n",
              "      <td>-0.029982</td>\n",
              "      <td>-0.001582</td>\n",
              "      <td>-0.016882</td>\n",
              "      <td>...</td>\n",
              "      <td>0.004218</td>\n",
              "      <td>-0.030882</td>\n",
              "      <td>-0.035882</td>\n",
              "      <td>-0.025382</td>\n",
              "      <td>-0.038282</td>\n",
              "      <td>-0.051582</td>\n",
              "      <td>-0.023582</td>\n",
              "      <td>-0.006182</td>\n",
              "      <td>-0.015682</td>\n",
              "      <td>/content/musecare_rr_intervals/1374.csv</td>\n",
              "    </tr>\n",
              "    <tr>\n",
              "      <th>3</th>\n",
              "      <td>-0.061501</td>\n",
              "      <td>-0.116501</td>\n",
              "      <td>-0.005701</td>\n",
              "      <td>-0.109201</td>\n",
              "      <td>-0.107001</td>\n",
              "      <td>-0.222701</td>\n",
              "      <td>-0.241801</td>\n",
              "      <td>1.431899</td>\n",
              "      <td>0.089399</td>\n",
              "      <td>-0.103001</td>\n",
              "      <td>...</td>\n",
              "      <td>-0.154901</td>\n",
              "      <td>-0.070001</td>\n",
              "      <td>-0.100301</td>\n",
              "      <td>-0.132001</td>\n",
              "      <td>-0.075701</td>\n",
              "      <td>-0.107801</td>\n",
              "      <td>-0.174601</td>\n",
              "      <td>-0.198801</td>\n",
              "      <td>-0.370001</td>\n",
              "      <td>/content/musecare_rr_intervals/5483.csv</td>\n",
              "    </tr>\n",
              "    <tr>\n",
              "      <th>4</th>\n",
              "      <td>-0.036453</td>\n",
              "      <td>-0.069153</td>\n",
              "      <td>-0.049453</td>\n",
              "      <td>-0.064153</td>\n",
              "      <td>-0.061553</td>\n",
              "      <td>-0.065053</td>\n",
              "      <td>-0.057753</td>\n",
              "      <td>-0.053353</td>\n",
              "      <td>-0.063553</td>\n",
              "      <td>-0.054053</td>\n",
              "      <td>...</td>\n",
              "      <td>-0.050653</td>\n",
              "      <td>-0.080453</td>\n",
              "      <td>-0.032253</td>\n",
              "      <td>-0.042253</td>\n",
              "      <td>-0.046053</td>\n",
              "      <td>-0.033653</td>\n",
              "      <td>-0.059053</td>\n",
              "      <td>-0.082853</td>\n",
              "      <td>-0.062853</td>\n",
              "      <td>/content/musecare_rr_intervals/1906.csv</td>\n",
              "    </tr>\n",
              "    <tr>\n",
              "      <th>...</th>\n",
              "      <td>...</td>\n",
              "      <td>...</td>\n",
              "      <td>...</td>\n",
              "      <td>...</td>\n",
              "      <td>...</td>\n",
              "      <td>...</td>\n",
              "      <td>...</td>\n",
              "      <td>...</td>\n",
              "      <td>...</td>\n",
              "      <td>...</td>\n",
              "      <td>...</td>\n",
              "      <td>...</td>\n",
              "      <td>...</td>\n",
              "      <td>...</td>\n",
              "      <td>...</td>\n",
              "      <td>...</td>\n",
              "      <td>...</td>\n",
              "      <td>...</td>\n",
              "      <td>...</td>\n",
              "      <td>...</td>\n",
              "      <td>...</td>\n",
              "    </tr>\n",
              "    <tr>\n",
              "      <th>7328</th>\n",
              "      <td>-0.044611</td>\n",
              "      <td>0.057289</td>\n",
              "      <td>-0.103811</td>\n",
              "      <td>0.006589</td>\n",
              "      <td>0.006589</td>\n",
              "      <td>0.121389</td>\n",
              "      <td>-0.022211</td>\n",
              "      <td>-0.018811</td>\n",
              "      <td>0.059489</td>\n",
              "      <td>0.081989</td>\n",
              "      <td>...</td>\n",
              "      <td>-0.039411</td>\n",
              "      <td>-0.113711</td>\n",
              "      <td>-0.133011</td>\n",
              "      <td>-0.107011</td>\n",
              "      <td>-0.023611</td>\n",
              "      <td>0.032389</td>\n",
              "      <td>-0.057211</td>\n",
              "      <td>0.017289</td>\n",
              "      <td>-0.279211</td>\n",
              "      <td>/content/musecare_rr_intervals/3168.csv</td>\n",
              "    </tr>\n",
              "    <tr>\n",
              "      <th>7329</th>\n",
              "      <td>-0.055648</td>\n",
              "      <td>0.124452</td>\n",
              "      <td>0.035052</td>\n",
              "      <td>-0.035548</td>\n",
              "      <td>-0.038248</td>\n",
              "      <td>0.022652</td>\n",
              "      <td>-0.000348</td>\n",
              "      <td>-0.054448</td>\n",
              "      <td>0.034752</td>\n",
              "      <td>0.036552</td>\n",
              "      <td>...</td>\n",
              "      <td>0.014252</td>\n",
              "      <td>0.063852</td>\n",
              "      <td>0.001052</td>\n",
              "      <td>-0.021448</td>\n",
              "      <td>0.012452</td>\n",
              "      <td>0.012452</td>\n",
              "      <td>0.063252</td>\n",
              "      <td>-0.012248</td>\n",
              "      <td>-0.040148</td>\n",
              "      <td>/content/musecare_rr_intervals/3190.csv</td>\n",
              "    </tr>\n",
              "    <tr>\n",
              "      <th>7330</th>\n",
              "      <td>0.004834</td>\n",
              "      <td>-0.278966</td>\n",
              "      <td>-0.324866</td>\n",
              "      <td>-0.166266</td>\n",
              "      <td>0.154634</td>\n",
              "      <td>0.154634</td>\n",
              "      <td>0.044834</td>\n",
              "      <td>0.497234</td>\n",
              "      <td>0.188034</td>\n",
              "      <td>0.128534</td>\n",
              "      <td>...</td>\n",
              "      <td>-0.238766</td>\n",
              "      <td>-0.324866</td>\n",
              "      <td>0.000434</td>\n",
              "      <td>0.210034</td>\n",
              "      <td>-0.354366</td>\n",
              "      <td>-0.262566</td>\n",
              "      <td>-0.170566</td>\n",
              "      <td>-0.086266</td>\n",
              "      <td>-0.360766</td>\n",
              "      <td>/content/musecare_rr_intervals/5401.csv</td>\n",
              "    </tr>\n",
              "    <tr>\n",
              "      <th>7331</th>\n",
              "      <td>0.033880</td>\n",
              "      <td>-0.050120</td>\n",
              "      <td>-0.175120</td>\n",
              "      <td>-0.157820</td>\n",
              "      <td>0.099780</td>\n",
              "      <td>0.138680</td>\n",
              "      <td>0.012080</td>\n",
              "      <td>-0.125620</td>\n",
              "      <td>-0.048020</td>\n",
              "      <td>0.073580</td>\n",
              "      <td>...</td>\n",
              "      <td>-0.258720</td>\n",
              "      <td>0.096680</td>\n",
              "      <td>-0.039520</td>\n",
              "      <td>-0.033420</td>\n",
              "      <td>-0.033420</td>\n",
              "      <td>-0.467020</td>\n",
              "      <td>-0.444220</td>\n",
              "      <td>0.098580</td>\n",
              "      <td>0.043280</td>\n",
              "      <td>/content/musecare_rr_intervals/3171.csv</td>\n",
              "    </tr>\n",
              "    <tr>\n",
              "      <th>7332</th>\n",
              "      <td>0.010531</td>\n",
              "      <td>0.011131</td>\n",
              "      <td>-0.019669</td>\n",
              "      <td>-0.013769</td>\n",
              "      <td>0.001531</td>\n",
              "      <td>0.000931</td>\n",
              "      <td>0.009031</td>\n",
              "      <td>0.009031</td>\n",
              "      <td>0.005631</td>\n",
              "      <td>-0.002069</td>\n",
              "      <td>...</td>\n",
              "      <td>-0.005969</td>\n",
              "      <td>0.013331</td>\n",
              "      <td>0.013331</td>\n",
              "      <td>-0.008569</td>\n",
              "      <td>-0.002869</td>\n",
              "      <td>-0.009969</td>\n",
              "      <td>-0.003369</td>\n",
              "      <td>0.001831</td>\n",
              "      <td>0.000431</td>\n",
              "      <td>/content/musecare_rr_intervals/1630.csv</td>\n",
              "    </tr>\n",
              "  </tbody>\n",
              "</table>\n",
              "<p>7333 rows × 101 columns</p>\n",
              "</div>\n",
              "      <button class=\"colab-df-convert\" onclick=\"convertToInteractive('df-ef516c13-54a6-4a39-8037-1d785e1d52d5')\"\n",
              "              title=\"Convert this dataframe to an interactive table.\"\n",
              "              style=\"display:none;\">\n",
              "        \n",
              "  <svg xmlns=\"http://www.w3.org/2000/svg\" height=\"24px\"viewBox=\"0 0 24 24\"\n",
              "       width=\"24px\">\n",
              "    <path d=\"M0 0h24v24H0V0z\" fill=\"none\"/>\n",
              "    <path d=\"M18.56 5.44l.94 2.06.94-2.06 2.06-.94-2.06-.94-.94-2.06-.94 2.06-2.06.94zm-11 1L8.5 8.5l.94-2.06 2.06-.94-2.06-.94L8.5 2.5l-.94 2.06-2.06.94zm10 10l.94 2.06.94-2.06 2.06-.94-2.06-.94-.94-2.06-.94 2.06-2.06.94z\"/><path d=\"M17.41 7.96l-1.37-1.37c-.4-.4-.92-.59-1.43-.59-.52 0-1.04.2-1.43.59L10.3 9.45l-7.72 7.72c-.78.78-.78 2.05 0 2.83L4 21.41c.39.39.9.59 1.41.59.51 0 1.02-.2 1.41-.59l7.78-7.78 2.81-2.81c.8-.78.8-2.07 0-2.86zM5.41 20L4 18.59l7.72-7.72 1.47 1.35L5.41 20z\"/>\n",
              "  </svg>\n",
              "      </button>\n",
              "      \n",
              "  <style>\n",
              "    .colab-df-container {\n",
              "      display:flex;\n",
              "      flex-wrap:wrap;\n",
              "      gap: 12px;\n",
              "    }\n",
              "\n",
              "    .colab-df-convert {\n",
              "      background-color: #E8F0FE;\n",
              "      border: none;\n",
              "      border-radius: 50%;\n",
              "      cursor: pointer;\n",
              "      display: none;\n",
              "      fill: #1967D2;\n",
              "      height: 32px;\n",
              "      padding: 0 0 0 0;\n",
              "      width: 32px;\n",
              "    }\n",
              "\n",
              "    .colab-df-convert:hover {\n",
              "      background-color: #E2EBFA;\n",
              "      box-shadow: 0px 1px 2px rgba(60, 64, 67, 0.3), 0px 1px 3px 1px rgba(60, 64, 67, 0.15);\n",
              "      fill: #174EA6;\n",
              "    }\n",
              "\n",
              "    [theme=dark] .colab-df-convert {\n",
              "      background-color: #3B4455;\n",
              "      fill: #D2E3FC;\n",
              "    }\n",
              "\n",
              "    [theme=dark] .colab-df-convert:hover {\n",
              "      background-color: #434B5C;\n",
              "      box-shadow: 0px 1px 3px 1px rgba(0, 0, 0, 0.15);\n",
              "      filter: drop-shadow(0px 1px 2px rgba(0, 0, 0, 0.3));\n",
              "      fill: #FFFFFF;\n",
              "    }\n",
              "  </style>\n",
              "\n",
              "      <script>\n",
              "        const buttonEl =\n",
              "          document.querySelector('#df-ef516c13-54a6-4a39-8037-1d785e1d52d5 button.colab-df-convert');\n",
              "        buttonEl.style.display =\n",
              "          google.colab.kernel.accessAllowed ? 'block' : 'none';\n",
              "\n",
              "        async function convertToInteractive(key) {\n",
              "          const element = document.querySelector('#df-ef516c13-54a6-4a39-8037-1d785e1d52d5');\n",
              "          const dataTable =\n",
              "            await google.colab.kernel.invokeFunction('convertToInteractive',\n",
              "                                                     [key], {});\n",
              "          if (!dataTable) return;\n",
              "\n",
              "          const docLinkHtml = 'Like what you see? Visit the ' +\n",
              "            '<a target=\"_blank\" href=https://colab.research.google.com/notebooks/data_table.ipynb>data table notebook</a>'\n",
              "            + ' to learn more about interactive tables.';\n",
              "          element.innerHTML = '';\n",
              "          dataTable['output_type'] = 'display_data';\n",
              "          await google.colab.output.renderOutput(dataTable, element);\n",
              "          const docLink = document.createElement('div');\n",
              "          docLink.innerHTML = docLinkHtml;\n",
              "          element.appendChild(docLink);\n",
              "        }\n",
              "      </script>\n",
              "    </div>\n",
              "  </div>\n",
              "  "
            ]
          },
          "metadata": {},
          "execution_count": 69
        }
      ]
    },
    {
      "cell_type": "code",
      "source": [
        "test_data.info()"
      ],
      "metadata": {
        "colab": {
          "base_uri": "https://localhost:8080/"
        },
        "id": "4wQom5wEo0gS",
        "outputId": "975dd60b-8124-4604-c623-c804b8da29e7"
      },
      "execution_count": 42,
      "outputs": [
        {
          "output_type": "stream",
          "name": "stdout",
          "text": [
            "<class 'pandas.core.frame.DataFrame'>\n",
            "RangeIndex: 7333 entries, 0 to 7332\n",
            "Columns: 101 entries, 0 to filename\n",
            "dtypes: float64(100), object(1)\n",
            "memory usage: 5.7+ MB\n"
          ]
        }
      ]
    },
    {
      "cell_type": "code",
      "source": [
        "test_data.loc[:,:99]=(test_data.loc[:,:99]/1000)\n"
      ],
      "metadata": {
        "colab": {
          "base_uri": "https://localhost:8080/"
        },
        "id": "hqqwBiSmrBWg",
        "outputId": "f9ce001a-2a26-47cd-fe3c-6889b79827a2"
      },
      "execution_count": 44,
      "outputs": [
        {
          "output_type": "stream",
          "name": "stderr",
          "text": [
            "/usr/local/lib/python3.7/dist-packages/pandas/core/indexing.py:1884: SettingWithCopyWarning: \n",
            "A value is trying to be set on a copy of a slice from a DataFrame.\n",
            "Try using .loc[row_indexer,col_indexer] = value instead\n",
            "\n",
            "See the caveats in the documentation: https://pandas.pydata.org/pandas-docs/stable/user_guide/indexing.html#returning-a-view-versus-a-copy\n",
            "  self._setitem_single_column(loc, val, pi)\n"
          ]
        }
      ]
    },
    {
      "cell_type": "code",
      "source": [
        "test_data"
      ],
      "metadata": {
        "colab": {
          "base_uri": "https://localhost:8080/",
          "height": 487
        },
        "id": "ykoeB4W5tZV3",
        "outputId": "5ebbf59f-c3f5-43fb-8521-5baf85faaef4"
      },
      "execution_count": 45,
      "outputs": [
        {
          "output_type": "execute_result",
          "data": {
            "text/plain": [
              "           0       1       2       3       4       5       6       7       8  \\\n",
              "0     0.9646  0.9576  0.9639  0.9725  0.9725  0.9482  0.9472  0.9364  0.9534   \n",
              "1     0.3462  0.5509  0.4736  0.8529  0.5580  0.5936  0.8125  0.4631  0.5057   \n",
              "2     0.9944  0.9785  0.9777  0.9930  0.9894  0.9201  0.9201  0.9467  0.9751   \n",
              "3     0.7590  0.7040  0.8148  0.7113  0.7135  0.5978  0.5787  2.2524  0.9099   \n",
              "4     0.5941  0.5614  0.5811  0.5664  0.5690  0.5655  0.5728  0.5772  0.5670   \n",
              "...      ...     ...     ...     ...     ...     ...     ...     ...     ...   \n",
              "7328  0.8678  0.9697  0.8086  0.9190  0.9190  1.0338  0.8902  0.8936  0.9719   \n",
              "7329  0.9278  1.1079  1.0185  0.9479  0.9452  1.0061  0.9831  0.9290  1.0182   \n",
              "7330  0.8985  0.6147  0.5688  0.7274  1.0483  1.0483  0.9385  1.3909  1.0817   \n",
              "7331  0.9165  0.8325  0.7075  0.7248  0.9824  1.0213  0.8947  0.7570  0.8346   \n",
              "7332  0.6515  0.6521  0.6213  0.6272  0.6425  0.6419  0.6500  0.6500  0.6466   \n",
              "\n",
              "           9  ...      91      92      93      94      95      96      97  \\\n",
              "0     1.1006  ...  0.9840  0.9659  0.9689  0.9744  0.9544  0.9585  0.9415   \n",
              "1     0.6586  ...  1.4593  1.6492  0.9515  1.1199  0.7352  0.8553  0.4803   \n",
              "2     0.9598  ...  0.9809  0.9458  0.9408  0.9513  0.9384  0.9251  0.9531   \n",
              "3     0.7175  ...  0.6656  0.7505  0.7202  0.6885  0.7448  0.7127  0.6459   \n",
              "4     0.5765  ...  0.5799  0.5501  0.5983  0.5883  0.5845  0.5969  0.5715   \n",
              "...      ...  ...     ...     ...     ...     ...     ...     ...     ...   \n",
              "7328  0.9944  ...  0.8730  0.7987  0.7794  0.8054  0.8888  0.9448  0.8552   \n",
              "7329  1.0200  ...  0.9977  1.0473  0.9845  0.9620  0.9959  0.9959  1.0467   \n",
              "7330  1.0222  ...  0.6549  0.5688  0.8941  1.1037  0.5393  0.6311  0.7231   \n",
              "7331  0.9562  ...  0.6239  0.9793  0.8431  0.8492  0.8492  0.4156  0.4384   \n",
              "7332  0.6389  ...  0.6350  0.6543  0.6543  0.6324  0.6381  0.6310  0.6376   \n",
              "\n",
              "          98      99                                 filename  \n",
              "0     0.9833  1.1140  /content/musecare_rr_intervals/3346.csv  \n",
              "1     2.1271  0.6877  /content/musecare_rr_intervals/6910.csv  \n",
              "2     0.9705  0.9610  /content/musecare_rr_intervals/1374.csv  \n",
              "3     0.6217  0.4505  /content/musecare_rr_intervals/5483.csv  \n",
              "4     0.5477  0.5677  /content/musecare_rr_intervals/1906.csv  \n",
              "...      ...     ...                                      ...  \n",
              "7328  0.9297  0.6332  /content/musecare_rr_intervals/3168.csv  \n",
              "7329  0.9712  0.9433  /content/musecare_rr_intervals/3190.csv  \n",
              "7330  0.8074  0.5329  /content/musecare_rr_intervals/5401.csv  \n",
              "7331  0.9812  0.9259  /content/musecare_rr_intervals/3171.csv  \n",
              "7332  0.6428  0.6414  /content/musecare_rr_intervals/1630.csv  \n",
              "\n",
              "[7333 rows x 101 columns]"
            ],
            "text/html": [
              "\n",
              "  <div id=\"df-0a4cc9f1-2bf4-4ef3-8a87-26a06939475a\">\n",
              "    <div class=\"colab-df-container\">\n",
              "      <div>\n",
              "<style scoped>\n",
              "    .dataframe tbody tr th:only-of-type {\n",
              "        vertical-align: middle;\n",
              "    }\n",
              "\n",
              "    .dataframe tbody tr th {\n",
              "        vertical-align: top;\n",
              "    }\n",
              "\n",
              "    .dataframe thead th {\n",
              "        text-align: right;\n",
              "    }\n",
              "</style>\n",
              "<table border=\"1\" class=\"dataframe\">\n",
              "  <thead>\n",
              "    <tr style=\"text-align: right;\">\n",
              "      <th></th>\n",
              "      <th>0</th>\n",
              "      <th>1</th>\n",
              "      <th>2</th>\n",
              "      <th>3</th>\n",
              "      <th>4</th>\n",
              "      <th>5</th>\n",
              "      <th>6</th>\n",
              "      <th>7</th>\n",
              "      <th>8</th>\n",
              "      <th>9</th>\n",
              "      <th>...</th>\n",
              "      <th>91</th>\n",
              "      <th>92</th>\n",
              "      <th>93</th>\n",
              "      <th>94</th>\n",
              "      <th>95</th>\n",
              "      <th>96</th>\n",
              "      <th>97</th>\n",
              "      <th>98</th>\n",
              "      <th>99</th>\n",
              "      <th>filename</th>\n",
              "    </tr>\n",
              "  </thead>\n",
              "  <tbody>\n",
              "    <tr>\n",
              "      <th>0</th>\n",
              "      <td>0.9646</td>\n",
              "      <td>0.9576</td>\n",
              "      <td>0.9639</td>\n",
              "      <td>0.9725</td>\n",
              "      <td>0.9725</td>\n",
              "      <td>0.9482</td>\n",
              "      <td>0.9472</td>\n",
              "      <td>0.9364</td>\n",
              "      <td>0.9534</td>\n",
              "      <td>1.1006</td>\n",
              "      <td>...</td>\n",
              "      <td>0.9840</td>\n",
              "      <td>0.9659</td>\n",
              "      <td>0.9689</td>\n",
              "      <td>0.9744</td>\n",
              "      <td>0.9544</td>\n",
              "      <td>0.9585</td>\n",
              "      <td>0.9415</td>\n",
              "      <td>0.9833</td>\n",
              "      <td>1.1140</td>\n",
              "      <td>/content/musecare_rr_intervals/3346.csv</td>\n",
              "    </tr>\n",
              "    <tr>\n",
              "      <th>1</th>\n",
              "      <td>0.3462</td>\n",
              "      <td>0.5509</td>\n",
              "      <td>0.4736</td>\n",
              "      <td>0.8529</td>\n",
              "      <td>0.5580</td>\n",
              "      <td>0.5936</td>\n",
              "      <td>0.8125</td>\n",
              "      <td>0.4631</td>\n",
              "      <td>0.5057</td>\n",
              "      <td>0.6586</td>\n",
              "      <td>...</td>\n",
              "      <td>1.4593</td>\n",
              "      <td>1.6492</td>\n",
              "      <td>0.9515</td>\n",
              "      <td>1.1199</td>\n",
              "      <td>0.7352</td>\n",
              "      <td>0.8553</td>\n",
              "      <td>0.4803</td>\n",
              "      <td>2.1271</td>\n",
              "      <td>0.6877</td>\n",
              "      <td>/content/musecare_rr_intervals/6910.csv</td>\n",
              "    </tr>\n",
              "    <tr>\n",
              "      <th>2</th>\n",
              "      <td>0.9944</td>\n",
              "      <td>0.9785</td>\n",
              "      <td>0.9777</td>\n",
              "      <td>0.9930</td>\n",
              "      <td>0.9894</td>\n",
              "      <td>0.9201</td>\n",
              "      <td>0.9201</td>\n",
              "      <td>0.9467</td>\n",
              "      <td>0.9751</td>\n",
              "      <td>0.9598</td>\n",
              "      <td>...</td>\n",
              "      <td>0.9809</td>\n",
              "      <td>0.9458</td>\n",
              "      <td>0.9408</td>\n",
              "      <td>0.9513</td>\n",
              "      <td>0.9384</td>\n",
              "      <td>0.9251</td>\n",
              "      <td>0.9531</td>\n",
              "      <td>0.9705</td>\n",
              "      <td>0.9610</td>\n",
              "      <td>/content/musecare_rr_intervals/1374.csv</td>\n",
              "    </tr>\n",
              "    <tr>\n",
              "      <th>3</th>\n",
              "      <td>0.7590</td>\n",
              "      <td>0.7040</td>\n",
              "      <td>0.8148</td>\n",
              "      <td>0.7113</td>\n",
              "      <td>0.7135</td>\n",
              "      <td>0.5978</td>\n",
              "      <td>0.5787</td>\n",
              "      <td>2.2524</td>\n",
              "      <td>0.9099</td>\n",
              "      <td>0.7175</td>\n",
              "      <td>...</td>\n",
              "      <td>0.6656</td>\n",
              "      <td>0.7505</td>\n",
              "      <td>0.7202</td>\n",
              "      <td>0.6885</td>\n",
              "      <td>0.7448</td>\n",
              "      <td>0.7127</td>\n",
              "      <td>0.6459</td>\n",
              "      <td>0.6217</td>\n",
              "      <td>0.4505</td>\n",
              "      <td>/content/musecare_rr_intervals/5483.csv</td>\n",
              "    </tr>\n",
              "    <tr>\n",
              "      <th>4</th>\n",
              "      <td>0.5941</td>\n",
              "      <td>0.5614</td>\n",
              "      <td>0.5811</td>\n",
              "      <td>0.5664</td>\n",
              "      <td>0.5690</td>\n",
              "      <td>0.5655</td>\n",
              "      <td>0.5728</td>\n",
              "      <td>0.5772</td>\n",
              "      <td>0.5670</td>\n",
              "      <td>0.5765</td>\n",
              "      <td>...</td>\n",
              "      <td>0.5799</td>\n",
              "      <td>0.5501</td>\n",
              "      <td>0.5983</td>\n",
              "      <td>0.5883</td>\n",
              "      <td>0.5845</td>\n",
              "      <td>0.5969</td>\n",
              "      <td>0.5715</td>\n",
              "      <td>0.5477</td>\n",
              "      <td>0.5677</td>\n",
              "      <td>/content/musecare_rr_intervals/1906.csv</td>\n",
              "    </tr>\n",
              "    <tr>\n",
              "      <th>...</th>\n",
              "      <td>...</td>\n",
              "      <td>...</td>\n",
              "      <td>...</td>\n",
              "      <td>...</td>\n",
              "      <td>...</td>\n",
              "      <td>...</td>\n",
              "      <td>...</td>\n",
              "      <td>...</td>\n",
              "      <td>...</td>\n",
              "      <td>...</td>\n",
              "      <td>...</td>\n",
              "      <td>...</td>\n",
              "      <td>...</td>\n",
              "      <td>...</td>\n",
              "      <td>...</td>\n",
              "      <td>...</td>\n",
              "      <td>...</td>\n",
              "      <td>...</td>\n",
              "      <td>...</td>\n",
              "      <td>...</td>\n",
              "      <td>...</td>\n",
              "    </tr>\n",
              "    <tr>\n",
              "      <th>7328</th>\n",
              "      <td>0.8678</td>\n",
              "      <td>0.9697</td>\n",
              "      <td>0.8086</td>\n",
              "      <td>0.9190</td>\n",
              "      <td>0.9190</td>\n",
              "      <td>1.0338</td>\n",
              "      <td>0.8902</td>\n",
              "      <td>0.8936</td>\n",
              "      <td>0.9719</td>\n",
              "      <td>0.9944</td>\n",
              "      <td>...</td>\n",
              "      <td>0.8730</td>\n",
              "      <td>0.7987</td>\n",
              "      <td>0.7794</td>\n",
              "      <td>0.8054</td>\n",
              "      <td>0.8888</td>\n",
              "      <td>0.9448</td>\n",
              "      <td>0.8552</td>\n",
              "      <td>0.9297</td>\n",
              "      <td>0.6332</td>\n",
              "      <td>/content/musecare_rr_intervals/3168.csv</td>\n",
              "    </tr>\n",
              "    <tr>\n",
              "      <th>7329</th>\n",
              "      <td>0.9278</td>\n",
              "      <td>1.1079</td>\n",
              "      <td>1.0185</td>\n",
              "      <td>0.9479</td>\n",
              "      <td>0.9452</td>\n",
              "      <td>1.0061</td>\n",
              "      <td>0.9831</td>\n",
              "      <td>0.9290</td>\n",
              "      <td>1.0182</td>\n",
              "      <td>1.0200</td>\n",
              "      <td>...</td>\n",
              "      <td>0.9977</td>\n",
              "      <td>1.0473</td>\n",
              "      <td>0.9845</td>\n",
              "      <td>0.9620</td>\n",
              "      <td>0.9959</td>\n",
              "      <td>0.9959</td>\n",
              "      <td>1.0467</td>\n",
              "      <td>0.9712</td>\n",
              "      <td>0.9433</td>\n",
              "      <td>/content/musecare_rr_intervals/3190.csv</td>\n",
              "    </tr>\n",
              "    <tr>\n",
              "      <th>7330</th>\n",
              "      <td>0.8985</td>\n",
              "      <td>0.6147</td>\n",
              "      <td>0.5688</td>\n",
              "      <td>0.7274</td>\n",
              "      <td>1.0483</td>\n",
              "      <td>1.0483</td>\n",
              "      <td>0.9385</td>\n",
              "      <td>1.3909</td>\n",
              "      <td>1.0817</td>\n",
              "      <td>1.0222</td>\n",
              "      <td>...</td>\n",
              "      <td>0.6549</td>\n",
              "      <td>0.5688</td>\n",
              "      <td>0.8941</td>\n",
              "      <td>1.1037</td>\n",
              "      <td>0.5393</td>\n",
              "      <td>0.6311</td>\n",
              "      <td>0.7231</td>\n",
              "      <td>0.8074</td>\n",
              "      <td>0.5329</td>\n",
              "      <td>/content/musecare_rr_intervals/5401.csv</td>\n",
              "    </tr>\n",
              "    <tr>\n",
              "      <th>7331</th>\n",
              "      <td>0.9165</td>\n",
              "      <td>0.8325</td>\n",
              "      <td>0.7075</td>\n",
              "      <td>0.7248</td>\n",
              "      <td>0.9824</td>\n",
              "      <td>1.0213</td>\n",
              "      <td>0.8947</td>\n",
              "      <td>0.7570</td>\n",
              "      <td>0.8346</td>\n",
              "      <td>0.9562</td>\n",
              "      <td>...</td>\n",
              "      <td>0.6239</td>\n",
              "      <td>0.9793</td>\n",
              "      <td>0.8431</td>\n",
              "      <td>0.8492</td>\n",
              "      <td>0.8492</td>\n",
              "      <td>0.4156</td>\n",
              "      <td>0.4384</td>\n",
              "      <td>0.9812</td>\n",
              "      <td>0.9259</td>\n",
              "      <td>/content/musecare_rr_intervals/3171.csv</td>\n",
              "    </tr>\n",
              "    <tr>\n",
              "      <th>7332</th>\n",
              "      <td>0.6515</td>\n",
              "      <td>0.6521</td>\n",
              "      <td>0.6213</td>\n",
              "      <td>0.6272</td>\n",
              "      <td>0.6425</td>\n",
              "      <td>0.6419</td>\n",
              "      <td>0.6500</td>\n",
              "      <td>0.6500</td>\n",
              "      <td>0.6466</td>\n",
              "      <td>0.6389</td>\n",
              "      <td>...</td>\n",
              "      <td>0.6350</td>\n",
              "      <td>0.6543</td>\n",
              "      <td>0.6543</td>\n",
              "      <td>0.6324</td>\n",
              "      <td>0.6381</td>\n",
              "      <td>0.6310</td>\n",
              "      <td>0.6376</td>\n",
              "      <td>0.6428</td>\n",
              "      <td>0.6414</td>\n",
              "      <td>/content/musecare_rr_intervals/1630.csv</td>\n",
              "    </tr>\n",
              "  </tbody>\n",
              "</table>\n",
              "<p>7333 rows × 101 columns</p>\n",
              "</div>\n",
              "      <button class=\"colab-df-convert\" onclick=\"convertToInteractive('df-0a4cc9f1-2bf4-4ef3-8a87-26a06939475a')\"\n",
              "              title=\"Convert this dataframe to an interactive table.\"\n",
              "              style=\"display:none;\">\n",
              "        \n",
              "  <svg xmlns=\"http://www.w3.org/2000/svg\" height=\"24px\"viewBox=\"0 0 24 24\"\n",
              "       width=\"24px\">\n",
              "    <path d=\"M0 0h24v24H0V0z\" fill=\"none\"/>\n",
              "    <path d=\"M18.56 5.44l.94 2.06.94-2.06 2.06-.94-2.06-.94-.94-2.06-.94 2.06-2.06.94zm-11 1L8.5 8.5l.94-2.06 2.06-.94-2.06-.94L8.5 2.5l-.94 2.06-2.06.94zm10 10l.94 2.06.94-2.06 2.06-.94-2.06-.94-.94-2.06-.94 2.06-2.06.94z\"/><path d=\"M17.41 7.96l-1.37-1.37c-.4-.4-.92-.59-1.43-.59-.52 0-1.04.2-1.43.59L10.3 9.45l-7.72 7.72c-.78.78-.78 2.05 0 2.83L4 21.41c.39.39.9.59 1.41.59.51 0 1.02-.2 1.41-.59l7.78-7.78 2.81-2.81c.8-.78.8-2.07 0-2.86zM5.41 20L4 18.59l7.72-7.72 1.47 1.35L5.41 20z\"/>\n",
              "  </svg>\n",
              "      </button>\n",
              "      \n",
              "  <style>\n",
              "    .colab-df-container {\n",
              "      display:flex;\n",
              "      flex-wrap:wrap;\n",
              "      gap: 12px;\n",
              "    }\n",
              "\n",
              "    .colab-df-convert {\n",
              "      background-color: #E8F0FE;\n",
              "      border: none;\n",
              "      border-radius: 50%;\n",
              "      cursor: pointer;\n",
              "      display: none;\n",
              "      fill: #1967D2;\n",
              "      height: 32px;\n",
              "      padding: 0 0 0 0;\n",
              "      width: 32px;\n",
              "    }\n",
              "\n",
              "    .colab-df-convert:hover {\n",
              "      background-color: #E2EBFA;\n",
              "      box-shadow: 0px 1px 2px rgba(60, 64, 67, 0.3), 0px 1px 3px 1px rgba(60, 64, 67, 0.15);\n",
              "      fill: #174EA6;\n",
              "    }\n",
              "\n",
              "    [theme=dark] .colab-df-convert {\n",
              "      background-color: #3B4455;\n",
              "      fill: #D2E3FC;\n",
              "    }\n",
              "\n",
              "    [theme=dark] .colab-df-convert:hover {\n",
              "      background-color: #434B5C;\n",
              "      box-shadow: 0px 1px 3px 1px rgba(0, 0, 0, 0.15);\n",
              "      filter: drop-shadow(0px 1px 2px rgba(0, 0, 0, 0.3));\n",
              "      fill: #FFFFFF;\n",
              "    }\n",
              "  </style>\n",
              "\n",
              "      <script>\n",
              "        const buttonEl =\n",
              "          document.querySelector('#df-0a4cc9f1-2bf4-4ef3-8a87-26a06939475a button.colab-df-convert');\n",
              "        buttonEl.style.display =\n",
              "          google.colab.kernel.accessAllowed ? 'block' : 'none';\n",
              "\n",
              "        async function convertToInteractive(key) {\n",
              "          const element = document.querySelector('#df-0a4cc9f1-2bf4-4ef3-8a87-26a06939475a');\n",
              "          const dataTable =\n",
              "            await google.colab.kernel.invokeFunction('convertToInteractive',\n",
              "                                                     [key], {});\n",
              "          if (!dataTable) return;\n",
              "\n",
              "          const docLinkHtml = 'Like what you see? Visit the ' +\n",
              "            '<a target=\"_blank\" href=https://colab.research.google.com/notebooks/data_table.ipynb>data table notebook</a>'\n",
              "            + ' to learn more about interactive tables.';\n",
              "          element.innerHTML = '';\n",
              "          dataTable['output_type'] = 'display_data';\n",
              "          await google.colab.output.renderOutput(dataTable, element);\n",
              "          const docLink = document.createElement('div');\n",
              "          docLink.innerHTML = docLinkHtml;\n",
              "          element.appendChild(docLink);\n",
              "        }\n",
              "      </script>\n",
              "    </div>\n",
              "  </div>\n",
              "  "
            ]
          },
          "metadata": {},
          "execution_count": 45
        }
      ]
    },
    {
      "cell_type": "code",
      "source": [
        "def extractor(case,id):\n",
        "  cnt_id={}\n",
        "  nsr_det_rri = []\n",
        "  nsr_det_rri = np.array(nsr_det_rri)\n",
        "  afib_det_rri = []\n",
        "  afib_det_rri = np.array(afib_det_rri)\n",
        "  afl_det_rri = []\n",
        "  afl_det_rri = np.array(afl_det_rri)\n",
        "  afl_list = []\n",
        "  for i in id:\n",
        "    label=subject_label[all_subjects[i]]\n",
        "    if label in cnt_id:\n",
        "      cnt_id[label]+=1\n",
        "    else:\n",
        "      cnt_id[label]=1\n",
        "    name=all_subjects[i]\n",
        "    if(label=='nsr'):\n",
        "      nsr_det_rri=np.append(nsr_det_rri,nsr_rri[name])\n",
        "    elif(label=='afl'):\n",
        "      afl_list.append(name)\n",
        "      afl_det_rri=np.append(afl_det_rri,afl_rri[name])\n",
        "    else:\n",
        "      afib_det_rri=np.append(afib_det_rri,afib_rri[name])\n",
        "    ## \n",
        "  print(case,\":\",cnt_id)\n",
        "  print(len(afib_det_rri),len(nsr_det_rri),len(afl_det_rri))\n",
        "\n",
        "  p1 = np.random.permutation(afl_list)\n",
        "  p2 = np.random.permutation(afl_list)\n",
        "  # print(len(p1),\" , \",len(p2))\n",
        "  for k in p1:\n",
        "    afl_det_rri=np.append(afl_det_rri,afl_rri[k])\n",
        "  for k in p2:\n",
        "    afl_det_rri=np.append(afl_det_rri,afl_rri[k])\n",
        "  print(\"After patient Scrambling:\",len(afl_det_rri))\n",
        "\n",
        "\n",
        "  afib_vectors = round_robin(afib_det_rri)\n",
        "  afl_vectors = round_robin(afl_det_rri)\n",
        "  nsr_vectors = round_robin(nsr_det_rri)\n",
        "  len__puncture = min(len(afib_vectors),min(len(nsr_vectors),len(afl_vectors)))\n",
        "  afib_vectors = afib_vectors[:len__puncture]\n",
        "  afl_vectors = afl_vectors[:len__puncture]\n",
        "  nsr_vectors = nsr_vectors[:len__puncture]\n",
        "\n",
        "  afib_rr = pd.DataFrame(afib_vectors)\n",
        "  afib_rr['label']='afib'\n",
        "  nsr_rr = pd.DataFrame(nsr_vectors)\n",
        "  nsr_rr['label']='nsr'\n",
        "  afl_rr = pd.DataFrame(afl_vectors)\n",
        "  afl_rr['label']='afl'\n",
        "\n",
        "  full_data_with_rr=pd.concat([afib_rr,nsr_rr,afl_rr])\n",
        "  dict = {'nsr': 0, 'afib': 1, 'afl':2}\n",
        "  full_data_with_rr.replace({'label': dict},inplace=True)\n",
        "  return full_data_with_rr\n",
        "\n",
        "\n",
        "\n",
        "def train_1_fold(train,test,NN):\n",
        "    # train=pd.read_csv(\"/content/drive/MyDrive/train_with_rr_20.csv\")\n",
        "    train = train.sample(frac=1).reset_index(drop=True)\n",
        "    train = train.sample(frac=1).reset_index(drop=True)\n",
        "    full_data_with_rr=train\n",
        "    full_test_set=test\n",
        "\n",
        "    X_arhy_train, X_arhy_val, y_arhy_train, y_arhy_val = train_test_split(full_data_with_rr.iloc[:,:-1].values, full_data_with_rr.iloc[:,-1].values,test_size=0.1, random_state=42)\n",
        "\n",
        "    X_arhy_test, X_arhy_val, y_arhy_test, y_arhy_val = train_test_split(X_arhy_val,y_arhy_val,test_size=0.5, random_state=42)\n",
        "\n",
        "    # The 1D convolutions expect an extra dimension in the input data \n",
        "    X_arhyl_train = np.expand_dims(X_arhy_train, -1)\n",
        "    y_arhyl_train = np.expand_dims(y_arhy_train, -1)\n",
        "    X_arhyl_val = np.expand_dims(X_arhy_val, -1)\n",
        "    y_arhyl_val = np.expand_dims(y_arhy_val, -1)\n",
        "    X_arhyl_test = np.expand_dims(X_arhy_test, -1)\n",
        "    y_arhyl_test = np.expand_dims(y_arhy_test, -1)\n",
        "\n",
        "    N = X_arhyl_train.shape[0]\n",
        "    batch_size = 128\n",
        "    iterations = N/batch_size\n",
        "    step_size= 2 * iterations\n",
        "\n",
        "    optimizer = keras.optimizers.Adam(lr=0.001)\n",
        "    model = get_resnet_model(5) \n",
        "    model.compile(optimizer=optimizer, loss='sparse_categorical_crossentropy', metrics=['accuracy'])\n",
        "\n",
        "    lr_finder = LRFinder(start_lr=1e-7, end_lr= 1e-02, max_steps=50, smoothing=0.6)\n",
        "    _ = model.fit(X_arhyl_train, y_arhyl_train, batch_size=256, epochs=5, callbacks=[lr_finder], verbose=False)\n",
        "    lr_finder.plot()\n",
        "\n",
        "    lr_schedule = CyclicalLearningRate(1e-5, 1e-2, step_size=step_size, scale_fn=lambda x: tf.pow(0.95,x))\n",
        "    \n",
        "    \n",
        "    optimizer = tf.keras.optimizers.Adam(learning_rate=lr_schedule)\n",
        "    m_resnet_model = get_resnet_model(NN)\n",
        "\n",
        "    save_best_weights = ModelCheckpoint(filepath=\"weights.hdf5\", verbose=0, save_best_only=True)\n",
        "\n",
        "    m_resnet_model.compile(optimizer=optimizer, loss='sparse_categorical_crossentropy', metrics=['accuracy'])\n",
        "    history = m_resnet_model.fit(X_arhyl_train, y_arhyl_train, validation_data=(X_arhyl_val, y_arhyl_val), \n",
        "                                shuffle=True, batch_size=128, epochs=8, callbacks=[save_best_weights])\n",
        "    pretty_plot(history, 'loss', lambda x: np.argmin(x))\n",
        "    pretty_plot(history, 'accuracy', lambda x: np.argmax(x))\n",
        "    m_resnet_model.load_weights('weights.hdf5')\n",
        "    print(\"\\n****** Val data (used to tune hyperparameters for model) *****\\n\")\n",
        "    test_stats = m_resnet_model.evaluate(X_arhyl_test, y_arhyl_test)   \n",
        "    test_acc = round(test_stats[1],2)\n",
        "    \n",
        "    y_pred = tf.argmax(m_resnet_model.predict(X_arhyl_test), axis=-1)\n",
        "    # Compute confusion matrix\n",
        "    cnf_matrix = sklearn.metrics.confusion_matrix(y_arhy_test, y_pred)\n",
        "    np.set_printoptions(precision=2)\n",
        "\n",
        "    # Plot non-normalized confusion matrix\n",
        "    plt.figure()\n",
        "    plot_confusion_matrix(cnf_matrix, classes=['NSR', 'AFIB','AFL'],\n",
        "                        title='Confusion matrix, without normalization')\n",
        "\n",
        "    X_arhy_test_10split = full_test_set.iloc[:,:-1].values\n",
        "    y_arhy_test_10split = full_test_set.iloc[:,-1].values\n",
        "\n",
        "    print(\"\\n****** Validation data (unseen to model) *****\\n\")\n",
        "    ###########\n",
        "    val_stats=m_resnet_model.evaluate(X_arhy_test_10split, y_arhy_test_10split)\n",
        "    val_acc = round(val_stats[1],4)\n",
        "    \n",
        "    y_pred = tf.argmax(m_resnet_model.predict(X_arhy_test_10split), axis=-1)\n",
        "    # Compute confusion matrix\n",
        "    cnf_matrix = sklearn.metrics.confusion_matrix(y_arhy_test_10split, y_pred)\n",
        "    np.set_printoptions(precision=2)\n",
        "\n",
        "    # Plot non-normalized confusion matrix\n",
        "    plt.figure()\n",
        "    plot_confusion_matrix(cnf_matrix, classes=['NSR', 'AFIB','AFL'],\n",
        "                        title='Confusion matrix, without normalization')\n",
        "    \n",
        "    print(\"Final Accuracy:\",val_acc*100,\"%\\n\")\n",
        "    return float(val_acc*100)\n"
      ],
      "metadata": {
        "id": "i6VFFrkomGVh"
      },
      "execution_count": 23,
      "outputs": []
    },
    {
      "cell_type": "markdown",
      "source": [
        "### Load Data"
      ],
      "metadata": {
        "id": "4Y1tzJ-IpggD"
      }
    },
    {
      "cell_type": "code",
      "execution_count": 24,
      "metadata": {
        "colab": {
          "base_uri": "https://localhost:8080/"
        },
        "id": "QXJ7bm2as2qZ",
        "outputId": "39f3c9aa-3b47-400e-f9eb-618b738cac14"
      },
      "outputs": [
        {
          "output_type": "execute_result",
          "data": {
            "text/plain": [
              "10646"
            ]
          },
          "metadata": {},
          "execution_count": 24
        }
      ],
      "source": [
        "labels = pd.read_excel('/content/drive/MyDrive/Arrythmia /Diagnostics.xlsx')\n",
        "len(labels)"
      ]
    },
    {
      "cell_type": "code",
      "execution_count": 25,
      "metadata": {
        "colab": {
          "base_uri": "https://localhost:8080/"
        },
        "id": "C1bWU4WisK-j",
        "outputId": "23249b4e-802c-4e86-bcd9-4c585b31e2f2"
      },
      "outputs": [
        {
          "output_type": "execute_result",
          "data": {
            "text/plain": [
              "SR      1826\n",
              "AFIB    1780\n",
              "AF       445\n",
              "Name: Rhythm, dtype: int64"
            ]
          },
          "metadata": {},
          "execution_count": 25
        }
      ],
      "source": [
        "labels=labels[(labels['Rhythm']=='AFIB') | (labels['Rhythm']=='AF') |(labels['Rhythm']=='SR')]\n",
        "labels.reset_index(inplace=True,drop=True)\n",
        "labels['Rhythm'].value_counts()"
      ]
    },
    {
      "cell_type": "markdown",
      "metadata": {
        "id": "vBl2P1LV80ho"
      },
      "source": [
        "### Preprocessing"
      ]
    },
    {
      "cell_type": "code",
      "execution_count": 35,
      "metadata": {
        "id": "dhgoJXDXsbCe"
      },
      "outputs": [],
      "source": [
        "afib_files = labels[labels['Rhythm']==\"AFIB\"]['FileName'].tolist()\n",
        "afib_files.remove('MUSE_20180116_131253_72000')\n",
        "nsr_files = labels[labels['Rhythm']==\"SR\"]['FileName'].tolist()\n",
        "afl_files = labels[labels['Rhythm']==\"AF\"]['FileName'].tolist()\n",
        "all_files = afib_files+nsr_files+afl_files"
      ]
    },
    {
      "cell_type": "code",
      "execution_count": 36,
      "metadata": {
        "colab": {
          "base_uri": "https://localhost:8080/"
        },
        "id": "_OfXjmfdHT2c",
        "outputId": "38457ecd-11cf-4024-df0a-fa6d54046f8e"
      },
      "outputs": [
        {
          "output_type": "stream",
          "name": "stderr",
          "text": [
            "100%|██████████| 1826/1826 [00:38<00:00, 47.63it/s]\n"
          ]
        },
        {
          "output_type": "stream",
          "name": "stdout",
          "text": [
            "Total no. of RR Intervals in nsr  class is: 20520 \n",
            "\n"
          ]
        },
        {
          "output_type": "stream",
          "name": "stderr",
          "text": [
            " 91%|█████████ | 1619/1779 [00:39<00:03, 40.34it/s]/usr/local/lib/python3.7/dist-packages/numpy/core/fromnumeric.py:3441: RuntimeWarning: Mean of empty slice.\n",
            "  out=out, **kwargs)\n",
            "/usr/local/lib/python3.7/dist-packages/numpy/core/_methods.py:189: RuntimeWarning: invalid value encountered in double_scalars\n",
            "  ret = ret.dtype.type(ret / rcount)\n",
            "100%|██████████| 1779/1779 [00:44<00:00, 40.10it/s]\n"
          ]
        },
        {
          "output_type": "stream",
          "name": "stdout",
          "text": [
            "Total no. of RR Intervals in afib  class is: 25124 \n",
            "\n"
          ]
        },
        {
          "output_type": "stream",
          "name": "stderr",
          "text": [
            "100%|██████████| 445/445 [00:11<00:00, 37.33it/s]"
          ]
        },
        {
          "output_type": "stream",
          "name": "stdout",
          "text": [
            "Total no. of RR Intervals in afl  class is: 7491 \n",
            "\n"
          ]
        },
        {
          "output_type": "stream",
          "name": "stderr",
          "text": [
            "\n"
          ]
        }
      ],
      "source": [
        "nsr_rri=append_r_peaks(nsr_files,\"nsr\",sampling_rate=500)\n",
        "afib_rri=append_r_peaks(afib_files,\"afib\",sampling_rate=500)\n",
        "afl_rri=append_r_peaks(afl_files,\"afl\",sampling_rate=500)\n",
        "# to verify total no. of total RR Intervals for each class and \n",
        "# Extract RR Peaks into a dictionary with filename"
      ]
    },
    {
      "cell_type": "code",
      "execution_count": 37,
      "metadata": {
        "id": "TyO0RhUapDvX"
      },
      "outputs": [],
      "source": [
        "# nsr_extraction_rr = pd.DataFrame.from_dict(nsr_rri,orient='index')\n",
        "# afl_extraction_rr = pd.DataFrame.from_dict(afl_rri,orient='index')\n",
        "# afib_extraction_rr = pd.DataFrame.from_dict(afib_rri,orient='index')"
      ]
    },
    {
      "cell_type": "code",
      "execution_count": 38,
      "metadata": {
        "id": "iK2D5xKGg3Yg"
      },
      "outputs": [],
      "source": [
        "all_subjects=all_files\n",
        "subject_label = {}\n",
        "for i in afib_files:\n",
        "    subject_label[i] = 'afib'\n",
        "for i in nsr_files:\n",
        "    subject_label[i] = 'nsr'\n",
        "for i in afl_files:\n",
        "    subject_label[i] = 'afl'"
      ]
    },
    {
      "cell_type": "markdown",
      "metadata": {
        "id": "A-s2KVRSukCr"
      },
      "source": [
        "### Labelling encoding {'nsr': 0, 'afib': 1, 'afl':2}\n"
      ]
    },
    {
      "cell_type": "code",
      "execution_count": 39,
      "metadata": {
        "colab": {
          "base_uri": "https://localhost:8080/",
          "height": 1000
        },
        "id": "64UmytgFg16l",
        "outputId": "e6ad8c43-b5fa-4fe2-9e8d-83e1235d32cd"
      },
      "outputs": [
        {
          "output_type": "stream",
          "name": "stdout",
          "text": [
            "train : {'afib': 1592, 'nsr': 1652, 'afl': 401}\n",
            "22573 18567 6786\n",
            "After patient Scrambling: 20358\n"
          ]
        },
        {
          "output_type": "stream",
          "name": "stderr",
          "text": [
            "100%|██████████| 22573/22573 [00:00<00:00, 396512.33it/s]\n",
            "100%|██████████| 20358/20358 [00:00<00:00, 362828.26it/s]\n",
            "100%|██████████| 18567/18567 [00:00<00:00, 420322.34it/s]\n"
          ]
        },
        {
          "output_type": "stream",
          "name": "stdout",
          "text": [
            "test : {'afib': 187, 'nsr': 174, 'afl': 44}\n",
            "2551 1953 705\n",
            "After patient Scrambling: 2115\n"
          ]
        },
        {
          "output_type": "stream",
          "name": "stderr",
          "text": [
            "100%|██████████| 2551/2551 [00:00<00:00, 398453.41it/s]\n",
            "100%|██████████| 2115/2115 [00:00<00:00, 465838.00it/s]\n",
            "100%|██████████| 1953/1953 [00:00<00:00, 686858.60it/s]\n"
          ]
        },
        {
          "output_type": "stream",
          "name": "stdout",
          "text": [
            "\n",
            "#@#@#@#@#@ Working on FOLD: 1 #@#@#@#@#@\n",
            "\n"
          ]
        },
        {
          "output_type": "stream",
          "name": "stderr",
          "text": [
            "/usr/local/lib/python3.7/dist-packages/keras/optimizer_v2/adam.py:105: UserWarning: The `lr` argument is deprecated, use `learning_rate` instead.\n",
            "  super(Adam, self).__init__(name, **kwargs)\n"
          ]
        },
        {
          "output_type": "stream",
          "name": "stdout",
          "text": [
            "WARNING:tensorflow:Callback method `on_train_batch_end` is slow compared to the batch time (batch time: 0.0127s vs `on_train_batch_end` time: 0.0303s). Check your callbacks.\n",
            "Epoch 1/8\n",
            "392/392 [==============================] - 12s 24ms/step - loss: 0.5500 - accuracy: 0.7700 - val_loss: 0.3371 - val_accuracy: 0.8661\n",
            "Epoch 2/8\n",
            "392/392 [==============================] - 9s 22ms/step - loss: 0.2490 - accuracy: 0.9062 - val_loss: 0.2166 - val_accuracy: 0.9149\n",
            "Epoch 3/8\n",
            "392/392 [==============================] - 9s 23ms/step - loss: 0.1366 - accuracy: 0.9512 - val_loss: 0.0752 - val_accuracy: 0.9724\n",
            "Epoch 4/8\n",
            "392/392 [==============================] - 9s 22ms/step - loss: 0.0331 - accuracy: 0.9882 - val_loss: 0.0269 - val_accuracy: 0.9910\n",
            "Epoch 5/8\n",
            "392/392 [==============================] - 8s 22ms/step - loss: 0.0224 - accuracy: 0.9927 - val_loss: 0.1076 - val_accuracy: 0.9645\n",
            "Epoch 6/8\n",
            "392/392 [==============================] - 9s 22ms/step - loss: 0.0869 - accuracy: 0.9712 - val_loss: 0.1710 - val_accuracy: 0.9519\n",
            "Epoch 7/8\n",
            "392/392 [==============================] - 9s 22ms/step - loss: 0.1129 - accuracy: 0.9624 - val_loss: 0.0501 - val_accuracy: 0.9838\n",
            "Epoch 8/8\n",
            "392/392 [==============================] - 9s 22ms/step - loss: 0.0127 - accuracy: 0.9958 - val_loss: 0.0210 - val_accuracy: 0.9925\n"
          ]
        },
        {
          "output_type": "display_data",
          "data": {
            "text/plain": [
              "<Figure size 432x288 with 1 Axes>"
            ],
            "image/png": "[encoded data removed]"
          },
          "metadata": {
            "needs_background": "light"
          }
        },
        {
          "output_type": "display_data",
          "data": {
            "text/plain": [
              "<Figure size 432x288 with 1 Axes>"
            ],
            "image/png": "[encoded data removed]"
          },
          "metadata": {
            "needs_background": "light"
          }
        },
        {
          "output_type": "display_data",
          "data": {
            "text/plain": [
              "<Figure size 432x288 with 1 Axes>"
            ],
            "image/png": "[encoded data removed]"
          },
          "metadata": {
            "needs_background": "light"
          }
        },
        {
          "output_type": "display_data",
          "data": {
            "text/plain": [
              "<Figure size 432x288 with 1 Axes>"
            ],
            "image/png": "[encoded data removed]"
          },
          "metadata": {
            "needs_background": "light"
          }
        },
        {
          "output_type": "stream",
          "name": "stdout",
          "text": [
            "\n",
            "****** Val data (used to tune hyperparameters for model) *****\n",
            "\n",
            "88/88 [==============================] - 1s 10ms/step - loss: 0.0269 - accuracy: 0.9921\n",
            "Confusion matrix, without normalization\n",
            "[[943   0   3]\n",
            " [  0 910   3]\n",
            " [  9   7 910]]\n",
            "\n",
            "****** Validation data (unseen to model) *****\n",
            "\n",
            "184/184 [==============================] - 2s 8ms/step - loss: 0.9619 - accuracy: 0.9095\n",
            "Confusion matrix, without normalization\n",
            "[[1903    0   50]\n",
            " [   0 1860   93]\n",
            " [  22  365 1566]]\n",
            "Final Accuracy: 90.95 %\n",
            "\n",
            "10 fold acc: [90.95]\n"
          ]
        },
        {
          "output_type": "display_data",
          "data": {
            "text/plain": [
              "<Figure size 432x288 with 2 Axes>"
            ],
            "image/png": "[encoded data removed]"
          },
          "metadata": {
            "needs_background": "light"
          }
        },
        {
          "output_type": "display_data",
          "data": {
            "text/plain": [
              "<Figure size 432x288 with 2 Axes>"
            ],
            "image/png": "[encoded data removed]"
          },
          "metadata": {
            "needs_background": "light"
          }
        }
      ],
      "source": [
        "# scikit-learn k-fold cross-validation\n",
        "data=all_subjects\n",
        "\n",
        "# prepare cross validation\n",
        "kfold = KFold(10,shuffle=True,random_state=42)\n",
        "all_fold_acc = []\n",
        "# enumerate splits\n",
        "count=1\n",
        "for train, test in kfold.split(data):  \n",
        "  full_train_set = extractor(\"train\",train)\n",
        "  full_test_set = extractor(\"test\",test)\n",
        "  print(\"\\n#@#@#@#@#@ Working on FOLD:\",count,\"#@#@#@#@#@\\n\")\n",
        "  accuracy_1_fold = train_1_fold(full_train_set,full_test_set,7)\n",
        "  all_fold_acc.append(accuracy_1_fold)\n",
        "  count+=1\n",
        "  #1 fold done call rest part in function to complete your k fold cv\n",
        "  break\n",
        "print(\"10 fold acc:\",all_fold_acc)"
      ]
    },
    {
      "cell_type": "code",
      "source": [
        "m_resnet_model = get_resnet_model(7)\n",
        "m_resnet_model.load_weights('weights.hdf5')"
      ],
      "metadata": {
        "id": "XbMgPDBkPtQk"
      },
      "execution_count": 51,
      "outputs": []
    },
    {
      "cell_type": "code",
      "source": [
        "X_ckecker=test_data.iloc[:,:-1].values"
      ],
      "metadata": {
        "id": "U_s_H88ASmL7"
      },
      "execution_count": 70,
      "outputs": []
    },
    {
      "cell_type": "code",
      "source": [
        "preds=tf.argmax(m_resnet_model.predict(X_ckecker), axis=-1)"
      ],
      "metadata": {
        "id": "vG523VKrPvQB"
      },
      "execution_count": 71,
      "outputs": []
    },
    {
      "cell_type": "code",
      "source": [
        "test_data['predicted_class']=preds"
      ],
      "metadata": {
        "id": "S4VxCdpHtiXV"
      },
      "execution_count": 72,
      "outputs": []
    },
    {
      "cell_type": "code",
      "source": [
        "dct= {0:'nsr', 1:'afib', 2:'afl'}\n",
        "test_data=test_data.replace({\"predicted_class\": dct})"
      ],
      "metadata": {
        "id": "DhxTCabHtwB1"
      },
      "execution_count": 78,
      "outputs": []
    },
    {
      "cell_type": "code",
      "source": [
        "test_data['predicted_class'].value_counts()"
      ],
      "metadata": {
        "colab": {
          "base_uri": "https://localhost:8080/"
        },
        "id": "7Yy3AbS6tvEx",
        "outputId": "79b465e8-64e5-4692-a6e7-2a0251945f7f"
      },
      "execution_count": 77,
      "outputs": [
        {
          "output_type": "execute_result",
          "data": {
            "text/plain": [
              "afib    3699\n",
              "afl     3074\n",
              "nsr      560\n",
              "Name: predicted_class, dtype: int64"
            ]
          },
          "metadata": {},
          "execution_count": 77
        }
      ]
    },
    {
      "cell_type": "code",
      "source": [
        "test_data.to_csv(\"result_arr_ppg_RRi.csv\",index=False)"
      ],
      "metadata": {
        "id": "mcs7MXbvuMpW"
      },
      "execution_count": 80,
      "outputs": []
    },
    {
      "cell_type": "code",
      "source": [
        ""
      ],
      "metadata": {
        "id": "_U8_vLOcuhv-"
      },
      "execution_count": null,
      "outputs": []
    }
  ],
  "metadata": {
    "accelerator": "GPU",
    "colab": {
      "collapsed_sections": [],
      "name": "Arrhythmia Detection v_final2.ipynb",
      "provenance": []
    },
    "kernelspec": {
      "display_name": "Python 3",
      "name": "python3"
    },
    "language_info": {
      "name": "python"
    }
  },
  "nbformat": 4,
  "nbformat_minor": 0
}