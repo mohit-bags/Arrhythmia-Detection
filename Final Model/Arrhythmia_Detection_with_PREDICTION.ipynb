{
  "cells": [
    {
      "cell_type": "code",
      "source": [
        "pip list | grep tensorflow"
      ],
      "metadata": {
        "id": "qrtLelatbdeH",
        "colab": {
          "base_uri": "https://localhost:8080/"
        },
        "outputId": "166ff0b2-1869-42da-d650-412251e45c25"
      },
      "execution_count": null,
      "outputs": [
        {
          "output_type": "stream",
          "name": "stdout",
          "text": [
            "tensorflow                    2.8.0\n",
            "tensorflow-addons             0.16.1\n",
            "tensorflow-datasets           4.0.1\n",
            "tensorflow-estimator          2.8.0\n",
            "tensorflow-gcs-config         2.8.0\n",
            "tensorflow-hub                0.12.0\n",
            "tensorflow-io-gcs-filesystem  0.24.0\n",
            "tensorflow-metadata           1.7.0\n",
            "tensorflow-probability        0.16.0\n"
          ]
        }
      ]
    },
    {
      "cell_type": "code",
      "source": [
        "from google.colab import drive\n",
        "drive.mount('/content/drive')"
      ],
      "metadata": {
        "colab": {
          "base_uri": "https://localhost:8080/"
        },
        "id": "pUSQVuUtNu9N",
        "outputId": "3c3222d6-7de9-4f79-955c-382f3a15e541"
      },
      "execution_count": null,
      "outputs": [
        {
          "output_type": "stream",
          "name": "stdout",
          "text": [
            "Mounted at /content/drive\n"
          ]
        }
      ]
    },
    {
      "cell_type": "markdown",
      "metadata": {
        "id": "JfeS7tsK8vBb"
      },
      "source": [
        "### Import Libraries"
      ]
    },
    {
      "cell_type": "code",
      "execution_count": null,
      "metadata": {
        "id": "HyTKLDsxjEjC"
      },
      "outputs": [],
      "source": [
        "!unzip /content/drive/\"My Drive\"/\"Arrythmia \"/ECGDataDenoised.zip"
      ]
    },
    {
      "cell_type": "code",
      "source": [
        "# !unzip /content/drive/\"My Drive\"/data_rr_intervals.zip"
      ],
      "metadata": {
        "id": "QfehlZtxnfwZ"
      },
      "execution_count": null,
      "outputs": []
    },
    {
      "cell_type": "code",
      "execution_count": null,
      "metadata": {
        "id": "XXJxedOpqXYy",
        "colab": {
          "base_uri": "https://localhost:8080/"
        },
        "outputId": "3183ce70-98a6-4146-a29b-d6b7ca502f3a"
      },
      "outputs": [
        {
          "output_type": "stream",
          "name": "stdout",
          "text": [
            "\u001b[K     |████████████████████████████████| 1.1 MB 5.3 MB/s \n",
            "\u001b[?25hCollecting neurokit2\n",
            "  Downloading neurokit2-0.1.7-py2.py3-none-any.whl (1.1 MB)\n",
            "\u001b[K     |████████████████████████████████| 1.1 MB 5.2 MB/s \n",
            "\u001b[?25hRequirement already satisfied: scikit-learn in /usr/local/lib/python3.7/dist-packages (from neurokit2) (1.0.2)\n",
            "Requirement already satisfied: pandas in /usr/local/lib/python3.7/dist-packages (from neurokit2) (1.3.5)\n",
            "Requirement already satisfied: scipy in /usr/local/lib/python3.7/dist-packages (from neurokit2) (1.4.1)\n",
            "Requirement already satisfied: numpy in /usr/local/lib/python3.7/dist-packages (from neurokit2) (1.21.5)\n",
            "Requirement already satisfied: matplotlib in /usr/local/lib/python3.7/dist-packages (from neurokit2) (3.2.2)\n",
            "Requirement already satisfied: python-dateutil>=2.1 in /usr/local/lib/python3.7/dist-packages (from matplotlib->neurokit2) (2.8.2)\n",
            "Requirement already satisfied: cycler>=0.10 in /usr/local/lib/python3.7/dist-packages (from matplotlib->neurokit2) (0.11.0)\n",
            "Requirement already satisfied: pyparsing!=2.0.4,!=2.1.2,!=2.1.6,>=2.0.1 in /usr/local/lib/python3.7/dist-packages (from matplotlib->neurokit2) (3.0.7)\n",
            "Requirement already satisfied: kiwisolver>=1.0.1 in /usr/local/lib/python3.7/dist-packages (from matplotlib->neurokit2) (1.4.0)\n",
            "Requirement already satisfied: typing-extensions in /usr/local/lib/python3.7/dist-packages (from kiwisolver>=1.0.1->matplotlib->neurokit2) (3.10.0.2)\n",
            "Requirement already satisfied: six>=1.5 in /usr/local/lib/python3.7/dist-packages (from python-dateutil>=2.1->matplotlib->neurokit2) (1.15.0)\n",
            "Requirement already satisfied: pytz>=2017.3 in /usr/local/lib/python3.7/dist-packages (from pandas->neurokit2) (2018.9)\n",
            "Requirement already satisfied: joblib>=0.11 in /usr/local/lib/python3.7/dist-packages (from scikit-learn->neurokit2) (1.1.0)\n",
            "Requirement already satisfied: threadpoolctl>=2.0.0 in /usr/local/lib/python3.7/dist-packages (from scikit-learn->neurokit2) (3.1.0)\n",
            "Installing collected packages: neurokit2\n",
            "Successfully installed neurokit2-0.1.7\n"
          ]
        }
      ],
      "source": [
        "!pip install -q -U tensorflow_addons\n",
        "!pip install neurokit2\n",
        "# !pip install wfdb"
      ]
    },
    {
      "cell_type": "code",
      "source": [
        "pip install matplotlib"
      ],
      "metadata": {
        "colab": {
          "base_uri": "https://localhost:8080/"
        },
        "id": "GEtu077yAR-v",
        "outputId": "22d64011-7a45-4e72-ed58-f53f9512b46f"
      },
      "execution_count": null,
      "outputs": [
        {
          "output_type": "stream",
          "name": "stdout",
          "text": [
            "Requirement already satisfied: matplotlib in /usr/local/lib/python3.7/dist-packages (3.2.2)\n",
            "Requirement already satisfied: pyparsing!=2.0.4,!=2.1.2,!=2.1.6,>=2.0.1 in /usr/local/lib/python3.7/dist-packages (from matplotlib) (3.0.7)\n",
            "Requirement already satisfied: kiwisolver>=1.0.1 in /usr/local/lib/python3.7/dist-packages (from matplotlib) (1.4.0)\n",
            "Requirement already satisfied: numpy>=1.11 in /usr/local/lib/python3.7/dist-packages (from matplotlib) (1.21.5)\n",
            "Requirement already satisfied: python-dateutil>=2.1 in /usr/local/lib/python3.7/dist-packages (from matplotlib) (2.8.2)\n",
            "Requirement already satisfied: cycler>=0.10 in /usr/local/lib/python3.7/dist-packages (from matplotlib) (0.11.0)\n",
            "Requirement already satisfied: typing-extensions in /usr/local/lib/python3.7/dist-packages (from kiwisolver>=1.0.1->matplotlib) (3.10.0.2)\n",
            "Requirement already satisfied: six>=1.5 in /usr/local/lib/python3.7/dist-packages (from python-dateutil>=2.1->matplotlib) (1.15.0)\n"
          ]
        }
      ]
    },
    {
      "cell_type": "code",
      "source": [
        "import sys\n",
        "import os\n",
        "%matplotlib inline\n",
        "sampling_rate=500\n",
        "arr_folder_location = \"/content/drive/MyDrive/Arrythmia /\"\n",
        "sys.path.append(os.path.abspath(arr_folder_location))"
      ],
      "metadata": {
        "id": "RicOcw_f2tKv"
      },
      "execution_count": null,
      "outputs": []
    },
    {
      "cell_type": "code",
      "source": [
        "from arryhthmia_backend import *"
      ],
      "metadata": {
        "id": "Q7fttkgK24Rb",
        "colab": {
          "base_uri": "https://localhost:8080/"
        },
        "outputId": "607c0d0f-640d-4101-dcfe-e73b94118993"
      },
      "execution_count": null,
      "outputs": [
        {
          "output_type": "stream",
          "name": "stdout",
          "text": [
            "File Import Success\n"
          ]
        }
      ]
    },
    {
      "cell_type": "code",
      "source": [
        "# !rm -rf /content/ptb-diagnostic-ecg-database-1.0.0.zip #to delete a folder"
      ],
      "metadata": {
        "id": "h6Je-TKgoMbV"
      },
      "execution_count": null,
      "outputs": []
    },
    {
      "cell_type": "code",
      "source": [
        "def extractor(case,id):\n",
        "  cnt_id={}\n",
        "  nsr_det_rri = []\n",
        "  nsr_det_rri = np.array(nsr_det_rri)\n",
        "  afib_det_rri = []\n",
        "  afib_det_rri = np.array(afib_det_rri)\n",
        "  afl_det_rri = []\n",
        "  afl_det_rri = np.array(afl_det_rri)\n",
        "  afl_list = []\n",
        "  for i in id:\n",
        "    label=subject_label[all_subjects[i]]\n",
        "    if label in cnt_id:\n",
        "      cnt_id[label]+=1\n",
        "    else:\n",
        "      cnt_id[label]=1\n",
        "    name=all_subjects[i]\n",
        "    if(label=='nsr'):\n",
        "      nsr_det_rri=np.append(nsr_det_rri,nsr_rri[name])\n",
        "    elif(label=='afl'):\n",
        "      afl_list.append(name)\n",
        "      afl_det_rri=np.append(afl_det_rri,afl_rri[name])\n",
        "    else:\n",
        "      afib_det_rri=np.append(afib_det_rri,afib_rri[name])\n",
        "    ## \n",
        "  print(case,\":\",cnt_id)\n",
        "  print(len(afib_det_rri),len(nsr_det_rri),len(afl_det_rri))\n",
        "\n",
        "  p1 = np.random.permutation(afl_list)\n",
        "  p2 = np.random.permutation(afl_list)\n",
        "  # print(len(p1),\" , \",len(p2))\n",
        "  for k in p1:\n",
        "    afl_det_rri=np.append(afl_det_rri,afl_rri[k])\n",
        "  for k in p2:\n",
        "    afl_det_rri=np.append(afl_det_rri,afl_rri[k])\n",
        "  print(\"After patient Scrambling:\",len(afl_det_rri))\n",
        "\n",
        "\n",
        "  afib_vectors = round_robin(afib_det_rri)\n",
        "  afl_vectors = round_robin(afl_det_rri)\n",
        "  nsr_vectors = round_robin(nsr_det_rri)\n",
        "  len__puncture = min(len(afib_vectors),min(len(nsr_vectors),len(afl_vectors)))\n",
        "  afib_vectors = afib_vectors[:len__puncture]\n",
        "  afl_vectors = afl_vectors[:len__puncture]\n",
        "  nsr_vectors = nsr_vectors[:len__puncture]\n",
        "\n",
        "  afib_rr = pd.DataFrame(afib_vectors)\n",
        "  afib_rr['label']='afib'\n",
        "  nsr_rr = pd.DataFrame(nsr_vectors)\n",
        "  nsr_rr['label']='nsr'\n",
        "  afl_rr = pd.DataFrame(afl_vectors)\n",
        "  afl_rr['label']='afl'\n",
        "\n",
        "  full_data_with_rr=pd.concat([afib_rr,nsr_rr,afl_rr])\n",
        "  dict = {'nsr': 0, 'afib': 1, 'afl':2}\n",
        "  full_data_with_rr.replace({'label': dict},inplace=True)\n",
        "  return full_data_with_rr\n",
        "\n",
        "\n",
        "\n",
        "def train_1_fold(train,test,NN):\n",
        "    # train=pd.read_csv(\"/content/drive/MyDrive/train_with_rr_20.csv\")\n",
        "    train = train.sample(frac=1).reset_index(drop=True)\n",
        "    train = train.sample(frac=1).reset_index(drop=True)\n",
        "    full_data_with_rr=train\n",
        "    full_test_set=test\n",
        "\n",
        "    X_arhy_train, X_arhy_val, y_arhy_train, y_arhy_val = train_test_split(full_data_with_rr.iloc[:,:-1].values, full_data_with_rr.iloc[:,-1].values,test_size=0.1, random_state=42)\n",
        "\n",
        "    X_arhy_test, X_arhy_val, y_arhy_test, y_arhy_val = train_test_split(X_arhy_val,y_arhy_val,test_size=0.5, random_state=42)\n",
        "\n",
        "    # The 1D convolutions expect an extra dimension in the input data \n",
        "    X_arhyl_train = np.expand_dims(X_arhy_train, -1)\n",
        "    y_arhyl_train = np.expand_dims(y_arhy_train, -1)\n",
        "    X_arhyl_val = np.expand_dims(X_arhy_val, -1)\n",
        "    y_arhyl_val = np.expand_dims(y_arhy_val, -1)\n",
        "    X_arhyl_test = np.expand_dims(X_arhy_test, -1)\n",
        "    y_arhyl_test = np.expand_dims(y_arhy_test, -1)\n",
        "\n",
        "    N = X_arhyl_train.shape[0]\n",
        "    batch_size = 128\n",
        "    iterations = N/batch_size\n",
        "    step_size= 2 * iterations\n",
        "\n",
        "    optimizer = keras.optimizers.Adam(lr=0.001)\n",
        "    model = get_resnet_model(5) \n",
        "    model.compile(optimizer=optimizer, loss='sparse_categorical_crossentropy', metrics=['accuracy'])\n",
        "\n",
        "    lr_finder = LRFinder(start_lr=1e-7, end_lr= 1e-02, max_steps=50, smoothing=0.6)\n",
        "    _ = model.fit(X_arhyl_train, y_arhyl_train, batch_size=256, epochs=5, callbacks=[lr_finder], verbose=False)\n",
        "    lr_finder.plot()\n",
        "\n",
        "    lr_schedule = CyclicalLearningRate(1e-5, 1e-2, step_size=step_size, scale_fn=lambda x: tf.pow(0.95,x))\n",
        "    \n",
        "    \n",
        "    optimizer = tf.keras.optimizers.Adam(learning_rate=lr_schedule)\n",
        "    m_resnet_model = get_resnet_model(NN)\n",
        "\n",
        "    save_best_weights = ModelCheckpoint(filepath=\"/content/drive/My Drive/Arrythmia /weights.hdf5\", verbose=0, save_best_only=True)\n",
        "\n",
        "    m_resnet_model.compile(optimizer=optimizer, loss='sparse_categorical_crossentropy', metrics=['accuracy'])\n",
        "    history = m_resnet_model.fit(X_arhyl_train, y_arhyl_train, validation_data=(X_arhyl_val, y_arhyl_val), \n",
        "                                shuffle=True, batch_size=128, epochs=8, callbacks=[save_best_weights])\n",
        "    pretty_plot(history, 'loss', lambda x: np.argmin(x))\n",
        "    pretty_plot(history, 'accuracy', lambda x: np.argmax(x))\n",
        "    m_resnet_model.load_weights(\"/content/drive/My Drive/Arrythmia /weights.hdf5\")\n",
        "    print(\"\\n****** Val data (used to tune hyperparameters for model) *****\\n\")\n",
        "    test_stats = m_resnet_model.evaluate(X_arhyl_test, y_arhyl_test)   \n",
        "    test_acc = round(test_stats[1],2)\n",
        "    \n",
        "    y_pred = tf.argmax(m_resnet_model.predict(X_arhyl_test), axis=-1)\n",
        "    # Compute confusion matrix\n",
        "    cnf_matrix = sklearn.metrics.confusion_matrix(y_arhy_test, y_pred)\n",
        "    np.set_printoptions(precision=2)\n",
        "\n",
        "    # Plot non-normalized confusion matrix\n",
        "    plt.figure()\n",
        "    plot_confusion_matrix(cnf_matrix, classes=['NSR', 'AFIB','AFL'],\n",
        "                        title='Confusion matrix, without normalization')\n",
        "\n",
        "    X_arhy_test_10split = full_test_set.iloc[:,:-1].values\n",
        "    y_arhy_test_10split = full_test_set.iloc[:,-1].values\n",
        "\n",
        "    print(\"\\n****** Validation data (unseen to model) *****\\n\")\n",
        "    ###########\n",
        "    val_stats=m_resnet_model.evaluate(X_arhy_test_10split, y_arhy_test_10split)\n",
        "    val_acc = round(val_stats[1],4)\n",
        "    \n",
        "    y_pred = tf.argmax(m_resnet_model.predict(X_arhy_test_10split), axis=-1)\n",
        "    # Compute confusion matrix\n",
        "    cnf_matrix = sklearn.metrics.confusion_matrix(y_arhy_test_10split, y_pred)\n",
        "    np.set_printoptions(precision=2)\n",
        "\n",
        "    # Plot non-normalized confusion matrix\n",
        "    plt.figure()\n",
        "    plot_confusion_matrix(cnf_matrix, classes=['NSR', 'AFIB','AFL'],\n",
        "                        title='Confusion matrix, without normalization')\n",
        "    \n",
        "    print(\"Final Accuracy:\",val_acc*100,\"%\\n\")\n",
        "    return float(val_acc*100)\n"
      ],
      "metadata": {
        "id": "i6VFFrkomGVh"
      },
      "execution_count": null,
      "outputs": []
    },
    {
      "cell_type": "markdown",
      "source": [
        "### Load Data"
      ],
      "metadata": {
        "id": "4Y1tzJ-IpggD"
      }
    },
    {
      "cell_type": "code",
      "execution_count": null,
      "metadata": {
        "colab": {
          "base_uri": "https://localhost:8080/"
        },
        "id": "QXJ7bm2as2qZ",
        "outputId": "eeb1dab8-db4f-4598-a56d-d01628987daf"
      },
      "outputs": [
        {
          "output_type": "execute_result",
          "data": {
            "text/plain": [
              "10646"
            ]
          },
          "metadata": {},
          "execution_count": 10
        }
      ],
      "source": [
        "labels = pd.read_excel('/content/drive/MyDrive/Arrythmia /Diagnostics.xlsx')\n",
        "len(labels)"
      ]
    },
    {
      "cell_type": "code",
      "execution_count": null,
      "metadata": {
        "colab": {
          "base_uri": "https://localhost:8080/"
        },
        "id": "C1bWU4WisK-j",
        "outputId": "11a6d784-dc26-4582-e5e3-33ff615307ff"
      },
      "outputs": [
        {
          "output_type": "execute_result",
          "data": {
            "text/plain": [
              "SR      1826\n",
              "AFIB    1780\n",
              "AF       445\n",
              "Name: Rhythm, dtype: int64"
            ]
          },
          "metadata": {},
          "execution_count": 11
        }
      ],
      "source": [
        "labels=labels[(labels['Rhythm']=='AFIB') | (labels['Rhythm']=='AF') |(labels['Rhythm']=='SR')]\n",
        "labels.reset_index(inplace=True,drop=True)\n",
        "labels['Rhythm'].value_counts()"
      ]
    },
    {
      "cell_type": "markdown",
      "metadata": {
        "id": "vBl2P1LV80ho"
      },
      "source": [
        "### Preprocessing"
      ]
    },
    {
      "cell_type": "code",
      "execution_count": null,
      "metadata": {
        "id": "dhgoJXDXsbCe"
      },
      "outputs": [],
      "source": [
        "afib_files = labels[labels['Rhythm']==\"AFIB\"]['FileName'].tolist()\n",
        "afib_files.remove('MUSE_20180116_131253_72000')\n",
        "nsr_files = labels[labels['Rhythm']==\"SR\"]['FileName'].tolist()\n",
        "afl_files = labels[labels['Rhythm']==\"AF\"]['FileName'].tolist()\n",
        "all_files = afib_files+nsr_files+afl_files"
      ]
    },
    {
      "cell_type": "code",
      "execution_count": null,
      "metadata": {
        "colab": {
          "base_uri": "https://localhost:8080/"
        },
        "id": "_OfXjmfdHT2c",
        "outputId": "4b672208-5a67-427b-8616-8df2c45e591a"
      },
      "outputs": [
        {
          "output_type": "stream",
          "name": "stderr",
          "text": [
            "100%|██████████| 1826/1826 [00:49<00:00, 36.64it/s]\n"
          ]
        },
        {
          "output_type": "stream",
          "name": "stdout",
          "text": [
            "Total no. of RR Intervals in nsr  class is: 20520 \n",
            "\n"
          ]
        },
        {
          "output_type": "stream",
          "name": "stderr",
          "text": [
            " 91%|█████████ | 1619/1779 [00:40<00:03, 43.64it/s]/usr/local/lib/python3.7/dist-packages/numpy/core/fromnumeric.py:3441: RuntimeWarning: Mean of empty slice.\n",
            "  out=out, **kwargs)\n",
            "/usr/local/lib/python3.7/dist-packages/numpy/core/_methods.py:189: RuntimeWarning: invalid value encountered in double_scalars\n",
            "  ret = ret.dtype.type(ret / rcount)\n",
            "100%|██████████| 1779/1779 [00:43<00:00, 40.57it/s]\n"
          ]
        },
        {
          "output_type": "stream",
          "name": "stdout",
          "text": [
            "Total no. of RR Intervals in afib  class is: 25124 \n",
            "\n"
          ]
        },
        {
          "output_type": "stream",
          "name": "stderr",
          "text": [
            "100%|██████████| 445/445 [00:10<00:00, 43.86it/s]"
          ]
        },
        {
          "output_type": "stream",
          "name": "stdout",
          "text": [
            "Total no. of RR Intervals in afl  class is: 7491 \n",
            "\n"
          ]
        },
        {
          "output_type": "stream",
          "name": "stderr",
          "text": [
            "\n"
          ]
        }
      ],
      "source": [
        "nsr_rri=append_r_peaks(nsr_files,\"nsr\",sampling_rate=500)\n",
        "afib_rri=append_r_peaks(afib_files,\"afib\",sampling_rate=500)\n",
        "afl_rri=append_r_peaks(afl_files,\"afl\",sampling_rate=500)\n",
        "# to verify total no. of total RR Intervals for each class and \n",
        "# Extract RR Peaks into a dictionary with filename"
      ]
    },
    {
      "cell_type": "code",
      "execution_count": null,
      "metadata": {
        "id": "TyO0RhUapDvX"
      },
      "outputs": [],
      "source": [
        "# nsr_extraction_rr = pd.DataFrame.from_dict(nsr_rri,orient='index')\n",
        "# afl_extraction_rr = pd.DataFrame.from_dict(afl_rri,orient='index')\n",
        "# afib_extraction_rr = pd.DataFrame.from_dict(afib_rri,orient='index')"
      ]
    },
    {
      "cell_type": "code",
      "execution_count": null,
      "metadata": {
        "id": "iK2D5xKGg3Yg"
      },
      "outputs": [],
      "source": [
        "all_subjects=all_files\n",
        "subject_label = {}\n",
        "for i in afib_files:\n",
        "    subject_label[i] = 'afib'\n",
        "for i in nsr_files:\n",
        "    subject_label[i] = 'nsr'\n",
        "for i in afl_files:\n",
        "    subject_label[i] = 'afl'"
      ]
    },
    {
      "cell_type": "markdown",
      "metadata": {
        "id": "A-s2KVRSukCr"
      },
      "source": [
        "### Labelling encoding {'nsr': 0, 'afib': 1, 'afl':2}\n"
      ]
    },
    {
      "cell_type": "code",
      "execution_count": null,
      "metadata": {
        "id": "64UmytgFg16l",
        "colab": {
          "base_uri": "https://localhost:8080/",
          "height": 1000
        },
        "outputId": "e1c30ea5-23e9-431a-ca36-a62d2cd00860"
      },
      "outputs": [
        {
          "output_type": "stream",
          "name": "stdout",
          "text": [
            "train : {'afib': 1592, 'nsr': 1652, 'afl': 401}\n",
            "22573 18567 6786\n",
            "After patient Scrambling: 20358\n"
          ]
        },
        {
          "output_type": "stream",
          "name": "stderr",
          "text": [
            "100%|██████████| 22573/22573 [00:00<00:00, 435051.23it/s]\n",
            "100%|██████████| 20358/20358 [00:00<00:00, 488096.72it/s]\n",
            "100%|██████████| 18567/18567 [00:00<00:00, 488441.47it/s]\n"
          ]
        },
        {
          "output_type": "stream",
          "name": "stdout",
          "text": [
            "test : {'afib': 187, 'nsr': 174, 'afl': 44}\n",
            "2551 1953 705\n",
            "After patient Scrambling: 2115\n"
          ]
        },
        {
          "output_type": "stream",
          "name": "stderr",
          "text": [
            "100%|██████████| 2551/2551 [00:00<00:00, 662477.22it/s]\n",
            "100%|██████████| 2115/2115 [00:00<00:00, 694562.56it/s]\n",
            "100%|██████████| 1953/1953 [00:00<00:00, 301423.16it/s]\n"
          ]
        },
        {
          "output_type": "stream",
          "name": "stdout",
          "text": [
            "\n",
            "#@#@#@#@#@ Working on FOLD: 1 #@#@#@#@#@\n",
            "\n"
          ]
        },
        {
          "output_type": "stream",
          "name": "stderr",
          "text": [
            "/usr/local/lib/python3.7/dist-packages/keras/optimizer_v2/adam.py:105: UserWarning: The `lr` argument is deprecated, use `learning_rate` instead.\n",
            "  super(Adam, self).__init__(name, **kwargs)\n"
          ]
        },
        {
          "output_type": "stream",
          "name": "stdout",
          "text": [
            "WARNING:tensorflow:Callback method `on_train_batch_end` is slow compared to the batch time (batch time: 0.0117s vs `on_train_batch_end` time: 0.0299s). Check your callbacks.\n",
            "Epoch 1/8\n",
            "392/392 [==============================] - 12s 26ms/step - loss: 0.5581 - accuracy: 0.7577 - val_loss: 0.3814 - val_accuracy: 0.8564\n",
            "Epoch 2/8\n",
            "392/392 [==============================] - 9s 22ms/step - loss: 0.2498 - accuracy: 0.9054 - val_loss: 0.2132 - val_accuracy: 0.9203\n",
            "Epoch 3/8\n",
            "392/392 [==============================] - 9s 23ms/step - loss: 0.1317 - accuracy: 0.9532 - val_loss: 0.1011 - val_accuracy: 0.9673\n",
            "Epoch 4/8\n",
            "392/392 [==============================] - 9s 23ms/step - loss: 0.0376 - accuracy: 0.9877 - val_loss: 0.0300 - val_accuracy: 0.9889\n",
            "Epoch 5/8\n",
            "392/392 [==============================] - 9s 23ms/step - loss: 0.0251 - accuracy: 0.9914 - val_loss: 0.0715 - val_accuracy: 0.9713\n",
            "Epoch 6/8\n",
            "392/392 [==============================] - 9s 22ms/step - loss: 0.0783 - accuracy: 0.9730 - val_loss: 0.1636 - val_accuracy: 0.9454\n",
            "Epoch 7/8\n",
            "392/392 [==============================] - 9s 22ms/step - loss: 0.0665 - accuracy: 0.9780 - val_loss: 0.1085 - val_accuracy: 0.9749\n",
            "Epoch 8/8\n",
            "392/392 [==============================] - 9s 23ms/step - loss: 0.0173 - accuracy: 0.9943 - val_loss: 0.0177 - val_accuracy: 0.9953\n"
          ]
        },
        {
          "output_type": "display_data",
          "data": {
            "text/plain": [
              "<Figure size 936x288 with 1 Axes>"
            ],
            "image/png": "[encoded data removed]"
          },
          "metadata": {}
        },
        {
          "output_type": "display_data",
          "data": {
            "text/plain": [
              "<Figure size 936x288 with 1 Axes>"
            ],
            "image/png": "[encoded data removed]"
          },
          "metadata": {}
        },
        {
          "output_type": "display_data",
          "data": {
            "text/plain": [
              "<Figure size 936x288 with 1 Axes>"
            ],
            "image/png": "[encoded data removed]"
          },
          "metadata": {}
        },
        {
          "output_type": "display_data",
          "data": {
            "text/plain": [
              "<Figure size 936x288 with 1 Axes>"
            ],
            "image/png": "[encoded data removed]"
          },
          "metadata": {}
        },
        {
          "output_type": "stream",
          "name": "stdout",
          "text": [
            "\n",
            "****** Val data (used to tune hyperparameters for model) *****\n",
            "\n",
            "88/88 [==============================] - 1s 9ms/step - loss: 0.0123 - accuracy: 0.9953\n",
            "Confusion matrix, without normalization\n",
            "[[919   0   1]\n",
            " [  0 968   2]\n",
            " [  3   7 885]]\n",
            "\n",
            "****** Validation data (unseen to model) *****\n",
            "\n",
            "184/184 [==============================] - 2s 8ms/step - loss: 0.8276 - accuracy: 0.8969\n",
            "Confusion matrix, without normalization\n",
            "[[1892    0   61]\n",
            " [   0 1887   66]\n",
            " [  27  450 1476]]\n",
            "Final Accuracy: 89.69 %\n",
            "\n",
            "10 fold acc: [89.69]\n"
          ]
        },
        {
          "output_type": "display_data",
          "data": {
            "text/plain": [
              "<Figure size 936x288 with 2 Axes>"
            ],
            "image/png": "[encoded data removed]"
          },
          "metadata": {}
        },
        {
          "output_type": "display_data",
          "data": {
            "text/plain": [
              "<Figure size 936x288 with 2 Axes>"
            ],
            "image/png": "[encoded data removed]"
          },
          "metadata": {}
        }
      ],
      "source": [
        "# scikit-learn k-fold cross-validation\n",
        "data=all_subjects\n",
        "\n",
        "# prepare cross validation\n",
        "kfold = KFold(10,shuffle=True,random_state=42)\n",
        "all_fold_acc = []\n",
        "# enumerate splits\n",
        "count=1\n",
        "for train, test in kfold.split(data):  \n",
        "  full_train_set = extractor(\"train\",train)\n",
        "  full_test_set = extractor(\"test\",test)\n",
        "  print(\"\\n#@#@#@#@#@ Working on FOLD:\",count,\"#@#@#@#@#@\\n\")\n",
        "  accuracy_1_fold = train_1_fold(full_train_set,full_test_set,7)\n",
        "  all_fold_acc.append(accuracy_1_fold)\n",
        "  count+=1\n",
        "  #1 fold done call rest part in function to complete your k fold cv\n",
        "  break\n",
        "print(\"10 fold acc:\",all_fold_acc)"
      ]
    },
    {
      "cell_type": "code",
      "source": [
        "m_resnet_model = get_resnet_model(7)\n",
        "\n",
        "m_resnet_model.load_weights(\"/content/drive/My Drive/Arrythmia /weights.hdf5\")"
      ],
      "metadata": {
        "id": "XbMgPDBkPtQk"
      },
      "execution_count": null,
      "outputs": []
    },
    {
      "cell_type": "code",
      "source": [
        "import glob\n",
        "\n",
        "path = r'/content/musecare_rr_intervals' # use your path\n",
        "all_files = glob.glob(path + \"/*.csv\")\n",
        "\n",
        "li = []\n",
        "name = []\n",
        "for filename in all_files:\n",
        "    df = pd.read_csv(filename, index_col=None, header=None)\n",
        "    one_list=df.iloc[0]\n",
        "    new_df=pd.DataFrame()\n",
        "    for i in range(0,len(one_list)):\n",
        "      if(one_list[i]!=one_list[i+1]):\n",
        "        one_list=one_list[i+1:i+101]\n",
        "        one_list=one_list/1000\n",
        "        one_list.reset_index(inplace=True,drop=True)\n",
        "        detrended_rri = signal.detrend(one_list, axis= -1, type='constant', bp=0, overwrite_data=False).tolist()\n",
        "        \n",
        "        new_df=new_df.append(pd.DataFrame(detrended_rri).transpose())\n",
        "        break\n",
        "    li.append(new_df)\n",
        "    name.append(filename)\n",
        "\n",
        "test_data = pd.concat(li, axis=0, ignore_index=True)\n",
        "test_data['filename']=name\n",
        "\n",
        "print(test_data.shape[0] - test_data.dropna().shape[0])\n",
        "#hence 81 files have null values, will drop them\n",
        "\n",
        "test_data=test_data.dropna()\n",
        "test_data.reset_index(inplace=True,drop=True)\n",
        "\n",
        "X_ckecker=test_data.iloc[:,:-1].values\n",
        "preds=tf.argmax(m_resnet_model.predict(X_ckecker), axis=-1)\n",
        "\n",
        "test_data['predicted_class']=preds\n",
        "dct= {0:'nsr', 1:'afib', 2:'afl'}\n",
        "test_data=test_data.replace({\"predicted_class\": dct})\n",
        "test_data['predicted_class'].value_counts()"
      ],
      "metadata": {
        "id": "U_s_H88ASmL7"
      },
      "execution_count": null,
      "outputs": []
    },
    {
      "cell_type": "code",
      "source": [
        "# test_data.to_csv(\"result_arr_ppg_RRi.csv\",index=False)"
      ],
      "metadata": {
        "id": "mcs7MXbvuMpW"
      },
      "execution_count": null,
      "outputs": []
    },
    {
      "cell_type": "code",
      "source": [
        ""
      ],
      "metadata": {
        "id": "_U8_vLOcuhv-"
      },
      "execution_count": null,
      "outputs": []
    },
    {
      "cell_type": "code",
      "source": [
        "# !wget \"https://www.physionet.org/static/published-projects/ptbdb/ptb-diagnostic-ecg-database-1.0.0.zip\""
      ],
      "metadata": {
        "colab": {
          "base_uri": "https://localhost:8080/"
        },
        "id": "bIcoyRHx1Lhn",
        "outputId": "fcf3aa72-2bdf-4960-e40b-a10f83a4695a"
      },
      "execution_count": null,
      "outputs": [
        {
          "output_type": "stream",
          "name": "stdout",
          "text": [
            "--2022-04-06 09:13:40--  https://www.physionet.org/static/published-projects/ptbdb/ptb-diagnostic-ecg-database-1.0.0.zip\n",
            "Resolving www.physionet.org (www.physionet.org)... 18.18.42.54\n",
            "Connecting to www.physionet.org (www.physionet.org)|18.18.42.54|:443... connected.\n",
            "HTTP request sent, awaiting response... 200 OK\n",
            "Length: 1790456359 (1.7G) [application/zip]\n",
            "Saving to: ‘ptb-diagnostic-ecg-database-1.0.0.zip.1’\n",
            "\n",
            "    ptb-diagnostic-   3%[                    ]  63.44M  52.7MB/s               ^C\n"
          ]
        }
      ]
    },
    {
      "cell_type": "code",
      "source": [
        "# !unzip /content/ptb-diagnostic-ecg-database-1.0.0.zip"
      ],
      "metadata": {
        "id": "gcNUQirF5GVK"
      },
      "execution_count": null,
      "outputs": []
    },
    {
      "cell_type": "code",
      "source": [
        "!wget -r -N -c -np https://physionet.org/files/ptbdb/1.0.0/"
      ],
      "metadata": {
        "id": "11QvHrNR1NFM"
      },
      "execution_count": null,
      "outputs": []
    },
    {
      "cell_type": "markdown",
      "source": [
        "Each csv file includes information of 15 simultaneously measured signals:12 leads (i, ii, iii, avr, avl, avf, v1, v2, v3, v4, v5, v6) together with the 3 Frank lead ECGs (vx, vy, vz).\n",
        "The sampling frequency of ECG is 1000Hz."
      ],
      "metadata": {
        "id": "v-zdHonGz3FN"
      }
    },
    {
      "cell_type": "code",
      "source": [
        "!pip install wfdb"
      ],
      "metadata": {
        "id": "T-L9M6N32Zzu"
      },
      "execution_count": null,
      "outputs": []
    },
    {
      "cell_type": "code",
      "source": [
        "import wfdb #WaveForm-Database package. A library of tools for reading, writing, and processing WFDB signals and annotations.\n",
        "import pandas as pd\n",
        "import numpy as np\n",
        "import sys\n",
        "import glob\n",
        "import os\n",
        "from glob import glob\n",
        "PATH = \"/content/physionet.org/files/ptbdb/1.0.0/\"\n",
        "sys.path.append(os.path.abspath(PATH))"
      ],
      "metadata": {
        "id": "xKUoYh7P6RBW"
      },
      "execution_count": null,
      "outputs": []
    },
    {
      "cell_type": "code",
      "source": [
        "nsr_patients =['patient104/s0306lre','patient105/s0303lre','patient116/s0302lre','patient117/s0291lre','patient117/s0292lre',\n",
        "               \n",
        "      'patient121/s0311lre','patient122/s0312lre','patient131/s0273lre','patient150/s0287lre','patient155/s0301lre',\n",
        "      'patient156/s0299lre','patient165/s0322lre','patient165/s0323lre','patient166/s0275lre','patient169/s0328lre',\n",
        "      'patient169/s0329lre','patient170/s0274lre','patient172/s0304lre','patient173/s0305lre','patient174/s0300lre',\n",
        "      'patient174/s0324lre','patient174/s0325lre','patient180/s0374lre','patient180/s0475_re','patient180/s0476_re',\n",
        "      'patient180/s0477_re','patient180/s0490_re','patient180/s0545_re','patient180/s0561_re','patient182/s0308lre',\n",
        "      'patient184/s0363lre','patient185/s0336lre','patient198/s0402lre','patient198/s0415lre','patient214/s0436_re',\n",
        "      'patient229/s0452_re','patient229/s0453_re','patient233/s0457_re','patient233/s0458_re','patient233/s0459_re','patient233/s0482_re','patient233/s0483_re','patient234/s0460_re','patient235/s0461_re','patient236/s0462_re','patient236/s0463_re','patient236/s0464_re','patient237/s0465_re','patient238/s0466_re','patient239/s0467_re','patient240/s0468_re','patient241/s0469_re','patient241/s0470_re','patient242/s0471_re','patient243/s0472_re','patient244/s0473_re','patient245/s0474_re','patient245/s0480_re','patient246/s0478_re','patient247/s0479_re','patient248/s0481_re','patient251/s0486_re','patient251/s0503_re','patient251/s0506_re','patient252/s0487_re','patient255/s0491_re','patient260/s0496_re','patient263/s0499_re','patient264/s0500_re','patient266/s0502_re','patient267/s0504_re','patient276/s0526_re','patient277/s0527_re','patient279/s0531_re','patient279/s0532_re','patient279/s0533_re','patient279/s0534_re','patient284/s0543_re','patient284/s0551_re','patient284/s0552_re']"
      ],
      "metadata": {
        "id": "Pz2Mfgo71iYo"
      },
      "execution_count": null,
      "outputs": []
    },
    {
      "cell_type": "code",
      "source": [
        "files = nsr_patients\n",
        "\n",
        "for i in range(0,len(files)):\n",
        "\trecordname=PATH+str(files[i])+'.hea'\n",
        "\t\n",
        "\trecordname_new=recordname[-23:-4] #Extracting just the filename part (will differ from database to database)\n",
        "\t# print(recordname_new)\n",
        "\trecord = wfdb.rdsamp(PATH+recordname_new) # rdsamp() returns the signal as a numpy array  \n",
        "\trecord=np.asarray(record[0])\n",
        "\tpath=PATH+recordname_new+\".csv\"\n",
        "\tnp.savetxt(path,record,delimiter=\",\") #Writing the CSV for each record\n",
        "\tprint(\"Files done: %s/%s\"% (i,len(files)))\n",
        "\t\n",
        "print(\"\\nAll files done!\")"
      ],
      "metadata": {
        "id": "Milup4v_1Ljn"
      },
      "execution_count": null,
      "outputs": []
    },
    {
      "cell_type": "code",
      "source": [
        "filenames=[]\n",
        "li=[]\n",
        "for i in tqdm(range(0,len(files))):\n",
        "  recordname=PATH+str(files[i])+'.csv'\n",
        "  df=pd.read_csv(recordname,header=None)\n",
        "  lead_II = df.iloc[:,1] #lead II\n",
        "\n",
        "  _, rpeaks = nk.ecg_peaks(lead_II, sampling_rate=1000)\n",
        "  rrintervals = rpeaks['ECG_R_Peaks']\n",
        "  print(len(rrintervals))\n",
        "  rr_diff=np.diff(rrintervals)/1000\n",
        "  detrended_rri = signal.detrend(rr_diff, axis= -1, type='constant', bp=0, overwrite_data=False)\n",
        "  new_df=pd.DataFrame(detrended_rri).transpose()\n",
        "  li.append(new_df)\n",
        "  filenames.append(files[i])\n",
        "  \n",
        "test_data = pd.concat(li, axis=0, ignore_index=True)\n",
        "test_data['filename']=filenames"
      ],
      "metadata": {
        "id": "761uzxa18ztR"
      },
      "execution_count": null,
      "outputs": []
    },
    {
      "cell_type": "code",
      "source": [
        "test_data=test_data.loc[:,:99]\n",
        "test_data['filename']=filenames"
      ],
      "metadata": {
        "id": "4WuyZf0XNzMB"
      },
      "execution_count": null,
      "outputs": []
    },
    {
      "cell_type": "code",
      "source": [
        "\n",
        "print(test_data.shape[0] - test_data.dropna().shape[0])\n",
        "#hence 81 files have null values, will drop them\n",
        "\n",
        "test_data=test_data.dropna()\n",
        "test_data.reset_index(inplace=True,drop=True)\n",
        "\n",
        "X_ckecker=test_data.iloc[:,:-1].values\n",
        "preds=tf.argmax(m_resnet_model.predict(X_ckecker), axis=-1)\n",
        "\n",
        "test_data['predicted_class']=preds\n",
        "dct= {0:'nsr', 1:'afib', 2:'afl'}\n",
        "test_data=test_data.replace({\"predicted_class\": dct})\n",
        "test_data['predicted_class'].value_counts()"
      ],
      "metadata": {
        "colab": {
          "base_uri": "https://localhost:8080/"
        },
        "id": "N5EmVLzaKp-S",
        "outputId": "68ed86c2-c708-486e-d043-8d008776eeb8"
      },
      "execution_count": null,
      "outputs": [
        {
          "output_type": "stream",
          "name": "stdout",
          "text": [
            "3\n"
          ]
        },
        {
          "output_type": "execute_result",
          "data": {
            "text/plain": [
              "afl     39\n",
              "afib    23\n",
              "nsr     15\n",
              "Name: predicted_class, dtype: int64"
            ]
          },
          "metadata": {},
          "execution_count": 45
        }
      ]
    },
    {
      "cell_type": "code",
      "source": [
        "test_data"
      ],
      "metadata": {
        "colab": {
          "base_uri": "https://localhost:8080/",
          "height": 487
        },
        "id": "MNuh5mGHPz5u",
        "outputId": "a0343bdc-e9f8-4e49-9c62-9d6a178235e5"
      },
      "execution_count": null,
      "outputs": [
        {
          "output_type": "execute_result",
          "data": {
            "text/plain": [
              "           0         1         2         3         4         5         6  \\\n",
              "0  -0.059932 -0.056932 -0.108932 -0.124932 -0.098932 -0.052932 -0.039932   \n",
              "1   0.007527 -0.010473 -0.015473  0.015527  0.062527  0.095527  0.031527   \n",
              "2   0.004658 -0.003342 -0.002342 -0.021342 -0.030342 -0.021342  0.000658   \n",
              "3  -0.019078 -0.006078  0.008922 -0.019078 -0.020078  0.002922  0.004922   \n",
              "4  -0.007292  0.041708  0.070708  0.034708  0.020708  0.024708  0.038708   \n",
              "..       ...       ...       ...       ...       ...       ...       ...   \n",
              "72 -0.404285  0.067715  0.618715  0.549715 -0.389285  0.156715  0.591715   \n",
              "73  0.334236  0.201236  0.275236 -0.697764 -0.049764  0.255236  0.274236   \n",
              "74  0.028230  0.009230 -0.001770 -0.001770 -0.000770 -0.002770 -0.001770   \n",
              "75  0.045807  0.098807  0.085807  0.060807  0.046807  0.041807  0.036807   \n",
              "76 -0.065482 -0.043482 -0.026482 -0.005482  0.059518  0.070518  0.077518   \n",
              "\n",
              "           7         8         9  ...        92        93        94        95  \\\n",
              "0  -0.033932 -0.010932 -0.004932  ... -0.041932 -0.005932  0.003068 -0.005932   \n",
              "1  -0.006473  0.002527  0.003527  ... -0.034473 -0.026473 -0.010473 -0.038473   \n",
              "2   0.009658  0.027658  0.030658  ...  0.008658 -0.001342 -0.019342 -0.024342   \n",
              "3  -0.005078 -0.015078  0.002922  ...  0.005922  0.015922 -0.012078 -0.010078   \n",
              "4  -0.012292 -0.027292 -0.017292  ... -0.027292 -0.049292 -0.045292 -0.017292   \n",
              "..       ...       ...       ...  ...       ...       ...       ...       ...   \n",
              "72  0.522715  0.471715 -0.388285  ... -0.381285  0.075715  0.413715  0.417715   \n",
              "73  0.310236  0.204236  0.235236  ...  0.037236  0.209236  0.144236 -0.001764   \n",
              "74 -0.003770  0.007230  0.015230  ...  0.020230  0.008230  0.009230  0.017230   \n",
              "75  0.057807  0.077807  0.054807  ... -0.056193 -0.034193 -0.021193 -0.009193   \n",
              "76  0.057518  0.042518  0.024518  ...  0.027518 -0.004482 -0.010482 -0.026482   \n",
              "\n",
              "          96        97        98        99             filename  \\\n",
              "0  -0.034932  0.022068  0.024068 -0.010932  patient104/s0306lre   \n",
              "1  -0.046473 -0.037473 -0.015473  0.008527  patient105/s0303lre   \n",
              "2  -0.009342 -0.019342 -0.021342 -0.038342  patient116/s0302lre   \n",
              "3  -0.008078  0.005922 -0.035078 -0.041078  patient117/s0291lre   \n",
              "4  -0.019292 -0.039292 -0.057292 -0.042292  patient117/s0292lre   \n",
              "..       ...       ...       ...       ...                  ...   \n",
              "72  0.440715  0.398715 -0.385285 -0.005285  patient279/s0533_re   \n",
              "73 -0.706764 -0.204764  0.168236  0.023236  patient279/s0534_re   \n",
              "74  0.019230  0.027230  0.031230  0.014230  patient284/s0543_re   \n",
              "75 -0.003193 -0.002193  0.024807  0.013807  patient284/s0551_re   \n",
              "76 -0.046482 -0.025482 -0.029482 -0.015482  patient284/s0552_re   \n",
              "\n",
              "    predicted_class  \n",
              "0               afl  \n",
              "1               afl  \n",
              "2               afl  \n",
              "3               afl  \n",
              "4               afl  \n",
              "..              ...  \n",
              "72             afib  \n",
              "73             afib  \n",
              "74              afl  \n",
              "75              afl  \n",
              "76              afl  \n",
              "\n",
              "[77 rows x 102 columns]"
            ],
            "text/html": [
              "\n",
              "  <div id=\"df-a2dfe476-f164-4d0e-8f2c-1a129c0e8c4b\">\n",
              "    <div class=\"colab-df-container\">\n",
              "      <div>\n",
              "<style scoped>\n",
              "    .dataframe tbody tr th:only-of-type {\n",
              "        vertical-align: middle;\n",
              "    }\n",
              "\n",
              "    .dataframe tbody tr th {\n",
              "        vertical-align: top;\n",
              "    }\n",
              "\n",
              "    .dataframe thead th {\n",
              "        text-align: right;\n",
              "    }\n",
              "</style>\n",
              "<table border=\"1\" class=\"dataframe\">\n",
              "  <thead>\n",
              "    <tr style=\"text-align: right;\">\n",
              "      <th></th>\n",
              "      <th>0</th>\n",
              "      <th>1</th>\n",
              "      <th>2</th>\n",
              "      <th>3</th>\n",
              "      <th>4</th>\n",
              "      <th>5</th>\n",
              "      <th>6</th>\n",
              "      <th>7</th>\n",
              "      <th>8</th>\n",
              "      <th>9</th>\n",
              "      <th>...</th>\n",
              "      <th>92</th>\n",
              "      <th>93</th>\n",
              "      <th>94</th>\n",
              "      <th>95</th>\n",
              "      <th>96</th>\n",
              "      <th>97</th>\n",
              "      <th>98</th>\n",
              "      <th>99</th>\n",
              "      <th>filename</th>\n",
              "      <th>predicted_class</th>\n",
              "    </tr>\n",
              "  </thead>\n",
              "  <tbody>\n",
              "    <tr>\n",
              "      <th>0</th>\n",
              "      <td>-0.059932</td>\n",
              "      <td>-0.056932</td>\n",
              "      <td>-0.108932</td>\n",
              "      <td>-0.124932</td>\n",
              "      <td>-0.098932</td>\n",
              "      <td>-0.052932</td>\n",
              "      <td>-0.039932</td>\n",
              "      <td>-0.033932</td>\n",
              "      <td>-0.010932</td>\n",
              "      <td>-0.004932</td>\n",
              "      <td>...</td>\n",
              "      <td>-0.041932</td>\n",
              "      <td>-0.005932</td>\n",
              "      <td>0.003068</td>\n",
              "      <td>-0.005932</td>\n",
              "      <td>-0.034932</td>\n",
              "      <td>0.022068</td>\n",
              "      <td>0.024068</td>\n",
              "      <td>-0.010932</td>\n",
              "      <td>patient104/s0306lre</td>\n",
              "      <td>afl</td>\n",
              "    </tr>\n",
              "    <tr>\n",
              "      <th>1</th>\n",
              "      <td>0.007527</td>\n",
              "      <td>-0.010473</td>\n",
              "      <td>-0.015473</td>\n",
              "      <td>0.015527</td>\n",
              "      <td>0.062527</td>\n",
              "      <td>0.095527</td>\n",
              "      <td>0.031527</td>\n",
              "      <td>-0.006473</td>\n",
              "      <td>0.002527</td>\n",
              "      <td>0.003527</td>\n",
              "      <td>...</td>\n",
              "      <td>-0.034473</td>\n",
              "      <td>-0.026473</td>\n",
              "      <td>-0.010473</td>\n",
              "      <td>-0.038473</td>\n",
              "      <td>-0.046473</td>\n",
              "      <td>-0.037473</td>\n",
              "      <td>-0.015473</td>\n",
              "      <td>0.008527</td>\n",
              "      <td>patient105/s0303lre</td>\n",
              "      <td>afl</td>\n",
              "    </tr>\n",
              "    <tr>\n",
              "      <th>2</th>\n",
              "      <td>0.004658</td>\n",
              "      <td>-0.003342</td>\n",
              "      <td>-0.002342</td>\n",
              "      <td>-0.021342</td>\n",
              "      <td>-0.030342</td>\n",
              "      <td>-0.021342</td>\n",
              "      <td>0.000658</td>\n",
              "      <td>0.009658</td>\n",
              "      <td>0.027658</td>\n",
              "      <td>0.030658</td>\n",
              "      <td>...</td>\n",
              "      <td>0.008658</td>\n",
              "      <td>-0.001342</td>\n",
              "      <td>-0.019342</td>\n",
              "      <td>-0.024342</td>\n",
              "      <td>-0.009342</td>\n",
              "      <td>-0.019342</td>\n",
              "      <td>-0.021342</td>\n",
              "      <td>-0.038342</td>\n",
              "      <td>patient116/s0302lre</td>\n",
              "      <td>afl</td>\n",
              "    </tr>\n",
              "    <tr>\n",
              "      <th>3</th>\n",
              "      <td>-0.019078</td>\n",
              "      <td>-0.006078</td>\n",
              "      <td>0.008922</td>\n",
              "      <td>-0.019078</td>\n",
              "      <td>-0.020078</td>\n",
              "      <td>0.002922</td>\n",
              "      <td>0.004922</td>\n",
              "      <td>-0.005078</td>\n",
              "      <td>-0.015078</td>\n",
              "      <td>0.002922</td>\n",
              "      <td>...</td>\n",
              "      <td>0.005922</td>\n",
              "      <td>0.015922</td>\n",
              "      <td>-0.012078</td>\n",
              "      <td>-0.010078</td>\n",
              "      <td>-0.008078</td>\n",
              "      <td>0.005922</td>\n",
              "      <td>-0.035078</td>\n",
              "      <td>-0.041078</td>\n",
              "      <td>patient117/s0291lre</td>\n",
              "      <td>afl</td>\n",
              "    </tr>\n",
              "    <tr>\n",
              "      <th>4</th>\n",
              "      <td>-0.007292</td>\n",
              "      <td>0.041708</td>\n",
              "      <td>0.070708</td>\n",
              "      <td>0.034708</td>\n",
              "      <td>0.020708</td>\n",
              "      <td>0.024708</td>\n",
              "      <td>0.038708</td>\n",
              "      <td>-0.012292</td>\n",
              "      <td>-0.027292</td>\n",
              "      <td>-0.017292</td>\n",
              "      <td>...</td>\n",
              "      <td>-0.027292</td>\n",
              "      <td>-0.049292</td>\n",
              "      <td>-0.045292</td>\n",
              "      <td>-0.017292</td>\n",
              "      <td>-0.019292</td>\n",
              "      <td>-0.039292</td>\n",
              "      <td>-0.057292</td>\n",
              "      <td>-0.042292</td>\n",
              "      <td>patient117/s0292lre</td>\n",
              "      <td>afl</td>\n",
              "    </tr>\n",
              "    <tr>\n",
              "      <th>...</th>\n",
              "      <td>...</td>\n",
              "      <td>...</td>\n",
              "      <td>...</td>\n",
              "      <td>...</td>\n",
              "      <td>...</td>\n",
              "      <td>...</td>\n",
              "      <td>...</td>\n",
              "      <td>...</td>\n",
              "      <td>...</td>\n",
              "      <td>...</td>\n",
              "      <td>...</td>\n",
              "      <td>...</td>\n",
              "      <td>...</td>\n",
              "      <td>...</td>\n",
              "      <td>...</td>\n",
              "      <td>...</td>\n",
              "      <td>...</td>\n",
              "      <td>...</td>\n",
              "      <td>...</td>\n",
              "      <td>...</td>\n",
              "      <td>...</td>\n",
              "    </tr>\n",
              "    <tr>\n",
              "      <th>72</th>\n",
              "      <td>-0.404285</td>\n",
              "      <td>0.067715</td>\n",
              "      <td>0.618715</td>\n",
              "      <td>0.549715</td>\n",
              "      <td>-0.389285</td>\n",
              "      <td>0.156715</td>\n",
              "      <td>0.591715</td>\n",
              "      <td>0.522715</td>\n",
              "      <td>0.471715</td>\n",
              "      <td>-0.388285</td>\n",
              "      <td>...</td>\n",
              "      <td>-0.381285</td>\n",
              "      <td>0.075715</td>\n",
              "      <td>0.413715</td>\n",
              "      <td>0.417715</td>\n",
              "      <td>0.440715</td>\n",
              "      <td>0.398715</td>\n",
              "      <td>-0.385285</td>\n",
              "      <td>-0.005285</td>\n",
              "      <td>patient279/s0533_re</td>\n",
              "      <td>afib</td>\n",
              "    </tr>\n",
              "    <tr>\n",
              "      <th>73</th>\n",
              "      <td>0.334236</td>\n",
              "      <td>0.201236</td>\n",
              "      <td>0.275236</td>\n",
              "      <td>-0.697764</td>\n",
              "      <td>-0.049764</td>\n",
              "      <td>0.255236</td>\n",
              "      <td>0.274236</td>\n",
              "      <td>0.310236</td>\n",
              "      <td>0.204236</td>\n",
              "      <td>0.235236</td>\n",
              "      <td>...</td>\n",
              "      <td>0.037236</td>\n",
              "      <td>0.209236</td>\n",
              "      <td>0.144236</td>\n",
              "      <td>-0.001764</td>\n",
              "      <td>-0.706764</td>\n",
              "      <td>-0.204764</td>\n",
              "      <td>0.168236</td>\n",
              "      <td>0.023236</td>\n",
              "      <td>patient279/s0534_re</td>\n",
              "      <td>afib</td>\n",
              "    </tr>\n",
              "    <tr>\n",
              "      <th>74</th>\n",
              "      <td>0.028230</td>\n",
              "      <td>0.009230</td>\n",
              "      <td>-0.001770</td>\n",
              "      <td>-0.001770</td>\n",
              "      <td>-0.000770</td>\n",
              "      <td>-0.002770</td>\n",
              "      <td>-0.001770</td>\n",
              "      <td>-0.003770</td>\n",
              "      <td>0.007230</td>\n",
              "      <td>0.015230</td>\n",
              "      <td>...</td>\n",
              "      <td>0.020230</td>\n",
              "      <td>0.008230</td>\n",
              "      <td>0.009230</td>\n",
              "      <td>0.017230</td>\n",
              "      <td>0.019230</td>\n",
              "      <td>0.027230</td>\n",
              "      <td>0.031230</td>\n",
              "      <td>0.014230</td>\n",
              "      <td>patient284/s0543_re</td>\n",
              "      <td>afl</td>\n",
              "    </tr>\n",
              "    <tr>\n",
              "      <th>75</th>\n",
              "      <td>0.045807</td>\n",
              "      <td>0.098807</td>\n",
              "      <td>0.085807</td>\n",
              "      <td>0.060807</td>\n",
              "      <td>0.046807</td>\n",
              "      <td>0.041807</td>\n",
              "      <td>0.036807</td>\n",
              "      <td>0.057807</td>\n",
              "      <td>0.077807</td>\n",
              "      <td>0.054807</td>\n",
              "      <td>...</td>\n",
              "      <td>-0.056193</td>\n",
              "      <td>-0.034193</td>\n",
              "      <td>-0.021193</td>\n",
              "      <td>-0.009193</td>\n",
              "      <td>-0.003193</td>\n",
              "      <td>-0.002193</td>\n",
              "      <td>0.024807</td>\n",
              "      <td>0.013807</td>\n",
              "      <td>patient284/s0551_re</td>\n",
              "      <td>afl</td>\n",
              "    </tr>\n",
              "    <tr>\n",
              "      <th>76</th>\n",
              "      <td>-0.065482</td>\n",
              "      <td>-0.043482</td>\n",
              "      <td>-0.026482</td>\n",
              "      <td>-0.005482</td>\n",
              "      <td>0.059518</td>\n",
              "      <td>0.070518</td>\n",
              "      <td>0.077518</td>\n",
              "      <td>0.057518</td>\n",
              "      <td>0.042518</td>\n",
              "      <td>0.024518</td>\n",
              "      <td>...</td>\n",
              "      <td>0.027518</td>\n",
              "      <td>-0.004482</td>\n",
              "      <td>-0.010482</td>\n",
              "      <td>-0.026482</td>\n",
              "      <td>-0.046482</td>\n",
              "      <td>-0.025482</td>\n",
              "      <td>-0.029482</td>\n",
              "      <td>-0.015482</td>\n",
              "      <td>patient284/s0552_re</td>\n",
              "      <td>afl</td>\n",
              "    </tr>\n",
              "  </tbody>\n",
              "</table>\n",
              "<p>77 rows × 102 columns</p>\n",
              "</div>\n",
              "      <button class=\"colab-df-convert\" onclick=\"convertToInteractive('df-a2dfe476-f164-4d0e-8f2c-1a129c0e8c4b')\"\n",
              "              title=\"Convert this dataframe to an interactive table.\"\n",
              "              style=\"display:none;\">\n",
              "        \n",
              "  <svg xmlns=\"http://www.w3.org/2000/svg\" height=\"24px\"viewBox=\"0 0 24 24\"\n",
              "       width=\"24px\">\n",
              "    <path d=\"M0 0h24v24H0V0z\" fill=\"none\"/>\n",
              "    <path d=\"M18.56 5.44l.94 2.06.94-2.06 2.06-.94-2.06-.94-.94-2.06-.94 2.06-2.06.94zm-11 1L8.5 8.5l.94-2.06 2.06-.94-2.06-.94L8.5 2.5l-.94 2.06-2.06.94zm10 10l.94 2.06.94-2.06 2.06-.94-2.06-.94-.94-2.06-.94 2.06-2.06.94z\"/><path d=\"M17.41 7.96l-1.37-1.37c-.4-.4-.92-.59-1.43-.59-.52 0-1.04.2-1.43.59L10.3 9.45l-7.72 7.72c-.78.78-.78 2.05 0 2.83L4 21.41c.39.39.9.59 1.41.59.51 0 1.02-.2 1.41-.59l7.78-7.78 2.81-2.81c.8-.78.8-2.07 0-2.86zM5.41 20L4 18.59l7.72-7.72 1.47 1.35L5.41 20z\"/>\n",
              "  </svg>\n",
              "      </button>\n",
              "      \n",
              "  <style>\n",
              "    .colab-df-container {\n",
              "      display:flex;\n",
              "      flex-wrap:wrap;\n",
              "      gap: 12px;\n",
              "    }\n",
              "\n",
              "    .colab-df-convert {\n",
              "      background-color: #E8F0FE;\n",
              "      border: none;\n",
              "      border-radius: 50%;\n",
              "      cursor: pointer;\n",
              "      display: none;\n",
              "      fill: #1967D2;\n",
              "      height: 32px;\n",
              "      padding: 0 0 0 0;\n",
              "      width: 32px;\n",
              "    }\n",
              "\n",
              "    .colab-df-convert:hover {\n",
              "      background-color: #E2EBFA;\n",
              "      box-shadow: 0px 1px 2px rgba(60, 64, 67, 0.3), 0px 1px 3px 1px rgba(60, 64, 67, 0.15);\n",
              "      fill: #174EA6;\n",
              "    }\n",
              "\n",
              "    [theme=dark] .colab-df-convert {\n",
              "      background-color: #3B4455;\n",
              "      fill: #D2E3FC;\n",
              "    }\n",
              "\n",
              "    [theme=dark] .colab-df-convert:hover {\n",
              "      background-color: #434B5C;\n",
              "      box-shadow: 0px 1px 3px 1px rgba(0, 0, 0, 0.15);\n",
              "      filter: drop-shadow(0px 1px 2px rgba(0, 0, 0, 0.3));\n",
              "      fill: #FFFFFF;\n",
              "    }\n",
              "  </style>\n",
              "\n",
              "      <script>\n",
              "        const buttonEl =\n",
              "          document.querySelector('#df-a2dfe476-f164-4d0e-8f2c-1a129c0e8c4b button.colab-df-convert');\n",
              "        buttonEl.style.display =\n",
              "          google.colab.kernel.accessAllowed ? 'block' : 'none';\n",
              "\n",
              "        async function convertToInteractive(key) {\n",
              "          const element = document.querySelector('#df-a2dfe476-f164-4d0e-8f2c-1a129c0e8c4b');\n",
              "          const dataTable =\n",
              "            await google.colab.kernel.invokeFunction('convertToInteractive',\n",
              "                                                     [key], {});\n",
              "          if (!dataTable) return;\n",
              "\n",
              "          const docLinkHtml = 'Like what you see? Visit the ' +\n",
              "            '<a target=\"_blank\" href=https://colab.research.google.com/notebooks/data_table.ipynb>data table notebook</a>'\n",
              "            + ' to learn more about interactive tables.';\n",
              "          element.innerHTML = '';\n",
              "          dataTable['output_type'] = 'display_data';\n",
              "          await google.colab.output.renderOutput(dataTable, element);\n",
              "          const docLink = document.createElement('div');\n",
              "          docLink.innerHTML = docLinkHtml;\n",
              "          element.appendChild(docLink);\n",
              "        }\n",
              "      </script>\n",
              "    </div>\n",
              "  </div>\n",
              "  "
            ]
          },
          "metadata": {},
          "execution_count": 46
        }
      ]
    },
    {
      "cell_type": "code",
      "source": [
        ""
      ],
      "metadata": {
        "id": "b3P5FkE2QBOk"
      },
      "execution_count": null,
      "outputs": []
    }
  ],
  "metadata": {
    "accelerator": "GPU",
    "colab": {
      "collapsed_sections": [],
      "name": "Arrhythmia Detection v_final2.ipynb",
      "provenance": []
    },
    "kernelspec": {
      "display_name": "Python 3",
      "name": "python3"
    },
    "language_info": {
      "name": "python"
    }
  },
  "nbformat": 4,
  "nbformat_minor": 0
}