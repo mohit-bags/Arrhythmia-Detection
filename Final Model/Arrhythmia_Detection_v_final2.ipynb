{
  "cells": [
    {
      "cell_type": "markdown",
      "metadata": {
        "id": "fTHRgo0AlE4K"
      },
      "source": [
        "Trying https://github.com/spdrnl/ecg/blob/master/ECG.ipynb"
      ]
    },
    {
      "cell_type": "code",
      "source": [
        "pip list | grep tensorflow"
      ],
      "metadata": {
        "id": "qrtLelatbdeH",
        "colab": {
          "base_uri": "https://localhost:8080/"
        },
        "outputId": "166ff0b2-1869-42da-d650-412251e45c25"
      },
      "execution_count": 1,
      "outputs": [
        {
          "output_type": "stream",
          "name": "stdout",
          "text": [
            "tensorflow                    2.8.0\n",
            "tensorflow-addons             0.16.1\n",
            "tensorflow-datasets           4.0.1\n",
            "tensorflow-estimator          2.8.0\n",
            "tensorflow-gcs-config         2.8.0\n",
            "tensorflow-hub                0.12.0\n",
            "tensorflow-io-gcs-filesystem  0.24.0\n",
            "tensorflow-metadata           1.7.0\n",
            "tensorflow-probability        0.16.0\n"
          ]
        }
      ]
    },
    {
      "cell_type": "markdown",
      "metadata": {
        "id": "JfeS7tsK8vBb"
      },
      "source": [
        "### Import Libraries"
      ]
    },
    {
      "cell_type": "code",
      "source": [
        "from google.colab import drive\n",
        "drive.mount('/content/drive')"
      ],
      "metadata": {
        "colab": {
          "base_uri": "https://localhost:8080/"
        },
        "id": "2n5X-7iWeoqs",
        "outputId": "04435ee9-56f5-472d-9151-24d79a6411ca"
      },
      "execution_count": 19,
      "outputs": [
        {
          "output_type": "stream",
          "name": "stdout",
          "text": [
            "Mounted at /content/drive\n"
          ]
        }
      ]
    },
    {
      "cell_type": "code",
      "execution_count": null,
      "metadata": {
        "id": "HyTKLDsxjEjC"
      },
      "outputs": [],
      "source": [
        "!unzip /content/drive/\"My Drive\"/\"Arrythmia \"/ECGDataDenoised.zip"
      ]
    },
    {
      "cell_type": "code",
      "execution_count": 2,
      "metadata": {
        "colab": {
          "base_uri": "https://localhost:8080/"
        },
        "id": "XXJxedOpqXYy",
        "outputId": "96570f0f-3b59-440e-f397-9a4a8e3609e8"
      },
      "outputs": [
        {
          "output_type": "stream",
          "name": "stdout",
          "text": [
            "Requirement already satisfied: py-ecg-detectors in /usr/local/lib/python3.7/dist-packages (1.2.0)\n",
            "Requirement already satisfied: scipy in /usr/local/lib/python3.7/dist-packages (from py-ecg-detectors) (1.4.1)\n",
            "Requirement already satisfied: pywavelets in /usr/local/lib/python3.7/dist-packages (from py-ecg-detectors) (1.3.0)\n",
            "Requirement already satisfied: numpy in /usr/local/lib/python3.7/dist-packages (from py-ecg-detectors) (1.21.5)\n",
            "Requirement already satisfied: gatspy in /usr/local/lib/python3.7/dist-packages (from py-ecg-detectors) (0.3)\n",
            "Requirement already satisfied: neurokit2 in /usr/local/lib/python3.7/dist-packages (0.1.7)\n",
            "Requirement already satisfied: pandas in /usr/local/lib/python3.7/dist-packages (from neurokit2) (1.3.5)\n",
            "Requirement already satisfied: numpy in /usr/local/lib/python3.7/dist-packages (from neurokit2) (1.21.5)\n",
            "Requirement already satisfied: matplotlib in /usr/local/lib/python3.7/dist-packages (from neurokit2) (3.2.2)\n",
            "Requirement already satisfied: scikit-learn in /usr/local/lib/python3.7/dist-packages (from neurokit2) (1.0.2)\n",
            "Requirement already satisfied: scipy in /usr/local/lib/python3.7/dist-packages (from neurokit2) (1.4.1)\n",
            "Requirement already satisfied: kiwisolver>=1.0.1 in /usr/local/lib/python3.7/dist-packages (from matplotlib->neurokit2) (1.4.0)\n",
            "Requirement already satisfied: python-dateutil>=2.1 in /usr/local/lib/python3.7/dist-packages (from matplotlib->neurokit2) (2.8.2)\n",
            "Requirement already satisfied: pyparsing!=2.0.4,!=2.1.2,!=2.1.6,>=2.0.1 in /usr/local/lib/python3.7/dist-packages (from matplotlib->neurokit2) (3.0.7)\n",
            "Requirement already satisfied: cycler>=0.10 in /usr/local/lib/python3.7/dist-packages (from matplotlib->neurokit2) (0.11.0)\n",
            "Requirement already satisfied: typing-extensions in /usr/local/lib/python3.7/dist-packages (from kiwisolver>=1.0.1->matplotlib->neurokit2) (3.10.0.2)\n",
            "Requirement already satisfied: six>=1.5 in /usr/local/lib/python3.7/dist-packages (from python-dateutil>=2.1->matplotlib->neurokit2) (1.15.0)\n",
            "Requirement already satisfied: pytz>=2017.3 in /usr/local/lib/python3.7/dist-packages (from pandas->neurokit2) (2018.9)\n",
            "Requirement already satisfied: threadpoolctl>=2.0.0 in /usr/local/lib/python3.7/dist-packages (from scikit-learn->neurokit2) (3.1.0)\n",
            "Requirement already satisfied: joblib>=0.11 in /usr/local/lib/python3.7/dist-packages (from scikit-learn->neurokit2) (1.1.0)\n"
          ]
        }
      ],
      "source": [
        "!pip install -q -U tensorflow_addons\n",
        "!pip3 install py-ecg-detectors\n",
        "!pip install neurokit2"
      ]
    },
    {
      "cell_type": "code",
      "execution_count": 2,
      "metadata": {
        "id": "D10IEldLigQx"
      },
      "outputs": [],
      "source": [
        "from numpy import array\n",
        "from sklearn.model_selection import KFold\n",
        "import numpy as np\n",
        "import pandas as pd\n",
        "import tensorflow as tf\n",
        "from tensorflow import keras\n",
        "from tensorflow.keras import regularizers\n",
        "from tensorflow.keras.callbacks import ModelCheckpoint\n",
        "import matplotlib.pyplot as plt\n",
        "from scipy import stats\n",
        "from scipy import signal\n",
        "from sklearn.model_selection import train_test_split\n",
        "import sklearn\n",
        "import itertools\n",
        "import tensorflow_addons\n",
        "from tensorflow_addons.optimizers import CyclicalLearningRate\n",
        "from tensorflow.keras.callbacks import Callback\n",
        "import tensorflow_addons as tfa\n",
        "import matplotlib as mpl\n",
        "mpl.style.use('seaborn')\n",
        "plt.rcParams[\"figure.figsize\"] = (13,4)\n",
        "%matplotlib inline\n",
        "import matplotlib.pyplot as plt \n",
        "from os import listdir \n",
        "import requests\n",
        "import matplotlib.pyplot as plt\n",
        "from os import listdir, mkdir, system\n",
        "from os.path import isfile, isdir, join, exists\n",
        "import json\n",
        "import os\n",
        "from tqdm import tqdm\n",
        "from matplotlib import collections as matcoll\n",
        "import pywt\n",
        "\n",
        "import neurokit2 as nk\n",
        "\n",
        "from ecgdetectors import Detectors #for pantompkins\n",
        "detectors = Detectors(500) #specify sampling rate\n",
        "\n",
        "%load /content/arryhthmia_backend.py\n"
      ]
    },
    {
      "cell_type": "code",
      "source": [
        "\n",
        "def round_robin(RR_interval):\n",
        "\n",
        "  RR_interval=RR_interval.tolist()\n",
        "  wind_size = 100\n",
        "  data_vect = []\n",
        "  modified_data_vector = []\n",
        "  ex_index = []\n",
        "\n",
        "  #CREATE DATA VECTOR\n",
        "  for i in tqdm(range(len(RR_interval))):\n",
        "\n",
        "    if i < len(RR_interval):\n",
        "\n",
        "      if len(RR_interval) >= i+wind_size:\n",
        "        rr_interval = RR_interval[i:i+wind_size]\n",
        "        data_vect.append(rr_interval)\n",
        "      else:\n",
        "        RR_interval.extend(RR_interval[0:100])\n",
        "        rr_interval = RR_interval[i:i+wind_size]\n",
        "        data_vect.append(rr_interval)\n",
        "\n",
        "  return np.array(data_vect)\n",
        "\n",
        "def plot_rr(rrintervals,rr_diff):\n",
        "  x = rrintervals/500\n",
        "  y = rr_diff\n",
        "  lines = []\n",
        "  for i in range(len(x)):\n",
        "      pair=[(x[i],0), (x[i], y[i])]\n",
        "      lines.append(pair)\n",
        "\n",
        "  linecoll = matcoll.LineCollection(lines)\n",
        "  fig, ax = plt.subplots()\n",
        "  ax.add_collection(linecoll)\n",
        "\n",
        "  plt.scatter(x,y)\n",
        "  plt.xticks(x)\n",
        "  plt.xlabel(\"Time (s)\")\n",
        "  plt.ylim(0,1)\n",
        "  plt.title(\"RR Peaks\")\n",
        "  plt.show()\n",
        "\n",
        "def detect_r_peaks(patient_list,case,showplots=False):\n",
        "    parent_folder = '/content/ECGDataDenoised/'\n",
        "\n",
        "    data_with_rr = pd.DataFrame()\n",
        "    patient_col_id = []\n",
        "    case_name = []\n",
        "    mxx=0\n",
        "    cnt=0\n",
        "    mnn=90\n",
        "    for i in tqdm(patient_list):\n",
        "      # try:\n",
        "        \n",
        "        data = parent_folder+i+\".csv\"\n",
        "        df = pd.read_csv(data,header=None)\n",
        "        df.columns=['I','II','III','aVR','aVL','aVF','V1','V2','V3','V4','V5','V6']\n",
        "        cols = df.columns\n",
        "        df[cols[:-1]] = df[cols[:-1]].apply(pd.to_numeric, errors='coerce')\n",
        "        lead_name='II'\n",
        "        count = (df[lead_name] == 0).sum()\n",
        "        if(count>0):\n",
        "          print(count)\n",
        "        if(df[lead_name].isnull().sum(axis = 0)>0):\n",
        "          print(\"Null values in \",i,\"is :\",df[lead_name].isnull().sum(axis = 0))\n",
        "        # Extract R-peaks locations\n",
        "        _, rpeaks = nk.ecg_peaks(df[\"II\"][1:], sampling_rate=500)\n",
        "        rrintervals = rpeaks['ECG_R_Peaks']\n",
        "        cnt+=len(rrintervals)-1\n",
        "        \n",
        "        rr_diff=np.diff(rrintervals)/1000\n",
        "        rr_diff = np.append(0,rr_diff)\n",
        "\n",
        "        mxx=max(len(rr_diff),mxx) #to check maximum number of rr intervals for any signal\n",
        "        mnn=min(len(rr_diff),mnn)\n",
        "\n",
        "        print(len(rrintervals),len(rr_diff))\n",
        "\n",
        "        patient_col_id.append(i)\n",
        "        case_name.append(case)\n",
        "        data_with_rr=data_with_rr.append(pd.DataFrame(rr_diff).transpose())\n",
        "        detrended_rri = signal.detrend(rr_diff, axis= -1, type='constant', bp=0, overwrite_data=False)\n",
        "\n",
        "        if(showplots):\n",
        "          plot = (nk.events_plot(rpeaks['ECG_R_Peaks'], df[\"aVL\"]))\n",
        "          plot_rr(rrintervals,rr_diff)\n",
        "          print(\"DETRENDED\")\n",
        "          plot_rr(rrintervals,detrended_rri)\n",
        "          \n",
        "      # except:\n",
        "      #   print(\"\\nError in:\",i)\n",
        "    print(\"\\n\",case,\"    ****Max****:\",mxx)\n",
        "    print(\"\\n\",case,\"    ****Min****:\",mnn,\"\\n\")\n",
        "    print(\"Total no. of RR Intervals in\",case,\" class is:\",cnt,\"\\n\")\n",
        "    data_with_rr['filename']=patient_col_id\n",
        "    data_with_rr['label']=case_name\n",
        "    return data_with_rr  #returning data containing RR Intervals with label\n",
        "\n",
        "def append_r_peaks(patient_list,case,showplots=False):\n",
        "    rr_ints=[]\n",
        "    rri_with_patient_id = {}\n",
        "    # rr_ints=np.array(rr_ints) \n",
        "    parent_folder = '/content/ECGDataDenoised/'\n",
        "    data_with_rr = pd.DataFrame()\n",
        "    patient_col_id = []\n",
        "    # case_name = []\n",
        "    cnt=0\n",
        "    for i in tqdm(patient_list):\n",
        "      try:\n",
        "        data = parent_folder+i+\".csv\"\n",
        "        df = pd.read_csv(data,header=None)\n",
        "        df.columns=['I','II','III','aVR','aVL','aVF','V1','V2','V3','V4','V5','V6']\n",
        "        cols = df.columns\n",
        "        df[cols[:-1]] = df[cols[:-1]].apply(pd.to_numeric, errors='coerce')\n",
        "        lead_name='II'\n",
        "        count = (df[lead_name] == 0).sum()\n",
        "        if(count>0):\n",
        "          print(count)\n",
        "        if(df[lead_name].isnull().sum(axis = 0)>0):\n",
        "          print(\"Null values in \",i,\"is :\",df[lead_name].isnull().sum(axis = 0))\n",
        "        # Extract R-peaks locations\n",
        "        _, rpeaks = nk.ecg_peaks(df[\"II\"][1:], sampling_rate=500)\n",
        "        rrintervals = rpeaks['ECG_R_Peaks']\n",
        "        cnt+=len(rrintervals)-1\n",
        "        \n",
        "        rr_diff=np.diff(rrintervals)/1000\n",
        "        # rr_diff = np.append(0,rr_diff) #adding this 0 for equal size of RRi , hence to plot\n",
        "        rr_ints = np.append(rr_ints,rr_diff)\n",
        "        patient_col_id.append(i)\n",
        "        # case_name.append(case)\n",
        "        data_with_rr=data_with_rr.append(pd.DataFrame(rr_diff).transpose())\n",
        "        detrended_rri = signal.detrend(rr_diff, axis= -1, type='constant', bp=0, overwrite_data=False)\n",
        "        rri_with_patient_id[i]=detrended_rri\n",
        "      except:\n",
        "        print(\"\\nError in:\",i)\n",
        "\n",
        "    print(\"Total no. of RR Intervals in\",case,\" class is:\",len(rr_ints),\"\\n\")\n",
        "    return rri_with_patient_id  #returning data containing RR Intervals with label\n",
        "\n",
        "def extractor(case,id):\n",
        "  cnt_id={}\n",
        "  nsr_det_rri = []\n",
        "  nsr_det_rri = np.array(nsr_det_rri)\n",
        "  afib_det_rri = []\n",
        "  afib_det_rri = np.array(afib_det_rri)\n",
        "  afl_det_rri = []\n",
        "  afl_det_rri = np.array(afl_det_rri)\n",
        "  afl_list = []\n",
        "  for i in id:\n",
        "    label=subject_label[all_subjects[i]]\n",
        "    if label in cnt_id:\n",
        "      cnt_id[label]+=1\n",
        "    else:\n",
        "      cnt_id[label]=1\n",
        "    name=all_subjects[i]\n",
        "    if(label=='nsr'):\n",
        "      nsr_det_rri=np.append(nsr_det_rri,nsr_rri[name])\n",
        "    elif(label=='afl'):\n",
        "      afl_list.append(name)\n",
        "      afl_det_rri=np.append(afl_det_rri,afl_rri[name])\n",
        "    else:\n",
        "      afib_det_rri=np.append(afib_det_rri,afib_rri[name])\n",
        "    ## \n",
        "  print(case,\":\",cnt_id)\n",
        "  print(len(afib_det_rri),len(nsr_det_rri),len(afl_det_rri))\n",
        "\n",
        "  p1 = np.random.permutation(afl_list)\n",
        "  p2 = np.random.permutation(afl_list)\n",
        "  # print(len(p1),\" , \",len(p2))\n",
        "  for k in p1:\n",
        "    afl_det_rri=np.append(afl_det_rri,afl_rri[k])\n",
        "  for k in p2:\n",
        "    afl_det_rri=np.append(afl_det_rri,afl_rri[k])\n",
        "  print(\"After patient Scrambling:\",len(afl_det_rri))\n",
        "\n",
        "\n",
        "\n",
        "  afib_vectors = round_robin(afib_det_rri)\n",
        "  afl_vectors = round_robin(afl_det_rri)\n",
        "  nsr_vectors = round_robin(nsr_det_rri)\n",
        "  len__puncture = min(len(afib_vectors),min(len(nsr_vectors),len(afl_vectors)))\n",
        "  afib_vectors = afib_vectors[:len__puncture]\n",
        "  afl_vectors = afl_vectors[:len__puncture]\n",
        "  nsr_vectors = nsr_vectors[:len__puncture]\n",
        "\n",
        "  afib_rr = pd.DataFrame(afib_vectors)\n",
        "  afib_rr['label']='afib'\n",
        "  nsr_rr = pd.DataFrame(nsr_vectors)\n",
        "  nsr_rr['label']='nsr'\n",
        "  afl_rr = pd.DataFrame(afl_vectors)\n",
        "  afl_rr['label']='afl'\n",
        "\n",
        "  full_data_with_rr=pd.concat([afib_rr,nsr_rr,afl_rr])\n",
        "  dict = {'nsr': 0, 'afib': 1, 'afl':2}\n",
        "  full_data_with_rr.replace({'label': dict},inplace=True)\n",
        "  return full_data_with_rr\n",
        "\n",
        "\n",
        "def pretty_plot(history, field, fn):\n",
        "  def plot(data, val_data, best_index, best_value, title):\n",
        "    plt.plot(range(1, len(data)+1), data, label='train')\n",
        "    plt.plot(range(1, len(data)+1), val_data, label='validation')\n",
        "    if not best_index is None:\n",
        "      plt.axvline(x=best_index+1, linestyle=':', c=\"#777777\")\n",
        "    if not best_value is None:\n",
        "      plt.axhline(y=best_value, linestyle=':', c=\"#777777\")\n",
        "    plt.xlabel('Epoch')\n",
        "    plt.ylabel(field)\n",
        "    plt.xticks(range(0, len(data), 20))\n",
        "    plt.title(title)\n",
        "    plt.legend()\n",
        "    plt.show()\n",
        "\n",
        "  data = history.history[field]\n",
        "  val_data = history.history['val_' + field]\n",
        "  tail = int(0.15 * len(data))\n",
        "\n",
        "  best_index = fn(val_data)\n",
        "  best_value = val_data[best_index]\n",
        "\n",
        "  plot(data, val_data, best_index, best_value, \"{} over epochs (best {:06.4f})\".format(field, best_value))\n",
        "  plot(data[-tail:], val_data[-tail:], None, best_value, \"{} over last {} epochs\".format(field, tail))\n",
        "\n",
        "class LRFinder(Callback):\n",
        "    \"\"\"`Callback` that exponentially adjusts the learning rate after each training batch between `start_lr` and\n",
        "    `end_lr` for a maximum number of batches: `max_step`. The loss and learning rate are recorded at each step allowing\n",
        "    visually finding a good learning rate as per https://sgugger.github.io/how-do-you-find-a-good-learning-rate.html via\n",
        "    the `plot` method.\n",
        "    \"\"\"\n",
        "\n",
        "    def __init__(self, start_lr: float = 1e-2, end_lr: float = 10, max_steps: int = 100, smoothing=0.9):\n",
        "        super(LRFinder, self).__init__()\n",
        "        self.start_lr, self.end_lr = start_lr, end_lr\n",
        "        self.max_steps = max_steps\n",
        "        self.smoothing = smoothing\n",
        "        self.step, self.best_loss, self.avg_loss, self.lr = 0, 0, 0, 0\n",
        "        self.lrs, self.losses = [], []\n",
        "\n",
        "    def on_train_begin(self, logs=None):\n",
        "        self.step, self.best_loss, self.avg_loss, self.lr = 0, 0, 0, 0\n",
        "        self.lrs, self.losses = [], []\n",
        "\n",
        "    def on_train_batch_begin(self, batch, logs=None):\n",
        "        self.lr = self.exp_annealing(self.step)\n",
        "        tf.keras.backend.set_value(self.model.optimizer.lr, self.lr)\n",
        "\n",
        "    def on_train_batch_end(self, batch, logs=None):\n",
        "        logs = logs or {}\n",
        "        loss = logs.get('loss')\n",
        "        step = self.step\n",
        "        if loss:\n",
        "            self.avg_loss = self.smoothing * self.avg_loss + (1 - self.smoothing) * loss\n",
        "            smooth_loss = self.avg_loss / (1 - self.smoothing ** (self.step + 1))\n",
        "            self.losses.append(smooth_loss)\n",
        "            self.lrs.append(self.lr)\n",
        "\n",
        "            if step == 0 or loss < self.best_loss:\n",
        "                self.best_loss = loss\n",
        "\n",
        "            if smooth_loss > 4 * self.best_loss or tf.math.is_nan(smooth_loss):\n",
        "                self.model.stop_training = True\n",
        "\n",
        "        if step == self.max_steps:\n",
        "            self.model.stop_training = True\n",
        "\n",
        "        self.step += 1\n",
        "\n",
        "    def exp_annealing(self, step):\n",
        "        return self.start_lr * (self.end_lr / self.start_lr) ** (step * 1. / self.max_steps)\n",
        "\n",
        "    def plot(self):\n",
        "        fig, ax = plt.subplots(1, 1)\n",
        "        ax.set_ylabel('Loss')\n",
        "        ax.set_xlabel('Learning Rate (log scale)')\n",
        "        ax.set_xscale('log')\n",
        "        ax.xaxis.set_major_formatter(plt.FormatStrFormatter('%.0e'))\n",
        "        ax.plot(self.lrs, self.losses)\n",
        "\n",
        "def plot_confusion_matrix(cm, classes,\n",
        "                          normalize=False,\n",
        "                          title='Confusion matrix',\n",
        "                          cmap=plt.cm.Blues):\n",
        "    \"\"\"\n",
        "    This function prints and plots the confusion matrix.\n",
        "    Normalization can be applied by setting `normalize=True`.\n",
        "    \"\"\"\n",
        "    plt.imshow(cm, interpolation='nearest', cmap=cmap)\n",
        "    plt.title(title)\n",
        "    plt.colorbar()\n",
        "    tick_marks = np.arange(len(classes))\n",
        "    plt.xticks(tick_marks, classes, rotation=45)\n",
        "    plt.yticks(tick_marks, classes)\n",
        "\n",
        "    if normalize:\n",
        "        cm = cm.astype('float') / cm.sum(axis=1)[:, np.newaxis]\n",
        "        print(\"Normalized confusion matrix\")\n",
        "    else:\n",
        "        print('Confusion matrix, without normalization')\n",
        "\n",
        "    print(cm)\n",
        "\n",
        "    thresh = cm.max() / 2.\n",
        "    for i, j in itertools.product(range(cm.shape[0]), range(cm.shape[1])):\n",
        "        plt.text(j, i, cm[i, j],\n",
        "                 horizontalalignment=\"center\",\n",
        "                 color=\"white\" if cm[i, j] > thresh else \"black\")\n",
        "\n",
        "    plt.tight_layout()\n",
        "    plt.ylabel('True label')\n",
        "    plt.xlabel('Predicted label')\n",
        "    plt.show()\n",
        "def get_base_model(categories=3):\n",
        "  return keras.Sequential([\n",
        "    keras.layers.Dense(10, activation='relu', input_shape=[100], kernel_regularizer=regularizers.l2(0.001)),\n",
        "    # keras.layers.Dense(25, activation='relu', kernel_regularizer=regularizers.l2(0.001)),\n",
        "    keras.layers.Dense(3, activation='relu'),\n",
        "    (keras.layers.Dense(1, activation='sigmoid') if categories == 3 else keras.layers.Dense(5, activation='softmax'))                   \n",
        "  ])\n",
        "\n",
        "\n",
        "def get_resnet_model(categories=3): #original\n",
        "  def residual_block(X, kernels, stride):\n",
        "    out = keras.layers.Conv1D(64,kernels, stride, padding='same')(X)\n",
        "    # out = keras.layers.ReLU()(out)\n",
        "    # out = keras.layers.Conv1D(kernels, stride, padding='same')(out)\n",
        "    out = keras.layers.add([X, out])\n",
        "    out = keras.layers.ReLU()(out)\n",
        "    out = keras.layers.MaxPool1D(1, 3)(out)\n",
        "    return out\n",
        "\n",
        "  kernels = 32\n",
        "  stride = 1\n",
        "\n",
        "  inputs = keras.layers.Input([100,1])\n",
        "  X = keras.layers.Conv1D(64,kernels, stride)(inputs)\n",
        "  X = residual_block(X, kernels, stride)\n",
        "  X = residual_block(X, kernels, stride)\n",
        "  X = residual_block(X, kernels, stride)\n",
        "  X = residual_block(X, kernels, stride)\n",
        "  X = residual_block(X, kernels, stride)\n",
        "  X = keras.layers.Flatten()(X)\n",
        "  X = keras.layers.Dense(32, activation='relu')(X)\n",
        "  X = keras.layers.Dense(32, activation='relu')(X)\n",
        "  output = (keras.layers.Dense(1, activation='sigmoid')(X) if categories == 3 else keras.layers.Dense(5, activation='softmax')(X))\n",
        "\n",
        "  model = keras.Model(inputs=inputs, outputs=output)\n",
        "  return model\n",
        "\n",
        "def train_1_fold(train,test,NN):\n",
        "    # train=pd.read_csv(\"/content/drive/MyDrive/train_with_rr_20.csv\")\n",
        "    train = train.sample(frac=1).reset_index(drop=True)\n",
        "    train = train.sample(frac=1).reset_index(drop=True)\n",
        "    full_data_with_rr=train\n",
        "    full_test_set=test\n",
        "\n",
        "    X_arhy_train, X_arhy_val, y_arhy_train, y_arhy_val = train_test_split(full_data_with_rr.iloc[:,:-1].values, full_data_with_rr.iloc[:,-1].values,test_size=0.1, random_state=42)\n",
        "\n",
        "    X_arhy_test, X_arhy_val, y_arhy_test, y_arhy_val = train_test_split(X_arhy_val,y_arhy_val,test_size=0.5, random_state=42)\n",
        "\n",
        "    # The 1D convolutions expect an extra dimension in the input data \n",
        "    X_arhyl_train = np.expand_dims(X_arhy_train, -1)\n",
        "    y_arhyl_train = np.expand_dims(y_arhy_train, -1)\n",
        "    X_arhyl_val = np.expand_dims(X_arhy_val, -1)\n",
        "    y_arhyl_val = np.expand_dims(y_arhy_val, -1)\n",
        "    X_arhyl_test = np.expand_dims(X_arhy_test, -1)\n",
        "    y_arhyl_test = np.expand_dims(y_arhy_test, -1)\n",
        "\n",
        "    N = X_arhyl_train.shape[0]\n",
        "    batch_size = 128\n",
        "    iterations = N/batch_size\n",
        "    step_size= 2 * iterations\n",
        "\n",
        "    optimizer = keras.optimizers.Adam(lr=0.001)\n",
        "    model = get_resnet_model(5) \n",
        "    model.compile(optimizer=optimizer, loss='sparse_categorical_crossentropy', metrics=['accuracy'])\n",
        "\n",
        "    lr_finder = LRFinder(start_lr=1e-7, end_lr= 1e-02, max_steps=50, smoothing=0.6)\n",
        "    _ = model.fit(X_arhyl_train, y_arhyl_train, batch_size=256, epochs=5, callbacks=[lr_finder], verbose=False)\n",
        "    lr_finder.plot()\n",
        "\n",
        "    lr_schedule = CyclicalLearningRate(1e-5, 1e-2, step_size=step_size, scale_fn=lambda x: tf.pow(0.95,x))\n",
        "    \n",
        "    \n",
        "    optimizer = tf.keras.optimizers.Adam(learning_rate=lr_schedule)\n",
        "    m_resnet_model = get_resnet_model(7)\n",
        "\n",
        "    save_best_weights = ModelCheckpoint(filepath=\"weights.hdf5\", verbose=0, save_best_only=True)\n",
        "\n",
        "    m_resnet_model.compile(optimizer=optimizer, loss='sparse_categorical_crossentropy', metrics=['accuracy'])\n",
        "    history = m_resnet_model.fit(X_arhyl_train, y_arhyl_train, validation_data=(X_arhyl_val, y_arhyl_val), \n",
        "                                shuffle=True, batch_size=128, epochs=8, callbacks=[save_best_weights])\n",
        "    pretty_plot(history, 'loss', lambda x: np.argmin(x))\n",
        "    pretty_plot(history, 'accuracy', lambda x: np.argmax(x))\n",
        "    m_resnet_model.load_weights('weights.hdf5')\n",
        "    print(\"\\n****** Val data (used to tune hyperparameters for model) *****\\n\")\n",
        "    X_arhy_test = m_resnet_model.evaluate(X_arhyl_test, y_arhyl_test)   \n",
        "\n",
        "    \n",
        "    y_pred = tf.argmax(m_resnet_model.predict(X_arhyl_test), axis=-1)\n",
        "    # Compute confusion matrix\n",
        "    cnf_matrix = sklearn.metrics.confusion_matrix(y_arhy_test, y_pred)\n",
        "    np.set_printoptions(precision=2)\n",
        "\n",
        "    # Plot non-normalized confusion matrix\n",
        "    plt.figure()\n",
        "    plot_confusion_matrix(cnf_matrix, classes=['NSR', 'AFIB','AFL'],\n",
        "                        title='Confusion matrix, without normalization')\n",
        "\n",
        "    X_arhy_test_10split = full_test_set.iloc[:,:-1].values\n",
        "    y_arhy_test_10split = full_test_set.iloc[:,-1].values\n",
        "\n",
        "    print(\"\\n****** Validation data (unseen to model) *****\\n\")\n",
        "    m_resnet_model.evaluate(X_arhy_test_10split, y_arhy_test_10split)\n",
        "\n",
        "    \n",
        "    y_pred = tf.argmax(m_resnet_model.predict(X_arhy_test_10split), axis=-1)\n",
        "    # Compute confusion matrix\n",
        "    cnf_matrix = sklearn.metrics.confusion_matrix(y_arhy_test_10split, y_pred)\n",
        "    np.set_printoptions(precision=2)\n",
        "\n",
        "    # Plot non-normalized confusion matrix\n",
        "    plt.figure()\n",
        "    plot_confusion_matrix(cnf_matrix, classes=['NSR', 'AFIB','AFL'],\n",
        "                        title='Confusion matrix, without normalization')"
      ],
      "metadata": {
        "id": "i6VFFrkomGVh"
      },
      "execution_count": 3,
      "outputs": []
    },
    {
      "cell_type": "code",
      "source": [
        "# from arryhthmia_backend import *"
      ],
      "metadata": {
        "id": "PhsGyomhmGc2"
      },
      "execution_count": 4,
      "outputs": []
    },
    {
      "cell_type": "markdown",
      "source": [
        "### Load Data"
      ],
      "metadata": {
        "id": "4Y1tzJ-IpggD"
      }
    },
    {
      "cell_type": "code",
      "execution_count": 13,
      "metadata": {
        "colab": {
          "base_uri": "https://localhost:8080/"
        },
        "id": "QXJ7bm2as2qZ",
        "outputId": "50dbca34-0ad8-447f-edac-57092f6c1564"
      },
      "outputs": [
        {
          "output_type": "execute_result",
          "data": {
            "text/plain": [
              "10646"
            ]
          },
          "metadata": {},
          "execution_count": 13
        }
      ],
      "source": [
        "labels = pd.read_excel('/content/drive/MyDrive/Arrythmia /Diagnostics.xlsx')\n",
        "len(labels)"
      ]
    },
    {
      "cell_type": "code",
      "execution_count": 14,
      "metadata": {
        "colab": {
          "base_uri": "https://localhost:8080/"
        },
        "id": "C1bWU4WisK-j",
        "outputId": "ee1ba6ee-fe68-4c04-85c6-aab6f5931713"
      },
      "outputs": [
        {
          "output_type": "execute_result",
          "data": {
            "text/plain": [
              "SR      1826\n",
              "AFIB    1780\n",
              "AF       445\n",
              "Name: Rhythm, dtype: int64"
            ]
          },
          "metadata": {},
          "execution_count": 14
        }
      ],
      "source": [
        "labels=labels[(labels['Rhythm']=='AFIB') | (labels['Rhythm']=='AF') |(labels['Rhythm']=='SR')]\n",
        "labels.reset_index(inplace=True,drop=True)\n",
        "labels['Rhythm'].value_counts()"
      ]
    },
    {
      "cell_type": "markdown",
      "metadata": {
        "id": "vBl2P1LV80ho"
      },
      "source": [
        "### Preprocessing"
      ]
    },
    {
      "cell_type": "code",
      "execution_count": 7,
      "metadata": {
        "id": "dhgoJXDXsbCe"
      },
      "outputs": [],
      "source": [
        "afib_files = labels[labels['Rhythm']==\"AFIB\"]['FileName'].tolist()\n",
        "afib_files.remove('MUSE_20180116_131253_72000')\n",
        "nsr_files = labels[labels['Rhythm']==\"SR\"]['FileName'].tolist()\n",
        "afl_files = labels[labels['Rhythm']==\"AF\"]['FileName'].tolist()\n",
        "all_files = afib_files+nsr_files+afl_files"
      ]
    },
    {
      "cell_type": "code",
      "execution_count": 12,
      "metadata": {
        "colab": {
          "base_uri": "https://localhost:8080/"
        },
        "id": "_OfXjmfdHT2c",
        "outputId": "501363f1-a88d-4ea9-ba3e-21b2cda6e8ff"
      },
      "outputs": [
        {
          "output_type": "stream",
          "name": "stderr",
          "text": [
            "100%|██████████| 1826/1826 [00:41<00:00, 43.90it/s]\n"
          ]
        },
        {
          "output_type": "stream",
          "name": "stdout",
          "text": [
            "Total no. of RR Intervals in nsr  class is: 20520 \n",
            "\n"
          ]
        },
        {
          "output_type": "stream",
          "name": "stderr",
          "text": [
            " 91%|█████████ | 1619/1779 [00:35<00:02, 58.09it/s]/usr/local/lib/python3.7/dist-packages/numpy/core/fromnumeric.py:3441: RuntimeWarning: Mean of empty slice.\n",
            "  out=out, **kwargs)\n",
            "/usr/local/lib/python3.7/dist-packages/numpy/core/_methods.py:189: RuntimeWarning: invalid value encountered in double_scalars\n",
            "  ret = ret.dtype.type(ret / rcount)\n",
            "100%|██████████| 1779/1779 [00:38<00:00, 46.22it/s]\n"
          ]
        },
        {
          "output_type": "stream",
          "name": "stdout",
          "text": [
            "Total no. of RR Intervals in afib  class is: 25124 \n",
            "\n"
          ]
        },
        {
          "output_type": "stream",
          "name": "stderr",
          "text": [
            "100%|██████████| 445/445 [00:07<00:00, 57.14it/s]"
          ]
        },
        {
          "output_type": "stream",
          "name": "stdout",
          "text": [
            "Total no. of RR Intervals in afl  class is: 7491 \n",
            "\n"
          ]
        },
        {
          "output_type": "stream",
          "name": "stderr",
          "text": [
            "\n"
          ]
        }
      ],
      "source": [
        "nsr_rri=append_r_peaks(nsr_files,\"nsr\")\n",
        "afib_rri=append_r_peaks(afib_files,\"afib\")\n",
        "afl_rri=append_r_peaks(afl_files,\"afl\")\n",
        "# to verify total no. of total RR Intervals for each class and \n",
        "# Extract RR Peaks into a dictionary with filename"
      ]
    },
    {
      "cell_type": "code",
      "execution_count": 9,
      "metadata": {
        "id": "TyO0RhUapDvX"
      },
      "outputs": [],
      "source": [
        "# nsr_extraction_rr = pd.DataFrame.from_dict(nsr_rri,orient='index')\n",
        "# afl_extraction_rr = pd.DataFrame.from_dict(afl_rri,orient='index')\n",
        "# afib_extraction_rr = pd.DataFrame.from_dict(afib_rri,orient='index')"
      ]
    },
    {
      "cell_type": "code",
      "execution_count": 15,
      "metadata": {
        "id": "iK2D5xKGg3Yg"
      },
      "outputs": [],
      "source": [
        "all_subjects=all_files\n",
        "subject_label = {}\n",
        "for i in afib_files:\n",
        "    subject_label[i] = 'afib'\n",
        "for i in nsr_files:\n",
        "    subject_label[i] = 'nsr'\n",
        "for i in afl_files:\n",
        "    subject_label[i] = 'afl'"
      ]
    },
    {
      "cell_type": "markdown",
      "metadata": {
        "id": "A-s2KVRSukCr"
      },
      "source": [
        "### Labelling encoding {'nsr': 0, 'afib': 1, 'afl':2}\n"
      ]
    },
    {
      "cell_type": "code",
      "execution_count": 16,
      "metadata": {
        "colab": {
          "base_uri": "https://localhost:8080/",
          "height": 1000
        },
        "id": "64UmytgFg16l",
        "outputId": "f65be079-e5ea-4b15-f21c-7d03ccca13e1"
      },
      "outputs": [
        {
          "output_type": "stream",
          "name": "stdout",
          "text": [
            "train : {'afib': 1592, 'nsr': 1652, 'afl': 401}\n",
            "22573 18567 6786\n",
            "After patient Scrambling: 20358\n"
          ]
        },
        {
          "output_type": "stream",
          "name": "stderr",
          "text": [
            "100%|██████████| 22573/22573 [00:00<00:00, 101861.39it/s]\n",
            "100%|██████████| 20358/20358 [00:00<00:00, 476312.79it/s]\n",
            "100%|██████████| 18567/18567 [00:00<00:00, 467123.99it/s]\n"
          ]
        },
        {
          "output_type": "stream",
          "name": "stdout",
          "text": [
            "test : {'afib': 187, 'nsr': 174, 'afl': 44}\n",
            "2551 1953 705\n",
            "After patient Scrambling: 2115\n"
          ]
        },
        {
          "output_type": "stream",
          "name": "stderr",
          "text": [
            "100%|██████████| 2551/2551 [00:00<00:00, 477493.28it/s]\n",
            "100%|██████████| 2115/2115 [00:00<00:00, 785248.56it/s]\n",
            "100%|██████████| 1953/1953 [00:00<00:00, 481681.51it/s]\n"
          ]
        },
        {
          "output_type": "stream",
          "name": "stdout",
          "text": [
            "\n",
            "#@#@#@#@#@ Working on FOLD: 1 #@#@#@#@#@\n",
            "\n"
          ]
        },
        {
          "output_type": "stream",
          "name": "stderr",
          "text": [
            "/usr/local/lib/python3.7/dist-packages/keras/optimizer_v2/adam.py:105: UserWarning: The `lr` argument is deprecated, use `learning_rate` instead.\n",
            "  super(Adam, self).__init__(name, **kwargs)\n"
          ]
        },
        {
          "output_type": "stream",
          "name": "stdout",
          "text": [
            "Epoch 1/8\n",
            "392/392 [==============================] - 6s 11ms/step - loss: 0.5708 - accuracy: 0.7497 - val_loss: 0.2534 - val_accuracy: 0.9060\n",
            "Epoch 2/8\n",
            "392/392 [==============================] - 3s 8ms/step - loss: 0.2532 - accuracy: 0.9057 - val_loss: 0.2865 - val_accuracy: 0.8833\n",
            "Epoch 3/8\n",
            "392/392 [==============================] - 3s 8ms/step - loss: 0.1309 - accuracy: 0.9531 - val_loss: 0.0747 - val_accuracy: 0.9727\n",
            "Epoch 4/8\n",
            "392/392 [==============================] - 3s 8ms/step - loss: 0.0311 - accuracy: 0.9887 - val_loss: 0.0260 - val_accuracy: 0.9903\n",
            "Epoch 5/8\n",
            "392/392 [==============================] - 3s 8ms/step - loss: 0.0197 - accuracy: 0.9925 - val_loss: 0.0488 - val_accuracy: 0.9813\n",
            "Epoch 6/8\n",
            "392/392 [==============================] - 3s 8ms/step - loss: 0.0884 - accuracy: 0.9698 - val_loss: 0.1061 - val_accuracy: 0.9648\n",
            "Epoch 7/8\n",
            "392/392 [==============================] - 3s 8ms/step - loss: 0.0570 - accuracy: 0.9799 - val_loss: 0.0371 - val_accuracy: 0.9878\n",
            "Epoch 8/8\n",
            "392/392 [==============================] - 3s 9ms/step - loss: 0.0096 - accuracy: 0.9965 - val_loss: 0.0223 - val_accuracy: 0.9935\n"
          ]
        },
        {
          "output_type": "display_data",
          "data": {
            "text/plain": [
              "<Figure size 432x288 with 1 Axes>"
            ],
            "image/png": "[encoded data removed]"
          },
          "metadata": {
            "needs_background": "light"
          }
        },
        {
          "output_type": "display_data",
          "data": {
            "text/plain": [
              "<Figure size 432x288 with 1 Axes>"
            ],
            "image/png": "[encoded data removed]"
          },
          "metadata": {
            "needs_background": "light"
          }
        },
        {
          "output_type": "display_data",
          "data": {
            "text/plain": [
              "<Figure size 432x288 with 1 Axes>"
            ],
            "image/png": "[encoded data removed]"
          },
          "metadata": {
            "needs_background": "light"
          }
        },
        {
          "output_type": "display_data",
          "data": {
            "text/plain": [
              "<Figure size 432x288 with 1 Axes>"
            ],
            "image/png": "[encoded data removed]"
          },
          "metadata": {
            "needs_background": "light"
          }
        },
        {
          "output_type": "stream",
          "name": "stdout",
          "text": [
            "\n",
            "****** Val data (used to tune hyperparameters for model) *****\n",
            "\n",
            "88/88 [==============================] - 1s 5ms/step - loss: 0.0127 - accuracy: 0.9950\n",
            "Confusion matrix, without normalization\n",
            "[[924   0   0]\n",
            " [  0 908   3]\n",
            " [  2   9 939]]\n"
          ]
        },
        {
          "output_type": "display_data",
          "data": {
            "text/plain": [
              "<Figure size 432x288 with 2 Axes>"
            ],
            "image/png": "[encoded data removed]"
          },
          "metadata": {
            "needs_background": "light"
          }
        },
        {
          "output_type": "stream",
          "name": "stdout",
          "text": [
            "\n",
            "****** Validation data (unseen to model) *****\n",
            "\n",
            "184/184 [==============================] - 1s 4ms/step - loss: 0.6947 - accuracy: 0.9153\n",
            "Confusion matrix, without normalization\n",
            "[[1902    0   51]\n",
            " [   0 1862   91]\n",
            " [  15  339 1599]]\n"
          ]
        },
        {
          "output_type": "display_data",
          "data": {
            "text/plain": [
              "<Figure size 432x288 with 2 Axes>"
            ],
            "image/png": "[encoded data removed]"
          },
          "metadata": {
            "needs_background": "light"
          }
        }
      ],
      "source": [
        "# scikit-learn k-fold cross-validation\n",
        "data=all_subjects\n",
        "\n",
        "# prepare cross validation\n",
        "kfold = KFold(10,shuffle=True,random_state=42)\n",
        "\n",
        "# enumerate splits\n",
        "count=1\n",
        "for train, test in kfold.split(data):  \n",
        "\n",
        "  full_train_set = extractor(\"train\",train)\n",
        "  full_test_set = extractor(\"test\",test)\n",
        "  print(\"\\n#@#@#@#@#@ Working on FOLD:\",count,\"#@#@#@#@#@\\n\")\n",
        "  train_1_fold(full_train_set,full_test_set,7)\n",
        "  break\n",
        "  #1 fold done call rest part in function to complete your k fold cv"
      ]
    },
    {
      "cell_type": "code",
      "source": [
        ""
      ],
      "metadata": {
        "id": "lxFo2GV8mlSx"
      },
      "execution_count": null,
      "outputs": []
    }
  ],
  "metadata": {
    "accelerator": "GPU",
    "colab": {
      "collapsed_sections": [],
      "name": "Arrhythmia Detection v_final2.ipynb",
      "provenance": []
    },
    "kernelspec": {
      "display_name": "Python 3",
      "name": "python3"
    },
    "language_info": {
      "name": "python"
    }
  },
  "nbformat": 4,
  "nbformat_minor": 0
}