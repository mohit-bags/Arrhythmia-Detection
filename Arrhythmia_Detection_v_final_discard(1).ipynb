{
  "cells": [
    {
      "cell_type": "markdown",
      "metadata": {
        "id": "fTHRgo0AlE4K"
      },
      "source": [
        "Trying https://github.com/spdrnl/ecg/blob/master/ECG.ipynb"
      ]
    },
    {
      "cell_type": "code",
      "source": [
        "from google.colab import drive\n",
        "drive.mount('/content/drive')"
      ],
      "metadata": {
        "colab": {
          "base_uri": "https://localhost:8080/"
        },
        "id": "LWf3JmijYuJP",
        "outputId": "46ecf6ad-0b6e-430e-801b-382f0a98943d"
      },
      "execution_count": 3,
      "outputs": [
        {
          "output_type": "stream",
          "name": "stdout",
          "text": [
            "Mounted at /content/drive\n"
          ]
        }
      ]
    },
    {
      "cell_type": "markdown",
      "metadata": {
        "id": "JfeS7tsK8vBb"
      },
      "source": [
        "### Import Libraries"
      ]
    },
    {
      "cell_type": "code",
      "execution_count": 29,
      "metadata": {
        "id": "HyTKLDsxjEjC",
        "colab": {
          "base_uri": "https://localhost:8080/"
        },
        "outputId": "465b91e1-cfe0-443e-b585-02c04cc2ef92"
      },
      "outputs": [
        {
          "output_type": "stream",
          "name": "stdout",
          "text": [
            "unzip:  cannot find or open /content/drive/My Drive/Arrythmia /ECGDataDenoised.zip, /content/drive/My Drive/Arrythmia /ECGDataDenoised.zip.zip or /content/drive/My Drive/Arrythmia /ECGDataDenoised.zip.ZIP.\n"
          ]
        }
      ],
      "source": [
        "!unzip /content/drive/\"My Drive\"/\"Arrythmia \"/ECGDataDenoised.zip"
      ]
    },
    {
      "cell_type": "code",
      "execution_count": null,
      "metadata": {
        "id": "uBF-Mlm0WRfT"
      },
      "outputs": [],
      "source": [
        ""
      ]
    },
    {
      "cell_type": "code",
      "execution_count": 4,
      "metadata": {
        "colab": {
          "base_uri": "https://localhost:8080/"
        },
        "id": "XXJxedOpqXYy",
        "outputId": "c70f64af-532a-4d42-b0ba-59e118c15505"
      },
      "outputs": [
        {
          "output_type": "stream",
          "name": "stdout",
          "text": [
            "\u001b[?25l\r\u001b[K     |▎                               | 10 kB 24.3 MB/s eta 0:00:01\r\u001b[K     |▋                               | 20 kB 21.2 MB/s eta 0:00:01\r\u001b[K     |▉                               | 30 kB 11.1 MB/s eta 0:00:01\r\u001b[K     |█▏                              | 40 kB 8.7 MB/s eta 0:00:01\r\u001b[K     |█▌                              | 51 kB 4.5 MB/s eta 0:00:01\r\u001b[K     |█▊                              | 61 kB 5.3 MB/s eta 0:00:01\r\u001b[K     |██                              | 71 kB 5.4 MB/s eta 0:00:01\r\u001b[K     |██▍                             | 81 kB 5.9 MB/s eta 0:00:01\r\u001b[K     |██▋                             | 92 kB 6.5 MB/s eta 0:00:01\r\u001b[K     |███                             | 102 kB 5.2 MB/s eta 0:00:01\r\u001b[K     |███▏                            | 112 kB 5.2 MB/s eta 0:00:01\r\u001b[K     |███▌                            | 122 kB 5.2 MB/s eta 0:00:01\r\u001b[K     |███▉                            | 133 kB 5.2 MB/s eta 0:00:01\r\u001b[K     |████                            | 143 kB 5.2 MB/s eta 0:00:01\r\u001b[K     |████▍                           | 153 kB 5.2 MB/s eta 0:00:01\r\u001b[K     |████▊                           | 163 kB 5.2 MB/s eta 0:00:01\r\u001b[K     |█████                           | 174 kB 5.2 MB/s eta 0:00:01\r\u001b[K     |█████▎                          | 184 kB 5.2 MB/s eta 0:00:01\r\u001b[K     |█████▌                          | 194 kB 5.2 MB/s eta 0:00:01\r\u001b[K     |█████▉                          | 204 kB 5.2 MB/s eta 0:00:01\r\u001b[K     |██████▏                         | 215 kB 5.2 MB/s eta 0:00:01\r\u001b[K     |██████▍                         | 225 kB 5.2 MB/s eta 0:00:01\r\u001b[K     |██████▊                         | 235 kB 5.2 MB/s eta 0:00:01\r\u001b[K     |███████                         | 245 kB 5.2 MB/s eta 0:00:01\r\u001b[K     |███████▎                        | 256 kB 5.2 MB/s eta 0:00:01\r\u001b[K     |███████▋                        | 266 kB 5.2 MB/s eta 0:00:01\r\u001b[K     |███████▉                        | 276 kB 5.2 MB/s eta 0:00:01\r\u001b[K     |████████▏                       | 286 kB 5.2 MB/s eta 0:00:01\r\u001b[K     |████████▌                       | 296 kB 5.2 MB/s eta 0:00:01\r\u001b[K     |████████▊                       | 307 kB 5.2 MB/s eta 0:00:01\r\u001b[K     |█████████                       | 317 kB 5.2 MB/s eta 0:00:01\r\u001b[K     |█████████▍                      | 327 kB 5.2 MB/s eta 0:00:01\r\u001b[K     |█████████▋                      | 337 kB 5.2 MB/s eta 0:00:01\r\u001b[K     |██████████                      | 348 kB 5.2 MB/s eta 0:00:01\r\u001b[K     |██████████▏                     | 358 kB 5.2 MB/s eta 0:00:01\r\u001b[K     |██████████▌                     | 368 kB 5.2 MB/s eta 0:00:01\r\u001b[K     |██████████▉                     | 378 kB 5.2 MB/s eta 0:00:01\r\u001b[K     |███████████                     | 389 kB 5.2 MB/s eta 0:00:01\r\u001b[K     |███████████▍                    | 399 kB 5.2 MB/s eta 0:00:01\r\u001b[K     |███████████▊                    | 409 kB 5.2 MB/s eta 0:00:01\r\u001b[K     |████████████                    | 419 kB 5.2 MB/s eta 0:00:01\r\u001b[K     |████████████▎                   | 430 kB 5.2 MB/s eta 0:00:01\r\u001b[K     |████████████▌                   | 440 kB 5.2 MB/s eta 0:00:01\r\u001b[K     |████████████▉                   | 450 kB 5.2 MB/s eta 0:00:01\r\u001b[K     |█████████████▏                  | 460 kB 5.2 MB/s eta 0:00:01\r\u001b[K     |█████████████▍                  | 471 kB 5.2 MB/s eta 0:00:01\r\u001b[K     |█████████████▊                  | 481 kB 5.2 MB/s eta 0:00:01\r\u001b[K     |██████████████                  | 491 kB 5.2 MB/s eta 0:00:01\r\u001b[K     |██████████████▎                 | 501 kB 5.2 MB/s eta 0:00:01\r\u001b[K     |██████████████▋                 | 512 kB 5.2 MB/s eta 0:00:01\r\u001b[K     |██████████████▉                 | 522 kB 5.2 MB/s eta 0:00:01\r\u001b[K     |███████████████▏                | 532 kB 5.2 MB/s eta 0:00:01\r\u001b[K     |███████████████▌                | 542 kB 5.2 MB/s eta 0:00:01\r\u001b[K     |███████████████▊                | 552 kB 5.2 MB/s eta 0:00:01\r\u001b[K     |████████████████                | 563 kB 5.2 MB/s eta 0:00:01\r\u001b[K     |████████████████▍               | 573 kB 5.2 MB/s eta 0:00:01\r\u001b[K     |████████████████▋               | 583 kB 5.2 MB/s eta 0:00:01\r\u001b[K     |█████████████████               | 593 kB 5.2 MB/s eta 0:00:01\r\u001b[K     |█████████████████▏              | 604 kB 5.2 MB/s eta 0:00:01\r\u001b[K     |█████████████████▌              | 614 kB 5.2 MB/s eta 0:00:01\r\u001b[K     |█████████████████▉              | 624 kB 5.2 MB/s eta 0:00:01\r\u001b[K     |██████████████████              | 634 kB 5.2 MB/s eta 0:00:01\r\u001b[K     |██████████████████▍             | 645 kB 5.2 MB/s eta 0:00:01\r\u001b[K     |██████████████████▊             | 655 kB 5.2 MB/s eta 0:00:01\r\u001b[K     |███████████████████             | 665 kB 5.2 MB/s eta 0:00:01\r\u001b[K     |███████████████████▎            | 675 kB 5.2 MB/s eta 0:00:01\r\u001b[K     |███████████████████▌            | 686 kB 5.2 MB/s eta 0:00:01\r\u001b[K     |███████████████████▉            | 696 kB 5.2 MB/s eta 0:00:01\r\u001b[K     |████████████████████▏           | 706 kB 5.2 MB/s eta 0:00:01\r\u001b[K     |████████████████████▍           | 716 kB 5.2 MB/s eta 0:00:01\r\u001b[K     |████████████████████▊           | 727 kB 5.2 MB/s eta 0:00:01\r\u001b[K     |█████████████████████           | 737 kB 5.2 MB/s eta 0:00:01\r\u001b[K     |█████████████████████▎          | 747 kB 5.2 MB/s eta 0:00:01\r\u001b[K     |█████████████████████▋          | 757 kB 5.2 MB/s eta 0:00:01\r\u001b[K     |█████████████████████▉          | 768 kB 5.2 MB/s eta 0:00:01\r\u001b[K     |██████████████████████▏         | 778 kB 5.2 MB/s eta 0:00:01\r\u001b[K     |██████████████████████▌         | 788 kB 5.2 MB/s eta 0:00:01\r\u001b[K     |██████████████████████▊         | 798 kB 5.2 MB/s eta 0:00:01\r\u001b[K     |███████████████████████         | 808 kB 5.2 MB/s eta 0:00:01\r\u001b[K     |███████████████████████▍        | 819 kB 5.2 MB/s eta 0:00:01\r\u001b[K     |███████████████████████▋        | 829 kB 5.2 MB/s eta 0:00:01\r\u001b[K     |████████████████████████        | 839 kB 5.2 MB/s eta 0:00:01\r\u001b[K     |████████████████████████▏       | 849 kB 5.2 MB/s eta 0:00:01\r\u001b[K     |████████████████████████▌       | 860 kB 5.2 MB/s eta 0:00:01\r\u001b[K     |████████████████████████▉       | 870 kB 5.2 MB/s eta 0:00:01\r\u001b[K     |█████████████████████████       | 880 kB 5.2 MB/s eta 0:00:01\r\u001b[K     |█████████████████████████▍      | 890 kB 5.2 MB/s eta 0:00:01\r\u001b[K     |█████████████████████████▊      | 901 kB 5.2 MB/s eta 0:00:01\r\u001b[K     |██████████████████████████      | 911 kB 5.2 MB/s eta 0:00:01\r\u001b[K     |██████████████████████████▎     | 921 kB 5.2 MB/s eta 0:00:01\r\u001b[K     |██████████████████████████▌     | 931 kB 5.2 MB/s eta 0:00:01\r\u001b[K     |██████████████████████████▉     | 942 kB 5.2 MB/s eta 0:00:01\r\u001b[K     |███████████████████████████▏    | 952 kB 5.2 MB/s eta 0:00:01\r\u001b[K     |███████████████████████████▍    | 962 kB 5.2 MB/s eta 0:00:01\r\u001b[K     |███████████████████████████▊    | 972 kB 5.2 MB/s eta 0:00:01\r\u001b[K     |████████████████████████████    | 983 kB 5.2 MB/s eta 0:00:01\r\u001b[K     |████████████████████████████▎   | 993 kB 5.2 MB/s eta 0:00:01\r\u001b[K     |████████████████████████████▋   | 1.0 MB 5.2 MB/s eta 0:00:01\r\u001b[K     |████████████████████████████▉   | 1.0 MB 5.2 MB/s eta 0:00:01\r\u001b[K     |█████████████████████████████▏  | 1.0 MB 5.2 MB/s eta 0:00:01\r\u001b[K     |█████████████████████████████▌  | 1.0 MB 5.2 MB/s eta 0:00:01\r\u001b[K     |█████████████████████████████▊  | 1.0 MB 5.2 MB/s eta 0:00:01\r\u001b[K     |██████████████████████████████  | 1.1 MB 5.2 MB/s eta 0:00:01\r\u001b[K     |██████████████████████████████▍ | 1.1 MB 5.2 MB/s eta 0:00:01\r\u001b[K     |██████████████████████████████▋ | 1.1 MB 5.2 MB/s eta 0:00:01\r\u001b[K     |███████████████████████████████ | 1.1 MB 5.2 MB/s eta 0:00:01\r\u001b[K     |███████████████████████████████▏| 1.1 MB 5.2 MB/s eta 0:00:01\r\u001b[K     |███████████████████████████████▌| 1.1 MB 5.2 MB/s eta 0:00:01\r\u001b[K     |███████████████████████████████▉| 1.1 MB 5.2 MB/s eta 0:00:01\r\u001b[K     |████████████████████████████████| 1.1 MB 5.2 MB/s \n",
            "\u001b[?25hCollecting py-ecg-detectors\n",
            "  Downloading py_ecg_detectors-1.2.0-py3-none-any.whl (24 kB)\n",
            "Requirement already satisfied: numpy in /usr/local/lib/python3.7/dist-packages (from py-ecg-detectors) (1.21.5)\n",
            "Requirement already satisfied: scipy in /usr/local/lib/python3.7/dist-packages (from py-ecg-detectors) (1.4.1)\n",
            "Requirement already satisfied: pywavelets in /usr/local/lib/python3.7/dist-packages (from py-ecg-detectors) (1.3.0)\n",
            "Collecting gatspy\n",
            "  Downloading gatspy-0.3.tar.gz (554 kB)\n",
            "\u001b[K     |████████████████████████████████| 554 kB 7.0 MB/s \n",
            "\u001b[?25hBuilding wheels for collected packages: gatspy\n",
            "  Building wheel for gatspy (setup.py) ... \u001b[?25l\u001b[?25hdone\n",
            "  Created wheel for gatspy: filename=gatspy-0.3-py3-none-any.whl size=43818 sha256=003eaf8057ad8768194082f7d437b5c746235ab0917d372fa75dfb572a876895\n",
            "  Stored in directory: /root/.cache/pip/wheels/1f/c1/4c/8de278f816259b4f67e2356c0bda260a593375661e400bf31f\n",
            "Successfully built gatspy\n",
            "Installing collected packages: gatspy, py-ecg-detectors\n",
            "Successfully installed gatspy-0.3 py-ecg-detectors-1.2.0\n",
            "Collecting neurokit2\n",
            "  Downloading neurokit2-0.1.7-py2.py3-none-any.whl (1.1 MB)\n",
            "\u001b[K     |████████████████████████████████| 1.1 MB 5.0 MB/s \n",
            "\u001b[?25hRequirement already satisfied: scikit-learn in /usr/local/lib/python3.7/dist-packages (from neurokit2) (1.0.2)\n",
            "Requirement already satisfied: matplotlib in /usr/local/lib/python3.7/dist-packages (from neurokit2) (3.2.2)\n",
            "Requirement already satisfied: scipy in /usr/local/lib/python3.7/dist-packages (from neurokit2) (1.4.1)\n",
            "Requirement already satisfied: pandas in /usr/local/lib/python3.7/dist-packages (from neurokit2) (1.3.5)\n",
            "Requirement already satisfied: numpy in /usr/local/lib/python3.7/dist-packages (from neurokit2) (1.21.5)\n",
            "Requirement already satisfied: kiwisolver>=1.0.1 in /usr/local/lib/python3.7/dist-packages (from matplotlib->neurokit2) (1.4.0)\n",
            "Requirement already satisfied: python-dateutil>=2.1 in /usr/local/lib/python3.7/dist-packages (from matplotlib->neurokit2) (2.8.2)\n",
            "Requirement already satisfied: pyparsing!=2.0.4,!=2.1.2,!=2.1.6,>=2.0.1 in /usr/local/lib/python3.7/dist-packages (from matplotlib->neurokit2) (3.0.7)\n",
            "Requirement already satisfied: cycler>=0.10 in /usr/local/lib/python3.7/dist-packages (from matplotlib->neurokit2) (0.11.0)\n",
            "Requirement already satisfied: typing-extensions in /usr/local/lib/python3.7/dist-packages (from kiwisolver>=1.0.1->matplotlib->neurokit2) (3.10.0.2)\n",
            "Requirement already satisfied: six>=1.5 in /usr/local/lib/python3.7/dist-packages (from python-dateutil>=2.1->matplotlib->neurokit2) (1.15.0)\n",
            "Requirement already satisfied: pytz>=2017.3 in /usr/local/lib/python3.7/dist-packages (from pandas->neurokit2) (2018.9)\n",
            "Requirement already satisfied: threadpoolctl>=2.0.0 in /usr/local/lib/python3.7/dist-packages (from scikit-learn->neurokit2) (3.1.0)\n",
            "Requirement already satisfied: joblib>=0.11 in /usr/local/lib/python3.7/dist-packages (from scikit-learn->neurokit2) (1.1.0)\n",
            "Installing collected packages: neurokit2\n",
            "Successfully installed neurokit2-0.1.7\n"
          ]
        }
      ],
      "source": [
        "!pip install -q -U tensorflow_addons\n",
        "!pip3 install py-ecg-detectors\n",
        "!pip install neurokit2"
      ]
    },
    {
      "cell_type": "code",
      "execution_count": 5,
      "metadata": {
        "id": "D10IEldLigQx"
      },
      "outputs": [],
      "source": [
        "import numpy as np\n",
        "import pandas as pd\n",
        "import tensorflow as tf\n",
        "from tensorflow import keras\n",
        "from tensorflow.keras import regularizers\n",
        "from tensorflow.keras.callbacks import ModelCheckpoint\n",
        "import matplotlib.pyplot as plt\n",
        "from scipy import stats\n",
        "from scipy import signal\n",
        "from sklearn.model_selection import train_test_split\n",
        "import sklearn\n",
        "import itertools\n",
        "import tensorflow_addons\n",
        "from tensorflow_addons.optimizers import CyclicalLearningRate\n",
        "import tensorflow_addons as tfa\n",
        "import matplotlib as mpl\n",
        "mpl.style.use('seaborn')\n",
        "plt.rcParams[\"figure.figsize\"] = (13,4)\n",
        "\n",
        "import matplotlib.pyplot as plt \n",
        "from os import listdir \n",
        "import requests\n",
        "import matplotlib.pyplot as plt\n",
        "from os import listdir, mkdir, system\n",
        "from os.path import isfile, isdir, join, exists\n",
        "import json\n",
        "import os\n",
        "from tqdm import tqdm\n",
        "from matplotlib import collections as matcoll\n",
        "import pywt\n",
        "\n",
        "import neurokit2 as nk\n",
        "\n",
        "from ecgdetectors import Detectors #for pantompkins\n",
        "detectors = Detectors(500) #specify sampling rate"
      ]
    },
    {
      "cell_type": "code",
      "execution_count": null,
      "metadata": {
        "colab": {
          "base_uri": "https://localhost:8080/"
        },
        "id": "QXJ7bm2as2qZ",
        "outputId": "52262fdb-ed77-4dbc-f20d-388fefc56a2f"
      },
      "outputs": [
        {
          "data": {
            "text/plain": [
              "10646"
            ]
          },
          "execution_count": 116,
          "metadata": {},
          "output_type": "execute_result"
        }
      ],
      "source": [
        "labels = pd.read_excel('/content/drive/MyDrive/Arrythmia /Diagnostics.xlsx')\n",
        "len(labels)"
      ]
    },
    {
      "cell_type": "code",
      "execution_count": null,
      "metadata": {
        "colab": {
          "base_uri": "https://localhost:8080/"
        },
        "id": "C1bWU4WisK-j",
        "outputId": "0811d751-0d9e-4421-a01b-d347200c96c6"
      },
      "outputs": [
        {
          "data": {
            "text/plain": [
              "SR      1826\n",
              "AFIB    1780\n",
              "AF       445\n",
              "Name: Rhythm, dtype: int64"
            ]
          },
          "execution_count": 34,
          "metadata": {},
          "output_type": "execute_result"
        }
      ],
      "source": [
        "labels=labels[(labels['Rhythm']=='AFIB') | (labels['Rhythm']=='AF') |(labels['Rhythm']=='SR')]\n",
        "labels.reset_index(inplace=True,drop=True)\n",
        "labels['Rhythm'].value_counts()"
      ]
    },
    {
      "cell_type": "code",
      "execution_count": null,
      "metadata": {
        "id": "dhgoJXDXsbCe"
      },
      "outputs": [],
      "source": [
        "afib_files = labels[labels['Rhythm']==\"AFIB\"]['FileName'].tolist()\n",
        "afib_files.remove('MUSE_20180116_131253_72000')\n",
        "\n",
        "nsr_files = labels[labels['Rhythm']==\"SR\"]['FileName'].tolist()\n",
        "afl_files = labels[labels['Rhythm']==\"AF\"]['FileName'].tolist()\n",
        "all_files = afib_files+nsr_files+afl_files"
      ]
    },
    {
      "cell_type": "markdown",
      "metadata": {
        "id": "vBl2P1LV80ho"
      },
      "source": [
        "### Preprocessing"
      ]
    },
    {
      "cell_type": "code",
      "execution_count": null,
      "metadata": {
        "id": "H976o3q6sblK"
      },
      "outputs": [],
      "source": [
        "def plot_rr(rrintervals,rr_diff):\n",
        "  x = rrintervals/500\n",
        "  y = rr_diff\n",
        "  lines = []\n",
        "  for i in range(len(x)):\n",
        "      pair=[(x[i],0), (x[i], y[i])]\n",
        "      lines.append(pair)\n",
        "\n",
        "  linecoll = matcoll.LineCollection(lines)\n",
        "  fig, ax = plt.subplots()\n",
        "  ax.add_collection(linecoll)\n",
        "\n",
        "  plt.scatter(x,y)\n",
        "  plt.xticks(x)\n",
        "  plt.xlabel(\"Time (s)\")\n",
        "  plt.ylim(0,1)\n",
        "  plt.title(\"RR Peaks\")\n",
        "  plt.show()\n",
        "\n",
        "def detect_r_peaks(patient_list,case,showplots=False):\n",
        "    parent_folder = '/content/ECGDataDenoised/'\n",
        "\n",
        "    data_with_rr = pd.DataFrame()\n",
        "    patient_col_id = []\n",
        "    case_name = []\n",
        "    mxx=0\n",
        "    cnt=0\n",
        "    mnn=90\n",
        "    for i in tqdm(patient_list):\n",
        "      # try:\n",
        "        \n",
        "        data = parent_folder+i+\".csv\"\n",
        "        df = pd.read_csv(data,header=None)\n",
        "        df.columns=['I','II','III','aVR','aVL','aVF','V1','V2','V3','V4','V5','V6']\n",
        "        cols = df.columns\n",
        "        df[cols[:-1]] = df[cols[:-1]].apply(pd.to_numeric, errors='coerce')\n",
        "        lead_name='II'\n",
        "        count = (df[lead_name] == 0).sum()\n",
        "        if(count>0):\n",
        "          print(count)\n",
        "        if(df[lead_name].isnull().sum(axis = 0)>0):\n",
        "          print(\"Null values in \",i,\"is :\",df[lead_name].isnull().sum(axis = 0))\n",
        "        # Extract R-peaks locations\n",
        "        _, rpeaks = nk.ecg_peaks(df[\"II\"][1:], sampling_rate=500)\n",
        "        rrintervals = rpeaks['ECG_R_Peaks']\n",
        "        cnt+=len(rrintervals)-1\n",
        "        \n",
        "        rr_diff=np.diff(rrintervals)/1000\n",
        "        rr_diff = np.append(0,rr_diff)\n",
        "\n",
        "        mxx=max(len(rr_diff),mxx) #to check maximum number of rr intervals for any signal\n",
        "        mnn=min(len(rr_diff),mnn)\n",
        "\n",
        "        print(len(rrintervals),len(rr_diff))\n",
        "\n",
        "        patient_col_id.append(i)\n",
        "        case_name.append(case)\n",
        "        data_with_rr=data_with_rr.append(pd.DataFrame(rr_diff).transpose())\n",
        "        detrended_rri = signal.detrend(rr_diff, axis= -1, type='constant', bp=0, overwrite_data=False)\n",
        "\n",
        "        if(showplots):\n",
        "          plot = (nk.events_plot(rpeaks['ECG_R_Peaks'], df[\"aVL\"]))\n",
        "          plot_rr(rrintervals,rr_diff)\n",
        "          print(\"DETRENDED\")\n",
        "          plot_rr(rrintervals,detrended_rri)\n",
        "          \n",
        "      # except:\n",
        "      #   print(\"\\nError in:\",i)\n",
        "    print(\"\\n\",case,\"    ****Max****:\",mxx)\n",
        "    print(\"\\n\",case,\"    ****Min****:\",mnn,\"\\n\")\n",
        "    print(\"Total no. of RR Intervals in\",case,\" class is:\",cnt,\"\\n\")\n",
        "    data_with_rr['filename']=patient_col_id\n",
        "    data_with_rr['label']=case_name\n",
        "    return data_with_rr  #returning data containing RR Intervals with label"
      ]
    },
    {
      "cell_type": "code",
      "execution_count": null,
      "metadata": {
        "id": "2_-zLost3hb3"
      },
      "outputs": [],
      "source": [
        "def append_r_peaks(patient_list,case,showplots=False):\n",
        "    rr_ints=[]\n",
        "    rri_with_patient_id = {}\n",
        "    # rr_ints=np.array(rr_ints) \n",
        "    parent_folder = '/content/ECGDataDenoised/'\n",
        "    data_with_rr = pd.DataFrame()\n",
        "    patient_col_id = []\n",
        "    # case_name = []\n",
        "    cnt=0\n",
        "    for i in tqdm(patient_list):\n",
        "      try:\n",
        "        data = parent_folder+i+\".csv\"\n",
        "        df = pd.read_csv(data,header=None)\n",
        "        df.columns=['I','II','III','aVR','aVL','aVF','V1','V2','V3','V4','V5','V6']\n",
        "        cols = df.columns\n",
        "        df[cols[:-1]] = df[cols[:-1]].apply(pd.to_numeric, errors='coerce')\n",
        "        lead_name='II'\n",
        "        count = (df[lead_name] == 0).sum()\n",
        "        if(count>0):\n",
        "          print(count)\n",
        "        if(df[lead_name].isnull().sum(axis = 0)>0):\n",
        "          print(\"Null values in \",i,\"is :\",df[lead_name].isnull().sum(axis = 0))\n",
        "        # Extract R-peaks locations\n",
        "        _, rpeaks = nk.ecg_peaks(df[\"II\"][1:], sampling_rate=500)\n",
        "        rrintervals = rpeaks['ECG_R_Peaks']\n",
        "        cnt+=len(rrintervals)-1\n",
        "        \n",
        "        rr_diff=np.diff(rrintervals)/1000\n",
        "        # rr_diff = np.append(0,rr_diff) #adding this 0 for equal size of RRi , hence to plot\n",
        "        rr_ints = np.append(rr_ints,rr_diff)\n",
        "        patient_col_id.append(i)\n",
        "        # case_name.append(case)\n",
        "        data_with_rr=data_with_rr.append(pd.DataFrame(rr_diff).transpose())\n",
        "        detrended_rri = signal.detrend(rr_diff, axis= -1, type='constant', bp=0, overwrite_data=False)\n",
        "        rri_with_patient_id[i]=detrended_rri\n",
        "      except:\n",
        "        print(\"\\nError in:\",i)\n",
        "\n",
        "    print(\"Total no. of RR Intervals in\",case,\" class is:\",len(rr_ints),\"\\n\")\n",
        "    return rri_with_patient_id  #returning data containing RR Intervals with label"
      ]
    },
    {
      "cell_type": "code",
      "execution_count": null,
      "metadata": {
        "colab": {
          "base_uri": "https://localhost:8080/",
          "height": 35
        },
        "id": "BRw_8n_UmwvG",
        "outputId": "bf00c9b2-1505-4ea1-f0fb-aa694364bf58"
      },
      "outputs": [
        {
          "data": {
            "application/vnd.google.colaboratory.intrinsic+json": {
              "type": "string"
            },
            "text/plain": [
              "'\\n  old one appending all arrays\\n'"
            ]
          },
          "execution_count": 38,
          "metadata": {},
          "output_type": "execute_result"
        }
      ],
      "source": [
        "'''\n",
        "  old one appending all arrays\n",
        "'''\n",
        "# def append_r_peaks(patient_list,case,showplots=False):\n",
        "#     rr_ints=[]\n",
        "#     rr_ints=np.array(rr_ints)\n",
        "#     parent_folder = '/content/ECGDataDenoised/'\n",
        "#     data_with_rr = pd.DataFrame()\n",
        "#     data_with_rr = pd.DataFrame()\n",
        "#     patient_col_id = []\n",
        "#     case_name = []\n",
        "#     cnt=0\n",
        "#     for i in tqdm(patient_list):\n",
        "#       try:\n",
        "#         data = parent_folder+i+\".csv\"\n",
        "#         df = pd.read_csv(data,header=None)\n",
        "#         df.columns=['I','II','III','aVR','aVL','aVF','V1','V2','V3','V4','V5','V6']\n",
        "#         cols = df.columns\n",
        "#         df[cols[:-1]] = df[cols[:-1]].apply(pd.to_numeric, errors='coerce')\n",
        "#         lead_name='II'\n",
        "#         count = (df[lead_name] == 0).sum()\n",
        "#         if(count>0):\n",
        "#           print(count)\n",
        "#         if(df[lead_name].isnull().sum(axis = 0)>0):\n",
        "#           print(\"Null values in \",i,\"is :\",df[lead_name].isnull().sum(axis = 0))\n",
        "#         # Extract R-peaks locations\n",
        "#         _, rpeaks = nk.ecg_peaks(df[\"II\"][1:], sampling_rate=500)\n",
        "#         rrintervals = rpeaks['ECG_R_Peaks']\n",
        "#         cnt+=len(rrintervals)-1\n",
        "        \n",
        "#         rr_diff=np.diff(rrintervals)/1000\n",
        "#         # rr_diff = np.append(0,rr_diff) #adding this 0 for equal size of RRi \n",
        "#         rr_ints = np.append(rr_ints,rr_diff)\n",
        "#         patient_col_id.append(i)\n",
        "#         case_name.append(case)\n",
        "#         data_with_rr=data_with_rr.append(pd.DataFrame(rr_diff).transpose())\n",
        "#         detrended_rri = signal.detrend(rr_diff, axis= -1, type='constant', bp=0, overwrite_data=False)\n",
        "#       except:\n",
        "#         print(\"\\nError in:\",i)\n",
        "\n",
        "#     print(\"Total no. of RR Intervals in\",case,\" class is:\",len(rr_ints),\"\\n\")\n",
        "#     return rr_ints  #returning data containing RR Intervals with label"
      ]
    },
    {
      "cell_type": "code",
      "execution_count": null,
      "metadata": {
        "id": "q-dv_K8k4AMD"
      },
      "outputs": [],
      "source": [
        "# nsr_rr=detect_r_peaks_pan_tompkins_detector(nsr_files,\"nsr\",\"pan_tompkins\",False)\n",
        "# afib_rr=detect_r_peaks_pan_tompkins_detector(afib_files,\"afib\",\"pan_tompkins\",False)\n",
        "# afl_rr=detect_r_peaks_pan_tompkins_detector(afl_files,\"afl\",\"pan_tompkins\",False)"
      ]
    },
    {
      "cell_type": "code",
      "execution_count": null,
      "metadata": {
        "id": "YnURqAdiJwuc"
      },
      "outputs": [],
      "source": [
        "# detect_r_peaks(nsr_files[:15],\"nsr\",False) #just to check"
      ]
    },
    {
      "cell_type": "code",
      "execution_count": null,
      "metadata": {
        "id": "loiV9BIEoEeJ"
      },
      "outputs": [],
      "source": [
        "# len(append_r_peaks(nsr_files[:15],\"nsr\")) #just to check"
      ]
    },
    {
      "cell_type": "code",
      "execution_count": null,
      "metadata": {
        "id": "HwBF3-sDnqLC"
      },
      "outputs": [],
      "source": [
        ""
      ]
    },
    {
      "cell_type": "code",
      "execution_count": null,
      "metadata": {
        "colab": {
          "base_uri": "https://localhost:8080/"
        },
        "id": "_OfXjmfdHT2c",
        "outputId": "9911ace2-a5b3-4d0c-db8d-09fb0cbd10af"
      },
      "outputs": [
        {
          "name": "stderr",
          "output_type": "stream",
          "text": [
            "100%|██████████| 1826/1826 [00:41<00:00, 43.88it/s]\n"
          ]
        },
        {
          "name": "stdout",
          "output_type": "stream",
          "text": [
            "Total no. of RR Intervals in nsr  class is: 20520 \n",
            "\n"
          ]
        },
        {
          "name": "stderr",
          "output_type": "stream",
          "text": [
            " 91%|█████████ | 1620/1779 [00:39<00:04, 36.71it/s]/usr/local/lib/python3.7/dist-packages/numpy/core/fromnumeric.py:3441: RuntimeWarning: Mean of empty slice.\n",
            "  out=out, **kwargs)\n",
            "/usr/local/lib/python3.7/dist-packages/numpy/core/_methods.py:189: RuntimeWarning: invalid value encountered in double_scalars\n",
            "  ret = ret.dtype.type(ret / rcount)\n",
            "100%|██████████| 1779/1779 [00:43<00:00, 41.03it/s]\n"
          ]
        },
        {
          "name": "stdout",
          "output_type": "stream",
          "text": [
            "Total no. of RR Intervals in afib  class is: 25124 \n",
            "\n"
          ]
        },
        {
          "name": "stderr",
          "output_type": "stream",
          "text": [
            "100%|██████████| 445/445 [00:12<00:00, 34.74it/s]"
          ]
        },
        {
          "name": "stdout",
          "output_type": "stream",
          "text": [
            "Total no. of RR Intervals in afl  class is: 7491 \n",
            "\n"
          ]
        },
        {
          "name": "stderr",
          "output_type": "stream",
          "text": [
            "\n"
          ]
        }
      ],
      "source": [
        "nsr_rri=append_r_peaks(nsr_files,\"nsr\")\n",
        "afib_rri=append_r_peaks(afib_files,\"afib\")\n",
        "afl_rri=append_r_peaks(afl_files,\"afl\")"
      ]
    },
    {
      "cell_type": "code",
      "execution_count": null,
      "metadata": {
        "id": "TyO0RhUapDvX"
      },
      "outputs": [],
      "source": [
        "nsr_extraction_rr = pd.DataFrame.from_dict(nsr_rri,orient='index')\n",
        "afl_extraction_rr = pd.DataFrame.from_dict(afl_rri,orient='index')\n",
        "afib_extraction_rr = pd.DataFrame.from_dict(afib_rri,orient='index')"
      ]
    },
    {
      "cell_type": "code",
      "execution_count": null,
      "metadata": {
        "id": "iK2D5xKGg3Yg"
      },
      "outputs": [],
      "source": [
        "all_subjects=all_files\n",
        "subject_label = {}\n",
        "for i in afib_files:\n",
        "    subject_label[i] = 'afib'\n",
        "for i in nsr_files:\n",
        "    subject_label[i] = 'nsr'\n",
        "for i in afl_files:\n",
        "    subject_label[i] = 'afl'"
      ]
    },
    {
      "cell_type": "code",
      "execution_count": null,
      "metadata": {
        "id": "GKZGeV2i3cjF"
      },
      "outputs": [],
      "source": [
        "# def extractor()"
      ]
    },
    {
      "cell_type": "code",
      "execution_count": null,
      "metadata": {
        "colab": {
          "base_uri": "https://localhost:8080/"
        },
        "id": "64UmytgFg16l",
        "outputId": "14884faa-6ccf-4c58-d98e-622c00ba0dd0"
      },
      "outputs": [
        {
          "name": "stdout",
          "output_type": "stream",
          "text": [
            "Train: {'afib': 1592, 'nsr': 1652, 'afl': 401}\n",
            "22573 18567 6786\n",
            "After patient Scrambling: 20358\n",
            "Test: {'afib': 187, 'nsr': 174, 'afl': 44}\n",
            "2551 1953 705\n",
            "After patient Scrambling: 2115\n"
          ]
        }
      ],
      "source": [
        "# scikit-learn k-fold cross-validation\n",
        "from numpy import array\n",
        "from sklearn.model_selection import KFold\n",
        "data=all_subjects\n",
        "\n",
        "# prepare cross validation\n",
        "kfold = KFold(10,shuffle=True,random_state=42)\n",
        "\n",
        "# enumerate splits\n",
        "for train, test in kfold.split(data):  \n",
        "  cnt_train={}\n",
        "  nsr_det_rri = []\n",
        "  nsr_det_rri = np.array(nsr_det_rri)\n",
        "  afib_det_rri = []\n",
        "  afib_det_rri = np.array(afib_det_rri)\n",
        "  afl_det_rri = []\n",
        "  afl_det_rri = np.array(afl_det_rri)\n",
        "  afl_list = []\n",
        "  for i in train:\n",
        "    label=subject_label[all_subjects[i]]\n",
        "    if label in cnt_train:\n",
        "      cnt_train[label]+=1\n",
        "    else:\n",
        "      cnt_train[label]=1\n",
        "    name=all_subjects[i]\n",
        "    if(label=='nsr'):\n",
        "      nsr_det_rri=np.append(nsr_det_rri,nsr_rri[name])\n",
        "    elif(label=='afl'):\n",
        "      afl_list.append(name)\n",
        "      afl_det_rri=np.append(afl_det_rri,afl_rri[name])\n",
        "    else:\n",
        "      afib_det_rri=np.append(afib_det_rri,afib_rri[name])\n",
        "    ## \n",
        "  print(\"Train:\",cnt_train)\n",
        "  print(len(afib_det_rri),len(nsr_det_rri),len(afl_det_rri))\n",
        "\n",
        "  p1 = np.random.permutation(afl_list)\n",
        "  p2 = np.random.permutation(afl_list)\n",
        "  # print(len(p1),\" , \",len(p2))\n",
        "  for k in p1:\n",
        "    afl_det_rri=np.append(afl_det_rri,afl_rri[k])\n",
        "  for k in p2:\n",
        "    afl_det_rri=np.append(afl_det_rri,afl_rri[k])\n",
        "  print(\"After patient Scrambling:\",len(afl_det_rri))\n",
        "\n",
        "\n",
        "#### Similar to train\n",
        "\n",
        "  nsr_det_rri_test = []\n",
        "  nsr_det_rri_test = np.array(nsr_det_rri_test)\n",
        "  afib_det_rri_test = []\n",
        "  afib_det_rri_test = np.array(afib_det_rri_test)\n",
        "  afl_det_rri_test = []\n",
        "  afl_det_rri_test = np.array(afl_det_rri_test)\n",
        "\n",
        "  cnt_test={}\n",
        "  afl_list = []\n",
        "  for i in test:\n",
        "    label=subject_label[all_subjects[i]]\n",
        "    if label in cnt_test:\n",
        "      cnt_test[label]+=1\n",
        "    else:\n",
        "      cnt_test[label]=1\n",
        "    name=all_subjects[i]\n",
        "    if(label=='nsr'):\n",
        "      nsr_det_rri_test=np.append(nsr_det_rri_test,nsr_rri[name])\n",
        "    elif(label=='afl'):\n",
        "      afl_list.append(name)\n",
        "      afl_det_rri_test=np.append(afl_det_rri_test,afl_rri[name])\n",
        "    else:\n",
        "      afib_det_rri_test=np.append(afib_det_rri_test,afib_rri[name])\n",
        "     ## \n",
        "  print(\"Test:\",cnt_test)\n",
        "  print(len(afib_det_rri_test),len(nsr_det_rri_test),len(afl_det_rri_test))\n",
        "  \n",
        "  p1 = np.random.permutation(afl_list)\n",
        "  p2 = np.random.permutation(afl_list)\n",
        "  for k in p1:\n",
        "    afl_det_rri_test=np.append(afl_det_rri_test,afl_rri[k])\n",
        "  for k in p2:\n",
        "    afl_det_rri_test=np.append(afl_det_rri_test,afl_rri[k])\n",
        "  print(\"After patient Scrambling:\",len(afl_det_rri_test))\n",
        "\n",
        "  break\n",
        "  #1 fold done call rest part in function to complete your k fold cv"
      ]
    },
    {
      "cell_type": "code",
      "execution_count": null,
      "metadata": {
        "id": "UtBQ2ffcqoel"
      },
      "outputs": [],
      "source": [
        "def round_robin(RR_interval):\n",
        "\n",
        "  RR_interval=RR_interval.tolist()\n",
        "  wind_size = 100\n",
        "  data_vect = []\n",
        "  modified_data_vector = []\n",
        "  ex_index = []\n",
        "\n",
        "  #CREATE DATA VECTOR\n",
        "  for i in tqdm(range(len(RR_interval))):\n",
        "\n",
        "    if i < len(RR_interval):\n",
        "\n",
        "      if len(RR_interval) >= i+wind_size:\n",
        "        rr_interval = RR_interval[i:i+wind_size]\n",
        "        data_vect.append(rr_interval)\n",
        "      else:\n",
        "        RR_interval.extend(RR_interval[0:100])\n",
        "        rr_interval = RR_interval[i:i+wind_size]\n",
        "        data_vect.append(rr_interval)\n",
        "\n",
        "  # #REMOVE EQUIDISTANT VECTORS\n",
        "  # for v in tqdm(range(len(data_vect))):\n",
        "    \n",
        "  #   if v in ex_index:\n",
        "  #     continue\n",
        "  #   else:\n",
        "  #     next_data = data_vect[v+1: len(data_vect)-1]\n",
        "  #     c = 0\n",
        "  #     for vi in range(len(next_data)):\n",
        "        \n",
        "  #       if len(data_vect[v])==len(next_data[vi]):\n",
        "\n",
        "  #         np_sub_array = np.absolute(np.array(data_vect[v]) - np.array(next_data[vi]))\n",
        "  #         result = np.all(np_sub_array == np_sub_array[0])\n",
        "  #         if result == True:\n",
        "  #           ex_index.append(v+1+vi)\n",
        "  #           c+=1\n",
        "  #     if c == 0:\n",
        "  #       modified_data_vector.append(data_vect[v])\n",
        "\n",
        "  # return modified_data_vector\n",
        "  return np.array(data_vect)"
      ]
    },
    {
      "cell_type": "code",
      "execution_count": null,
      "metadata": {
        "colab": {
          "base_uri": "https://localhost:8080/"
        },
        "id": "cLNMZ2Gw02KS",
        "outputId": "3c2175c9-aaf7-4cee-e538-2709dd451ed2"
      },
      "outputs": [
        {
          "name": "stderr",
          "output_type": "stream",
          "text": [
            "100%|██████████| 22573/22573 [00:00<00:00, 67934.95it/s]\n",
            "100%|██████████| 20358/20358 [00:00<00:00, 325413.94it/s]\n",
            "100%|██████████| 18567/18567 [00:00<00:00, 381720.89it/s]\n"
          ]
        }
      ],
      "source": [
        "afib_vectors = round_robin(afib_det_rri)\n",
        "afl_vectors = round_robin(afl_det_rri)\n",
        "nsr_vectors = round_robin(nsr_det_rri)\n",
        "len__puncture = min(len(afib_vectors),min(len(nsr_vectors),len(afl_vectors)))"
      ]
    },
    {
      "cell_type": "code",
      "execution_count": null,
      "metadata": {
        "id": "FwP8zKwD5HFr"
      },
      "outputs": [],
      "source": [
        "afib_vectors = afib_vectors[:len__puncture]\n",
        "afl_vectors = afl_vectors[:len__puncture]\n",
        "nsr_vectors = nsr_vectors[:len__puncture]"
      ]
    },
    {
      "cell_type": "code",
      "execution_count": null,
      "metadata": {
        "id": "0fMd0sNB5aMj"
      },
      "outputs": [],
      "source": [
        "afib_rr = pd.DataFrame(afib_vectors)\n",
        "afib_rr['label']='afib'\n",
        "nsr_rr = pd.DataFrame(nsr_vectors)\n",
        "nsr_rr['label']='nsr'\n",
        "afl_rr = pd.DataFrame(afl_vectors)\n",
        "afl_rr['label']='afl'"
      ]
    },
    {
      "cell_type": "code",
      "execution_count": null,
      "metadata": {
        "id": "pGVhoXyCzh5U"
      },
      "outputs": [],
      "source": [
        "arhy_labels = {'nsr': 0, 'afib': 1, 'afl':2}\n",
        "arhy_reverse_labels = {v:k for k,v in arhy_labels.items()}\n",
        "\n",
        "full_data_with_rr=pd.concat([afib_rr,nsr_rr,afl_rr])\n",
        "\n",
        "# full_data_with_rr['label']=full_data_with_rr['label'].astype(\"string\")\n",
        "\n",
        "arhy_labels = full_data_with_rr.iloc[:,-1].replace(arhy_reverse_labels)"
      ]
    },
    {
      "cell_type": "code",
      "execution_count": null,
      "metadata": {
        "colab": {
          "base_uri": "https://localhost:8080/",
          "height": 487
        },
        "id": "ET4vmLL164QJ",
        "outputId": "43c1c071-6ce0-439e-b1a9-b0e5b993c32f"
      },
      "outputs": [
        {
          "data": {
            "text/html": [
              "\n",
              "  <div id=\"df-c8183bdf-791b-46a1-8cd2-6aa0ea14a4b5\">\n",
              "    <div class=\"colab-df-container\">\n",
              "      <div>\n",
              "<style scoped>\n",
              "    .dataframe tbody tr th:only-of-type {\n",
              "        vertical-align: middle;\n",
              "    }\n",
              "\n",
              "    .dataframe tbody tr th {\n",
              "        vertical-align: top;\n",
              "    }\n",
              "\n",
              "    .dataframe thead th {\n",
              "        text-align: right;\n",
              "    }\n",
              "</style>\n",
              "<table border=\"1\" class=\"dataframe\">\n",
              "  <thead>\n",
              "    <tr style=\"text-align: right;\">\n",
              "      <th></th>\n",
              "      <th>0</th>\n",
              "      <th>1</th>\n",
              "      <th>2</th>\n",
              "      <th>3</th>\n",
              "      <th>4</th>\n",
              "      <th>5</th>\n",
              "      <th>6</th>\n",
              "      <th>7</th>\n",
              "      <th>8</th>\n",
              "      <th>9</th>\n",
              "      <th>...</th>\n",
              "      <th>91</th>\n",
              "      <th>92</th>\n",
              "      <th>93</th>\n",
              "      <th>94</th>\n",
              "      <th>95</th>\n",
              "      <th>96</th>\n",
              "      <th>97</th>\n",
              "      <th>98</th>\n",
              "      <th>99</th>\n",
              "      <th>label</th>\n",
              "    </tr>\n",
              "  </thead>\n",
              "  <tbody>\n",
              "    <tr>\n",
              "      <th>0</th>\n",
              "      <td>-0.021278</td>\n",
              "      <td>0.007722</td>\n",
              "      <td>-0.021278</td>\n",
              "      <td>0.022722</td>\n",
              "      <td>0.010722</td>\n",
              "      <td>0.034722</td>\n",
              "      <td>0.015722</td>\n",
              "      <td>0.005722</td>\n",
              "      <td>-0.018278</td>\n",
              "      <td>0.025722</td>\n",
              "      <td>...</td>\n",
              "      <td>0.027308</td>\n",
              "      <td>0.125308</td>\n",
              "      <td>-0.086692</td>\n",
              "      <td>0.101308</td>\n",
              "      <td>-0.069692</td>\n",
              "      <td>0.073308</td>\n",
              "      <td>-0.008692</td>\n",
              "      <td>0.012308</td>\n",
              "      <td>-0.068692</td>\n",
              "      <td>afib</td>\n",
              "    </tr>\n",
              "    <tr>\n",
              "      <th>1</th>\n",
              "      <td>0.007722</td>\n",
              "      <td>-0.021278</td>\n",
              "      <td>0.022722</td>\n",
              "      <td>0.010722</td>\n",
              "      <td>0.034722</td>\n",
              "      <td>0.015722</td>\n",
              "      <td>0.005722</td>\n",
              "      <td>-0.018278</td>\n",
              "      <td>0.025722</td>\n",
              "      <td>0.007722</td>\n",
              "      <td>...</td>\n",
              "      <td>0.125308</td>\n",
              "      <td>-0.086692</td>\n",
              "      <td>0.101308</td>\n",
              "      <td>-0.069692</td>\n",
              "      <td>0.073308</td>\n",
              "      <td>-0.008692</td>\n",
              "      <td>0.012308</td>\n",
              "      <td>-0.068692</td>\n",
              "      <td>-0.099692</td>\n",
              "      <td>afib</td>\n",
              "    </tr>\n",
              "    <tr>\n",
              "      <th>2</th>\n",
              "      <td>-0.021278</td>\n",
              "      <td>0.022722</td>\n",
              "      <td>0.010722</td>\n",
              "      <td>0.034722</td>\n",
              "      <td>0.015722</td>\n",
              "      <td>0.005722</td>\n",
              "      <td>-0.018278</td>\n",
              "      <td>0.025722</td>\n",
              "      <td>0.007722</td>\n",
              "      <td>0.016722</td>\n",
              "      <td>...</td>\n",
              "      <td>-0.086692</td>\n",
              "      <td>0.101308</td>\n",
              "      <td>-0.069692</td>\n",
              "      <td>0.073308</td>\n",
              "      <td>-0.008692</td>\n",
              "      <td>0.012308</td>\n",
              "      <td>-0.068692</td>\n",
              "      <td>-0.099692</td>\n",
              "      <td>-0.036722</td>\n",
              "      <td>afib</td>\n",
              "    </tr>\n",
              "    <tr>\n",
              "      <th>3</th>\n",
              "      <td>0.022722</td>\n",
              "      <td>0.010722</td>\n",
              "      <td>0.034722</td>\n",
              "      <td>0.015722</td>\n",
              "      <td>0.005722</td>\n",
              "      <td>-0.018278</td>\n",
              "      <td>0.025722</td>\n",
              "      <td>0.007722</td>\n",
              "      <td>0.016722</td>\n",
              "      <td>-0.067278</td>\n",
              "      <td>...</td>\n",
              "      <td>0.101308</td>\n",
              "      <td>-0.069692</td>\n",
              "      <td>0.073308</td>\n",
              "      <td>-0.008692</td>\n",
              "      <td>0.012308</td>\n",
              "      <td>-0.068692</td>\n",
              "      <td>-0.099692</td>\n",
              "      <td>-0.036722</td>\n",
              "      <td>-0.032722</td>\n",
              "      <td>afib</td>\n",
              "    </tr>\n",
              "    <tr>\n",
              "      <th>4</th>\n",
              "      <td>0.010722</td>\n",
              "      <td>0.034722</td>\n",
              "      <td>0.015722</td>\n",
              "      <td>0.005722</td>\n",
              "      <td>-0.018278</td>\n",
              "      <td>0.025722</td>\n",
              "      <td>0.007722</td>\n",
              "      <td>0.016722</td>\n",
              "      <td>-0.067278</td>\n",
              "      <td>0.012722</td>\n",
              "      <td>...</td>\n",
              "      <td>-0.069692</td>\n",
              "      <td>0.073308</td>\n",
              "      <td>-0.008692</td>\n",
              "      <td>0.012308</td>\n",
              "      <td>-0.068692</td>\n",
              "      <td>-0.099692</td>\n",
              "      <td>-0.036722</td>\n",
              "      <td>-0.032722</td>\n",
              "      <td>0.065278</td>\n",
              "      <td>afib</td>\n",
              "    </tr>\n",
              "    <tr>\n",
              "      <th>...</th>\n",
              "      <td>...</td>\n",
              "      <td>...</td>\n",
              "      <td>...</td>\n",
              "      <td>...</td>\n",
              "      <td>...</td>\n",
              "      <td>...</td>\n",
              "      <td>...</td>\n",
              "      <td>...</td>\n",
              "      <td>...</td>\n",
              "      <td>...</td>\n",
              "      <td>...</td>\n",
              "      <td>...</td>\n",
              "      <td>...</td>\n",
              "      <td>...</td>\n",
              "      <td>...</td>\n",
              "      <td>...</td>\n",
              "      <td>...</td>\n",
              "      <td>...</td>\n",
              "      <td>...</td>\n",
              "      <td>...</td>\n",
              "      <td>...</td>\n",
              "    </tr>\n",
              "    <tr>\n",
              "      <th>18562</th>\n",
              "      <td>0.013000</td>\n",
              "      <td>0.025000</td>\n",
              "      <td>-0.013000</td>\n",
              "      <td>0.003000</td>\n",
              "      <td>-0.021000</td>\n",
              "      <td>0.005000</td>\n",
              "      <td>0.043000</td>\n",
              "      <td>-0.005000</td>\n",
              "      <td>0.064000</td>\n",
              "      <td>-0.012000</td>\n",
              "      <td>...</td>\n",
              "      <td>-0.050412</td>\n",
              "      <td>-0.049412</td>\n",
              "      <td>0.372588</td>\n",
              "      <td>-0.050412</td>\n",
              "      <td>-0.049412</td>\n",
              "      <td>-0.049412</td>\n",
              "      <td>-0.049412</td>\n",
              "      <td>0.161588</td>\n",
              "      <td>-0.049412</td>\n",
              "      <td>afl</td>\n",
              "    </tr>\n",
              "    <tr>\n",
              "      <th>18563</th>\n",
              "      <td>0.025000</td>\n",
              "      <td>-0.013000</td>\n",
              "      <td>0.003000</td>\n",
              "      <td>-0.021000</td>\n",
              "      <td>0.005000</td>\n",
              "      <td>0.043000</td>\n",
              "      <td>-0.005000</td>\n",
              "      <td>0.064000</td>\n",
              "      <td>-0.012000</td>\n",
              "      <td>-0.008000</td>\n",
              "      <td>...</td>\n",
              "      <td>-0.049412</td>\n",
              "      <td>0.372588</td>\n",
              "      <td>-0.050412</td>\n",
              "      <td>-0.049412</td>\n",
              "      <td>-0.049412</td>\n",
              "      <td>-0.049412</td>\n",
              "      <td>0.161588</td>\n",
              "      <td>-0.049412</td>\n",
              "      <td>-0.050412</td>\n",
              "      <td>afl</td>\n",
              "    </tr>\n",
              "    <tr>\n",
              "      <th>18564</th>\n",
              "      <td>-0.013000</td>\n",
              "      <td>0.003000</td>\n",
              "      <td>-0.021000</td>\n",
              "      <td>0.005000</td>\n",
              "      <td>0.043000</td>\n",
              "      <td>-0.005000</td>\n",
              "      <td>0.064000</td>\n",
              "      <td>-0.012000</td>\n",
              "      <td>-0.008000</td>\n",
              "      <td>-0.015000</td>\n",
              "      <td>...</td>\n",
              "      <td>0.372588</td>\n",
              "      <td>-0.050412</td>\n",
              "      <td>-0.049412</td>\n",
              "      <td>-0.049412</td>\n",
              "      <td>-0.049412</td>\n",
              "      <td>0.161588</td>\n",
              "      <td>-0.049412</td>\n",
              "      <td>-0.050412</td>\n",
              "      <td>-0.049412</td>\n",
              "      <td>afl</td>\n",
              "    </tr>\n",
              "    <tr>\n",
              "      <th>18565</th>\n",
              "      <td>0.003000</td>\n",
              "      <td>-0.021000</td>\n",
              "      <td>0.005000</td>\n",
              "      <td>0.043000</td>\n",
              "      <td>-0.005000</td>\n",
              "      <td>0.064000</td>\n",
              "      <td>-0.012000</td>\n",
              "      <td>-0.008000</td>\n",
              "      <td>-0.015000</td>\n",
              "      <td>-0.007474</td>\n",
              "      <td>...</td>\n",
              "      <td>-0.050412</td>\n",
              "      <td>-0.049412</td>\n",
              "      <td>-0.049412</td>\n",
              "      <td>-0.049412</td>\n",
              "      <td>0.161588</td>\n",
              "      <td>-0.049412</td>\n",
              "      <td>-0.050412</td>\n",
              "      <td>-0.049412</td>\n",
              "      <td>-0.049412</td>\n",
              "      <td>afl</td>\n",
              "    </tr>\n",
              "    <tr>\n",
              "      <th>18566</th>\n",
              "      <td>-0.021000</td>\n",
              "      <td>0.005000</td>\n",
              "      <td>0.043000</td>\n",
              "      <td>-0.005000</td>\n",
              "      <td>0.064000</td>\n",
              "      <td>-0.012000</td>\n",
              "      <td>-0.008000</td>\n",
              "      <td>-0.015000</td>\n",
              "      <td>-0.007474</td>\n",
              "      <td>-0.008474</td>\n",
              "      <td>...</td>\n",
              "      <td>-0.049412</td>\n",
              "      <td>-0.049412</td>\n",
              "      <td>-0.049412</td>\n",
              "      <td>0.161588</td>\n",
              "      <td>-0.049412</td>\n",
              "      <td>-0.050412</td>\n",
              "      <td>-0.049412</td>\n",
              "      <td>-0.049412</td>\n",
              "      <td>0.162588</td>\n",
              "      <td>afl</td>\n",
              "    </tr>\n",
              "  </tbody>\n",
              "</table>\n",
              "<p>55701 rows × 101 columns</p>\n",
              "</div>\n",
              "      <button class=\"colab-df-convert\" onclick=\"convertToInteractive('df-c8183bdf-791b-46a1-8cd2-6aa0ea14a4b5')\"\n",
              "              title=\"Convert this dataframe to an interactive table.\"\n",
              "              style=\"display:none;\">\n",
              "        \n",
              "  <svg xmlns=\"http://www.w3.org/2000/svg\" height=\"24px\"viewBox=\"0 0 24 24\"\n",
              "       width=\"24px\">\n",
              "    <path d=\"M0 0h24v24H0V0z\" fill=\"none\"/>\n",
              "    <path d=\"M18.56 5.44l.94 2.06.94-2.06 2.06-.94-2.06-.94-.94-2.06-.94 2.06-2.06.94zm-11 1L8.5 8.5l.94-2.06 2.06-.94-2.06-.94L8.5 2.5l-.94 2.06-2.06.94zm10 10l.94 2.06.94-2.06 2.06-.94-2.06-.94-.94-2.06-.94 2.06-2.06.94z\"/><path d=\"M17.41 7.96l-1.37-1.37c-.4-.4-.92-.59-1.43-.59-.52 0-1.04.2-1.43.59L10.3 9.45l-7.72 7.72c-.78.78-.78 2.05 0 2.83L4 21.41c.39.39.9.59 1.41.59.51 0 1.02-.2 1.41-.59l7.78-7.78 2.81-2.81c.8-.78.8-2.07 0-2.86zM5.41 20L4 18.59l7.72-7.72 1.47 1.35L5.41 20z\"/>\n",
              "  </svg>\n",
              "      </button>\n",
              "      \n",
              "  <style>\n",
              "    .colab-df-container {\n",
              "      display:flex;\n",
              "      flex-wrap:wrap;\n",
              "      gap: 12px;\n",
              "    }\n",
              "\n",
              "    .colab-df-convert {\n",
              "      background-color: #E8F0FE;\n",
              "      border: none;\n",
              "      border-radius: 50%;\n",
              "      cursor: pointer;\n",
              "      display: none;\n",
              "      fill: #1967D2;\n",
              "      height: 32px;\n",
              "      padding: 0 0 0 0;\n",
              "      width: 32px;\n",
              "    }\n",
              "\n",
              "    .colab-df-convert:hover {\n",
              "      background-color: #E2EBFA;\n",
              "      box-shadow: 0px 1px 2px rgba(60, 64, 67, 0.3), 0px 1px 3px 1px rgba(60, 64, 67, 0.15);\n",
              "      fill: #174EA6;\n",
              "    }\n",
              "\n",
              "    [theme=dark] .colab-df-convert {\n",
              "      background-color: #3B4455;\n",
              "      fill: #D2E3FC;\n",
              "    }\n",
              "\n",
              "    [theme=dark] .colab-df-convert:hover {\n",
              "      background-color: #434B5C;\n",
              "      box-shadow: 0px 1px 3px 1px rgba(0, 0, 0, 0.15);\n",
              "      filter: drop-shadow(0px 1px 2px rgba(0, 0, 0, 0.3));\n",
              "      fill: #FFFFFF;\n",
              "    }\n",
              "  </style>\n",
              "\n",
              "      <script>\n",
              "        const buttonEl =\n",
              "          document.querySelector('#df-c8183bdf-791b-46a1-8cd2-6aa0ea14a4b5 button.colab-df-convert');\n",
              "        buttonEl.style.display =\n",
              "          google.colab.kernel.accessAllowed ? 'block' : 'none';\n",
              "\n",
              "        async function convertToInteractive(key) {\n",
              "          const element = document.querySelector('#df-c8183bdf-791b-46a1-8cd2-6aa0ea14a4b5');\n",
              "          const dataTable =\n",
              "            await google.colab.kernel.invokeFunction('convertToInteractive',\n",
              "                                                     [key], {});\n",
              "          if (!dataTable) return;\n",
              "\n",
              "          const docLinkHtml = 'Like what you see? Visit the ' +\n",
              "            '<a target=\"_blank\" href=https://colab.research.google.com/notebooks/data_table.ipynb>data table notebook</a>'\n",
              "            + ' to learn more about interactive tables.';\n",
              "          element.innerHTML = '';\n",
              "          dataTable['output_type'] = 'display_data';\n",
              "          await google.colab.output.renderOutput(dataTable, element);\n",
              "          const docLink = document.createElement('div');\n",
              "          docLink.innerHTML = docLinkHtml;\n",
              "          element.appendChild(docLink);\n",
              "        }\n",
              "      </script>\n",
              "    </div>\n",
              "  </div>\n",
              "  "
            ],
            "text/plain": [
              "              0         1         2         3         4         5         6  \\\n",
              "0     -0.021278  0.007722 -0.021278  0.022722  0.010722  0.034722  0.015722   \n",
              "1      0.007722 -0.021278  0.022722  0.010722  0.034722  0.015722  0.005722   \n",
              "2     -0.021278  0.022722  0.010722  0.034722  0.015722  0.005722 -0.018278   \n",
              "3      0.022722  0.010722  0.034722  0.015722  0.005722 -0.018278  0.025722   \n",
              "4      0.010722  0.034722  0.015722  0.005722 -0.018278  0.025722  0.007722   \n",
              "...         ...       ...       ...       ...       ...       ...       ...   \n",
              "18562  0.013000  0.025000 -0.013000  0.003000 -0.021000  0.005000  0.043000   \n",
              "18563  0.025000 -0.013000  0.003000 -0.021000  0.005000  0.043000 -0.005000   \n",
              "18564 -0.013000  0.003000 -0.021000  0.005000  0.043000 -0.005000  0.064000   \n",
              "18565  0.003000 -0.021000  0.005000  0.043000 -0.005000  0.064000 -0.012000   \n",
              "18566 -0.021000  0.005000  0.043000 -0.005000  0.064000 -0.012000 -0.008000   \n",
              "\n",
              "              7         8         9  ...        91        92        93  \\\n",
              "0      0.005722 -0.018278  0.025722  ...  0.027308  0.125308 -0.086692   \n",
              "1     -0.018278  0.025722  0.007722  ...  0.125308 -0.086692  0.101308   \n",
              "2      0.025722  0.007722  0.016722  ... -0.086692  0.101308 -0.069692   \n",
              "3      0.007722  0.016722 -0.067278  ...  0.101308 -0.069692  0.073308   \n",
              "4      0.016722 -0.067278  0.012722  ... -0.069692  0.073308 -0.008692   \n",
              "...         ...       ...       ...  ...       ...       ...       ...   \n",
              "18562 -0.005000  0.064000 -0.012000  ... -0.050412 -0.049412  0.372588   \n",
              "18563  0.064000 -0.012000 -0.008000  ... -0.049412  0.372588 -0.050412   \n",
              "18564 -0.012000 -0.008000 -0.015000  ...  0.372588 -0.050412 -0.049412   \n",
              "18565 -0.008000 -0.015000 -0.007474  ... -0.050412 -0.049412 -0.049412   \n",
              "18566 -0.015000 -0.007474 -0.008474  ... -0.049412 -0.049412 -0.049412   \n",
              "\n",
              "             94        95        96        97        98        99  label  \n",
              "0      0.101308 -0.069692  0.073308 -0.008692  0.012308 -0.068692   afib  \n",
              "1     -0.069692  0.073308 -0.008692  0.012308 -0.068692 -0.099692   afib  \n",
              "2      0.073308 -0.008692  0.012308 -0.068692 -0.099692 -0.036722   afib  \n",
              "3     -0.008692  0.012308 -0.068692 -0.099692 -0.036722 -0.032722   afib  \n",
              "4      0.012308 -0.068692 -0.099692 -0.036722 -0.032722  0.065278   afib  \n",
              "...         ...       ...       ...       ...       ...       ...    ...  \n",
              "18562 -0.050412 -0.049412 -0.049412 -0.049412  0.161588 -0.049412    afl  \n",
              "18563 -0.049412 -0.049412 -0.049412  0.161588 -0.049412 -0.050412    afl  \n",
              "18564 -0.049412 -0.049412  0.161588 -0.049412 -0.050412 -0.049412    afl  \n",
              "18565 -0.049412  0.161588 -0.049412 -0.050412 -0.049412 -0.049412    afl  \n",
              "18566  0.161588 -0.049412 -0.050412 -0.049412 -0.049412  0.162588    afl  \n",
              "\n",
              "[55701 rows x 101 columns]"
            ]
          },
          "execution_count": 142,
          "metadata": {},
          "output_type": "execute_result"
        }
      ],
      "source": [
        "full_data_with_rr"
      ]
    },
    {
      "cell_type": "markdown",
      "metadata": {
        "id": "A-s2KVRSukCr"
      },
      "source": [
        "### Labelling encoding {'nsr': 0, 'afib': 1, 'afl':2}\n"
      ]
    },
    {
      "cell_type": "code",
      "execution_count": null,
      "metadata": {
        "id": "FunZPvDgh9O2"
      },
      "outputs": [],
      "source": [
        "dict = {'nsr': 0, 'afib': 1, 'afl':2}\n",
        "\n",
        "full_data_with_rr.replace({'label': dict},inplace=True)"
      ]
    },
    {
      "cell_type": "code",
      "execution_count": null,
      "metadata": {
        "id": "OeAL7SCrFwZL"
      },
      "outputs": [],
      "source": [
        "# full_data_with_rr.to_csv(\"/content/drive/MyDrive/train_data_rr_100.csv\",index=False)\n",
        "# full_data_with_rr.to_csv(\"/content/train_data_rr_100.csv\",index=False)"
      ]
    },
    {
      "cell_type": "code",
      "execution_count": null,
      "metadata": {
        "colab": {
          "base_uri": "https://localhost:8080/"
        },
        "id": "KtMjhMdpjb-p",
        "outputId": "65b73fde-933a-4680-bfe2-ad59cf484511"
      },
      "outputs": [
        {
          "data": {
            "text/plain": [
              "1    18567\n",
              "0    18567\n",
              "2    18567\n",
              "Name: label, dtype: int64"
            ]
          },
          "execution_count": 24,
          "metadata": {},
          "output_type": "execute_result"
        }
      ],
      "source": [
        "df = pd.read_csv(\"/content/drive/MyDrive/train_data_rr_100.csv\")\n",
        "df.label.value_counts()"
      ]
    },
    {
      "cell_type": "code",
      "execution_count": null,
      "metadata": {
        "id": "ojMyMmq78o3B"
      },
      "outputs": [],
      "source": [
        "plt.hist(arhy_labels)\n",
        "plt.title(\"Distribution of the labels\")"
      ]
    },
    {
      "cell_type": "code",
      "execution_count": null,
      "metadata": {
        "id": "TcSYmcQ17Dgy"
      },
      "outputs": [],
      "source": [
        "arhy_labels.value_counts()\n",
        "# 'nsr': 0, 'afib': 1, 'afl':2"
      ]
    },
    {
      "cell_type": "code",
      "execution_count": null,
      "metadata": {
        "id": "v8kRLdu7LWfI"
      },
      "outputs": [],
      "source": [
        "train=df"
      ]
    },
    {
      "cell_type": "code",
      "execution_count": null,
      "metadata": {
        "id": "XN7bmDIhLQc-"
      },
      "outputs": [],
      "source": [
        "train.to_csv(\"/content/drive/MyDrive/train_rr_100.csv\",index=False)\n",
        "train.to_csv(\"/content/train_rr_100.csv\",index=False)\n"
      ]
    },
    {
      "cell_type": "markdown",
      "metadata": {
        "id": "VdoxJp_ULbIP"
      },
      "source": [
        "### Start from here. Read Train file which is already saved"
      ]
    },
    {
      "cell_type": "code",
      "execution_count": 9,
      "metadata": {
        "id": "Yn2XvnbgLaIL"
      },
      "outputs": [],
      "source": [
        "# train=pd.read_csv(\"/content/drive/MyDrive/train_with_rr_20.csv\")\n",
        "train=pd.read_csv(\"/content/drive/MyDrive/train_data_rr_100.csv\")\n",
        "train = train.sample(frac=1).reset_index(drop=True)\n",
        "train = train.sample(frac=1).reset_index(drop=True)\n",
        "\n"
      ]
    },
    {
      "cell_type": "code",
      "execution_count": 10,
      "metadata": {
        "colab": {
          "base_uri": "https://localhost:8080/",
          "height": 487
        },
        "id": "t6DdjCK1ynmq",
        "outputId": "c816a967-7bc2-4a0c-d9f8-1042ba3644e4"
      },
      "outputs": [
        {
          "output_type": "execute_result",
          "data": {
            "text/plain": [
              "              0         1         2         3         4         5         6  \\\n",
              "0      0.007600 -0.013400  0.010600  0.010600 -0.014400  0.003600  0.012600   \n",
              "1      0.124636  0.051636  0.037636 -0.078364 -0.093364  0.070812 -0.064187   \n",
              "2      0.010182  0.005182 -0.007818 -0.000818 -0.002818 -0.012818 -0.011818   \n",
              "3     -0.033375  0.052625 -0.025375  0.046625 -0.053375  0.059625 -0.058375   \n",
              "4     -0.001545 -0.001545 -0.001545 -0.005545 -0.002545  0.007455  0.005455   \n",
              "...         ...       ...       ...       ...       ...       ...       ...   \n",
              "55696  0.004167  0.008273  0.003273  0.010273  0.016273  0.009273  0.001273   \n",
              "55697 -0.055083 -0.050083  0.107917 -0.066083 -0.081083  0.176917  0.086917   \n",
              "55698 -0.004444 -0.000444  0.001556 -0.002444  0.000556  0.001556 -0.000444   \n",
              "55699 -0.040933 -0.009933 -0.041933 -0.064933  0.057067 -0.018933  0.049136   \n",
              "55700 -0.022429 -0.014429 -0.024429 -0.006429 -0.025750  0.158250 -0.009750   \n",
              "\n",
              "              7         8         9  ...        91        92        93  \\\n",
              "0     -0.004400  0.003917  0.001917  ...  0.002462  0.000462  0.000462   \n",
              "1      0.119812  0.041812 -0.056188  ... -0.014476  0.065200 -0.064800   \n",
              "2     -0.015818 -0.003231 -0.009231  ...  0.000769 -0.013231 -0.026231   \n",
              "3      0.053625 -0.065375 -0.031375  ... -0.059000  0.044000 -0.013000   \n",
              "4      0.006455  0.002455 -0.003545  ... -0.008333  0.003667  0.005667   \n",
              "...         ...       ...       ...  ...       ...       ...       ...   \n",
              "55696  0.005273  0.003273 -0.017727  ...  0.002400 -0.010077 -0.008077   \n",
              "55697 -0.028083 -0.047083 -0.024583  ... -0.044500  0.046500 -0.034500   \n",
              "55698 -0.000444  0.004556  0.003000  ... -0.063500  0.002900  0.003900   \n",
              "55699  0.029136  0.027136  0.013136  ... -0.029765  0.031235  0.024235   \n",
              "55700 -0.052750 -0.050750 -0.009750  ...  0.128385  0.026385 -0.076615   \n",
              "\n",
              "             94        95        96        97        98        99  label  \n",
              "0     -0.004538 -0.006538 -0.000538  0.003462  0.007462  0.003462      0  \n",
              "1     -0.060800 -0.102800 -0.047800  0.201200 -0.048800  0.028200      1  \n",
              "2     -0.011231 -0.003231  0.009769 -0.004231 -0.004231  0.004769      0  \n",
              "3     -0.014000  0.015000  0.019000  0.005000  0.048000 -0.020818      1  \n",
              "4     -0.017167 -0.049167  0.011833 -0.008167 -0.045167  0.010833      0  \n",
              "...         ...       ...       ...       ...       ...       ...    ...  \n",
              "55696  0.001923  0.005923  0.012923  0.007923 -0.003077 -0.012077      0  \n",
              "55697  0.071500 -0.008684 -0.011684 -0.028684 -0.032684 -0.025684      2  \n",
              "55698  0.004900  0.000900 -0.006100 -0.006100  0.003900 -0.004100      0  \n",
              "55699 -0.040765  0.115235 -0.008765 -0.091765  0.051235 -0.011765      1  \n",
              "55700 -0.034615 -0.078615  0.159385  0.082385 -0.051615 -0.051615      1  \n",
              "\n",
              "[55701 rows x 101 columns]"
            ],
            "text/html": [
              "\n",
              "  <div id=\"df-fa4fee68-bacf-4010-a01c-503ab5c53513\">\n",
              "    <div class=\"colab-df-container\">\n",
              "      <div>\n",
              "<style scoped>\n",
              "    .dataframe tbody tr th:only-of-type {\n",
              "        vertical-align: middle;\n",
              "    }\n",
              "\n",
              "    .dataframe tbody tr th {\n",
              "        vertical-align: top;\n",
              "    }\n",
              "\n",
              "    .dataframe thead th {\n",
              "        text-align: right;\n",
              "    }\n",
              "</style>\n",
              "<table border=\"1\" class=\"dataframe\">\n",
              "  <thead>\n",
              "    <tr style=\"text-align: right;\">\n",
              "      <th></th>\n",
              "      <th>0</th>\n",
              "      <th>1</th>\n",
              "      <th>2</th>\n",
              "      <th>3</th>\n",
              "      <th>4</th>\n",
              "      <th>5</th>\n",
              "      <th>6</th>\n",
              "      <th>7</th>\n",
              "      <th>8</th>\n",
              "      <th>9</th>\n",
              "      <th>...</th>\n",
              "      <th>91</th>\n",
              "      <th>92</th>\n",
              "      <th>93</th>\n",
              "      <th>94</th>\n",
              "      <th>95</th>\n",
              "      <th>96</th>\n",
              "      <th>97</th>\n",
              "      <th>98</th>\n",
              "      <th>99</th>\n",
              "      <th>label</th>\n",
              "    </tr>\n",
              "  </thead>\n",
              "  <tbody>\n",
              "    <tr>\n",
              "      <th>0</th>\n",
              "      <td>0.007600</td>\n",
              "      <td>-0.013400</td>\n",
              "      <td>0.010600</td>\n",
              "      <td>0.010600</td>\n",
              "      <td>-0.014400</td>\n",
              "      <td>0.003600</td>\n",
              "      <td>0.012600</td>\n",
              "      <td>-0.004400</td>\n",
              "      <td>0.003917</td>\n",
              "      <td>0.001917</td>\n",
              "      <td>...</td>\n",
              "      <td>0.002462</td>\n",
              "      <td>0.000462</td>\n",
              "      <td>0.000462</td>\n",
              "      <td>-0.004538</td>\n",
              "      <td>-0.006538</td>\n",
              "      <td>-0.000538</td>\n",
              "      <td>0.003462</td>\n",
              "      <td>0.007462</td>\n",
              "      <td>0.003462</td>\n",
              "      <td>0</td>\n",
              "    </tr>\n",
              "    <tr>\n",
              "      <th>1</th>\n",
              "      <td>0.124636</td>\n",
              "      <td>0.051636</td>\n",
              "      <td>0.037636</td>\n",
              "      <td>-0.078364</td>\n",
              "      <td>-0.093364</td>\n",
              "      <td>0.070812</td>\n",
              "      <td>-0.064187</td>\n",
              "      <td>0.119812</td>\n",
              "      <td>0.041812</td>\n",
              "      <td>-0.056188</td>\n",
              "      <td>...</td>\n",
              "      <td>-0.014476</td>\n",
              "      <td>0.065200</td>\n",
              "      <td>-0.064800</td>\n",
              "      <td>-0.060800</td>\n",
              "      <td>-0.102800</td>\n",
              "      <td>-0.047800</td>\n",
              "      <td>0.201200</td>\n",
              "      <td>-0.048800</td>\n",
              "      <td>0.028200</td>\n",
              "      <td>1</td>\n",
              "    </tr>\n",
              "    <tr>\n",
              "      <th>2</th>\n",
              "      <td>0.010182</td>\n",
              "      <td>0.005182</td>\n",
              "      <td>-0.007818</td>\n",
              "      <td>-0.000818</td>\n",
              "      <td>-0.002818</td>\n",
              "      <td>-0.012818</td>\n",
              "      <td>-0.011818</td>\n",
              "      <td>-0.015818</td>\n",
              "      <td>-0.003231</td>\n",
              "      <td>-0.009231</td>\n",
              "      <td>...</td>\n",
              "      <td>0.000769</td>\n",
              "      <td>-0.013231</td>\n",
              "      <td>-0.026231</td>\n",
              "      <td>-0.011231</td>\n",
              "      <td>-0.003231</td>\n",
              "      <td>0.009769</td>\n",
              "      <td>-0.004231</td>\n",
              "      <td>-0.004231</td>\n",
              "      <td>0.004769</td>\n",
              "      <td>0</td>\n",
              "    </tr>\n",
              "    <tr>\n",
              "      <th>3</th>\n",
              "      <td>-0.033375</td>\n",
              "      <td>0.052625</td>\n",
              "      <td>-0.025375</td>\n",
              "      <td>0.046625</td>\n",
              "      <td>-0.053375</td>\n",
              "      <td>0.059625</td>\n",
              "      <td>-0.058375</td>\n",
              "      <td>0.053625</td>\n",
              "      <td>-0.065375</td>\n",
              "      <td>-0.031375</td>\n",
              "      <td>...</td>\n",
              "      <td>-0.059000</td>\n",
              "      <td>0.044000</td>\n",
              "      <td>-0.013000</td>\n",
              "      <td>-0.014000</td>\n",
              "      <td>0.015000</td>\n",
              "      <td>0.019000</td>\n",
              "      <td>0.005000</td>\n",
              "      <td>0.048000</td>\n",
              "      <td>-0.020818</td>\n",
              "      <td>1</td>\n",
              "    </tr>\n",
              "    <tr>\n",
              "      <th>4</th>\n",
              "      <td>-0.001545</td>\n",
              "      <td>-0.001545</td>\n",
              "      <td>-0.001545</td>\n",
              "      <td>-0.005545</td>\n",
              "      <td>-0.002545</td>\n",
              "      <td>0.007455</td>\n",
              "      <td>0.005455</td>\n",
              "      <td>0.006455</td>\n",
              "      <td>0.002455</td>\n",
              "      <td>-0.003545</td>\n",
              "      <td>...</td>\n",
              "      <td>-0.008333</td>\n",
              "      <td>0.003667</td>\n",
              "      <td>0.005667</td>\n",
              "      <td>-0.017167</td>\n",
              "      <td>-0.049167</td>\n",
              "      <td>0.011833</td>\n",
              "      <td>-0.008167</td>\n",
              "      <td>-0.045167</td>\n",
              "      <td>0.010833</td>\n",
              "      <td>0</td>\n",
              "    </tr>\n",
              "    <tr>\n",
              "      <th>...</th>\n",
              "      <td>...</td>\n",
              "      <td>...</td>\n",
              "      <td>...</td>\n",
              "      <td>...</td>\n",
              "      <td>...</td>\n",
              "      <td>...</td>\n",
              "      <td>...</td>\n",
              "      <td>...</td>\n",
              "      <td>...</td>\n",
              "      <td>...</td>\n",
              "      <td>...</td>\n",
              "      <td>...</td>\n",
              "      <td>...</td>\n",
              "      <td>...</td>\n",
              "      <td>...</td>\n",
              "      <td>...</td>\n",
              "      <td>...</td>\n",
              "      <td>...</td>\n",
              "      <td>...</td>\n",
              "      <td>...</td>\n",
              "      <td>...</td>\n",
              "    </tr>\n",
              "    <tr>\n",
              "      <th>55696</th>\n",
              "      <td>0.004167</td>\n",
              "      <td>0.008273</td>\n",
              "      <td>0.003273</td>\n",
              "      <td>0.010273</td>\n",
              "      <td>0.016273</td>\n",
              "      <td>0.009273</td>\n",
              "      <td>0.001273</td>\n",
              "      <td>0.005273</td>\n",
              "      <td>0.003273</td>\n",
              "      <td>-0.017727</td>\n",
              "      <td>...</td>\n",
              "      <td>0.002400</td>\n",
              "      <td>-0.010077</td>\n",
              "      <td>-0.008077</td>\n",
              "      <td>0.001923</td>\n",
              "      <td>0.005923</td>\n",
              "      <td>0.012923</td>\n",
              "      <td>0.007923</td>\n",
              "      <td>-0.003077</td>\n",
              "      <td>-0.012077</td>\n",
              "      <td>0</td>\n",
              "    </tr>\n",
              "    <tr>\n",
              "      <th>55697</th>\n",
              "      <td>-0.055083</td>\n",
              "      <td>-0.050083</td>\n",
              "      <td>0.107917</td>\n",
              "      <td>-0.066083</td>\n",
              "      <td>-0.081083</td>\n",
              "      <td>0.176917</td>\n",
              "      <td>0.086917</td>\n",
              "      <td>-0.028083</td>\n",
              "      <td>-0.047083</td>\n",
              "      <td>-0.024583</td>\n",
              "      <td>...</td>\n",
              "      <td>-0.044500</td>\n",
              "      <td>0.046500</td>\n",
              "      <td>-0.034500</td>\n",
              "      <td>0.071500</td>\n",
              "      <td>-0.008684</td>\n",
              "      <td>-0.011684</td>\n",
              "      <td>-0.028684</td>\n",
              "      <td>-0.032684</td>\n",
              "      <td>-0.025684</td>\n",
              "      <td>2</td>\n",
              "    </tr>\n",
              "    <tr>\n",
              "      <th>55698</th>\n",
              "      <td>-0.004444</td>\n",
              "      <td>-0.000444</td>\n",
              "      <td>0.001556</td>\n",
              "      <td>-0.002444</td>\n",
              "      <td>0.000556</td>\n",
              "      <td>0.001556</td>\n",
              "      <td>-0.000444</td>\n",
              "      <td>-0.000444</td>\n",
              "      <td>0.004556</td>\n",
              "      <td>0.003000</td>\n",
              "      <td>...</td>\n",
              "      <td>-0.063500</td>\n",
              "      <td>0.002900</td>\n",
              "      <td>0.003900</td>\n",
              "      <td>0.004900</td>\n",
              "      <td>0.000900</td>\n",
              "      <td>-0.006100</td>\n",
              "      <td>-0.006100</td>\n",
              "      <td>0.003900</td>\n",
              "      <td>-0.004100</td>\n",
              "      <td>0</td>\n",
              "    </tr>\n",
              "    <tr>\n",
              "      <th>55699</th>\n",
              "      <td>-0.040933</td>\n",
              "      <td>-0.009933</td>\n",
              "      <td>-0.041933</td>\n",
              "      <td>-0.064933</td>\n",
              "      <td>0.057067</td>\n",
              "      <td>-0.018933</td>\n",
              "      <td>0.049136</td>\n",
              "      <td>0.029136</td>\n",
              "      <td>0.027136</td>\n",
              "      <td>0.013136</td>\n",
              "      <td>...</td>\n",
              "      <td>-0.029765</td>\n",
              "      <td>0.031235</td>\n",
              "      <td>0.024235</td>\n",
              "      <td>-0.040765</td>\n",
              "      <td>0.115235</td>\n",
              "      <td>-0.008765</td>\n",
              "      <td>-0.091765</td>\n",
              "      <td>0.051235</td>\n",
              "      <td>-0.011765</td>\n",
              "      <td>1</td>\n",
              "    </tr>\n",
              "    <tr>\n",
              "      <th>55700</th>\n",
              "      <td>-0.022429</td>\n",
              "      <td>-0.014429</td>\n",
              "      <td>-0.024429</td>\n",
              "      <td>-0.006429</td>\n",
              "      <td>-0.025750</td>\n",
              "      <td>0.158250</td>\n",
              "      <td>-0.009750</td>\n",
              "      <td>-0.052750</td>\n",
              "      <td>-0.050750</td>\n",
              "      <td>-0.009750</td>\n",
              "      <td>...</td>\n",
              "      <td>0.128385</td>\n",
              "      <td>0.026385</td>\n",
              "      <td>-0.076615</td>\n",
              "      <td>-0.034615</td>\n",
              "      <td>-0.078615</td>\n",
              "      <td>0.159385</td>\n",
              "      <td>0.082385</td>\n",
              "      <td>-0.051615</td>\n",
              "      <td>-0.051615</td>\n",
              "      <td>1</td>\n",
              "    </tr>\n",
              "  </tbody>\n",
              "</table>\n",
              "<p>55701 rows × 101 columns</p>\n",
              "</div>\n",
              "      <button class=\"colab-df-convert\" onclick=\"convertToInteractive('df-fa4fee68-bacf-4010-a01c-503ab5c53513')\"\n",
              "              title=\"Convert this dataframe to an interactive table.\"\n",
              "              style=\"display:none;\">\n",
              "        \n",
              "  <svg xmlns=\"http://www.w3.org/2000/svg\" height=\"24px\"viewBox=\"0 0 24 24\"\n",
              "       width=\"24px\">\n",
              "    <path d=\"M0 0h24v24H0V0z\" fill=\"none\"/>\n",
              "    <path d=\"M18.56 5.44l.94 2.06.94-2.06 2.06-.94-2.06-.94-.94-2.06-.94 2.06-2.06.94zm-11 1L8.5 8.5l.94-2.06 2.06-.94-2.06-.94L8.5 2.5l-.94 2.06-2.06.94zm10 10l.94 2.06.94-2.06 2.06-.94-2.06-.94-.94-2.06-.94 2.06-2.06.94z\"/><path d=\"M17.41 7.96l-1.37-1.37c-.4-.4-.92-.59-1.43-.59-.52 0-1.04.2-1.43.59L10.3 9.45l-7.72 7.72c-.78.78-.78 2.05 0 2.83L4 21.41c.39.39.9.59 1.41.59.51 0 1.02-.2 1.41-.59l7.78-7.78 2.81-2.81c.8-.78.8-2.07 0-2.86zM5.41 20L4 18.59l7.72-7.72 1.47 1.35L5.41 20z\"/>\n",
              "  </svg>\n",
              "      </button>\n",
              "      \n",
              "  <style>\n",
              "    .colab-df-container {\n",
              "      display:flex;\n",
              "      flex-wrap:wrap;\n",
              "      gap: 12px;\n",
              "    }\n",
              "\n",
              "    .colab-df-convert {\n",
              "      background-color: #E8F0FE;\n",
              "      border: none;\n",
              "      border-radius: 50%;\n",
              "      cursor: pointer;\n",
              "      display: none;\n",
              "      fill: #1967D2;\n",
              "      height: 32px;\n",
              "      padding: 0 0 0 0;\n",
              "      width: 32px;\n",
              "    }\n",
              "\n",
              "    .colab-df-convert:hover {\n",
              "      background-color: #E2EBFA;\n",
              "      box-shadow: 0px 1px 2px rgba(60, 64, 67, 0.3), 0px 1px 3px 1px rgba(60, 64, 67, 0.15);\n",
              "      fill: #174EA6;\n",
              "    }\n",
              "\n",
              "    [theme=dark] .colab-df-convert {\n",
              "      background-color: #3B4455;\n",
              "      fill: #D2E3FC;\n",
              "    }\n",
              "\n",
              "    [theme=dark] .colab-df-convert:hover {\n",
              "      background-color: #434B5C;\n",
              "      box-shadow: 0px 1px 3px 1px rgba(0, 0, 0, 0.15);\n",
              "      filter: drop-shadow(0px 1px 2px rgba(0, 0, 0, 0.3));\n",
              "      fill: #FFFFFF;\n",
              "    }\n",
              "  </style>\n",
              "\n",
              "      <script>\n",
              "        const buttonEl =\n",
              "          document.querySelector('#df-fa4fee68-bacf-4010-a01c-503ab5c53513 button.colab-df-convert');\n",
              "        buttonEl.style.display =\n",
              "          google.colab.kernel.accessAllowed ? 'block' : 'none';\n",
              "\n",
              "        async function convertToInteractive(key) {\n",
              "          const element = document.querySelector('#df-fa4fee68-bacf-4010-a01c-503ab5c53513');\n",
              "          const dataTable =\n",
              "            await google.colab.kernel.invokeFunction('convertToInteractive',\n",
              "                                                     [key], {});\n",
              "          if (!dataTable) return;\n",
              "\n",
              "          const docLinkHtml = 'Like what you see? Visit the ' +\n",
              "            '<a target=\"_blank\" href=https://colab.research.google.com/notebooks/data_table.ipynb>data table notebook</a>'\n",
              "            + ' to learn more about interactive tables.';\n",
              "          element.innerHTML = '';\n",
              "          dataTable['output_type'] = 'display_data';\n",
              "          await google.colab.output.renderOutput(dataTable, element);\n",
              "          const docLink = document.createElement('div');\n",
              "          docLink.innerHTML = docLinkHtml;\n",
              "          element.appendChild(docLink);\n",
              "        }\n",
              "      </script>\n",
              "    </div>\n",
              "  </div>\n",
              "  "
            ]
          },
          "metadata": {},
          "execution_count": 10
        }
      ],
      "source": [
        "train"
      ]
    },
    {
      "cell_type": "code",
      "execution_count": 11,
      "metadata": {
        "colab": {
          "base_uri": "https://localhost:8080/"
        },
        "id": "ArxzXpKDLps0",
        "outputId": "c46a25f1-3d20-464e-d460-7a3135324c49"
      },
      "outputs": [
        {
          "output_type": "execute_result",
          "data": {
            "text/plain": [
              "0    18567\n",
              "1    18567\n",
              "2    18567\n",
              "Name: label, dtype: int64"
            ]
          },
          "metadata": {},
          "execution_count": 11
        }
      ],
      "source": [
        "full_data_with_rr=train\n",
        "full_data_with_rr['label'].value_counts()"
      ]
    },
    {
      "cell_type": "code",
      "execution_count": 12,
      "metadata": {
        "id": "YnC3rEEpyqIe"
      },
      "outputs": [],
      "source": [
        "# full_data_with_rr.drop(columns=['filename'],inplace=True)"
      ]
    },
    {
      "cell_type": "code",
      "execution_count": 13,
      "metadata": {
        "id": "U20iUJ8cNySX"
      },
      "outputs": [],
      "source": [
        "# Copied from https://github.com/avanwyk/tensorflow-projects/blob/master/lr-finder/lr_finder.py\n",
        "# Apache License 2.0\n",
        "\n",
        "from tensorflow.keras.callbacks import Callback\n",
        "\n",
        "class LRFinder(Callback):\n",
        "    \"\"\"`Callback` that exponentially adjusts the learning rate after each training batch between `start_lr` and\n",
        "    `end_lr` for a maximum number of batches: `max_step`. The loss and learning rate are recorded at each step allowing\n",
        "    visually finding a good learning rate as per https://sgugger.github.io/how-do-you-find-a-good-learning-rate.html via\n",
        "    the `plot` method.\n",
        "    \"\"\"\n",
        "\n",
        "    def __init__(self, start_lr: float = 1e-2, end_lr: float = 10, max_steps: int = 100, smoothing=0.9):\n",
        "        super(LRFinder, self).__init__()\n",
        "        self.start_lr, self.end_lr = start_lr, end_lr\n",
        "        self.max_steps = max_steps\n",
        "        self.smoothing = smoothing\n",
        "        self.step, self.best_loss, self.avg_loss, self.lr = 0, 0, 0, 0\n",
        "        self.lrs, self.losses = [], []\n",
        "\n",
        "    def on_train_begin(self, logs=None):\n",
        "        self.step, self.best_loss, self.avg_loss, self.lr = 0, 0, 0, 0\n",
        "        self.lrs, self.losses = [], []\n",
        "\n",
        "    def on_train_batch_begin(self, batch, logs=None):\n",
        "        self.lr = self.exp_annealing(self.step)\n",
        "        tf.keras.backend.set_value(self.model.optimizer.lr, self.lr)\n",
        "\n",
        "    def on_train_batch_end(self, batch, logs=None):\n",
        "        logs = logs or {}\n",
        "        loss = logs.get('loss')\n",
        "        step = self.step\n",
        "        if loss:\n",
        "            self.avg_loss = self.smoothing * self.avg_loss + (1 - self.smoothing) * loss\n",
        "            smooth_loss = self.avg_loss / (1 - self.smoothing ** (self.step + 1))\n",
        "            self.losses.append(smooth_loss)\n",
        "            self.lrs.append(self.lr)\n",
        "\n",
        "            if step == 0 or loss < self.best_loss:\n",
        "                self.best_loss = loss\n",
        "\n",
        "            if smooth_loss > 4 * self.best_loss or tf.math.is_nan(smooth_loss):\n",
        "                self.model.stop_training = True\n",
        "\n",
        "        if step == self.max_steps:\n",
        "            self.model.stop_training = True\n",
        "\n",
        "        self.step += 1\n",
        "\n",
        "    def exp_annealing(self, step):\n",
        "        return self.start_lr * (self.end_lr / self.start_lr) ** (step * 1. / self.max_steps)\n",
        "\n",
        "    def plot(self):\n",
        "        fig, ax = plt.subplots(1, 1)\n",
        "        ax.set_ylabel('Loss')\n",
        "        ax.set_xlabel('Learning Rate (log scale)')\n",
        "        ax.set_xscale('log')\n",
        "        ax.xaxis.set_major_formatter(plt.FormatStrFormatter('%.0e'))\n",
        "        ax.plot(self.lrs, self.losses)"
      ]
    },
    {
      "cell_type": "code",
      "execution_count": 14,
      "metadata": {
        "id": "U43IvL_tNyyM"
      },
      "outputs": [],
      "source": [
        "def pretty_plot(history, field, fn):\n",
        "  def plot(data, val_data, best_index, best_value, title):\n",
        "    plt.plot(range(1, len(data)+1), data, label='train')\n",
        "    plt.plot(range(1, len(data)+1), val_data, label='validation')\n",
        "    if not best_index is None:\n",
        "      plt.axvline(x=best_index+1, linestyle=':', c=\"#777777\")\n",
        "    if not best_value is None:\n",
        "      plt.axhline(y=best_value, linestyle=':', c=\"#777777\")\n",
        "    plt.xlabel('Epoch')\n",
        "    plt.ylabel(field)\n",
        "    plt.xticks(range(0, len(data), 20))\n",
        "    plt.title(title)\n",
        "    plt.legend()\n",
        "    plt.show()\n",
        "\n",
        "  data = history.history[field]\n",
        "  val_data = history.history['val_' + field]\n",
        "  tail = int(0.15 * len(data))\n",
        "\n",
        "  best_index = fn(val_data)\n",
        "  best_value = val_data[best_index]\n",
        "\n",
        "  plot(data, val_data, best_index, best_value, \"{} over epochs (best {:06.4f})\".format(field, best_value))\n",
        "  plot(data[-tail:], val_data[-tail:], None, best_value, \"{} over last {} epochs\".format(field, tail))"
      ]
    },
    {
      "cell_type": "code",
      "execution_count": 15,
      "metadata": {
        "id": "s4Kyu59FN6Gr"
      },
      "outputs": [],
      "source": [
        "def plot_confusion_matrix(cm, classes,\n",
        "                          normalize=False,\n",
        "                          title='Confusion matrix',\n",
        "                          cmap=plt.cm.Blues):\n",
        "    \"\"\"\n",
        "    This function prints and plots the confusion matrix.\n",
        "    Normalization can be applied by setting `normalize=True`.\n",
        "    \"\"\"\n",
        "    plt.imshow(cm, interpolation='nearest', cmap=cmap)\n",
        "    plt.title(title)\n",
        "    plt.colorbar()\n",
        "    tick_marks = np.arange(len(classes))\n",
        "    plt.xticks(tick_marks, classes, rotation=45)\n",
        "    plt.yticks(tick_marks, classes)\n",
        "\n",
        "    if normalize:\n",
        "        cm = cm.astype('float') / cm.sum(axis=1)[:, np.newaxis]\n",
        "        print(\"Normalized confusion matrix\")\n",
        "    else:\n",
        "        print('Confusion matrix, without normalization')\n",
        "\n",
        "    print(cm)\n",
        "\n",
        "    thresh = cm.max() / 2.\n",
        "    for i, j in itertools.product(range(cm.shape[0]), range(cm.shape[1])):\n",
        "        plt.text(j, i, cm[i, j],\n",
        "                 horizontalalignment=\"center\",\n",
        "                 color=\"white\" if cm[i, j] > thresh else \"black\")\n",
        "\n",
        "    plt.tight_layout()\n",
        "    plt.ylabel('True label')\n",
        "    plt.xlabel('Predicted label')\n"
      ]
    },
    {
      "cell_type": "code",
      "execution_count": 16,
      "metadata": {
        "id": "rTx6rNMjN78J"
      },
      "outputs": [],
      "source": [
        "def get_base_model(categories=3):\n",
        "  return keras.Sequential([\n",
        "    keras.layers.Dense(10, activation='relu', input_shape=[100], kernel_regularizer=regularizers.l2(0.001)),\n",
        "    # keras.layers.Dense(25, activation='relu', kernel_regularizer=regularizers.l2(0.001)),\n",
        "    keras.layers.Dense(3, activation='relu'),\n",
        "    (keras.layers.Dense(1, activation='sigmoid') if categories == 3 else keras.layers.Dense(5, activation='softmax'))                   \n",
        "  ])"
      ]
    },
    {
      "cell_type": "code",
      "execution_count": 17,
      "metadata": {
        "colab": {
          "base_uri": "https://localhost:8080/"
        },
        "id": "YYg0O19l9Hnw",
        "outputId": "c0d3a84e-601f-499e-f7bb-d736dd169ccd"
      },
      "outputs": [
        {
          "output_type": "stream",
          "name": "stdout",
          "text": [
            "All features size (55701, 100)\n",
            "Train features size (44560, 100)\n",
            "Validation features size (5570, 100)\n",
            "Test features size (5571, 100)\n"
          ]
        }
      ],
      "source": [
        "X_arhy_train, X_arhy_val, y_arhy_train, y_arhy_val = train_test_split(full_data_with_rr.iloc[:,:-1].values, full_data_with_rr.iloc[:,-1].values, test_size=0.2, random_state=42)\n",
        "X_arhy_val, X_arhy_test, y_arhy_val, y_arhy_test  = train_test_split(X_arhy_val, y_arhy_val, test_size=0.5, random_state=42)\n",
        "\n",
        "print(\"All features size {}\".format(full_data_with_rr.iloc[:,:-1].shape))\n",
        "print(\"Train features size {}\".format(X_arhy_train.shape))\n",
        "print(\"Validation features size {}\".format(X_arhy_val.shape))\n",
        "print(\"Test features size {}\".format(X_arhy_test.shape))"
      ]
    },
    {
      "cell_type": "code",
      "execution_count": 18,
      "metadata": {
        "colab": {
          "base_uri": "https://localhost:8080/"
        },
        "id": "41kvWbD_j1ko",
        "outputId": "c0c876e0-71e3-4a30-ee11-4c99146e1fc9"
      },
      "outputs": [
        {
          "output_type": "execute_result",
          "data": {
            "text/plain": [
              "array([[-0.001     ,  0.002     ,  0.003     , ..., -0.0116    ,\n",
              "         0.0154    ,  0.0204    ],\n",
              "       [-0.02122222, -0.04022222,  0.06177778, ..., -0.09005556,\n",
              "         0.04694444,  0.01894444],\n",
              "       [ 0.00733333,  0.17433333,  0.01033333, ...,  0.0224    ,\n",
              "         0.2184    , -0.0846    ],\n",
              "       ...,\n",
              "       [-0.00107692, -0.01061538, -0.00661538, ...,  0.00625   ,\n",
              "         0.01225   ,  0.00725   ],\n",
              "       [ 0.04091667,  0.04191667,  0.04291667, ...,  0.00164706,\n",
              "        -0.00035294, -0.00035294],\n",
              "       [-0.00809091, -0.02709091,  0.00190909, ...,  0.03618182,\n",
              "         0.09918182,  0.02318182]])"
            ]
          },
          "metadata": {},
          "execution_count": 18
        }
      ],
      "source": [
        "X_arhy_train"
      ]
    },
    {
      "cell_type": "markdown",
      "metadata": {
        "id": "nbBTyKlmndxd"
      },
      "source": [
        "### ResNet Model"
      ]
    },
    {
      "cell_type": "code",
      "execution_count": 19,
      "metadata": {
        "id": "SQzWN5EGneFZ"
      },
      "outputs": [],
      "source": [
        "def get_resnet_model(categories=3): #original\n",
        "  def residual_block(X, kernels, stride):\n",
        "    out = keras.layers.Conv1D(64,kernels, stride, padding='same')(X)\n",
        "    # out = keras.layers.ReLU()(out)\n",
        "    # out = keras.layers.Conv1D(kernels, stride, padding='same')(out)\n",
        "    out = keras.layers.add([X, out])\n",
        "    out = keras.layers.ReLU()(out)\n",
        "    out = keras.layers.MaxPool1D(1, 3)(out)\n",
        "    return out\n",
        "\n",
        "  kernels = 32\n",
        "  stride = 1\n",
        "\n",
        "  inputs = keras.layers.Input([100,1])\n",
        "  X = keras.layers.Conv1D(64,kernels, stride)(inputs)\n",
        "  X = residual_block(X, kernels, stride)\n",
        "  X = residual_block(X, kernels, stride)\n",
        "  X = residual_block(X, kernels, stride)\n",
        "  X = residual_block(X, kernels, stride)\n",
        "  X = residual_block(X, kernels, stride)\n",
        "  X = keras.layers.Flatten()(X)\n",
        "  X = keras.layers.Dense(32, activation='relu')(X)\n",
        "  X = keras.layers.Dense(32, activation='relu')(X)\n",
        "  output = (keras.layers.Dense(1, activation='sigmoid')(X) if categories == 3 else keras.layers.Dense(5, activation='softmax')(X))\n",
        "\n",
        "  model = keras.Model(inputs=inputs, outputs=output)\n",
        "  return model"
      ]
    },
    {
      "cell_type": "markdown",
      "metadata": {
        "id": "gW5DGbNe3lv2"
      },
      "source": [
        "### Paper ResNet model"
      ]
    },
    {
      "cell_type": "code",
      "execution_count": null,
      "metadata": {
        "id": "skR4gl1I3g9F"
      },
      "outputs": [],
      "source": [
        "from tensorflow.keras.layers import BatchNormalization"
      ]
    },
    {
      "cell_type": "markdown",
      "metadata": {
        "id": "KGx_-dWf15Tc"
      },
      "source": [
        "Fig. 5. Network diagram. The data flow starts from the input vector with 100 detrended RR intervals. Block 1 consists of three 1D convolution layers with 64 filters each and the kernel size is 8, 5, and 3 respectively. Between each convolution layers there are batch normalization and activation layers. The residual path is provided by a 1D convolution (64 filters and a kernel size of 1) with batch normalization. Blocks 2 and 3 have the same setup, the number of filters in the convolution layers is 128. The output is established with global average pooling and a dense layer with sigmoid activation.\n"
      ]
    },
    {
      "cell_type": "code",
      "execution_count": null,
      "metadata": {
        "id": "n89CHAXCMeav"
      },
      "outputs": [],
      "source": [
        "def identity_block(x, filter):\n",
        "    # copy tensor to variable called x_skip\n",
        "    x_skip = x\n",
        "    # Layer 1\n",
        "    x = tf.keras.layers.Conv1D(filter, (3,3), padding = 'same')(x)\n",
        "    x = tf.keras.layers.BatchNormalization(axis=3)(x)\n",
        "    x = tf.keras.layers.Activation('relu')(x)\n",
        "    # Layer 2\n",
        "    x = tf.keras.layers.Conv2D(filter, (3,3), padding = 'same')(x)\n",
        "    x = tf.keras.layers.BatchNormalization(axis=3)(x)\n",
        "    # Add Residue\n",
        "    x = tf.keras.layers.Add()([x, x_skip])     \n",
        "    x = tf.keras.layers.Activation('relu')(x)\n",
        "    return x"
      ]
    },
    {
      "cell_type": "code",
      "execution_count": null,
      "metadata": {
        "id": "OXQ4jrUUNsqh"
      },
      "outputs": [],
      "source": [
        "def convolutional_block(x, filter):\n",
        "    # copy tensor to variable called x_skip\n",
        "    x_skip = x\n",
        "    # Layer 1\n",
        "    x = tf.keras.layers.Conv2D(filter, (3,3), padding = 'same', strides = (2,2))(x)\n",
        "    x = tf.keras.layers.BatchNormalization(axis=3)(x)\n",
        "    x = tf.keras.layers.Activation('relu')(x)\n",
        "    # Layer 2\n",
        "    x = tf.keras.layers.Conv2D(filter, (3,3), padding = 'same')(x)\n",
        "    x = tf.keras.layers.BatchNormalization(axis=3)(x)\n",
        "    # Processing Residue with conv(1,1)\n",
        "    x_skip = tf.keras.layers.Conv2D(filter, (1,1), strides = (2,2))(x_skip)\n",
        "    # Add Residue\n",
        "    x = tf.keras.layers.Add()([x, x_skip])     \n",
        "    x = tf.keras.layers.Activation('relu')(x)\n",
        "    return x"
      ]
    },
    {
      "cell_type": "code",
      "execution_count": null,
      "metadata": {
        "id": "nRn5WewXNvDa"
      },
      "outputs": [],
      "source": [
        "def ResNet34(shape = (32, 32, 3), classes = 10):\n",
        "    # Step 1 (Setup Input Layer)\n",
        "    x_input = tf.keras.layers.Input(shape)\n",
        "    x = tf.keras.layers.ZeroPadding2D((3, 3))(x_input)\n",
        "    # Step 2 (Initial Conv layer along with maxPool)\n",
        "    x = tf.keras.layers.Conv2D(64, kernel_size=7, strides=2, padding='same')(x)\n",
        "    x = tf.keras.layers.BatchNormalization()(x)\n",
        "    x = tf.keras.layers.Activation('relu')(x)\n",
        "    x = tf.keras.layers.MaxPool2D(pool_size=3, strides=2, padding='same')(x)\n",
        "    # Define size of sub-blocks and initial filter size\n",
        "    block_layers = [3, 4, 6, 3]\n",
        "    filter_size = 64\n",
        "    # Step 3 Add the Resnet Blocks\n",
        "    for i in range(4):\n",
        "        if i == 0:\n",
        "            # For sub-block 1 Residual/Convolutional block not needed\n",
        "            for j in range(block_layers[i]):\n",
        "                x = identity_block(x, filter_size)\n",
        "        else:\n",
        "            # One Residual/Convolutional Block followed by Identity blocks\n",
        "            # The filter size will go on increasing by a factor of 2\n",
        "            filter_size = filter_size*2\n",
        "            x = convolutional_block(x, filter_size)\n",
        "            for j in range(block_layers[i] - 1):\n",
        "                x = identity_block(x, filter_size)\n",
        "    # Step 4 End Dense Network\n",
        "    x = tf.keras.layers.AveragePooling2D((2,2), padding = 'same')(x)\n",
        "    x = tf.keras.layers.Flatten()(x)\n",
        "    x = tf.keras.layers.Dense(512, activation = 'relu')(x)\n",
        "    x = tf.keras.layers.Dense(classes, activation = 'softmax')(x)\n",
        "    model = tf.keras.models.Model(inputs = x_input, outputs = x, name = \"ResNet34\")\n",
        "    return model"
      ]
    },
    {
      "cell_type": "code",
      "execution_count": null,
      "metadata": {
        "id": "vYS5zpDk1nVs"
      },
      "outputs": [],
      "source": [
        "def get_resnet_model(categories=3):\n",
        "  def residual_block(X, kernels=1, stride=1):\n",
        "    out = keras.layers.Conv1D(64,kernels, stride, padding='same')(X)\n",
        "    X = BatchNormalization()(X)\n",
        "    out = keras.layers.ReLU()(out)\n",
        "    \n",
        "    out = keras.layers.add([X, out])\n",
        "    out = keras.layers.ReLU()(out)\n",
        "    out = keras.layers.MaxPool1D(1, 3)(out)\n",
        "    return out\n",
        "\n",
        "  kernels = 32\n",
        "  stride = 1\n",
        "\n",
        "  inputs = keras.layers.Input([100,1])\n",
        "  X = keras.layers.Conv1D(64,8, stride)(inputs)\n",
        "  X = BatchNormalization()(X)\n",
        "  X = keras.layers.ReLU()(X)\n",
        "\n",
        "  X = keras.layers.Conv1D(64,5, stride)\n",
        "  X = BatchNormalization()(X)\n",
        "  X = keras.layers.ReLU()(X)\n",
        "  X = keras.layers.Conv1D(64,3, stride)\n",
        "  X = BatchNormalization()(X)\n",
        "  X = keras.layers.ReLU()(X)\n",
        "\n",
        "  \n",
        "  X = residual_block(X, kernels, stride)\n",
        "  X = residual_block(X, kernels, stride)\n",
        "  X = residual_block(X, kernels, stride)\n",
        "  X = residual_block(X, kernels, stride)\n",
        "  X = keras.layers.Flatten()(X)\n",
        "  X = keras.layers.Dense(32, activation='relu')(X)\n",
        "  X = keras.layers.Dense(32, activation='relu')(X)\n",
        "  output = (keras.layers.Dense(1, activation='sigmoid')(X) if categories == 3 else keras.layers.Dense(5, activation='softmax')(X))\n",
        "\n",
        "  model = keras.Model(inputs=inputs, outputs=output)\n",
        "  return model"
      ]
    },
    {
      "cell_type": "code",
      "execution_count": null,
      "metadata": {
        "id": "FAs1dUSknisj"
      },
      "outputs": [],
      "source": [
        "X_arhyl_train = np.expand_dims(X_arhy_train, -1)\n",
        "y_arhyl_train = np.expand_dims(y_arhy_train, -1)\n",
        "\n",
        "X_arhyl_val = np.expand_dims(X_arhy_val, -1)\n",
        "y_arhyl_val = np.expand_dims(y_arhy_val, -1)\n",
        "\n",
        "X_arhyl_test = np.expand_dims(X_arhy_test, -1)\n",
        "y_arhyl_test = np.expand_dims(y_arhy_test, -1)"
      ]
    },
    {
      "cell_type": "code",
      "execution_count": null,
      "metadata": {
        "colab": {
          "base_uri": "https://localhost:8080/"
        },
        "id": "PsN1zSCgNNfe",
        "outputId": "83a62b27-7492-48c2-e5dd-d3be7f62bf79"
      },
      "outputs": [
        {
          "data": {
            "text/plain": [
              "(44560, 100, 1)"
            ]
          },
          "execution_count": 34,
          "metadata": {},
          "output_type": "execute_result"
        }
      ],
      "source": [
        "X_arhyl_train.shape"
      ]
    },
    {
      "cell_type": "code",
      "execution_count": null,
      "metadata": {
        "colab": {
          "base_uri": "https://localhost:8080/",
          "height": 338
        },
        "id": "8F2yvITbnmnJ",
        "outputId": "58204861-0d59-4dc8-97c8-906065b6083c"
      },
      "outputs": [
        {
          "name": "stderr",
          "output_type": "stream",
          "text": [
            "/usr/local/lib/python3.7/dist-packages/keras/optimizer_v2/adam.py:105: UserWarning: The `lr` argument is deprecated, use `learning_rate` instead.\n",
            "  super(Adam, self).__init__(name, **kwargs)\n"
          ]
        },
        {
          "data": {
            "image/png": "[encoded data removed]",
            "text/plain": [
              "<Figure size 936x288 with 1 Axes>"
            ]
          },
          "metadata": {},
          "output_type": "display_data"
        }
      ],
      "source": [
        "optimizer = tf.keras.optimizers.Adam(lr=0.001)\n",
        "model = get_resnet_model() \n",
        "model.compile(optimizer=optimizer, loss='binary_crossentropy', metrics=['accuracy'])\n",
        "\n",
        "lr_finder = LRFinder(start_lr=1e-7, end_lr= 1e-03, max_steps=100, smoothing=0.6)\n",
        "_ = model.fit(X_arhyl_train, y_arhyl_train, batch_size=256, epochs=5, callbacks=[lr_finder], verbose=False)\n",
        "lr_finder.plot()"
      ]
    },
    {
      "cell_type": "code",
      "execution_count": null,
      "metadata": {
        "colab": {
          "base_uri": "https://localhost:8080/"
        },
        "id": "742MC97z8CHL",
        "outputId": "5ca66db2-1322-4b79-9664-7793eb1a8203"
      },
      "outputs": [
        {
          "name": "stdout",
          "output_type": "stream",
          "text": [
            "tensorflow                    2.8.0\n",
            "tensorflow-addons             0.16.1\n",
            "tensorflow-datasets           4.0.1\n",
            "tensorflow-estimator          2.8.0\n",
            "tensorflow-gcs-config         2.8.0\n",
            "tensorflow-hub                0.12.0\n",
            "tensorflow-io-gcs-filesystem  0.24.0\n",
            "tensorflow-metadata           1.7.0\n",
            "tensorflow-probability        0.16.0\n"
          ]
        }
      ],
      "source": [
        "pip list | grep tensorflow"
      ]
    },
    {
      "cell_type": "code",
      "execution_count": null,
      "metadata": {
        "colab": {
          "base_uri": "https://localhost:8080/",
          "height": 802
        },
        "id": "9p4LEpRMogn_",
        "outputId": "69a4c8e2-eb06-4ca6-b710-5573d05e46c5"
      },
      "outputs": [
        {
          "name": "stdout",
          "output_type": "stream",
          "text": [
            "Epoch 1/20\n",
            "349/349 [==============================] - 14s 36ms/step - loss: -58.9506 - accuracy: 0.3303 - val_loss: -3574.1577 - val_accuracy: 0.3354\n",
            "Epoch 2/20\n",
            "349/349 [==============================] - 12s 34ms/step - loss: -89433516802048.0000 - accuracy: 0.3331 - val_loss: -1887354524532736.0000 - val_accuracy: 0.3354\n",
            "Epoch 3/20\n",
            "349/349 [==============================] - 12s 34ms/step - loss: -2083359167795429376.0000 - accuracy: 0.3331 - val_loss: -10383241355437539328.0000 - val_accuracy: 0.3354\n",
            "Epoch 4/20\n",
            "349/349 [==============================] - 12s 35ms/step - loss: -29219299406798389248.0000 - accuracy: 0.3331 - val_loss: -43202120829737369600.0000 - val_accuracy: 0.3354\n",
            "Epoch 5/20\n",
            "349/349 [==============================] - 12s 33ms/step - loss: nan - accuracy: 0.3326 - val_loss: nan - val_accuracy: 0.3289\n",
            "Epoch 6/20\n",
            "349/349 [==============================] - 13s 37ms/step - loss: nan - accuracy: 0.3339 - val_loss: nan - val_accuracy: 0.3289\n",
            "Epoch 7/20\n",
            "349/349 [==============================] - 13s 36ms/step - loss: nan - accuracy: 0.3339 - val_loss: nan - val_accuracy: 0.3289\n",
            "Epoch 8/20\n",
            "349/349 [==============================] - 12s 34ms/step - loss: nan - accuracy: 0.3339 - val_loss: nan - val_accuracy: 0.3289\n",
            "Epoch 9/20\n",
            "349/349 [==============================] - 14s 39ms/step - loss: nan - accuracy: 0.3339 - val_loss: nan - val_accuracy: 0.3289\n",
            "Epoch 10/20\n",
            "349/349 [==============================] - 13s 36ms/step - loss: nan - accuracy: 0.3339 - val_loss: nan - val_accuracy: 0.3289\n",
            "Epoch 11/20\n",
            "349/349 [==============================] - 14s 41ms/step - loss: nan - accuracy: 0.3339 - val_loss: nan - val_accuracy: 0.3289\n",
            "Epoch 12/20\n",
            " 64/349 [====>.........................] - ETA: 18s - loss: nan - accuracy: 0.3322"
          ]
        },
        {
          "ename": "KeyboardInterrupt",
          "evalue": "ignored",
          "output_type": "error",
          "traceback": [
            "\u001b[0;31m---------------------------------------------------------------------------\u001b[0m",
            "\u001b[0;31mKeyboardInterrupt\u001b[0m                         Traceback (most recent call last)",
            "\u001b[0;32m<ipython-input-38-90c1dfb82c1d>\u001b[0m in \u001b[0;36m<module>\u001b[0;34m()\u001b[0m\n\u001b[1;32m     13\u001b[0m \u001b[0mresnet_model\u001b[0m\u001b[0;34m.\u001b[0m\u001b[0mcompile\u001b[0m\u001b[0;34m(\u001b[0m\u001b[0moptimizer\u001b[0m\u001b[0;34m=\u001b[0m\u001b[0moptimizer\u001b[0m\u001b[0;34m,\u001b[0m \u001b[0mloss\u001b[0m\u001b[0;34m=\u001b[0m\u001b[0;34m'binary_crossentropy'\u001b[0m\u001b[0;34m,\u001b[0m \u001b[0mmetrics\u001b[0m\u001b[0;34m=\u001b[0m\u001b[0;34m[\u001b[0m\u001b[0;34m'accuracy'\u001b[0m\u001b[0;34m]\u001b[0m\u001b[0;34m)\u001b[0m\u001b[0;34m\u001b[0m\u001b[0;34m\u001b[0m\u001b[0m\n\u001b[1;32m     14\u001b[0m history = resnet_model.fit(X_arhyl_train, y_arhyl_train, validation_data=(X_arhyl_val, y_arhyl_val), \n\u001b[0;32m---> 15\u001b[0;31m                            shuffle=True, batch_size=batch_size, epochs=20, callbacks=[save_best_weights])\n\u001b[0m",
            "\u001b[0;32m/usr/local/lib/python3.7/dist-packages/keras/utils/traceback_utils.py\u001b[0m in \u001b[0;36merror_handler\u001b[0;34m(*args, **kwargs)\u001b[0m\n\u001b[1;32m     62\u001b[0m     \u001b[0mfiltered_tb\u001b[0m \u001b[0;34m=\u001b[0m \u001b[0;32mNone\u001b[0m\u001b[0;34m\u001b[0m\u001b[0;34m\u001b[0m\u001b[0m\n\u001b[1;32m     63\u001b[0m     \u001b[0;32mtry\u001b[0m\u001b[0;34m:\u001b[0m\u001b[0;34m\u001b[0m\u001b[0;34m\u001b[0m\u001b[0m\n\u001b[0;32m---> 64\u001b[0;31m       \u001b[0;32mreturn\u001b[0m \u001b[0mfn\u001b[0m\u001b[0;34m(\u001b[0m\u001b[0;34m*\u001b[0m\u001b[0margs\u001b[0m\u001b[0;34m,\u001b[0m \u001b[0;34m**\u001b[0m\u001b[0mkwargs\u001b[0m\u001b[0;34m)\u001b[0m\u001b[0;34m\u001b[0m\u001b[0;34m\u001b[0m\u001b[0m\n\u001b[0m\u001b[1;32m     65\u001b[0m     \u001b[0;32mexcept\u001b[0m \u001b[0mException\u001b[0m \u001b[0;32mas\u001b[0m \u001b[0me\u001b[0m\u001b[0;34m:\u001b[0m  \u001b[0;31m# pylint: disable=broad-except\u001b[0m\u001b[0;34m\u001b[0m\u001b[0;34m\u001b[0m\u001b[0m\n\u001b[1;32m     66\u001b[0m       \u001b[0mfiltered_tb\u001b[0m \u001b[0;34m=\u001b[0m \u001b[0m_process_traceback_frames\u001b[0m\u001b[0;34m(\u001b[0m\u001b[0me\u001b[0m\u001b[0;34m.\u001b[0m\u001b[0m__traceback__\u001b[0m\u001b[0;34m)\u001b[0m\u001b[0;34m\u001b[0m\u001b[0;34m\u001b[0m\u001b[0m\n",
            "\u001b[0;32m/usr/local/lib/python3.7/dist-packages/keras/engine/training.py\u001b[0m in \u001b[0;36mfit\u001b[0;34m(self, x, y, batch_size, epochs, verbose, callbacks, validation_split, validation_data, shuffle, class_weight, sample_weight, initial_epoch, steps_per_epoch, validation_steps, validation_batch_size, validation_freq, max_queue_size, workers, use_multiprocessing)\u001b[0m\n\u001b[1;32m   1387\u001b[0m               \u001b[0mlogs\u001b[0m \u001b[0;34m=\u001b[0m \u001b[0mtmp_logs\u001b[0m  \u001b[0;31m# No error, now safe to assign to logs.\u001b[0m\u001b[0;34m\u001b[0m\u001b[0;34m\u001b[0m\u001b[0m\n\u001b[1;32m   1388\u001b[0m               \u001b[0mend_step\u001b[0m \u001b[0;34m=\u001b[0m \u001b[0mstep\u001b[0m \u001b[0;34m+\u001b[0m \u001b[0mdata_handler\u001b[0m\u001b[0;34m.\u001b[0m\u001b[0mstep_increment\u001b[0m\u001b[0;34m\u001b[0m\u001b[0;34m\u001b[0m\u001b[0m\n\u001b[0;32m-> 1389\u001b[0;31m               \u001b[0mcallbacks\u001b[0m\u001b[0;34m.\u001b[0m\u001b[0mon_train_batch_end\u001b[0m\u001b[0;34m(\u001b[0m\u001b[0mend_step\u001b[0m\u001b[0;34m,\u001b[0m \u001b[0mlogs\u001b[0m\u001b[0;34m)\u001b[0m\u001b[0;34m\u001b[0m\u001b[0;34m\u001b[0m\u001b[0m\n\u001b[0m\u001b[1;32m   1390\u001b[0m               \u001b[0;32mif\u001b[0m \u001b[0mself\u001b[0m\u001b[0;34m.\u001b[0m\u001b[0mstop_training\u001b[0m\u001b[0;34m:\u001b[0m\u001b[0;34m\u001b[0m\u001b[0;34m\u001b[0m\u001b[0m\n\u001b[1;32m   1391\u001b[0m                 \u001b[0;32mbreak\u001b[0m\u001b[0;34m\u001b[0m\u001b[0;34m\u001b[0m\u001b[0m\n",
            "\u001b[0;32m/usr/local/lib/python3.7/dist-packages/keras/callbacks.py\u001b[0m in \u001b[0;36mon_train_batch_end\u001b[0;34m(self, batch, logs)\u001b[0m\n\u001b[1;32m    436\u001b[0m     \"\"\"\n\u001b[1;32m    437\u001b[0m     \u001b[0;32mif\u001b[0m \u001b[0mself\u001b[0m\u001b[0;34m.\u001b[0m\u001b[0m_should_call_train_batch_hooks\u001b[0m\u001b[0;34m:\u001b[0m\u001b[0;34m\u001b[0m\u001b[0;34m\u001b[0m\u001b[0m\n\u001b[0;32m--> 438\u001b[0;31m       \u001b[0mself\u001b[0m\u001b[0;34m.\u001b[0m\u001b[0m_call_batch_hook\u001b[0m\u001b[0;34m(\u001b[0m\u001b[0mModeKeys\u001b[0m\u001b[0;34m.\u001b[0m\u001b[0mTRAIN\u001b[0m\u001b[0;34m,\u001b[0m \u001b[0;34m'end'\u001b[0m\u001b[0;34m,\u001b[0m \u001b[0mbatch\u001b[0m\u001b[0;34m,\u001b[0m \u001b[0mlogs\u001b[0m\u001b[0;34m=\u001b[0m\u001b[0mlogs\u001b[0m\u001b[0;34m)\u001b[0m\u001b[0;34m\u001b[0m\u001b[0;34m\u001b[0m\u001b[0m\n\u001b[0m\u001b[1;32m    439\u001b[0m \u001b[0;34m\u001b[0m\u001b[0m\n\u001b[1;32m    440\u001b[0m   \u001b[0;32mdef\u001b[0m \u001b[0mon_test_batch_begin\u001b[0m\u001b[0;34m(\u001b[0m\u001b[0mself\u001b[0m\u001b[0;34m,\u001b[0m \u001b[0mbatch\u001b[0m\u001b[0;34m,\u001b[0m \u001b[0mlogs\u001b[0m\u001b[0;34m=\u001b[0m\u001b[0;32mNone\u001b[0m\u001b[0;34m)\u001b[0m\u001b[0;34m:\u001b[0m\u001b[0;34m\u001b[0m\u001b[0;34m\u001b[0m\u001b[0m\n",
            "\u001b[0;32m/usr/local/lib/python3.7/dist-packages/keras/callbacks.py\u001b[0m in \u001b[0;36m_call_batch_hook\u001b[0;34m(self, mode, hook, batch, logs)\u001b[0m\n\u001b[1;32m    295\u001b[0m       \u001b[0mself\u001b[0m\u001b[0;34m.\u001b[0m\u001b[0m_call_batch_begin_hook\u001b[0m\u001b[0;34m(\u001b[0m\u001b[0mmode\u001b[0m\u001b[0;34m,\u001b[0m \u001b[0mbatch\u001b[0m\u001b[0;34m,\u001b[0m \u001b[0mlogs\u001b[0m\u001b[0;34m)\u001b[0m\u001b[0;34m\u001b[0m\u001b[0;34m\u001b[0m\u001b[0m\n\u001b[1;32m    296\u001b[0m     \u001b[0;32melif\u001b[0m \u001b[0mhook\u001b[0m \u001b[0;34m==\u001b[0m \u001b[0;34m'end'\u001b[0m\u001b[0;34m:\u001b[0m\u001b[0;34m\u001b[0m\u001b[0;34m\u001b[0m\u001b[0m\n\u001b[0;32m--> 297\u001b[0;31m       \u001b[0mself\u001b[0m\u001b[0;34m.\u001b[0m\u001b[0m_call_batch_end_hook\u001b[0m\u001b[0;34m(\u001b[0m\u001b[0mmode\u001b[0m\u001b[0;34m,\u001b[0m \u001b[0mbatch\u001b[0m\u001b[0;34m,\u001b[0m \u001b[0mlogs\u001b[0m\u001b[0;34m)\u001b[0m\u001b[0;34m\u001b[0m\u001b[0;34m\u001b[0m\u001b[0m\n\u001b[0m\u001b[1;32m    298\u001b[0m     \u001b[0;32melse\u001b[0m\u001b[0;34m:\u001b[0m\u001b[0;34m\u001b[0m\u001b[0;34m\u001b[0m\u001b[0m\n\u001b[1;32m    299\u001b[0m       raise ValueError(\n",
            "\u001b[0;32m/usr/local/lib/python3.7/dist-packages/keras/callbacks.py\u001b[0m in \u001b[0;36m_call_batch_end_hook\u001b[0;34m(self, mode, batch, logs)\u001b[0m\n\u001b[1;32m    316\u001b[0m       \u001b[0mself\u001b[0m\u001b[0;34m.\u001b[0m\u001b[0m_batch_times\u001b[0m\u001b[0;34m.\u001b[0m\u001b[0mappend\u001b[0m\u001b[0;34m(\u001b[0m\u001b[0mbatch_time\u001b[0m\u001b[0;34m)\u001b[0m\u001b[0;34m\u001b[0m\u001b[0;34m\u001b[0m\u001b[0m\n\u001b[1;32m    317\u001b[0m \u001b[0;34m\u001b[0m\u001b[0m\n\u001b[0;32m--> 318\u001b[0;31m     \u001b[0mself\u001b[0m\u001b[0;34m.\u001b[0m\u001b[0m_call_batch_hook_helper\u001b[0m\u001b[0;34m(\u001b[0m\u001b[0mhook_name\u001b[0m\u001b[0;34m,\u001b[0m \u001b[0mbatch\u001b[0m\u001b[0;34m,\u001b[0m \u001b[0mlogs\u001b[0m\u001b[0;34m)\u001b[0m\u001b[0;34m\u001b[0m\u001b[0;34m\u001b[0m\u001b[0m\n\u001b[0m\u001b[1;32m    319\u001b[0m \u001b[0;34m\u001b[0m\u001b[0m\n\u001b[1;32m    320\u001b[0m     \u001b[0;32mif\u001b[0m \u001b[0mlen\u001b[0m\u001b[0;34m(\u001b[0m\u001b[0mself\u001b[0m\u001b[0;34m.\u001b[0m\u001b[0m_batch_times\u001b[0m\u001b[0;34m)\u001b[0m \u001b[0;34m>=\u001b[0m \u001b[0mself\u001b[0m\u001b[0;34m.\u001b[0m\u001b[0m_num_batches_for_timing_check\u001b[0m\u001b[0;34m:\u001b[0m\u001b[0;34m\u001b[0m\u001b[0;34m\u001b[0m\u001b[0m\n",
            "\u001b[0;32m/usr/local/lib/python3.7/dist-packages/keras/callbacks.py\u001b[0m in \u001b[0;36m_call_batch_hook_helper\u001b[0;34m(self, hook_name, batch, logs)\u001b[0m\n\u001b[1;32m    354\u001b[0m     \u001b[0;32mfor\u001b[0m \u001b[0mcallback\u001b[0m \u001b[0;32min\u001b[0m \u001b[0mself\u001b[0m\u001b[0;34m.\u001b[0m\u001b[0mcallbacks\u001b[0m\u001b[0;34m:\u001b[0m\u001b[0;34m\u001b[0m\u001b[0;34m\u001b[0m\u001b[0m\n\u001b[1;32m    355\u001b[0m       \u001b[0mhook\u001b[0m \u001b[0;34m=\u001b[0m \u001b[0mgetattr\u001b[0m\u001b[0;34m(\u001b[0m\u001b[0mcallback\u001b[0m\u001b[0;34m,\u001b[0m \u001b[0mhook_name\u001b[0m\u001b[0;34m)\u001b[0m\u001b[0;34m\u001b[0m\u001b[0;34m\u001b[0m\u001b[0m\n\u001b[0;32m--> 356\u001b[0;31m       \u001b[0mhook\u001b[0m\u001b[0;34m(\u001b[0m\u001b[0mbatch\u001b[0m\u001b[0;34m,\u001b[0m \u001b[0mlogs\u001b[0m\u001b[0;34m)\u001b[0m\u001b[0;34m\u001b[0m\u001b[0;34m\u001b[0m\u001b[0m\n\u001b[0m\u001b[1;32m    357\u001b[0m \u001b[0;34m\u001b[0m\u001b[0m\n\u001b[1;32m    358\u001b[0m     \u001b[0;32mif\u001b[0m \u001b[0mself\u001b[0m\u001b[0;34m.\u001b[0m\u001b[0m_check_timing\u001b[0m\u001b[0;34m:\u001b[0m\u001b[0;34m\u001b[0m\u001b[0;34m\u001b[0m\u001b[0m\n",
            "\u001b[0;32m/usr/local/lib/python3.7/dist-packages/keras/callbacks.py\u001b[0m in \u001b[0;36mon_train_batch_end\u001b[0;34m(self, batch, logs)\u001b[0m\n\u001b[1;32m   1032\u001b[0m \u001b[0;34m\u001b[0m\u001b[0m\n\u001b[1;32m   1033\u001b[0m   \u001b[0;32mdef\u001b[0m \u001b[0mon_train_batch_end\u001b[0m\u001b[0;34m(\u001b[0m\u001b[0mself\u001b[0m\u001b[0;34m,\u001b[0m \u001b[0mbatch\u001b[0m\u001b[0;34m,\u001b[0m \u001b[0mlogs\u001b[0m\u001b[0;34m=\u001b[0m\u001b[0;32mNone\u001b[0m\u001b[0;34m)\u001b[0m\u001b[0;34m:\u001b[0m\u001b[0;34m\u001b[0m\u001b[0;34m\u001b[0m\u001b[0m\n\u001b[0;32m-> 1034\u001b[0;31m     \u001b[0mself\u001b[0m\u001b[0;34m.\u001b[0m\u001b[0m_batch_update_progbar\u001b[0m\u001b[0;34m(\u001b[0m\u001b[0mbatch\u001b[0m\u001b[0;34m,\u001b[0m \u001b[0mlogs\u001b[0m\u001b[0;34m)\u001b[0m\u001b[0;34m\u001b[0m\u001b[0;34m\u001b[0m\u001b[0m\n\u001b[0m\u001b[1;32m   1035\u001b[0m \u001b[0;34m\u001b[0m\u001b[0m\n\u001b[1;32m   1036\u001b[0m   \u001b[0;32mdef\u001b[0m \u001b[0mon_test_batch_end\u001b[0m\u001b[0;34m(\u001b[0m\u001b[0mself\u001b[0m\u001b[0;34m,\u001b[0m \u001b[0mbatch\u001b[0m\u001b[0;34m,\u001b[0m \u001b[0mlogs\u001b[0m\u001b[0;34m=\u001b[0m\u001b[0;32mNone\u001b[0m\u001b[0;34m)\u001b[0m\u001b[0;34m:\u001b[0m\u001b[0;34m\u001b[0m\u001b[0;34m\u001b[0m\u001b[0m\n",
            "\u001b[0;32m/usr/local/lib/python3.7/dist-packages/keras/callbacks.py\u001b[0m in \u001b[0;36m_batch_update_progbar\u001b[0;34m(self, batch, logs)\u001b[0m\n\u001b[1;32m   1105\u001b[0m       \u001b[0;31m# Only block async when verbose = 1.\u001b[0m\u001b[0;34m\u001b[0m\u001b[0;34m\u001b[0m\u001b[0;34m\u001b[0m\u001b[0m\n\u001b[1;32m   1106\u001b[0m       \u001b[0mlogs\u001b[0m \u001b[0;34m=\u001b[0m \u001b[0mtf_utils\u001b[0m\u001b[0;34m.\u001b[0m\u001b[0msync_to_numpy_or_python_type\u001b[0m\u001b[0;34m(\u001b[0m\u001b[0mlogs\u001b[0m\u001b[0;34m)\u001b[0m\u001b[0;34m\u001b[0m\u001b[0;34m\u001b[0m\u001b[0m\n\u001b[0;32m-> 1107\u001b[0;31m       \u001b[0mself\u001b[0m\u001b[0;34m.\u001b[0m\u001b[0mprogbar\u001b[0m\u001b[0;34m.\u001b[0m\u001b[0mupdate\u001b[0m\u001b[0;34m(\u001b[0m\u001b[0mself\u001b[0m\u001b[0;34m.\u001b[0m\u001b[0mseen\u001b[0m\u001b[0;34m,\u001b[0m \u001b[0mlist\u001b[0m\u001b[0;34m(\u001b[0m\u001b[0mlogs\u001b[0m\u001b[0;34m.\u001b[0m\u001b[0mitems\u001b[0m\u001b[0;34m(\u001b[0m\u001b[0;34m)\u001b[0m\u001b[0;34m)\u001b[0m\u001b[0;34m,\u001b[0m \u001b[0mfinalize\u001b[0m\u001b[0;34m=\u001b[0m\u001b[0;32mFalse\u001b[0m\u001b[0;34m)\u001b[0m\u001b[0;34m\u001b[0m\u001b[0;34m\u001b[0m\u001b[0m\n\u001b[0m\u001b[1;32m   1108\u001b[0m \u001b[0;34m\u001b[0m\u001b[0m\n\u001b[1;32m   1109\u001b[0m   \u001b[0;32mdef\u001b[0m \u001b[0m_finalize_progbar\u001b[0m\u001b[0;34m(\u001b[0m\u001b[0mself\u001b[0m\u001b[0;34m,\u001b[0m \u001b[0mlogs\u001b[0m\u001b[0;34m,\u001b[0m \u001b[0mcounter\u001b[0m\u001b[0;34m)\u001b[0m\u001b[0;34m:\u001b[0m\u001b[0;34m\u001b[0m\u001b[0;34m\u001b[0m\u001b[0m\n",
            "\u001b[0;32m/usr/local/lib/python3.7/dist-packages/keras/utils/generic_utils.py\u001b[0m in \u001b[0;36mupdate\u001b[0;34m(self, current, values, finalize)\u001b[0m\n\u001b[1;32m    974\u001b[0m \u001b[0;34m\u001b[0m\u001b[0m\n\u001b[1;32m    975\u001b[0m       \u001b[0mmessage\u001b[0m \u001b[0;34m+=\u001b[0m \u001b[0minfo\u001b[0m\u001b[0;34m\u001b[0m\u001b[0;34m\u001b[0m\u001b[0m\n\u001b[0;32m--> 976\u001b[0;31m       \u001b[0mio_utils\u001b[0m\u001b[0;34m.\u001b[0m\u001b[0mprint_msg\u001b[0m\u001b[0;34m(\u001b[0m\u001b[0mmessage\u001b[0m\u001b[0;34m,\u001b[0m \u001b[0mline_break\u001b[0m\u001b[0;34m=\u001b[0m\u001b[0;32mFalse\u001b[0m\u001b[0;34m)\u001b[0m\u001b[0;34m\u001b[0m\u001b[0;34m\u001b[0m\u001b[0m\n\u001b[0m\u001b[1;32m    977\u001b[0m       \u001b[0mmessage\u001b[0m \u001b[0;34m=\u001b[0m \u001b[0;34m''\u001b[0m\u001b[0;34m\u001b[0m\u001b[0;34m\u001b[0m\u001b[0m\n\u001b[1;32m    978\u001b[0m \u001b[0;34m\u001b[0m\u001b[0m\n",
            "\u001b[0;32m/usr/local/lib/python3.7/dist-packages/keras/utils/io_utils.py\u001b[0m in \u001b[0;36mprint_msg\u001b[0;34m(message, line_break)\u001b[0m\n\u001b[1;32m     36\u001b[0m     \u001b[0;32melse\u001b[0m\u001b[0;34m:\u001b[0m\u001b[0;34m\u001b[0m\u001b[0;34m\u001b[0m\u001b[0m\n\u001b[1;32m     37\u001b[0m       \u001b[0msys\u001b[0m\u001b[0;34m.\u001b[0m\u001b[0mstdout\u001b[0m\u001b[0;34m.\u001b[0m\u001b[0mwrite\u001b[0m\u001b[0;34m(\u001b[0m\u001b[0mmessage\u001b[0m\u001b[0;34m)\u001b[0m\u001b[0;34m\u001b[0m\u001b[0;34m\u001b[0m\u001b[0m\n\u001b[0;32m---> 38\u001b[0;31m     \u001b[0msys\u001b[0m\u001b[0;34m.\u001b[0m\u001b[0mstdout\u001b[0m\u001b[0;34m.\u001b[0m\u001b[0mflush\u001b[0m\u001b[0;34m(\u001b[0m\u001b[0;34m)\u001b[0m\u001b[0;34m\u001b[0m\u001b[0;34m\u001b[0m\u001b[0m\n\u001b[0m\u001b[1;32m     39\u001b[0m \u001b[0;34m\u001b[0m\u001b[0m\n\u001b[1;32m     40\u001b[0m \u001b[0;34m\u001b[0m\u001b[0m\n",
            "\u001b[0;32m/usr/local/lib/python3.7/dist-packages/ipykernel/iostream.py\u001b[0m in \u001b[0;36mflush\u001b[0;34m(self)\u001b[0m\n\u001b[1;32m    347\u001b[0m                 \u001b[0mself\u001b[0m\u001b[0;34m.\u001b[0m\u001b[0mpub_thread\u001b[0m\u001b[0;34m.\u001b[0m\u001b[0mschedule\u001b[0m\u001b[0;34m(\u001b[0m\u001b[0mevt\u001b[0m\u001b[0;34m.\u001b[0m\u001b[0mset\u001b[0m\u001b[0;34m)\u001b[0m\u001b[0;34m\u001b[0m\u001b[0;34m\u001b[0m\u001b[0m\n\u001b[1;32m    348\u001b[0m                 \u001b[0;31m# and give a timeout to avoid\u001b[0m\u001b[0;34m\u001b[0m\u001b[0;34m\u001b[0m\u001b[0;34m\u001b[0m\u001b[0m\n\u001b[0;32m--> 349\u001b[0;31m                 \u001b[0;32mif\u001b[0m \u001b[0;32mnot\u001b[0m \u001b[0mevt\u001b[0m\u001b[0;34m.\u001b[0m\u001b[0mwait\u001b[0m\u001b[0;34m(\u001b[0m\u001b[0mself\u001b[0m\u001b[0;34m.\u001b[0m\u001b[0mflush_timeout\u001b[0m\u001b[0;34m)\u001b[0m\u001b[0;34m:\u001b[0m\u001b[0;34m\u001b[0m\u001b[0;34m\u001b[0m\u001b[0m\n\u001b[0m\u001b[1;32m    350\u001b[0m                     \u001b[0;31m# write directly to __stderr__ instead of warning because\u001b[0m\u001b[0;34m\u001b[0m\u001b[0;34m\u001b[0m\u001b[0;34m\u001b[0m\u001b[0m\n\u001b[1;32m    351\u001b[0m                     \u001b[0;31m# if this is happening sys.stderr may be the problem.\u001b[0m\u001b[0;34m\u001b[0m\u001b[0;34m\u001b[0m\u001b[0;34m\u001b[0m\u001b[0m\n",
            "\u001b[0;32m/usr/lib/python3.7/threading.py\u001b[0m in \u001b[0;36mwait\u001b[0;34m(self, timeout)\u001b[0m\n\u001b[1;32m    550\u001b[0m             \u001b[0msignaled\u001b[0m \u001b[0;34m=\u001b[0m \u001b[0mself\u001b[0m\u001b[0;34m.\u001b[0m\u001b[0m_flag\u001b[0m\u001b[0;34m\u001b[0m\u001b[0;34m\u001b[0m\u001b[0m\n\u001b[1;32m    551\u001b[0m             \u001b[0;32mif\u001b[0m \u001b[0;32mnot\u001b[0m \u001b[0msignaled\u001b[0m\u001b[0;34m:\u001b[0m\u001b[0;34m\u001b[0m\u001b[0;34m\u001b[0m\u001b[0m\n\u001b[0;32m--> 552\u001b[0;31m                 \u001b[0msignaled\u001b[0m \u001b[0;34m=\u001b[0m \u001b[0mself\u001b[0m\u001b[0;34m.\u001b[0m\u001b[0m_cond\u001b[0m\u001b[0;34m.\u001b[0m\u001b[0mwait\u001b[0m\u001b[0;34m(\u001b[0m\u001b[0mtimeout\u001b[0m\u001b[0;34m)\u001b[0m\u001b[0;34m\u001b[0m\u001b[0;34m\u001b[0m\u001b[0m\n\u001b[0m\u001b[1;32m    553\u001b[0m             \u001b[0;32mreturn\u001b[0m \u001b[0msignaled\u001b[0m\u001b[0;34m\u001b[0m\u001b[0;34m\u001b[0m\u001b[0m\n\u001b[1;32m    554\u001b[0m \u001b[0;34m\u001b[0m\u001b[0m\n",
            "\u001b[0;32m/usr/lib/python3.7/threading.py\u001b[0m in \u001b[0;36mwait\u001b[0;34m(self, timeout)\u001b[0m\n\u001b[1;32m    298\u001b[0m             \u001b[0;32melse\u001b[0m\u001b[0;34m:\u001b[0m\u001b[0;34m\u001b[0m\u001b[0;34m\u001b[0m\u001b[0m\n\u001b[1;32m    299\u001b[0m                 \u001b[0;32mif\u001b[0m \u001b[0mtimeout\u001b[0m \u001b[0;34m>\u001b[0m \u001b[0;36m0\u001b[0m\u001b[0;34m:\u001b[0m\u001b[0;34m\u001b[0m\u001b[0;34m\u001b[0m\u001b[0m\n\u001b[0;32m--> 300\u001b[0;31m                     \u001b[0mgotit\u001b[0m \u001b[0;34m=\u001b[0m \u001b[0mwaiter\u001b[0m\u001b[0;34m.\u001b[0m\u001b[0macquire\u001b[0m\u001b[0;34m(\u001b[0m\u001b[0;32mTrue\u001b[0m\u001b[0;34m,\u001b[0m \u001b[0mtimeout\u001b[0m\u001b[0;34m)\u001b[0m\u001b[0;34m\u001b[0m\u001b[0;34m\u001b[0m\u001b[0m\n\u001b[0m\u001b[1;32m    301\u001b[0m                 \u001b[0;32melse\u001b[0m\u001b[0;34m:\u001b[0m\u001b[0;34m\u001b[0m\u001b[0;34m\u001b[0m\u001b[0m\n\u001b[1;32m    302\u001b[0m                     \u001b[0mgotit\u001b[0m \u001b[0;34m=\u001b[0m \u001b[0mwaiter\u001b[0m\u001b[0;34m.\u001b[0m\u001b[0macquire\u001b[0m\u001b[0;34m(\u001b[0m\u001b[0;32mFalse\u001b[0m\u001b[0;34m)\u001b[0m\u001b[0;34m\u001b[0m\u001b[0;34m\u001b[0m\u001b[0m\n",
            "\u001b[0;31mKeyboardInterrupt\u001b[0m: "
          ]
        }
      ],
      "source": [
        "# Set cyclical learning rate\n",
        "N = X_arhyl_train.shape[0]\n",
        "batch_size = 128\n",
        "iterations = N/batch_size\n",
        "step_size= 2 * iterations\n",
        "\n",
        "lr_schedule = CyclicalLearningRate(1e-6, 1e-3, step_size=step_size, scale_fn=lambda x: tf.pow(0.95,x))\n",
        "optimizer = tf.keras.optimizers.Adam(learning_rate=lr_schedule)\n",
        "\n",
        "save_best_weights = ModelCheckpoint(filepath=\"weights.hdf5\", verbose=0, save_best_only=True)\n",
        "\n",
        "resnet_model = get_resnet_model() \n",
        "resnet_model.compile(optimizer=optimizer, loss='binary_crossentropy', metrics=['accuracy'])\n",
        "history = resnet_model.fit(X_arhyl_train, y_arhyl_train, validation_data=(X_arhyl_val, y_arhyl_val), \n",
        "                           shuffle=True, batch_size=batch_size, epochs=20, callbacks=[save_best_weights])"
      ]
    },
    {
      "cell_type": "code",
      "execution_count": null,
      "metadata": {
        "colab": {
          "base_uri": "https://localhost:8080/",
          "height": 168
        },
        "id": "J2rGM9Rfqklu",
        "outputId": "fc0d3433-fb17-4a0e-a611-f787e6084068"
      },
      "outputs": [
        {
          "ename": "NameError",
          "evalue": "ignored",
          "output_type": "error",
          "traceback": [
            "\u001b[0;31m---------------------------------------------------------------------------\u001b[0m",
            "\u001b[0;31mNameError\u001b[0m                                 Traceback (most recent call last)",
            "\u001b[0;32m<ipython-input-62-96cb653f8713>\u001b[0m in \u001b[0;36m<module>\u001b[0;34m()\u001b[0m\n\u001b[0;32m----> 1\u001b[0;31m \u001b[0mpretty_plot\u001b[0m\u001b[0;34m(\u001b[0m\u001b[0mhistory\u001b[0m\u001b[0;34m,\u001b[0m \u001b[0;34m'loss'\u001b[0m\u001b[0;34m,\u001b[0m \u001b[0;32mlambda\u001b[0m \u001b[0mx\u001b[0m\u001b[0;34m:\u001b[0m \u001b[0mnp\u001b[0m\u001b[0;34m.\u001b[0m\u001b[0margmin\u001b[0m\u001b[0;34m(\u001b[0m\u001b[0mx\u001b[0m\u001b[0;34m)\u001b[0m\u001b[0;34m)\u001b[0m\u001b[0;34m\u001b[0m\u001b[0;34m\u001b[0m\u001b[0m\n\u001b[0m",
            "\u001b[0;31mNameError\u001b[0m: name 'history' is not defined"
          ]
        }
      ],
      "source": [
        "pretty_plot(history, 'loss', lambda x: np.argmin(x))"
      ]
    },
    {
      "cell_type": "code",
      "execution_count": null,
      "metadata": {
        "colab": {
          "base_uri": "https://localhost:8080/",
          "height": 554
        },
        "id": "I6gytV03qrzd",
        "outputId": "e9b8abf2-94f7-4d79-a63f-f4dd06584904"
      },
      "outputs": [
        {
          "data": {
            "image/png": "[encoded data removed]",
            "text/plain": [
              "<Figure size 936x288 with 1 Axes>"
            ]
          },
          "metadata": {},
          "output_type": "display_data"
        },
        {
          "data": {
            "image/png": "[encoded data removed]",
            "text/plain": [
              "<Figure size 936x288 with 1 Axes>"
            ]
          },
          "metadata": {},
          "output_type": "display_data"
        }
      ],
      "source": [
        "pretty_plot(history, 'accuracy', lambda x: np.argmax(x))"
      ]
    },
    {
      "cell_type": "code",
      "execution_count": null,
      "metadata": {
        "colab": {
          "base_uri": "https://localhost:8080/"
        },
        "id": "iYy6R4tYqvZU",
        "outputId": "1adbf04a-cebb-4ef4-d2cc-ffeddbe43b76"
      },
      "outputs": [
        {
          "name": "stdout",
          "output_type": "stream",
          "text": [
            "13/13 [==============================] - 0s 17ms/step - loss: 0.6401 - accuracy: 0.5222\n"
          ]
        },
        {
          "data": {
            "text/plain": [
              "[0.6400601267814636, 0.5221675038337708]"
            ]
          },
          "execution_count": 170,
          "metadata": {},
          "output_type": "execute_result"
        }
      ],
      "source": [
        "resnet_model.load_weights('weights.hdf5')\n",
        "resnet_model.evaluate(X_arhyl_test, y_arhyl_test)"
      ]
    },
    {
      "cell_type": "code",
      "execution_count": null,
      "metadata": {
        "colab": {
          "base_uri": "https://localhost:8080/",
          "height": 382
        },
        "id": "PlOk1-htq1TF",
        "outputId": "2c5b9f3e-d6df-4439-c64e-4748302315f9"
      },
      "outputs": [
        {
          "name": "stdout",
          "output_type": "stream",
          "text": [
            "Confusion matrix, without normalization\n",
            "[[ 43 136   0]\n",
            " [ 25 169   0]\n",
            " [  1  32   0]]\n"
          ]
        },
        {
          "data": {
            "image/png": "[encoded data removed]",
            "text/plain": [
              "<Figure size 936x288 with 2 Axes>"
            ]
          },
          "metadata": {},
          "output_type": "display_data"
        }
      ],
      "source": [
        "y_pred = (resnet_model.predict(X_arhyl_test) > 0.5).astype(\"int32\")\n",
        "# Compute confusion matrix\n",
        "cnf_matrix = sklearn.metrics.confusion_matrix(y_arhy_test, y_pred)\n",
        "np.set_printoptions(precision=2)\n",
        "\n",
        "# Plot non-normalized confusion matrix\n",
        "plt.figure()\n",
        "plot_confusion_matrix(cnf_matrix, classes=['NSR', 'AFIB','AFL'],\n",
        "                      title='Confusion matrix, without normalization')"
      ]
    },
    {
      "cell_type": "markdown",
      "metadata": {
        "id": "HkWsJ7Par2hA"
      },
      "source": [
        "## ResNet MIT-BIH replication"
      ]
    },
    {
      "cell_type": "code",
      "execution_count": 20,
      "metadata": {
        "id": "75fS7O7Lq1cm"
      },
      "outputs": [],
      "source": [
        "X_arhy_train, X_arhy_val, y_arhy_train, y_arhy_val = train_test_split(full_data_with_rr.iloc[:,:-1].values, full_data_with_rr.iloc[:,-1].values,test_size=0.1, random_state=42)\n",
        "\n",
        "X_arhy_test, X_arhy_val, y_arhy_test, y_arhy_val = train_test_split(X_arhy_val,y_arhy_val,test_size=0.5, random_state=42)\n",
        "\n",
        "# The 1D convolutions expect an extra dimension in the input data \n",
        "X_arhyl_train = np.expand_dims(X_arhy_train, -1)\n",
        "y_arhyl_train = np.expand_dims(y_arhy_train, -1)\n",
        "X_arhyl_val = np.expand_dims(X_arhy_val, -1)\n",
        "y_arhyl_val = np.expand_dims(y_arhy_val, -1)\n",
        "X_arhyl_test = np.expand_dims(X_arhy_test, -1)\n",
        "y_arhyl_test = np.expand_dims(y_arhy_test, -1)\n"
      ]
    },
    {
      "cell_type": "code",
      "execution_count": 23,
      "metadata": {
        "colab": {
          "base_uri": "https://localhost:8080/",
          "height": 352
        },
        "id": "3tLSt7Ghq1e8",
        "outputId": "231744e1-0be7-479f-c61c-a6ed334cf121"
      },
      "outputs": [
        {
          "output_type": "stream",
          "name": "stderr",
          "text": [
            "/usr/local/lib/python3.7/dist-packages/keras/optimizer_v2/adam.py:105: UserWarning: The `lr` argument is deprecated, use `learning_rate` instead.\n",
            "  super(Adam, self).__init__(name, **kwargs)\n"
          ]
        },
        {
          "output_type": "stream",
          "name": "stdout",
          "text": [
            "WARNING:tensorflow:Callback method `on_train_batch_end` is slow compared to the batch time (batch time: 0.0089s vs `on_train_batch_end` time: 0.0148s). Check your callbacks.\n"
          ]
        },
        {
          "output_type": "display_data",
          "data": {
            "text/plain": [
              "<Figure size 936x288 with 1 Axes>"
            ],
            "image/png": "[encoded data removed]"
          },
          "metadata": {}
        }
      ],
      "source": [
        "N = X_arhyl_train.shape[0]\n",
        "batch_size = 128\n",
        "iterations = N/batch_size\n",
        "step_size= 2 * iterations\n",
        "\n",
        "optimizer = keras.optimizers.Adam(lr=0.001)\n",
        "model = get_resnet_model(5) \n",
        "model.compile(optimizer=optimizer, loss='sparse_categorical_crossentropy', metrics=['accuracy'])\n",
        "\n",
        "lr_finder = LRFinder(start_lr=1e-7, end_lr= 1e-02, max_steps=50, smoothing=0.6)\n",
        "_ = model.fit(X_arhyl_train, y_arhyl_train, batch_size=256, epochs=5, callbacks=[lr_finder], verbose=False)\n",
        "lr_finder.plot()"
      ]
    },
    {
      "cell_type": "code",
      "execution_count": 24,
      "metadata": {
        "colab": {
          "base_uri": "https://localhost:8080/"
        },
        "id": "yuqH255Gq1hR",
        "outputId": "b3fe0d7c-1db0-403d-cfef-b806d4a5da16"
      },
      "outputs": [
        {
          "output_type": "stream",
          "name": "stdout",
          "text": [
            "Epoch 1/8\n",
            "392/392 [==============================] - 7s 14ms/step - loss: 0.5750 - accuracy: 0.7573 - val_loss: 0.3058 - val_accuracy: 0.8859\n",
            "Epoch 2/8\n",
            "392/392 [==============================] - 4s 10ms/step - loss: 0.2634 - accuracy: 0.8988 - val_loss: 0.2390 - val_accuracy: 0.8977\n",
            "Epoch 3/8\n",
            "392/392 [==============================] - 4s 9ms/step - loss: 0.1306 - accuracy: 0.9516 - val_loss: 0.0691 - val_accuracy: 0.9720\n",
            "Epoch 4/8\n",
            "392/392 [==============================] - 3s 8ms/step - loss: 0.0306 - accuracy: 0.9891 - val_loss: 0.0318 - val_accuracy: 0.9899\n",
            "Epoch 5/8\n",
            "392/392 [==============================] - 3s 8ms/step - loss: 0.0238 - accuracy: 0.9910 - val_loss: 0.0706 - val_accuracy: 0.9734\n",
            "Epoch 6/8\n",
            "392/392 [==============================] - 3s 8ms/step - loss: 0.0759 - accuracy: 0.9735 - val_loss: 0.0942 - val_accuracy: 0.9623\n",
            "Epoch 7/8\n",
            "392/392 [==============================] - 3s 8ms/step - loss: 0.0524 - accuracy: 0.9826 - val_loss: 0.0419 - val_accuracy: 0.9860\n",
            "Epoch 8/8\n",
            "392/392 [==============================] - 3s 8ms/step - loss: 0.0067 - accuracy: 0.9977 - val_loss: 0.0083 - val_accuracy: 0.9971\n"
          ]
        }
      ],
      "source": [
        "lr_schedule = CyclicalLearningRate(1e-5, 1e-2, step_size=step_size, scale_fn=lambda x: tf.pow(0.95,x))\n",
        "optimizer = tf.keras.optimizers.Adam(learning_rate=lr_schedule)\n",
        "m_resnet_model = get_resnet_model(7)\n",
        "\n",
        "save_best_weights = ModelCheckpoint(filepath=\"weights.hdf5\", verbose=0, save_best_only=True)\n",
        "\n",
        "m_resnet_model.compile(optimizer=optimizer, loss='sparse_categorical_crossentropy', metrics=['accuracy'])\n",
        "history = m_resnet_model.fit(X_arhyl_train, y_arhyl_train, validation_data=(X_arhyl_val, y_arhyl_val), \n",
        "                             shuffle=True, batch_size=128, epochs=8, callbacks=[save_best_weights])"
      ]
    },
    {
      "cell_type": "code",
      "execution_count": 25,
      "metadata": {
        "id": "pfEgjbFxq1jX",
        "colab": {
          "base_uri": "https://localhost:8080/",
          "height": 537
        },
        "outputId": "d16e7c57-e761-45b3-f7a5-2548a0574ac7"
      },
      "outputs": [
        {
          "output_type": "display_data",
          "data": {
            "text/plain": [
              "<Figure size 936x288 with 1 Axes>"
            ],
            "image/png": "[encoded data removed]"
          },
          "metadata": {}
        },
        {
          "output_type": "display_data",
          "data": {
            "text/plain": [
              "<Figure size 936x288 with 1 Axes>"
            ],
            "image/png": "[encoded data removed]"
          },
          "metadata": {}
        }
      ],
      "source": [
        "pretty_plot(history, 'loss', lambda x: np.argmin(x))"
      ]
    },
    {
      "cell_type": "code",
      "execution_count": 26,
      "metadata": {
        "id": "K38SU0tOq1ld",
        "colab": {
          "base_uri": "https://localhost:8080/",
          "height": 537
        },
        "outputId": "c9eaa205-2fdc-4a7d-b4a2-a57d523a5b33"
      },
      "outputs": [
        {
          "output_type": "display_data",
          "data": {
            "text/plain": [
              "<Figure size 936x288 with 1 Axes>"
            ],
            "image/png": "[encoded data removed]"
          },
          "metadata": {}
        },
        {
          "output_type": "display_data",
          "data": {
            "text/plain": [
              "<Figure size 936x288 with 1 Axes>"
            ],
            "image/png": "[encoded data removed]"
          },
          "metadata": {}
        }
      ],
      "source": [
        "pretty_plot(history, 'accuracy', lambda x: np.argmax(x))"
      ]
    },
    {
      "cell_type": "code",
      "execution_count": 27,
      "metadata": {
        "id": "upmbxofZq1n7",
        "colab": {
          "base_uri": "https://localhost:8080/"
        },
        "outputId": "0de08733-6c2a-4c2b-c564-47191a474539"
      },
      "outputs": [
        {
          "output_type": "stream",
          "name": "stdout",
          "text": [
            "88/88 [==============================] - 1s 5ms/step - loss: 0.0084 - accuracy: 0.9961\n"
          ]
        }
      ],
      "source": [
        "m_resnet_model.load_weights('weights.hdf5')\n",
        "X_arhy_test = m_resnet_model.evaluate(X_arhyl_test, y_arhyl_test)"
      ]
    },
    {
      "cell_type": "code",
      "execution_count": 28,
      "metadata": {
        "id": "p46RW2u2q1p8",
        "colab": {
          "base_uri": "https://localhost:8080/",
          "height": 382
        },
        "outputId": "6bfd5e15-1579-40a4-d8a2-c54641466c4d"
      },
      "outputs": [
        {
          "output_type": "stream",
          "name": "stdout",
          "text": [
            "Confusion matrix, without normalization\n",
            "[[938   0   0]\n",
            " [  0 947   6]\n",
            " [  1   4 889]]\n"
          ]
        },
        {
          "output_type": "display_data",
          "data": {
            "text/plain": [
              "<Figure size 936x288 with 2 Axes>"
            ],
            "image/png": "[encoded data removed]"
          },
          "metadata": {}
        }
      ],
      "source": [
        "y_pred = tf.argmax(m_resnet_model.predict(X_arhyl_test), axis=-1)\n",
        "# Compute confusion matrix\n",
        "cnf_matrix = sklearn.metrics.confusion_matrix(y_arhy_test, y_pred)\n",
        "np.set_printoptions(precision=2)\n",
        "\n",
        "# Plot non-normalized confusion matrix\n",
        "plt.figure()\n",
        "plot_confusion_matrix(cnf_matrix, classes=['NSR', 'AFIB','AFL'],\n",
        "                      title='Confusion matrix, without normalization')"
      ]
    },
    {
      "cell_type": "code",
      "execution_count": 30,
      "metadata": {
        "id": "98W6IoW5u6_x",
        "colab": {
          "base_uri": "https://localhost:8080/"
        },
        "outputId": "c9552613-d494-4ee9-a94e-4b872c44123c"
      },
      "outputs": [
        {
          "output_type": "stream",
          "name": "stdout",
          "text": [
            "Model: \"model_2\"\n",
            "__________________________________________________________________________________________________\n",
            " Layer (type)                   Output Shape         Param #     Connected to                     \n",
            "==================================================================================================\n",
            " input_3 (InputLayer)           [(None, 100, 1)]     0           []                               \n",
            "                                                                                                  \n",
            " conv1d_12 (Conv1D)             (None, 69, 64)       2112        ['input_3[0][0]']                \n",
            "                                                                                                  \n",
            " conv1d_13 (Conv1D)             (None, 69, 64)       131136      ['conv1d_12[0][0]']              \n",
            "                                                                                                  \n",
            " add_10 (Add)                   (None, 69, 64)       0           ['conv1d_12[0][0]',              \n",
            "                                                                  'conv1d_13[0][0]']              \n",
            "                                                                                                  \n",
            " re_lu_10 (ReLU)                (None, 69, 64)       0           ['add_10[0][0]']                 \n",
            "                                                                                                  \n",
            " max_pooling1d_10 (MaxPooling1D  (None, 23, 64)      0           ['re_lu_10[0][0]']               \n",
            " )                                                                                                \n",
            "                                                                                                  \n",
            " conv1d_14 (Conv1D)             (None, 23, 64)       131136      ['max_pooling1d_10[0][0]']       \n",
            "                                                                                                  \n",
            " add_11 (Add)                   (None, 23, 64)       0           ['max_pooling1d_10[0][0]',       \n",
            "                                                                  'conv1d_14[0][0]']              \n",
            "                                                                                                  \n",
            " re_lu_11 (ReLU)                (None, 23, 64)       0           ['add_11[0][0]']                 \n",
            "                                                                                                  \n",
            " max_pooling1d_11 (MaxPooling1D  (None, 8, 64)       0           ['re_lu_11[0][0]']               \n",
            " )                                                                                                \n",
            "                                                                                                  \n",
            " conv1d_15 (Conv1D)             (None, 8, 64)        131136      ['max_pooling1d_11[0][0]']       \n",
            "                                                                                                  \n",
            " add_12 (Add)                   (None, 8, 64)        0           ['max_pooling1d_11[0][0]',       \n",
            "                                                                  'conv1d_15[0][0]']              \n",
            "                                                                                                  \n",
            " re_lu_12 (ReLU)                (None, 8, 64)        0           ['add_12[0][0]']                 \n",
            "                                                                                                  \n",
            " max_pooling1d_12 (MaxPooling1D  (None, 3, 64)       0           ['re_lu_12[0][0]']               \n",
            " )                                                                                                \n",
            "                                                                                                  \n",
            " conv1d_16 (Conv1D)             (None, 3, 64)        131136      ['max_pooling1d_12[0][0]']       \n",
            "                                                                                                  \n",
            " add_13 (Add)                   (None, 3, 64)        0           ['max_pooling1d_12[0][0]',       \n",
            "                                                                  'conv1d_16[0][0]']              \n",
            "                                                                                                  \n",
            " re_lu_13 (ReLU)                (None, 3, 64)        0           ['add_13[0][0]']                 \n",
            "                                                                                                  \n",
            " max_pooling1d_13 (MaxPooling1D  (None, 1, 64)       0           ['re_lu_13[0][0]']               \n",
            " )                                                                                                \n",
            "                                                                                                  \n",
            " conv1d_17 (Conv1D)             (None, 1, 64)        131136      ['max_pooling1d_13[0][0]']       \n",
            "                                                                                                  \n",
            " add_14 (Add)                   (None, 1, 64)        0           ['max_pooling1d_13[0][0]',       \n",
            "                                                                  'conv1d_17[0][0]']              \n",
            "                                                                                                  \n",
            " re_lu_14 (ReLU)                (None, 1, 64)        0           ['add_14[0][0]']                 \n",
            "                                                                                                  \n",
            " max_pooling1d_14 (MaxPooling1D  (None, 1, 64)       0           ['re_lu_14[0][0]']               \n",
            " )                                                                                                \n",
            "                                                                                                  \n",
            " flatten_2 (Flatten)            (None, 64)           0           ['max_pooling1d_14[0][0]']       \n",
            "                                                                                                  \n",
            " dense_6 (Dense)                (None, 32)           2080        ['flatten_2[0][0]']              \n",
            "                                                                                                  \n",
            " dense_7 (Dense)                (None, 32)           1056        ['dense_6[0][0]']                \n",
            "                                                                                                  \n",
            " dense_8 (Dense)                (None, 5)            165         ['dense_7[0][0]']                \n",
            "                                                                                                  \n",
            "==================================================================================================\n",
            "Total params: 661,093\n",
            "Trainable params: 661,093\n",
            "Non-trainable params: 0\n",
            "__________________________________________________________________________________________________\n"
          ]
        }
      ],
      "source": [
        "m_resnet_model.summary()"
      ]
    },
    {
      "cell_type": "code",
      "execution_count": null,
      "metadata": {
        "id": "KON_i87fvFKa"
      },
      "outputs": [],
      "source": [
        ""
      ]
    }
  ],
  "metadata": {
    "accelerator": "GPU",
    "colab": {
      "collapsed_sections": [
        "vBl2P1LV80ho",
        "gW5DGbNe3lv2"
      ],
      "name": "Arrhythmia Detection v_final.ipynb",
      "provenance": []
    },
    "kernelspec": {
      "display_name": "Python 3",
      "name": "python3"
    },
    "language_info": {
      "name": "python"
    }
  },
  "nbformat": 4,
  "nbformat_minor": 0
}